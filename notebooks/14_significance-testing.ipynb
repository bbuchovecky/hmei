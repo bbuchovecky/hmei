{
 "cells": [
  {
   "cell_type": "raw",
   "id": "996dbee0-b8b4-4093-be6b-74f23cbbac5a",
   "metadata": {},
   "source": [
    "Project:      HMEI Summer Internship / Spring JP\n",
    "Author:       Benjamin Buchovecky\n",
    "Created:      3/31/2022"
   ]
  },
  {
   "cell_type": "markdown",
   "id": "3c9e79ee-69d0-408c-bcaf-ad657a4304fe",
   "metadata": {},
   "source": [
    "# Significance Testing"
   ]
  },
  {
   "cell_type": "markdown",
   "id": "fcf0650f-a685-4c8a-a668-cb2b9392d387",
   "metadata": {},
   "source": [
    "## PM Experiment\n",
    "\n",
    "We use an $F$-test, so we first need to estimate the effective degrees of freedom.\n",
    "\n",
    "### PM ensemble\n",
    "6 start years ($M=6$) each with 40 ensemble members ($N=40$)\n",
    "\n",
    "$\\text{DOF}=M\\times N-1=6\\times 40 -1=239$\n",
    "\n",
    "### Control run\n",
    "300 years, equivalent to 300 samples per month, but we need to account for autocorrelation using [Bretherton et al. (1999)](https://doi-org.ezproxy.princeton.edu/10.1175/1520-0442(1999)012<1990:TENOSD>2.0.CO;2).\n",
    "\n",
    "> Different ‘‘realizations’’ would now correspond to independent sets of $T$ observations.\n",
    "\n",
    "> Following the approach of section 4b of looking at the distribution of the sample covariance between two unrelated time series, one can derive an analogous formula for the ESS appropriate for significance tests of the correlation between two times series $X_i$ and $Y_i$ with different autocorrelation sequences $\\rho_\\tau^X$ and $\\rho_\\tau^Y$:\n",
    "$$\n",
    "T_{XY}^*=\\frac{T}{\\sum\\limits_{\\tau=-(T-1)}^{(T-1)} (1-|\\tau|/T)\\rho_\\tau^X\\rho_\\tau^Y}\n",
    "$$\n",
    "\n",
    "For the control run, we are accounting for autocorrelation so the equation from Bretherton et al. (1999) becomes the following:\n",
    "$$\n",
    "T_{XX}^*=\\frac{T}{\\sum\\limits_{\\tau=-(T-1)}^{(T-1)} (1-|\\tau|/T)\\left(\\rho_\\tau^X\\right)^2}\n",
    "$$"
   ]
  },
  {
   "cell_type": "code",
   "execution_count": 74,
   "id": "14e0587e-5856-4c7d-bac2-135091df08a4",
   "metadata": {},
   "outputs": [],
   "source": [
    "import xarray as xr\n",
    "import numpy as np\n",
    "import scipy.signal as signal\n",
    "import scipy.stats as stats\n",
    "import esmtools.stats as esmstats\n",
    "\n",
    "import matplotlib.pyplot as plt"
   ]
  },
  {
   "cell_type": "code",
   "execution_count": 10,
   "id": "6c15b4e0-3726-4cb4-a94a-4b7997060d61",
   "metadata": {
    "jupyter": {
     "source_hidden": true
    },
    "tags": []
   },
   "outputs": [],
   "source": [
    "def open_metric(var, reg, metric, timescale='monthly', ens_type=''):\n",
    "    \n",
    "    writedir = '/home/bbuchovecky/storage/so_predict_derived/'\n",
    "    \n",
    "    if metric == 'clim':\n",
    "        subdir = 'CTRL/'+var.upper()+'/'\n",
    "        filename = var.lower()+'_ts_'+reg+'_'+metric+'.nc'\n",
    "    \n",
    "    if metric == 'anom' or metric == 'mean' or (metric == 'var' and timescale == 'monthly'):\n",
    "        subdir = 'CTRL/'+var.upper()+'/'\n",
    "        filename = var.lower()+'_ts_'+reg+'_'+timescale+'_'+metric+'.nc'\n",
    "    \n",
    "    if metric.lower() == 'ppp':\n",
    "        subdir = 'PPP/'+var.upper()+'/'\n",
    "        if ens_type != '':\n",
    "            ens_type += '_'\n",
    "        filename = var.lower()+'_ts_'+reg+'_'+timescale+'_'+ens_type+'ppp.nc'\n",
    "        \n",
    "    return xr.open_dataset(writedir+subdir+filename)\n",
    "\n",
    "def get_plotting_labels():\n",
    "    with open('/home/bbuchovecky/storage/so_predict_derived/plotting_dicts.pkl','rb') as handle:\n",
    "        plotting_dicts = pkl.load(handle)\n",
    "    \n",
    "    reg_names = plotting_dicts['reg_names']\n",
    "    var_abbrv_names = plotting_dicts['var_abbrv_names']\n",
    "    abbrv_month_names = plotting_dicts['abbrv_month_names']\n",
    "    month_letters = plotting_dicts['month_letters']\n",
    "    \n",
    "    return reg_names, var_abbrv_names, abbrv_month_names, month_letters"
   ]
  },
  {
   "cell_type": "markdown",
   "id": "902bdaca-b17f-4c07-aa1d-2381f99e64fc",
   "metadata": {},
   "source": [
    "#### Figuring out how to compute the autocorrelation"
   ]
  },
  {
   "cell_type": "code",
   "execution_count": 51,
   "id": "f7fd0b87-4ee3-4b92-b166-5ee22fac166f",
   "metadata": {},
   "outputs": [],
   "source": [
    "test1 = open_metric('sst', 'so', 'anom')['SouthernOcean']\n",
    "test2 = open_metric('sst', 'so', 'anom')['SouthernOcean']"
   ]
  },
  {
   "cell_type": "code",
   "execution_count": 81,
   "id": "9306b27b-f457-4b18-b8ef-06235303ed1c",
   "metadata": {},
   "outputs": [],
   "source": [
    "t1 = test1.values\n",
    "t2 = test2.values\n",
    "\n",
    "mode = 'full'\n",
    "method = 'auto'\n",
    "size = len(test1)\n",
    "\n",
    "lags = signal.correlation_lags(len(t1), len(t2), mode=mode)\n",
    "        \n",
    "## normalize with the following:\n",
    "xcov1 = signal.correlate(t1 - np.mean(t1), t2 - np.mean(t2), mode=mode, method=method)   \n",
    "xcorr1 = xcov1 / (t1.std() * t2.std() * size)\n",
    "\n",
    "xcov2 = signal.correlate(t1, t2, mode=mode, method=method)   \n",
    "xcorr2 = xcov2 / (t1.std() * t2.std() * size)"
   ]
  },
  {
   "cell_type": "code",
   "execution_count": 71,
   "id": "072eb8eb-8b8d-4a1a-b4e7-8c7d1e8cd447",
   "metadata": {
    "collapsed": true,
    "jupyter": {
     "outputs_hidden": true
    },
    "tags": []
   },
   "outputs": [
    {
     "name": "stdout",
     "output_type": "stream",
     "text": [
      "0\n",
      "200\n",
      "400\n",
      "600\n",
      "800\n",
      "1000\n",
      "1200\n",
      "1400\n",
      "1600\n",
      "1800\n",
      "2000\n",
      "2200\n",
      "2400\n",
      "2600\n",
      "2800\n",
      "3000\n",
      "3200\n",
      "3400\n",
      "3600\n",
      "3800\n",
      "4000\n",
      "4200\n",
      "4400\n",
      "4600\n",
      "4800\n",
      "5000\n",
      "5200\n",
      "5400\n",
      "5600\n",
      "5800\n",
      "6000\n",
      "6200\n",
      "6400\n",
      "6600\n",
      "6800\n",
      "7000\n"
     ]
    }
   ],
   "source": [
    "esmcorr = np.empty(3598*2+1)\n",
    "\n",
    "for x in range(len(esmcorr)):\n",
    "    esmcorr[x] = esmstats.corr(test1,test2,dim='month',lead=-3598+x).values\n",
    "    if x%200 == 0:\n",
    "        print(x)"
   ]
  },
  {
   "cell_type": "code",
   "execution_count": 89,
   "id": "d4c237cb-6cc5-4e8b-94f8-878658d890c8",
   "metadata": {
    "collapsed": true,
    "jupyter": {
     "outputs_hidden": true
    },
    "tags": []
   },
   "outputs": [
    {
     "data": {
      "image/png": "[encoded data removed]",
      "text/plain": [
       "<Figure size 720x720 with 3 Axes>"
      ]
     },
     "metadata": {
      "needs_background": "light"
     },
     "output_type": "display_data"
    }
   ],
   "source": [
    "fig,ax = plt.subplots(3,figsize=(10,10))\n",
    "\n",
    "ax[0].plot(esmcorr)\n",
    "ax[1].plot(xcorr1)\n",
    "ax[2].plot(xcorr2)\n",
    "\n",
    "for a in ax:\n",
    "    a.set_ylim(-1,1)"
   ]
  },
  {
   "cell_type": "markdown",
   "id": "634dc9c3-4fb9-4423-bcc1-54e5088cfd81",
   "metadata": {},
   "source": [
    "### Computing the $F$ test critical values at different confidence levels\n",
    "\n",
    "`scipy.stats.f.ppf(q, dfn, dfd)` is the inverse CDF (i.e., the quantile function) which we can use to generate the critical values for an $F$ test with `dfn` as the DOF in the numerator and `dfd` as the DOF in the denominator.\n",
    "\n",
    "[scipy.stats.rv_continuous.ppf](https://docs.scipy.org/doc/scipy/reference/generated/scipy.stats.rv_continuous.ppf.html#scipy.stats.rv_continuous.ppf) - Percent point function (inverse of cdf) at $q$ of the given RV."
   ]
  },
  {
   "cell_type": "code",
   "execution_count": 100,
   "id": "753af2d1-d865-4303-9b3d-22d38df1b110",
   "metadata": {},
   "outputs": [
    {
     "data": {
      "text/plain": [
       "0.35148547185567414"
      ]
     },
     "execution_count": 100,
     "metadata": {},
     "output_type": "execute_result"
    }
   ],
   "source": [
    "## critical value at the 95% confidence level\n",
    "stats.f.ppf(q=0.05, dfn=39, dfd=3)"
   ]
  },
  {
   "cell_type": "markdown",
   "id": "73cf229d-2b09-4e9e-865a-bce93c1b601f",
   "metadata": {},
   "source": [
    "### Performing the $F$ test\n",
    "[F Statistic/F value](https://www.statisticshowto.com/probability-and-statistics/f-statistic-value-test/#WhatisF)\n",
    "\n",
    "[F Test](https://www.statisticshowto.com/probability-and-statistics/hypothesis-testing/f-test/)"
   ]
  },
  {
   "cell_type": "code",
   "execution_count": 116,
   "id": "4b0efbd6-e904-498a-81c2-b5657d4f2115",
   "metadata": {},
   "outputs": [],
   "source": [
    "s1 = np.random.randn(100)\n",
    "s2 = np.random.randn(100)"
   ]
  },
  {
   "cell_type": "code",
   "execution_count": 117,
   "id": "6e7ccd27-f857-4547-8072-dd35ad5d6486",
   "metadata": {},
   "outputs": [
    {
     "data": {
      "text/plain": [
       "F_onewayResult(statistic=0.4974027806955424, pvalue=0.48147240130178726)"
      ]
     },
     "execution_count": 117,
     "metadata": {},
     "output_type": "execute_result"
    }
   ],
   "source": [
    "stats.f_oneway(s1,s2)"
   ]
  },
  {
   "cell_type": "code",
   "execution_count": 121,
   "id": "440394f1-ceb4-4230-876a-9243fb29dbac",
   "metadata": {},
   "outputs": [
    {
     "data": {
      "text/plain": [
       "0.8594776047540551"
      ]
     },
     "execution_count": 121,
     "metadata": {},
     "output_type": "execute_result"
    }
   ],
   "source": [
    "s1.var() / s2.var()"
   ]
  },
  {
   "cell_type": "markdown",
   "id": "4b85966a-9029-43a1-aec8-9324da38102f",
   "metadata": {},
   "source": [
    "## Correlation\n",
    "\n",
    "$$\n",
    "T_{XY}^*=\\frac{T}{\\sum\\limits_{\\tau=-(T-1)}^{(T-1)} (1-|\\tau|/T)\\rho_\\tau^X\\rho_\\tau^Y}\n",
    "$$"
   ]
  },
  {
   "cell_type": "code",
   "execution_count": 170,
   "id": "8603f1b4-ab5c-4270-9278-141eb76a2c97",
   "metadata": {},
   "outputs": [],
   "source": [
    "def compute_eff_DOF(ts1, ts2):\n",
    "    assert len(ts1) == len(ts2) == 300\n",
    "    T = 300\n",
    "    cumsum = 0\n",
    "    \n",
    "    ## compute demoninator\n",
    "    for tau in range(-299,299+1):\n",
    "        coeff = 1 - (abs(tau)/T)\n",
    "        \n",
    "        if tau < 0:\n",
    "            rho_1 = stats.pearsonr(ts1[:tau],ts1[-tau:])\n",
    "            rho_2 = stats.pearsonr(ts2[:tau],ts2[-tau:])\n",
    "        if tau == 0:\n",
    "            rho_1 = stats.pearsonr(ts1,ts1)\n",
    "            rho_2 = stats.pearsonr(ts2,ts2)\n",
    "        if tau > 0:\n",
    "            rho_1 = stats.pearsonr(ts1[tau:],ts1[:-tau])\n",
    "            rho_2 = stats.pearsonr(ts2[tau:],ts2[:-tau])\n",
    "            \n",
    "        cumsum += coeff * rho_1 * rho_2\n",
    "    \n",
    "    return T / cumsum"
   ]
  },
  {
   "cell_type": "code",
   "execution_count": 169,
   "id": "1d198f42-5623-4334-b14a-78b95e32ba2b",
   "metadata": {
    "collapsed": true,
    "jupyter": {
     "outputs_hidden": true,
     "source_hidden": true
    },
    "tags": []
   },
   "outputs": [
    {
     "name": "stdout",
     "output_type": "stream",
     "text": [
      "[0 1 2 3 4 5 6 7 8 9]\n",
      "\n",
      "ts1[:-9]     ts2[9:]\n",
      "ts1 = [0]\n",
      "ts2 = [9]\n",
      "\n",
      "ts1[:-8]     ts2[8:]\n",
      "ts1 = [0 1]\n",
      "ts2 = [8 9]\n",
      "\n",
      "ts1[:-7]     ts2[7:]\n",
      "ts1 = [0 1 2]\n",
      "ts2 = [7 8 9]\n",
      "\n",
      "ts1[:-6]     ts2[6:]\n",
      "ts1 = [0 1 2 3]\n",
      "ts2 = [6 7 8 9]\n",
      "\n",
      "ts1[:-5]     ts2[5:]\n",
      "ts1 = [0 1 2 3 4]\n",
      "ts2 = [5 6 7 8 9]\n",
      "\n",
      "ts1[:-4]     ts2[4:]\n",
      "ts1 = [0 1 2 3 4 5]\n",
      "ts2 = [4 5 6 7 8 9]\n",
      "\n",
      "ts1[:-3]     ts2[3:]\n",
      "ts1 = [0 1 2 3 4 5 6]\n",
      "ts2 = [3 4 5 6 7 8 9]\n",
      "\n",
      "ts1[:-2]     ts2[2:]\n",
      "ts1 = [0 1 2 3 4 5 6 7]\n",
      "ts2 = [2 3 4 5 6 7 8 9]\n",
      "\n",
      "ts1[:-1]     ts2[1:]\n",
      "ts1 = [0 1 2 3 4 5 6 7 8]\n",
      "ts2 = [1 2 3 4 5 6 7 8 9]\n",
      "\n",
      "ts1     ts2\n",
      "ts1 = [0 1 2 3 4 5 6 7 8 9]\n",
      "ts2 = [0 1 2 3 4 5 6 7 8 9]\n",
      "\n",
      "ts1[1:]     ts2[:-1]\n",
      "ts1 = [1 2 3 4 5 6 7 8 9]\n",
      "ts2 = [0 1 2 3 4 5 6 7 8]\n",
      "\n",
      "ts1[2:]     ts2[:-2]\n",
      "ts1 = [2 3 4 5 6 7 8 9]\n",
      "ts2 = [0 1 2 3 4 5 6 7]\n",
      "\n",
      "ts1[3:]     ts2[:-3]\n",
      "ts1 = [3 4 5 6 7 8 9]\n",
      "ts2 = [0 1 2 3 4 5 6]\n",
      "\n",
      "ts1[4:]     ts2[:-4]\n",
      "ts1 = [4 5 6 7 8 9]\n",
      "ts2 = [0 1 2 3 4 5]\n",
      "\n",
      "ts1[5:]     ts2[:-5]\n",
      "ts1 = [5 6 7 8 9]\n",
      "ts2 = [0 1 2 3 4]\n",
      "\n",
      "ts1[6:]     ts2[:-6]\n",
      "ts1 = [6 7 8 9]\n",
      "ts2 = [0 1 2 3]\n",
      "\n",
      "ts1[7:]     ts2[:-7]\n",
      "ts1 = [7 8 9]\n",
      "ts2 = [0 1 2]\n",
      "\n",
      "ts1[8:]     ts2[:-8]\n",
      "ts1 = [8 9]\n",
      "ts2 = [0 1]\n",
      "\n",
      "ts1[9:]     ts2[:-9]\n",
      "ts1 = [9]\n",
      "ts2 = [0]\n",
      "\n"
     ]
    }
   ],
   "source": [
    "ts = np.arange(10)\n",
    "print(ts)\n",
    "print()\n",
    "for tau in range(-9,9+1):\n",
    "    \n",
    "    if tau < 0:\n",
    "        print('ts1['+str()+':'+str(tau)+']     ts2['+str(-tau)+':'+str('')+']')\n",
    "        print('ts1 = ' + str(ts[:tau]))\n",
    "        print('ts2 = ' + str(ts[-tau:]))\n",
    "        print()\n",
    "        \n",
    "    if tau == 0:\n",
    "        print('ts1     ts2')\n",
    "        print('ts1 = ' + str(ts))\n",
    "        print('ts2 = ' + str(ts))\n",
    "        print()\n",
    "        \n",
    "    if tau > 0:\n",
    "        print('ts1['+str(tau)+':'+str()+']     ts2['+str()+':'+str(-tau)+']')\n",
    "        print('ts1 = ' + str(ts[tau:]))\n",
    "        print('ts2 = ' + str(ts[:-tau]))\n",
    "        print()"
   ]
  },
  {
   "cell_type": "code",
   "execution_count": null,
   "id": "d98240a3-791f-4566-924e-1e4041b90523",
   "metadata": {},
   "outputs": [],
   "source": [
    "def compute_f_stat(predictor, predictand):\n",
    "    ## convert DataArray to NumPy array\n",
    "    predictor = predictor.values\n",
    "    predictand = predictand.values\n",
    "    \n",
    "    ## rows are different init months, cols are different lags\n",
    "    eff_dof = np.zeros((abs(maxlag)+1, 12))\n",
    "    \n",
    "    for (it,init) in enumerate(range(0,12)):\n",
    "        for (ig,lag) in enumerate(range(0,12)):\n",
    "            \n",
    "            tmp_predictand = predictand[init:N:12]\n",
    "            tmp_predictor = predictor[init:N:12]\n",
    "            "
   ]
  }
 ],
 "metadata": {
  "kernelspec": {
   "display_name": "Python 3",
   "language": "python",
   "name": "python3"
  },
  "language_info": {
   "codemirror_mode": {
    "name": "ipython",
    "version": 3
   },
   "file_extension": ".py",
   "mimetype": "text/x-python",
   "name": "python",
   "nbconvert_exporter": "python",
   "pygments_lexer": "ipython3",
   "version": "3.9.4"
  },
  "toc-autonumbering": false,
  "toc-showcode": false,
  "toc-showmarkdowntxt": false,
  "toc-showtags": false
 },
 "nbformat": 4,
 "nbformat_minor": 5
}
