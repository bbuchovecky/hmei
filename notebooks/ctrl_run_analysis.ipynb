{
 "cells": [
  {
   "cell_type": "raw",
   "id": "7ea1dea1-0762-4886-8a56-684716c5e4a0",
   "metadata": {},
   "source": [
    "Project:      HMEI Summer Internship\n",
    "Author:       Benjamin Buchovecky\n",
    "Created:      6/3/2021"
   ]
  },
  {
   "cell_type": "markdown",
   "id": "77db0ce4-3d9d-4058-b062-0456d4cbed9c",
   "metadata": {},
   "source": [
    "# Control Run Analysis\n",
    "\n",
    "Computation of the potential prognostic predictability (PPP) for metrics from the control simulation, eventually using pre-built functions in project folder. \n",
    "\n",
    "**Important metrics:** <br>\n",
    "- SH sea ice extent/volume\n",
    "- regional sea ice extent/volume\n",
    "- regional NPP, PCO2, SSS, SST\n",
    "- gridpoint-level fields for sea ice concentration, SST, SSS, NPP, PCO2 <-- *this is what I started with*\n",
    "- sea ice edge position (latitude at which sea ice concentration drops below 15%)"
   ]
  },
  {
   "cell_type": "markdown",
   "id": "9ea22d60-c570-408e-a397-14e58ae2163c",
   "metadata": {},
   "source": [
    "**Steps:** <br>\n",
    "- open dataset, including all files in control directory for specified variable\n",
    "- compute climatology + rename variable (var --> var_clim)\n",
    "- compute anomalies + rename variable (var --> var_anom)\n",
    "- compute variance &emsp; $\\sigma^{2} = \\frac{\\sum (X - \\mu)^{2}}{N}$\n",
    "    * mean of anomalies, by month\n",
    "    * deviation of each anomaly data point, compared to monthly mean anomaly\n",
    "    * square the deviations\n",
    "    * sum the deviations, by month\n",
    "    * divide these sums by number of years (300 in our case) <-- figure out how to keep NaN values, and stop conversion to 0s\n",
    "- merge climatology, anomalies, variance, and original datasets (```compat = 'override'```)\n",
    "- write this dataset to a NetCDF file"
   ]
  },
  {
   "cell_type": "code",
   "execution_count": 1,
   "id": "3ef4b6f2-4835-48da-b58f-e36e5a5e34c0",
   "metadata": {},
   "outputs": [],
   "source": [
    "import os\n",
    "import warnings\n",
    "warnings.filterwarnings(\"ignore\", message=\"invalid value encountered in true_divide\")\n",
    "warnings.filterwarnings(\"ignore\", message=\"Unable to decode time axis into full numpy.datetime64 objects, continuing using cftime.datetime objects instead, reason: dates out of range\")\n",
    "warnings.filterwarnings(\"ignore\", message=\"invalid value encountered in reduce\")\n",
    "\n",
    "import xarray as xr\n",
    "import numpy as np\n",
    "\n",
    "import matplotlib.pyplot as plt\n",
    "from cartopy import crs as ccrs\n",
    "import cartopy.feature as cfeature\n",
    "from cartopy.util import add_cyclic_point"
   ]
  },
  {
   "cell_type": "code",
   "execution_count": 2,
   "id": "2b79d0ea-7f7e-41c7-9fab-2759102f973f",
   "metadata": {},
   "outputs": [],
   "source": [
    "# compute the climatology (time mean for each month)\n",
    "def compute_ctrl_clim(ds):\n",
    "    return ds.groupby('time.month').mean(dim='time')\n",
    "\n",
    "\n",
    "# compute the monthly anomalies from the 300-year control runs\n",
    "def compute_ctrl_anom(ds):\n",
    "    clim = ds.groupby('time.month').mean(dim='time')\n",
    "    return ds.groupby('time.month') - clim"
   ]
  },
  {
   "cell_type": "code",
   "execution_count": 3,
   "id": "7072222d-5e5f-4d65-81e9-b5940ae67740",
   "metadata": {
    "tags": []
   },
   "outputs": [],
   "source": [
    "def grid_ctrl_runs(path, var):\n",
    "    ds = xr.open_mfdataset(path)\n",
    "\n",
    "    ## compute climatology\n",
    "    time = 'time'\n",
    "    try:\n",
    "        clim = ds.groupby(time+'.month').mean(dim=time)\n",
    "\n",
    "    except:\n",
    "        time = time.upper()\n",
    "        clim = ds.groupby(time+'.month').mean(dim=time)\n",
    "\n",
    "    ## compute anomalies\n",
    "    anom = ds.groupby(time+'.month') - clim\n",
    "\n",
    "    ## rename data variables\n",
    "    clim = clim.rename({var:var+'_clim'})\n",
    "    var_anom = var+'_anom'\n",
    "    anom = anom.rename({var:var+'_anom'})\n",
    "\n",
    "    ## compute variance\n",
    "    mean = anom.groupby(time+'.month').mean(dim=time)\n",
    "    dev = anom.groupby(time+'.month') - mean\n",
    "    dev2 = dev.assign(sqr = dev[var_anom]**2)\n",
    "    dev2_sum = dev2.groupby(time+'.month').sum()\n",
    "    variance = dev2_sum.assign(v=dev2_sum[var_anom] / 300)\n",
    "\n",
    "    variance = variance.rename({'v':var+'_variance'})\n",
    "    variance = variance.drop_vars('sqr')\n",
    "    variance = variance.drop_vars(var_anom)\n",
    "\n",
    "    ## merge climatology, anomaly, and variance data with the original dataset\n",
    "    ds_metrics = ds.merge(clim, compat='override')\n",
    "    ds_metrics = ds_metrics.merge(anom, compat='override')\n",
    "    ds_metrics = ds_metrics.merge(variance, compat='override')\n",
    "\n",
    "    ## write to a NetCDF file (where?)\n",
    "#     write_path = ??\n",
    "#     filename = var.upper() + 'GRID_CTRL_PPE_metrics.nc'\n",
    "#     ds_metrics.to_netcdf(write_path+filename)\n",
    "    \n",
    "    return ds_metrics"
   ]
  },
  {
   "cell_type": "markdown",
   "id": "8cd0499f-b255-4180-bb1d-200886985a95",
   "metadata": {},
   "source": [
    "## Gridpoint-level Fields"
   ]
  },
  {
   "cell_type": "code",
   "execution_count": 4,
   "id": "d3a5abe3-59e0-4b31-89b5-bc9190929db8",
   "metadata": {},
   "outputs": [],
   "source": [
    "rootdir = '/local/projects/so_predict/esm2m_froelicher/'\n",
    "subdir_ctrl = 'CTRL/'"
   ]
  },
  {
   "cell_type": "markdown",
   "id": "2441556c-4275-4429-8795-0b24bc7c3630",
   "metadata": {},
   "source": [
    "#### Sea Surface Temperature (SST)"
   ]
  },
  {
   "cell_type": "code",
   "execution_count": 5,
   "id": "8889c96a-1074-47d3-b14c-b2b080ef0f4e",
   "metadata": {},
   "outputs": [],
   "source": [
    "path_sst = rootdir+subdir_ctrl+'/SST/sst_*.nc'\n",
    "var_sst = 'sst'\n",
    "grid_SST_metrics = grid_ctrl_runs(path_sst, var_sst)"
   ]
  },
  {
   "cell_type": "markdown",
   "id": "227f0769-3ecd-456c-8ffa-55a41d7cf367",
   "metadata": {},
   "source": [
    "#### Sea Surface Salinity (SSS)"
   ]
  },
  {
   "cell_type": "code",
   "execution_count": 6,
   "id": "c47ae656-f599-4f44-ae76-5979693ff2f4",
   "metadata": {},
   "outputs": [],
   "source": [
    "path_sss = rootdir+subdir_ctrl+'/SSS/sss_*.nc'\n",
    "var_sss = 'sss'\n",
    "grid_SSS_metrics = grid_ctrl_runs(path_sss, var_sss)"
   ]
  },
  {
   "cell_type": "markdown",
   "id": "5e2fdb38-7948-4056-9f46-b916e388f64d",
   "metadata": {},
   "source": [
    "#### Sea-ice Concentration (CN)\n",
    "Summed over all thickness categories(?)"
   ]
  },
  {
   "cell_type": "code",
   "execution_count": 7,
   "id": "3699479b-0a92-4269-a7d3-824af3e656db",
   "metadata": {},
   "outputs": [],
   "source": [
    "path_cn = rootdir+subdir_ctrl+'/CN/CN_inv_*.nc'\n",
    "var_cn = 'CN_INV'\n",
    "grid_CN_INV_metrics = grid_ctrl_runs(path_cn, var_cn)"
   ]
  },
  {
   "cell_type": "markdown",
   "id": "97db8fda-0e62-4ffc-9a33-e1b7378b2b38",
   "metadata": {},
   "source": [
    "#### Net Primary Production (NPP)"
   ]
  },
  {
   "cell_type": "code",
   "execution_count": 8,
   "id": "e9a97387-3f31-4e5d-a6b0-ec3d2e361fe6",
   "metadata": {},
   "outputs": [],
   "source": [
    "path_npp = rootdir+subdir_ctrl+'/NPP/NPP_*.nc'\n",
    "var_npp = 'NPP'\n",
    "grid_NPP_metrics = grid_ctrl_runs(path_npp, var_npp)"
   ]
  },
  {
   "cell_type": "markdown",
   "id": "7ad75386-52a4-4ab5-91b9-9373aceebcae",
   "metadata": {},
   "source": [
    "#### Surface pCO$_2$ (PCO2SURF)"
   ]
  },
  {
   "cell_type": "code",
   "execution_count": 9,
   "id": "7f58963f-0683-4b51-a1a8-8414c987eb50",
   "metadata": {},
   "outputs": [],
   "source": [
    "path_pco2surf = rootdir+subdir_ctrl+'/PCO2SURF/pco2surf_*.nc'\n",
    "var_pco2surf = 'pco2surf'\n",
    "grid_PCO2SURF_metrics = grid_ctrl_runs(path_pco2surf, var_pco2surf)"
   ]
  },
  {
   "cell_type": "markdown",
   "id": "ae45fb9f-ccda-457c-bd14-958b28a29b00",
   "metadata": {},
   "source": [
    "## Southern Hemisphere Sea Ice Extent and Volume\n",
    "Using sea-ice extent (EXT) and sea-ice thickness (HI) with ocean/ice model grid information."
   ]
  },
  {
   "cell_type": "markdown",
   "id": "f681a7df-2119-4b6d-ab44-a0d9bdfed3c2",
   "metadata": {},
   "source": [
    "### Sea Ice Extent"
   ]
  },
  {
   "cell_type": "code",
   "execution_count": 11,
   "id": "fd012864-4e25-494b-957c-177a9dee7620",
   "metadata": {},
   "outputs": [],
   "source": [
    "rootdir = '/local/projects/so_predict/esm2m_froelicher/'\n",
    "subdir_ctrl = 'CTRL/'\n",
    "\n",
    "path_cn = rootdir+subdir_ctrl+'/CN/CN_inv_*.nc'\n",
    "cn_ds = xr.open_mfdataset(path_cn)\n",
    "\n",
    "## create mask for SIE where SIC > 15%\n",
    "SIE_binary = xr.where(cn_ds.CN_INV > 0.15, 1, 0)\n",
    "\n",
    "## replace values over land with NaN\n",
    "SIE_binary = xr.where(np.isnan(cn_ds.CN_INV), np.nan, SIE_binary)\n",
    "\n",
    "cn_ds = cn_ds.assign(SIE_binary=SIE_binary)\n",
    "cn_ds = cn_ds.rename({'XT':'xt', 'YT':'yt'})"
   ]
  },
  {
   "cell_type": "code",
   "execution_count": 32,
   "id": "13d88db8-578b-43bd-9e3e-9965861da1da",
   "metadata": {},
   "outputs": [
    {
     "data": {
      "text/plain": [
       "<matplotlib.collections.QuadMesh at 0x7fde84ce1d30>"
      ]
     },
     "execution_count": 32,
     "metadata": {},
     "output_type": "execute_result"
    },
    {
     "data": {
      "image/png": "[encoded data removed]",
      "text/plain": [
       "<Figure size 432x288 with 2 Axes>"
      ]
     },
     "metadata": {
      "needs_background": "light"
     },
     "output_type": "display_data"
    }
   ],
   "source": [
    "cn_ds.CN_INV.groupby('TIME.month').mean(dim='TIME')[0].plot()"
   ]
  },
  {
   "cell_type": "code",
   "execution_count": 33,
   "id": "2974700b-786b-4eec-b202-3959b4721739",
   "metadata": {},
   "outputs": [
    {
     "data": {
      "text/plain": [
       "<matplotlib.collections.QuadMesh at 0x7fde95e60160>"
      ]
     },
     "execution_count": 33,
     "metadata": {},
     "output_type": "execute_result"
    },
    {
     "data": {
      "image/png": "[encoded data removed]",
      "text/plain": [
       "<Figure size 432x288 with 2 Axes>"
      ]
     },
     "metadata": {
      "needs_background": "light"
     },
     "output_type": "display_data"
    }
   ],
   "source": [
    "SIE_binary[0].plot()"
   ]
  },
  {
   "cell_type": "code",
   "execution_count": 12,
   "id": "ff15103c-3cff-42db-8943-9474fa7f9d31",
   "metadata": {},
   "outputs": [],
   "source": [
    "subdir_grid = 'GRID/'\n",
    "\n",
    "ice_grid = xr.open_dataset(rootdir+subdir_grid+'ice_month.static.nc')\n",
    "\n",
    "ocean_grid = xr.open_dataset(rootdir+subdir_grid+'ocean.static.nc')\n",
    "# mask_arr = xr.where(np.isnan(ocean_grid.ht), 0.0, 1.0)\n",
    "# ocean_grid.coords['mask'] = (('yt_ocean', 'xt_ocean'), mask_arr)\n",
    "# ocean_grid.mask.attrs['valid_range'] = '[0,1]'"
   ]
  },
  {
   "cell_type": "code",
   "execution_count": 13,
   "id": "14323b60-df9a-4039-97ba-3a31fce4b9fc",
   "metadata": {},
   "outputs": [],
   "source": [
    "## get the area of sea ice\n",
    "area_SIE = cn_ds.SIE_binary * ice_grid.area\n",
    "\n",
    "## limit to just the Southern Hemisphere (for summation purposes)\n",
    "SH_area_SIE = area_SIE.where(area_SIE.yt < 0)\n",
    "\n",
    "## SIE climatology - field (values at individual grid points)\n",
    "SIE_field_clim = SH_area_SIE.groupby('TIME.month').mean(dim='TIME')\n",
    "\n",
    "## SIE anomaly - field\n",
    "SIE_field_anom = SH_area_SIE.groupby('TIME.month') - SIE_field_clim\n",
    "\n",
    "## SIE climatology - single areal sum (total area covered by sea ice in Southern Hemisphere)\n",
    "SIE_sum_clim = SH_area_SIE.sum(dim={'xt', 'yt'}).groupby('TIME.month').mean(dim='TIME')\n",
    "\n",
    "## SIE anomaly - single area sum\n",
    "SIE_sum_anom = SH_area_SIE.sum(dim={'xt', 'yt'}).groupby('TIME.month') - SIE_sum_clim"
   ]
  },
  {
   "cell_type": "code",
   "execution_count": null,
   "id": "de4c971c-eff3-42be-a09e-17649e7b17fe",
   "metadata": {},
   "outputs": [],
   "source": []
  },
  {
   "cell_type": "markdown",
   "id": "c9148057-1fa6-4435-8951-f149d25f189b",
   "metadata": {},
   "source": [
    "### Sea Ice Volume"
   ]
  },
  {
   "cell_type": "code",
   "execution_count": 14,
   "id": "b55a4c74-4f78-4834-ba4d-a2d9e9036f8c",
   "metadata": {},
   "outputs": [],
   "source": [
    "rootdir = '/local/projects/so_predict/esm2m_froelicher/'\n",
    "subdir_ctrl = 'CTRL/'\n",
    "\n",
    "path_hi = rootdir+subdir_ctrl+'/HI/HI_0001_0300.nc'\n",
    "hi_ds = xr.open_mfdataset(path_hi)\n",
    "\n",
    "hi_ds = hi_ds.rename({'time':'TIME'})"
   ]
  },
  {
   "cell_type": "code",
   "execution_count": 39,
   "id": "3e405cdc-d24c-470f-bfc6-f465139dccc1",
   "metadata": {},
   "outputs": [
    {
     "data": {
      "text/html": [
       "<div><svg style=\"position: absolute; width: 0; height: 0; overflow: hidden\">\n",
       "<defs>\n",
       "<symbol id=\"icon-database\" viewBox=\"0 0 32 32\">\n",
       "<path d=\"M16 0c-8.837 0-16 2.239-16 5v4c0 2.761 7.163 5 16 5s16-2.239 16-5v-4c0-2.761-7.163-5-16-5z\"></path>\n",
       "<path d=\"M16 17c-8.837 0-16-2.239-16-5v6c0 2.761 7.163 5 16 5s16-2.239 16-5v-6c0 2.761-7.163 5-16 5z\"></path>\n",
       "<path d=\"M16 26c-8.837 0-16-2.239-16-5v6c0 2.761 7.163 5 16 5s16-2.239 16-5v-6c0 2.761-7.163 5-16 5z\"></path>\n",
       "</symbol>\n",
       "<symbol id=\"icon-file-text2\" viewBox=\"0 0 32 32\">\n",
       "<path d=\"M28.681 7.159c-0.694-0.947-1.662-2.053-2.724-3.116s-2.169-2.030-3.116-2.724c-1.612-1.182-2.393-1.319-2.841-1.319h-15.5c-1.378 0-2.5 1.121-2.5 2.5v27c0 1.378 1.122 2.5 2.5 2.5h23c1.378 0 2.5-1.122 2.5-2.5v-19.5c0-0.448-0.137-1.23-1.319-2.841zM24.543 5.457c0.959 0.959 1.712 1.825 2.268 2.543h-4.811v-4.811c0.718 0.556 1.584 1.309 2.543 2.268zM28 29.5c0 0.271-0.229 0.5-0.5 0.5h-23c-0.271 0-0.5-0.229-0.5-0.5v-27c0-0.271 0.229-0.5 0.5-0.5 0 0 15.499-0 15.5 0v7c0 0.552 0.448 1 1 1h7v19.5z\"></path>\n",
       "<path d=\"M23 26h-14c-0.552 0-1-0.448-1-1s0.448-1 1-1h14c0.552 0 1 0.448 1 1s-0.448 1-1 1z\"></path>\n",
       "<path d=\"M23 22h-14c-0.552 0-1-0.448-1-1s0.448-1 1-1h14c0.552 0 1 0.448 1 1s-0.448 1-1 1z\"></path>\n",
       "<path d=\"M23 18h-14c-0.552 0-1-0.448-1-1s0.448-1 1-1h14c0.552 0 1 0.448 1 1s-0.448 1-1 1z\"></path>\n",
       "</symbol>\n",
       "</defs>\n",
       "</svg>\n",
       "<style>/* CSS stylesheet for displaying xarray objects in jupyterlab.\n",
       " *\n",
       " */\n",
       "\n",
       ":root {\n",
       "  --xr-font-color0: var(--jp-content-font-color0, rgba(0, 0, 0, 1));\n",
       "  --xr-font-color2: var(--jp-content-font-color2, rgba(0, 0, 0, 0.54));\n",
       "  --xr-font-color3: var(--jp-content-font-color3, rgba(0, 0, 0, 0.38));\n",
       "  --xr-border-color: var(--jp-border-color2, #e0e0e0);\n",
       "  --xr-disabled-color: var(--jp-layout-color3, #bdbdbd);\n",
       "  --xr-background-color: var(--jp-layout-color0, white);\n",
       "  --xr-background-color-row-even: var(--jp-layout-color1, white);\n",
       "  --xr-background-color-row-odd: var(--jp-layout-color2, #eeeeee);\n",
       "}\n",
       "\n",
       "html[theme=dark],\n",
       "body.vscode-dark {\n",
       "  --xr-font-color0: rgba(255, 255, 255, 1);\n",
       "  --xr-font-color2: rgba(255, 255, 255, 0.54);\n",
       "  --xr-font-color3: rgba(255, 255, 255, 0.38);\n",
       "  --xr-border-color: #1F1F1F;\n",
       "  --xr-disabled-color: #515151;\n",
       "  --xr-background-color: #111111;\n",
       "  --xr-background-color-row-even: #111111;\n",
       "  --xr-background-color-row-odd: #313131;\n",
       "}\n",
       "\n",
       ".xr-wrap {\n",
       "  display: block;\n",
       "  min-width: 300px;\n",
       "  max-width: 700px;\n",
       "}\n",
       "\n",
       ".xr-text-repr-fallback {\n",
       "  /* fallback to plain text repr when CSS is not injected (untrusted notebook) */\n",
       "  display: none;\n",
       "}\n",
       "\n",
       ".xr-header {\n",
       "  padding-top: 6px;\n",
       "  padding-bottom: 6px;\n",
       "  margin-bottom: 4px;\n",
       "  border-bottom: solid 1px var(--xr-border-color);\n",
       "}\n",
       "\n",
       ".xr-header > div,\n",
       ".xr-header > ul {\n",
       "  display: inline;\n",
       "  margin-top: 0;\n",
       "  margin-bottom: 0;\n",
       "}\n",
       "\n",
       ".xr-obj-type,\n",
       ".xr-array-name {\n",
       "  margin-left: 2px;\n",
       "  margin-right: 10px;\n",
       "}\n",
       "\n",
       ".xr-obj-type {\n",
       "  color: var(--xr-font-color2);\n",
       "}\n",
       "\n",
       ".xr-sections {\n",
       "  padding-left: 0 !important;\n",
       "  display: grid;\n",
       "  grid-template-columns: 150px auto auto 1fr 20px 20px;\n",
       "}\n",
       "\n",
       ".xr-section-item {\n",
       "  display: contents;\n",
       "}\n",
       "\n",
       ".xr-section-item input {\n",
       "  display: none;\n",
       "}\n",
       "\n",
       ".xr-section-item input + label {\n",
       "  color: var(--xr-disabled-color);\n",
       "}\n",
       "\n",
       ".xr-section-item input:enabled + label {\n",
       "  cursor: pointer;\n",
       "  color: var(--xr-font-color2);\n",
       "}\n",
       "\n",
       ".xr-section-item input:enabled + label:hover {\n",
       "  color: var(--xr-font-color0);\n",
       "}\n",
       "\n",
       ".xr-section-summary {\n",
       "  grid-column: 1;\n",
       "  color: var(--xr-font-color2);\n",
       "  font-weight: 500;\n",
       "}\n",
       "\n",
       ".xr-section-summary > span {\n",
       "  display: inline-block;\n",
       "  padding-left: 0.5em;\n",
       "}\n",
       "\n",
       ".xr-section-summary-in:disabled + label {\n",
       "  color: var(--xr-font-color2);\n",
       "}\n",
       "\n",
       ".xr-section-summary-in + label:before {\n",
       "  display: inline-block;\n",
       "  content: '►';\n",
       "  font-size: 11px;\n",
       "  width: 15px;\n",
       "  text-align: center;\n",
       "}\n",
       "\n",
       ".xr-section-summary-in:disabled + label:before {\n",
       "  color: var(--xr-disabled-color);\n",
       "}\n",
       "\n",
       ".xr-section-summary-in:checked + label:before {\n",
       "  content: '▼';\n",
       "}\n",
       "\n",
       ".xr-section-summary-in:checked + label > span {\n",
       "  display: none;\n",
       "}\n",
       "\n",
       ".xr-section-summary,\n",
       ".xr-section-inline-details {\n",
       "  padding-top: 4px;\n",
       "  padding-bottom: 4px;\n",
       "}\n",
       "\n",
       ".xr-section-inline-details {\n",
       "  grid-column: 2 / -1;\n",
       "}\n",
       "\n",
       ".xr-section-details {\n",
       "  display: none;\n",
       "  grid-column: 1 / -1;\n",
       "  margin-bottom: 5px;\n",
       "}\n",
       "\n",
       ".xr-section-summary-in:checked ~ .xr-section-details {\n",
       "  display: contents;\n",
       "}\n",
       "\n",
       ".xr-array-wrap {\n",
       "  grid-column: 1 / -1;\n",
       "  display: grid;\n",
       "  grid-template-columns: 20px auto;\n",
       "}\n",
       "\n",
       ".xr-array-wrap > label {\n",
       "  grid-column: 1;\n",
       "  vertical-align: top;\n",
       "}\n",
       "\n",
       ".xr-preview {\n",
       "  color: var(--xr-font-color3);\n",
       "}\n",
       "\n",
       ".xr-array-preview,\n",
       ".xr-array-data {\n",
       "  padding: 0 5px !important;\n",
       "  grid-column: 2;\n",
       "}\n",
       "\n",
       ".xr-array-data,\n",
       ".xr-array-in:checked ~ .xr-array-preview {\n",
       "  display: none;\n",
       "}\n",
       "\n",
       ".xr-array-in:checked ~ .xr-array-data,\n",
       ".xr-array-preview {\n",
       "  display: inline-block;\n",
       "}\n",
       "\n",
       ".xr-dim-list {\n",
       "  display: inline-block !important;\n",
       "  list-style: none;\n",
       "  padding: 0 !important;\n",
       "  margin: 0;\n",
       "}\n",
       "\n",
       ".xr-dim-list li {\n",
       "  display: inline-block;\n",
       "  padding: 0;\n",
       "  margin: 0;\n",
       "}\n",
       "\n",
       ".xr-dim-list:before {\n",
       "  content: '(';\n",
       "}\n",
       "\n",
       ".xr-dim-list:after {\n",
       "  content: ')';\n",
       "}\n",
       "\n",
       ".xr-dim-list li:not(:last-child):after {\n",
       "  content: ',';\n",
       "  padding-right: 5px;\n",
       "}\n",
       "\n",
       ".xr-has-index {\n",
       "  font-weight: bold;\n",
       "}\n",
       "\n",
       ".xr-var-list,\n",
       ".xr-var-item {\n",
       "  display: contents;\n",
       "}\n",
       "\n",
       ".xr-var-item > div,\n",
       ".xr-var-item label,\n",
       ".xr-var-item > .xr-var-name span {\n",
       "  background-color: var(--xr-background-color-row-even);\n",
       "  margin-bottom: 0;\n",
       "}\n",
       "\n",
       ".xr-var-item > .xr-var-name:hover span {\n",
       "  padding-right: 5px;\n",
       "}\n",
       "\n",
       ".xr-var-list > li:nth-child(odd) > div,\n",
       ".xr-var-list > li:nth-child(odd) > label,\n",
       ".xr-var-list > li:nth-child(odd) > .xr-var-name span {\n",
       "  background-color: var(--xr-background-color-row-odd);\n",
       "}\n",
       "\n",
       ".xr-var-name {\n",
       "  grid-column: 1;\n",
       "}\n",
       "\n",
       ".xr-var-dims {\n",
       "  grid-column: 2;\n",
       "}\n",
       "\n",
       ".xr-var-dtype {\n",
       "  grid-column: 3;\n",
       "  text-align: right;\n",
       "  color: var(--xr-font-color2);\n",
       "}\n",
       "\n",
       ".xr-var-preview {\n",
       "  grid-column: 4;\n",
       "}\n",
       "\n",
       ".xr-var-name,\n",
       ".xr-var-dims,\n",
       ".xr-var-dtype,\n",
       ".xr-preview,\n",
       ".xr-attrs dt {\n",
       "  white-space: nowrap;\n",
       "  overflow: hidden;\n",
       "  text-overflow: ellipsis;\n",
       "  padding-right: 10px;\n",
       "}\n",
       "\n",
       ".xr-var-name:hover,\n",
       ".xr-var-dims:hover,\n",
       ".xr-var-dtype:hover,\n",
       ".xr-attrs dt:hover {\n",
       "  overflow: visible;\n",
       "  width: auto;\n",
       "  z-index: 1;\n",
       "}\n",
       "\n",
       ".xr-var-attrs,\n",
       ".xr-var-data {\n",
       "  display: none;\n",
       "  background-color: var(--xr-background-color) !important;\n",
       "  padding-bottom: 5px !important;\n",
       "}\n",
       "\n",
       ".xr-var-attrs-in:checked ~ .xr-var-attrs,\n",
       ".xr-var-data-in:checked ~ .xr-var-data {\n",
       "  display: block;\n",
       "}\n",
       "\n",
       ".xr-var-data > table {\n",
       "  float: right;\n",
       "}\n",
       "\n",
       ".xr-var-name span,\n",
       ".xr-var-data,\n",
       ".xr-attrs {\n",
       "  padding-left: 25px !important;\n",
       "}\n",
       "\n",
       ".xr-attrs,\n",
       ".xr-var-attrs,\n",
       ".xr-var-data {\n",
       "  grid-column: 1 / -1;\n",
       "}\n",
       "\n",
       "dl.xr-attrs {\n",
       "  padding: 0;\n",
       "  margin: 0;\n",
       "  display: grid;\n",
       "  grid-template-columns: 125px auto;\n",
       "}\n",
       "\n",
       ".xr-attrs dt,\n",
       ".xr-attrs dd {\n",
       "  padding: 0;\n",
       "  margin: 0;\n",
       "  float: left;\n",
       "  padding-right: 10px;\n",
       "  width: auto;\n",
       "}\n",
       "\n",
       ".xr-attrs dt {\n",
       "  font-weight: normal;\n",
       "  grid-column: 1;\n",
       "}\n",
       "\n",
       ".xr-attrs dt:hover span {\n",
       "  display: inline-block;\n",
       "  background: var(--xr-background-color);\n",
       "  padding-right: 10px;\n",
       "}\n",
       "\n",
       ".xr-attrs dd {\n",
       "  grid-column: 2;\n",
       "  white-space: pre-wrap;\n",
       "  word-break: break-all;\n",
       "}\n",
       "\n",
       ".xr-icon-database,\n",
       ".xr-icon-file-text2 {\n",
       "  display: inline-block;\n",
       "  vertical-align: middle;\n",
       "  width: 1em;\n",
       "  height: 1.5em !important;\n",
       "  stroke-width: 0;\n",
       "  stroke: currentColor;\n",
       "  fill: currentColor;\n",
       "}\n",
       "</style><pre class='xr-text-repr-fallback'>&lt;xarray.Dataset&gt;\n",
       "Dimensions:     (TIME: 3600, nv: 2, xb: 361, xt: 360, yb: 201, yt: 200)\n",
       "Coordinates:\n",
       "  * nv          (nv) float64 1.0 2.0\n",
       "  * TIME        (TIME) object 0001-01-16 12:00:00 ... 0300-12-16 12:00:00\n",
       "  * xb          (xb) float64 -280.0 -279.0 -278.1 -277.1 ... 78.08 79.04 80.0\n",
       "  * xt          (xt) float64 -279.5 -278.6 -277.6 -276.6 ... 77.6 78.56 79.52\n",
       "  * yb          (yb) float64 -82.0 -81.0 -80.0 -79.0 ... 78.2 78.51 78.73 78.83\n",
       "  * yt          (yt) float64 -81.5 -80.5 -79.5 -78.5 ... 78.0 78.35 78.62 78.78\n",
       "Data variables:\n",
       "    HI          (TIME, yt, xt) float32 dask.array&lt;chunksize=(3600, 200, 360), meta=np.ndarray&gt;\n",
       "    average_DT  (TIME) timedelta64[ns] dask.array&lt;chunksize=(3600,), meta=np.ndarray&gt;\n",
       "    average_T1  (TIME) object dask.array&lt;chunksize=(3600,), meta=np.ndarray&gt;\n",
       "    average_T2  (TIME) object dask.array&lt;chunksize=(3600,), meta=np.ndarray&gt;\n",
       "    time_bnds   (TIME, nv) timedelta64[ns] dask.array&lt;chunksize=(3600, 2), meta=np.ndarray&gt;\n",
       "Attributes:\n",
       "    filename:                  ice_month.000101-000512.HI.nc\n",
       "    title:                     ESM2M_pi-control_topaz_C3_verona_NEWDIAG_V4\n",
       "    grid_type:                 regular\n",
       "    grid_tile:                 N/A\n",
       "    history:                   Fri Dec 25 21:23:18 2020: ncrcat HI_0001.nc HI...\n",
       "    NCO:                       &quot;4.5.4&quot;\n",
       "    nco_openmp_thread_number:  1</pre><div class='xr-wrap' hidden><div class='xr-header'><div class='xr-obj-type'>xarray.Dataset</div></div><ul class='xr-sections'><li class='xr-section-item'><input id='section-fcbdfb55-33fc-426c-b69f-5b3367d54190' class='xr-section-summary-in' type='checkbox' disabled ><label for='section-fcbdfb55-33fc-426c-b69f-5b3367d54190' class='xr-section-summary'  title='Expand/collapse section'>Dimensions:</label><div class='xr-section-inline-details'><ul class='xr-dim-list'><li><span class='xr-has-index'>TIME</span>: 3600</li><li><span class='xr-has-index'>nv</span>: 2</li><li><span class='xr-has-index'>xb</span>: 361</li><li><span class='xr-has-index'>xt</span>: 360</li><li><span class='xr-has-index'>yb</span>: 201</li><li><span class='xr-has-index'>yt</span>: 200</li></ul></div><div class='xr-section-details'></div></li><li class='xr-section-item'><input id='section-c635d84d-2cdf-4905-89fa-39f6b4bc6172' class='xr-section-summary-in' type='checkbox'  checked><label for='section-c635d84d-2cdf-4905-89fa-39f6b4bc6172' class='xr-section-summary' >Coordinates: <span>(6)</span></label><div class='xr-section-inline-details'></div><div class='xr-section-details'><ul class='xr-var-list'><li class='xr-var-item'><div class='xr-var-name'><span class='xr-has-index'>nv</span></div><div class='xr-var-dims'>(nv)</div><div class='xr-var-dtype'>float64</div><div class='xr-var-preview xr-preview'>1.0 2.0</div><input id='attrs-199eb91e-e01e-40c8-83f4-fc90a6540072' class='xr-var-attrs-in' type='checkbox' ><label for='attrs-199eb91e-e01e-40c8-83f4-fc90a6540072' title='Show/Hide attributes'><svg class='icon xr-icon-file-text2'><use xlink:href='#icon-file-text2'></use></svg></label><input id='data-b4eaaee1-2b9a-444f-a2f1-d01fed8274a7' class='xr-var-data-in' type='checkbox'><label for='data-b4eaaee1-2b9a-444f-a2f1-d01fed8274a7' title='Show/Hide data repr'><svg class='icon xr-icon-database'><use xlink:href='#icon-database'></use></svg></label><div class='xr-var-attrs'><dl class='xr-attrs'><dt><span>long_name :</span></dt><dd>vertex number</dd><dt><span>units :</span></dt><dd>none</dd><dt><span>cartesian_axis :</span></dt><dd>N</dd></dl></div><div class='xr-var-data'><pre>array([1., 2.])</pre></div></li><li class='xr-var-item'><div class='xr-var-name'><span class='xr-has-index'>TIME</span></div><div class='xr-var-dims'>(TIME)</div><div class='xr-var-dtype'>object</div><div class='xr-var-preview xr-preview'>0001-01-16 12:00:00 ... 0300-12-...</div><input id='attrs-4ad8eadb-6905-4c0b-be73-382d2d4b44ef' class='xr-var-attrs-in' type='checkbox' ><label for='attrs-4ad8eadb-6905-4c0b-be73-382d2d4b44ef' title='Show/Hide attributes'><svg class='icon xr-icon-file-text2'><use xlink:href='#icon-file-text2'></use></svg></label><input id='data-31497e7e-4085-4038-8ab3-804ed4085204' class='xr-var-data-in' type='checkbox'><label for='data-31497e7e-4085-4038-8ab3-804ed4085204' title='Show/Hide data repr'><svg class='icon xr-icon-database'><use xlink:href='#icon-database'></use></svg></label><div class='xr-var-attrs'><dl class='xr-attrs'><dt><span>long_name :</span></dt><dd>time</dd><dt><span>cartesian_axis :</span></dt><dd>T</dd><dt><span>calendar_type :</span></dt><dd>NOLEAP</dd><dt><span>bounds :</span></dt><dd>time_bnds</dd></dl></div><div class='xr-var-data'><pre>array([cftime.DatetimeNoLeap(1, 1, 16, 12, 0, 0, 0, has_year_zero=True),\n",
       "       cftime.DatetimeNoLeap(1, 2, 15, 0, 0, 0, 0, has_year_zero=True),\n",
       "       cftime.DatetimeNoLeap(1, 3, 16, 12, 0, 0, 0, has_year_zero=True), ...,\n",
       "       cftime.DatetimeNoLeap(300, 10, 16, 12, 0, 0, 0, has_year_zero=True),\n",
       "       cftime.DatetimeNoLeap(300, 11, 16, 0, 0, 0, 0, has_year_zero=True),\n",
       "       cftime.DatetimeNoLeap(300, 12, 16, 12, 0, 0, 0, has_year_zero=True)],\n",
       "      dtype=object)</pre></div></li><li class='xr-var-item'><div class='xr-var-name'><span class='xr-has-index'>xb</span></div><div class='xr-var-dims'>(xb)</div><div class='xr-var-dtype'>float64</div><div class='xr-var-preview xr-preview'>-280.0 -279.0 -278.1 ... 79.04 80.0</div><input id='attrs-cefff1e1-a6bd-47e5-b501-a2e13ab1af63' class='xr-var-attrs-in' type='checkbox' ><label for='attrs-cefff1e1-a6bd-47e5-b501-a2e13ab1af63' title='Show/Hide attributes'><svg class='icon xr-icon-file-text2'><use xlink:href='#icon-file-text2'></use></svg></label><input id='data-7d183725-68c4-4450-8b70-b6a3336afecb' class='xr-var-data-in' type='checkbox'><label for='data-7d183725-68c4-4450-8b70-b6a3336afecb' title='Show/Hide data repr'><svg class='icon xr-icon-database'><use xlink:href='#icon-database'></use></svg></label><div class='xr-var-attrs'><dl class='xr-attrs'><dt><span>long_name :</span></dt><dd>longitude</dd><dt><span>units :</span></dt><dd>degrees_E</dd><dt><span>cartesian_axis :</span></dt><dd>X</dd></dl></div><div class='xr-var-data'><pre>array([-280.      , -279.041138, -278.082262, ...,   78.082262,   79.041138,\n",
       "         80.      ])</pre></div></li><li class='xr-var-item'><div class='xr-var-name'><span class='xr-has-index'>xt</span></div><div class='xr-var-dims'>(xt)</div><div class='xr-var-dtype'>float64</div><div class='xr-var-preview xr-preview'>-279.5 -278.6 ... 78.56 79.52</div><input id='attrs-1c081d3e-10aa-4431-ac8a-e39b97ed012b' class='xr-var-attrs-in' type='checkbox' ><label for='attrs-1c081d3e-10aa-4431-ac8a-e39b97ed012b' title='Show/Hide attributes'><svg class='icon xr-icon-file-text2'><use xlink:href='#icon-file-text2'></use></svg></label><input id='data-eb851ba5-40be-4018-818e-f4cfd748c185' class='xr-var-data-in' type='checkbox'><label for='data-eb851ba5-40be-4018-818e-f4cfd748c185' title='Show/Hide data repr'><svg class='icon xr-icon-database'><use xlink:href='#icon-database'></use></svg></label><div class='xr-var-attrs'><dl class='xr-attrs'><dt><span>long_name :</span></dt><dd>longitude</dd><dt><span>units :</span></dt><dd>degrees_E</dd><dt><span>cartesian_axis :</span></dt><dd>X</dd><dt><span>edges :</span></dt><dd>xb</dd></dl></div><div class='xr-var-data'><pre>array([-279.520569, -278.5617  , -277.602809, ...,   77.602809,   78.5617  ,\n",
       "         79.520569])</pre></div></li><li class='xr-var-item'><div class='xr-var-name'><span class='xr-has-index'>yb</span></div><div class='xr-var-dims'>(yb)</div><div class='xr-var-dtype'>float64</div><div class='xr-var-preview xr-preview'>-82.0 -81.0 -80.0 ... 78.73 78.83</div><input id='attrs-f04a1bcc-d1e2-4ba3-86c9-f375df1122b1' class='xr-var-attrs-in' type='checkbox' ><label for='attrs-f04a1bcc-d1e2-4ba3-86c9-f375df1122b1' title='Show/Hide attributes'><svg class='icon xr-icon-file-text2'><use xlink:href='#icon-file-text2'></use></svg></label><input id='data-803b5945-6adb-47a3-b68b-ffacf312597b' class='xr-var-data-in' type='checkbox'><label for='data-803b5945-6adb-47a3-b68b-ffacf312597b' title='Show/Hide data repr'><svg class='icon xr-icon-database'><use xlink:href='#icon-database'></use></svg></label><div class='xr-var-attrs'><dl class='xr-attrs'><dt><span>long_name :</span></dt><dd>latitude</dd><dt><span>units :</span></dt><dd>degrees_N</dd><dt><span>cartesian_axis :</span></dt><dd>Y</dd></dl></div><div class='xr-var-data'><pre>array([-82.      , -81.      , -80.      , ...,  78.508211,  78.732924,\n",
       "        78.831024])</pre></div></li><li class='xr-var-item'><div class='xr-var-name'><span class='xr-has-index'>yt</span></div><div class='xr-var-dims'>(yt)</div><div class='xr-var-dtype'>float64</div><div class='xr-var-preview xr-preview'>-81.5 -80.5 -79.5 ... 78.62 78.78</div><input id='attrs-a360efc0-21e3-44ca-86b5-e0b28713d38d' class='xr-var-attrs-in' type='checkbox' ><label for='attrs-a360efc0-21e3-44ca-86b5-e0b28713d38d' title='Show/Hide attributes'><svg class='icon xr-icon-file-text2'><use xlink:href='#icon-file-text2'></use></svg></label><input id='data-0a77b97a-10e4-4397-8f71-35633ac8f156' class='xr-var-data-in' type='checkbox'><label for='data-0a77b97a-10e4-4397-8f71-35633ac8f156' title='Show/Hide data repr'><svg class='icon xr-icon-database'><use xlink:href='#icon-database'></use></svg></label><div class='xr-var-attrs'><dl class='xr-attrs'><dt><span>long_name :</span></dt><dd>latitude</dd><dt><span>units :</span></dt><dd>degrees_N</dd><dt><span>cartesian_axis :</span></dt><dd>Y</dd><dt><span>edges :</span></dt><dd>yb</dd></dl></div><div class='xr-var-data'><pre>array([-81.5     , -80.5     , -79.5     , -78.5     , -77.5     , -76.5     ,\n",
       "       -75.5     , -74.5     , -73.5     , -72.5     , -71.5     , -70.5     ,\n",
       "       -69.5     , -68.5     , -67.5     , -66.5     , -65.5     , -64.5     ,\n",
       "       -63.5     , -62.5     , -61.5     , -60.5     , -59.5     , -58.5     ,\n",
       "       -57.5     , -56.5     , -55.5     , -54.5     , -53.5     , -52.5     ,\n",
       "       -51.5     , -50.5     , -49.5     , -48.5     , -47.5     , -46.5     ,\n",
       "       -45.5     , -44.5     , -43.5     , -42.5     , -41.5     , -40.5     ,\n",
       "       -39.5     , -38.5     , -37.5     , -36.5     , -35.5     , -34.5     ,\n",
       "       -33.5     , -32.5     , -31.5     , -30.5     , -29.500356, -28.502489,\n",
       "       -27.508857, -26.522202, -25.545149, -24.580155, -23.629475, -22.695116,\n",
       "       -21.778805, -20.881964, -20.005679, -19.150684, -18.317351, -17.505679,\n",
       "       -16.715297, -15.945472, -15.195115, -14.462808, -13.746822, -13.045148,\n",
       "       -12.355535, -11.675523, -11.002489, -10.333689,  -9.667179,  -9.003578,\n",
       "        -8.346044,  -7.698457,  -7.064451,  -6.447325,  -5.849964,  -5.274765,\n",
       "        -4.723579,  -4.197667,  -3.697667,  -3.223579,  -2.774765,  -2.349964,\n",
       "        -1.947325,  -1.564451,  -1.198457,  -0.846044,  -0.503578,  -0.167179,\n",
       "         0.16718 ,   0.503579,   0.846045,   1.198458,   1.564452,   1.947326,\n",
       "         2.349965,   2.774766,   3.22358 ,   3.697668,   4.197668,   4.72358 ,\n",
       "         5.274766,   5.849965,   6.447326,   7.064452,   7.698458,   8.346045,\n",
       "         9.003579,   9.66718 ,  10.33369 ,  11.00249 ,  11.675524,  12.355536,\n",
       "        13.045149,  13.746823,  14.462809,  15.195116,  15.945473,  16.715298,\n",
       "        17.50568 ,  18.317352,  19.150685,  20.00568 ,  20.881965,  21.778806,\n",
       "        22.695116,  23.629476,  24.580156,  25.54515 ,  26.522203,  27.508858,\n",
       "        28.50249 ,  29.500357,  30.500001,  31.500001,  32.500001,  33.500001,\n",
       "        34.500001,  35.500001,  36.500001,  37.500001,  38.500001,  39.500001,\n",
       "        40.500001,  41.500001,  42.500001,  43.500001,  44.500001,  45.500001,\n",
       "        46.500001,  47.500001,  48.500001,  49.500001,  50.500001,  51.500001,\n",
       "        52.500001,  53.500001,  54.500001,  55.500001,  56.500001,  57.500001,\n",
       "        58.500001,  59.500001,  60.500001,  61.500001,  62.500001,  63.500001,\n",
       "        64.500001,  65.318662,  65.958324,  66.602414,  67.250398,  67.901647,\n",
       "        68.555426,  69.210883,  69.86703 ,  70.522727,  71.176658,  71.827308,\n",
       "        72.472935,  73.111535,  73.740803,  74.35808 ,  74.960291,  75.543867,\n",
       "        76.104634,  76.637668,  77.137079,  77.595688,  78.004493,  78.351698,\n",
       "        78.620567,  78.781974])</pre></div></li></ul></div></li><li class='xr-section-item'><input id='section-706b4956-ec42-4303-a5dc-8f2bbf6f4d56' class='xr-section-summary-in' type='checkbox'  checked><label for='section-706b4956-ec42-4303-a5dc-8f2bbf6f4d56' class='xr-section-summary' >Data variables: <span>(5)</span></label><div class='xr-section-inline-details'></div><div class='xr-section-details'><ul class='xr-var-list'><li class='xr-var-item'><div class='xr-var-name'><span>HI</span></div><div class='xr-var-dims'>(TIME, yt, xt)</div><div class='xr-var-dtype'>float32</div><div class='xr-var-preview xr-preview'>dask.array&lt;chunksize=(3600, 200, 360), meta=np.ndarray&gt;</div><input id='attrs-8c2613b8-d082-418e-af2f-85df5b2c33bc' class='xr-var-attrs-in' type='checkbox' ><label for='attrs-8c2613b8-d082-418e-af2f-85df5b2c33bc' title='Show/Hide attributes'><svg class='icon xr-icon-file-text2'><use xlink:href='#icon-file-text2'></use></svg></label><input id='data-0dd6c651-7828-4764-a0a0-d003d060ce04' class='xr-var-data-in' type='checkbox'><label for='data-0dd6c651-7828-4764-a0a0-d003d060ce04' title='Show/Hide data repr'><svg class='icon xr-icon-database'><use xlink:href='#icon-database'></use></svg></label><div class='xr-var-attrs'><dl class='xr-attrs'><dt><span>long_name :</span></dt><dd>ice thickness</dd><dt><span>units :</span></dt><dd>m-ice</dd><dt><span>cell_methods :</span></dt><dd>time: mean</dd><dt><span>time_avg_info :</span></dt><dd>average_T1,average_T2,average_DT</dd></dl></div><div class='xr-var-data'><table>\n",
       "<tr>\n",
       "<td>\n",
       "<table>\n",
       "  <thead>\n",
       "    <tr><td> </td><th> Array </th><th> Chunk </th></tr>\n",
       "  </thead>\n",
       "  <tbody>\n",
       "    <tr><th> Bytes </th><td> 0.97 GiB </td> <td> 0.97 GiB </td></tr>\n",
       "    <tr><th> Shape </th><td> (3600, 200, 360) </td> <td> (3600, 200, 360) </td></tr>\n",
       "    <tr><th> Count </th><td> 2 Tasks </td><td> 1 Chunks </td></tr>\n",
       "    <tr><th> Type </th><td> float32 </td><td> numpy.ndarray </td></tr>\n",
       "  </tbody>\n",
       "</table>\n",
       "</td>\n",
       "<td>\n",
       "<svg width=\"169\" height=\"155\" style=\"stroke:rgb(0,0,0);stroke-width:1\" >\n",
       "\n",
       "  <!-- Horizontal lines -->\n",
       "  <line x1=\"10\" y1=\"0\" x2=\"80\" y2=\"70\" style=\"stroke-width:2\" />\n",
       "  <line x1=\"10\" y1=\"35\" x2=\"80\" y2=\"105\" style=\"stroke-width:2\" />\n",
       "\n",
       "  <!-- Vertical lines -->\n",
       "  <line x1=\"10\" y1=\"0\" x2=\"10\" y2=\"35\" style=\"stroke-width:2\" />\n",
       "  <line x1=\"80\" y1=\"70\" x2=\"80\" y2=\"105\" style=\"stroke-width:2\" />\n",
       "\n",
       "  <!-- Colored Rectangle -->\n",
       "  <polygon points=\"10.0,0.0 80.58823529411765,70.58823529411765 80.58823529411765,105.73306382465307 10.0,35.14482853053541\" style=\"fill:#ECB172A0;stroke-width:0\"/>\n",
       "\n",
       "  <!-- Horizontal lines -->\n",
       "  <line x1=\"10\" y1=\"0\" x2=\"48\" y2=\"0\" style=\"stroke-width:2\" />\n",
       "  <line x1=\"80\" y1=\"70\" x2=\"119\" y2=\"70\" style=\"stroke-width:2\" />\n",
       "\n",
       "  <!-- Vertical lines -->\n",
       "  <line x1=\"10\" y1=\"0\" x2=\"80\" y2=\"70\" style=\"stroke-width:2\" />\n",
       "  <line x1=\"48\" y1=\"0\" x2=\"119\" y2=\"70\" style=\"stroke-width:2\" />\n",
       "\n",
       "  <!-- Colored Rectangle -->\n",
       "  <polygon points=\"10.0,0.0 48.596863036086,0.0 119.18509833020366,70.58823529411765 80.58823529411765,70.58823529411765\" style=\"fill:#ECB172A0;stroke-width:0\"/>\n",
       "\n",
       "  <!-- Horizontal lines -->\n",
       "  <line x1=\"80\" y1=\"70\" x2=\"119\" y2=\"70\" style=\"stroke-width:2\" />\n",
       "  <line x1=\"80\" y1=\"105\" x2=\"119\" y2=\"105\" style=\"stroke-width:2\" />\n",
       "\n",
       "  <!-- Vertical lines -->\n",
       "  <line x1=\"80\" y1=\"70\" x2=\"80\" y2=\"105\" style=\"stroke-width:2\" />\n",
       "  <line x1=\"119\" y1=\"70\" x2=\"119\" y2=\"105\" style=\"stroke-width:2\" />\n",
       "\n",
       "  <!-- Colored Rectangle -->\n",
       "  <polygon points=\"80.58823529411765,70.58823529411765 119.18509833020366,70.58823529411765 119.18509833020366,105.73306382465307 80.58823529411765,105.73306382465307\" style=\"fill:#ECB172A0;stroke-width:0\"/>\n",
       "\n",
       "  <!-- Text -->\n",
       "  <text x=\"99.886667\" y=\"125.733064\" font-size=\"1.0rem\" font-weight=\"100\" text-anchor=\"middle\" >360</text>\n",
       "  <text x=\"139.185098\" y=\"88.160650\" font-size=\"1.0rem\" font-weight=\"100\" text-anchor=\"middle\" transform=\"rotate(-90,139.185098,88.160650)\">200</text>\n",
       "  <text x=\"35.294118\" y=\"90.438946\" font-size=\"1.0rem\" font-weight=\"100\" text-anchor=\"middle\" transform=\"rotate(45,35.294118,90.438946)\">3600</text>\n",
       "</svg>\n",
       "</td>\n",
       "</tr>\n",
       "</table></div></li><li class='xr-var-item'><div class='xr-var-name'><span>average_DT</span></div><div class='xr-var-dims'>(TIME)</div><div class='xr-var-dtype'>timedelta64[ns]</div><div class='xr-var-preview xr-preview'>dask.array&lt;chunksize=(3600,), meta=np.ndarray&gt;</div><input id='attrs-0f3bfcc4-434a-471d-b9ff-c763563b5e12' class='xr-var-attrs-in' type='checkbox' ><label for='attrs-0f3bfcc4-434a-471d-b9ff-c763563b5e12' title='Show/Hide attributes'><svg class='icon xr-icon-file-text2'><use xlink:href='#icon-file-text2'></use></svg></label><input id='data-1c038c89-c805-466a-8625-9a936ce927fd' class='xr-var-data-in' type='checkbox'><label for='data-1c038c89-c805-466a-8625-9a936ce927fd' title='Show/Hide data repr'><svg class='icon xr-icon-database'><use xlink:href='#icon-database'></use></svg></label><div class='xr-var-attrs'><dl class='xr-attrs'><dt><span>long_name :</span></dt><dd>Length of average period</dd></dl></div><div class='xr-var-data'><table>\n",
       "<tr>\n",
       "<td>\n",
       "<table>\n",
       "  <thead>\n",
       "    <tr><td> </td><th> Array </th><th> Chunk </th></tr>\n",
       "  </thead>\n",
       "  <tbody>\n",
       "    <tr><th> Bytes </th><td> 28.12 kiB </td> <td> 28.12 kiB </td></tr>\n",
       "    <tr><th> Shape </th><td> (3600,) </td> <td> (3600,) </td></tr>\n",
       "    <tr><th> Count </th><td> 2 Tasks </td><td> 1 Chunks </td></tr>\n",
       "    <tr><th> Type </th><td> timedelta64[ns] </td><td> numpy.ndarray </td></tr>\n",
       "  </tbody>\n",
       "</table>\n",
       "</td>\n",
       "<td>\n",
       "<svg width=\"170\" height=\"75\" style=\"stroke:rgb(0,0,0);stroke-width:1\" >\n",
       "\n",
       "  <!-- Horizontal lines -->\n",
       "  <line x1=\"0\" y1=\"0\" x2=\"120\" y2=\"0\" style=\"stroke-width:2\" />\n",
       "  <line x1=\"0\" y1=\"25\" x2=\"120\" y2=\"25\" style=\"stroke-width:2\" />\n",
       "\n",
       "  <!-- Vertical lines -->\n",
       "  <line x1=\"0\" y1=\"0\" x2=\"0\" y2=\"25\" style=\"stroke-width:2\" />\n",
       "  <line x1=\"120\" y1=\"0\" x2=\"120\" y2=\"25\" style=\"stroke-width:2\" />\n",
       "\n",
       "  <!-- Colored Rectangle -->\n",
       "  <polygon points=\"0.0,0.0 120.0,0.0 120.0,25.412616514582485 0.0,25.412616514582485\" style=\"fill:#ECB172A0;stroke-width:0\"/>\n",
       "\n",
       "  <!-- Text -->\n",
       "  <text x=\"60.000000\" y=\"45.412617\" font-size=\"1.0rem\" font-weight=\"100\" text-anchor=\"middle\" >3600</text>\n",
       "  <text x=\"140.000000\" y=\"12.706308\" font-size=\"1.0rem\" font-weight=\"100\" text-anchor=\"middle\" transform=\"rotate(0,140.000000,12.706308)\">1</text>\n",
       "</svg>\n",
       "</td>\n",
       "</tr>\n",
       "</table></div></li><li class='xr-var-item'><div class='xr-var-name'><span>average_T1</span></div><div class='xr-var-dims'>(TIME)</div><div class='xr-var-dtype'>object</div><div class='xr-var-preview xr-preview'>dask.array&lt;chunksize=(3600,), meta=np.ndarray&gt;</div><input id='attrs-4d3fac91-8f54-4000-b9ab-57d84b9809e5' class='xr-var-attrs-in' type='checkbox' ><label for='attrs-4d3fac91-8f54-4000-b9ab-57d84b9809e5' title='Show/Hide attributes'><svg class='icon xr-icon-file-text2'><use xlink:href='#icon-file-text2'></use></svg></label><input id='data-5fdc72f1-cd96-4777-9873-68e6c38aad44' class='xr-var-data-in' type='checkbox'><label for='data-5fdc72f1-cd96-4777-9873-68e6c38aad44' title='Show/Hide data repr'><svg class='icon xr-icon-database'><use xlink:href='#icon-database'></use></svg></label><div class='xr-var-attrs'><dl class='xr-attrs'><dt><span>long_name :</span></dt><dd>Start time for average period</dd></dl></div><div class='xr-var-data'><table>\n",
       "<tr>\n",
       "<td>\n",
       "<table>\n",
       "  <thead>\n",
       "    <tr><td> </td><th> Array </th><th> Chunk </th></tr>\n",
       "  </thead>\n",
       "  <tbody>\n",
       "    <tr><th> Bytes </th><td> 28.12 kiB </td> <td> 28.12 kiB </td></tr>\n",
       "    <tr><th> Shape </th><td> (3600,) </td> <td> (3600,) </td></tr>\n",
       "    <tr><th> Count </th><td> 2 Tasks </td><td> 1 Chunks </td></tr>\n",
       "    <tr><th> Type </th><td> object </td><td> numpy.ndarray </td></tr>\n",
       "  </tbody>\n",
       "</table>\n",
       "</td>\n",
       "<td>\n",
       "<svg width=\"170\" height=\"75\" style=\"stroke:rgb(0,0,0);stroke-width:1\" >\n",
       "\n",
       "  <!-- Horizontal lines -->\n",
       "  <line x1=\"0\" y1=\"0\" x2=\"120\" y2=\"0\" style=\"stroke-width:2\" />\n",
       "  <line x1=\"0\" y1=\"25\" x2=\"120\" y2=\"25\" style=\"stroke-width:2\" />\n",
       "\n",
       "  <!-- Vertical lines -->\n",
       "  <line x1=\"0\" y1=\"0\" x2=\"0\" y2=\"25\" style=\"stroke-width:2\" />\n",
       "  <line x1=\"120\" y1=\"0\" x2=\"120\" y2=\"25\" style=\"stroke-width:2\" />\n",
       "\n",
       "  <!-- Colored Rectangle -->\n",
       "  <polygon points=\"0.0,0.0 120.0,0.0 120.0,25.412616514582485 0.0,25.412616514582485\" style=\"fill:#ECB172A0;stroke-width:0\"/>\n",
       "\n",
       "  <!-- Text -->\n",
       "  <text x=\"60.000000\" y=\"45.412617\" font-size=\"1.0rem\" font-weight=\"100\" text-anchor=\"middle\" >3600</text>\n",
       "  <text x=\"140.000000\" y=\"12.706308\" font-size=\"1.0rem\" font-weight=\"100\" text-anchor=\"middle\" transform=\"rotate(0,140.000000,12.706308)\">1</text>\n",
       "</svg>\n",
       "</td>\n",
       "</tr>\n",
       "</table></div></li><li class='xr-var-item'><div class='xr-var-name'><span>average_T2</span></div><div class='xr-var-dims'>(TIME)</div><div class='xr-var-dtype'>object</div><div class='xr-var-preview xr-preview'>dask.array&lt;chunksize=(3600,), meta=np.ndarray&gt;</div><input id='attrs-bb0c1e85-7131-4a43-916a-19b4303ffb33' class='xr-var-attrs-in' type='checkbox' ><label for='attrs-bb0c1e85-7131-4a43-916a-19b4303ffb33' title='Show/Hide attributes'><svg class='icon xr-icon-file-text2'><use xlink:href='#icon-file-text2'></use></svg></label><input id='data-4c7d77c4-367d-45bc-bd02-30f475e99158' class='xr-var-data-in' type='checkbox'><label for='data-4c7d77c4-367d-45bc-bd02-30f475e99158' title='Show/Hide data repr'><svg class='icon xr-icon-database'><use xlink:href='#icon-database'></use></svg></label><div class='xr-var-attrs'><dl class='xr-attrs'><dt><span>long_name :</span></dt><dd>End time for average period</dd></dl></div><div class='xr-var-data'><table>\n",
       "<tr>\n",
       "<td>\n",
       "<table>\n",
       "  <thead>\n",
       "    <tr><td> </td><th> Array </th><th> Chunk </th></tr>\n",
       "  </thead>\n",
       "  <tbody>\n",
       "    <tr><th> Bytes </th><td> 28.12 kiB </td> <td> 28.12 kiB </td></tr>\n",
       "    <tr><th> Shape </th><td> (3600,) </td> <td> (3600,) </td></tr>\n",
       "    <tr><th> Count </th><td> 2 Tasks </td><td> 1 Chunks </td></tr>\n",
       "    <tr><th> Type </th><td> object </td><td> numpy.ndarray </td></tr>\n",
       "  </tbody>\n",
       "</table>\n",
       "</td>\n",
       "<td>\n",
       "<svg width=\"170\" height=\"75\" style=\"stroke:rgb(0,0,0);stroke-width:1\" >\n",
       "\n",
       "  <!-- Horizontal lines -->\n",
       "  <line x1=\"0\" y1=\"0\" x2=\"120\" y2=\"0\" style=\"stroke-width:2\" />\n",
       "  <line x1=\"0\" y1=\"25\" x2=\"120\" y2=\"25\" style=\"stroke-width:2\" />\n",
       "\n",
       "  <!-- Vertical lines -->\n",
       "  <line x1=\"0\" y1=\"0\" x2=\"0\" y2=\"25\" style=\"stroke-width:2\" />\n",
       "  <line x1=\"120\" y1=\"0\" x2=\"120\" y2=\"25\" style=\"stroke-width:2\" />\n",
       "\n",
       "  <!-- Colored Rectangle -->\n",
       "  <polygon points=\"0.0,0.0 120.0,0.0 120.0,25.412616514582485 0.0,25.412616514582485\" style=\"fill:#ECB172A0;stroke-width:0\"/>\n",
       "\n",
       "  <!-- Text -->\n",
       "  <text x=\"60.000000\" y=\"45.412617\" font-size=\"1.0rem\" font-weight=\"100\" text-anchor=\"middle\" >3600</text>\n",
       "  <text x=\"140.000000\" y=\"12.706308\" font-size=\"1.0rem\" font-weight=\"100\" text-anchor=\"middle\" transform=\"rotate(0,140.000000,12.706308)\">1</text>\n",
       "</svg>\n",
       "</td>\n",
       "</tr>\n",
       "</table></div></li><li class='xr-var-item'><div class='xr-var-name'><span>time_bnds</span></div><div class='xr-var-dims'>(TIME, nv)</div><div class='xr-var-dtype'>timedelta64[ns]</div><div class='xr-var-preview xr-preview'>dask.array&lt;chunksize=(3600, 2), meta=np.ndarray&gt;</div><input id='attrs-ef4b5814-8215-4347-8bf2-bc6d2aa373cb' class='xr-var-attrs-in' type='checkbox' ><label for='attrs-ef4b5814-8215-4347-8bf2-bc6d2aa373cb' title='Show/Hide attributes'><svg class='icon xr-icon-file-text2'><use xlink:href='#icon-file-text2'></use></svg></label><input id='data-5a78b215-2ff7-4158-aa9f-08dabc51a01b' class='xr-var-data-in' type='checkbox'><label for='data-5a78b215-2ff7-4158-aa9f-08dabc51a01b' title='Show/Hide data repr'><svg class='icon xr-icon-database'><use xlink:href='#icon-database'></use></svg></label><div class='xr-var-attrs'><dl class='xr-attrs'><dt><span>long_name :</span></dt><dd>time axis boundaries</dd><dt><span>calendar :</span></dt><dd>NOLEAP</dd></dl></div><div class='xr-var-data'><table>\n",
       "<tr>\n",
       "<td>\n",
       "<table>\n",
       "  <thead>\n",
       "    <tr><td> </td><th> Array </th><th> Chunk </th></tr>\n",
       "  </thead>\n",
       "  <tbody>\n",
       "    <tr><th> Bytes </th><td> 56.25 kiB </td> <td> 56.25 kiB </td></tr>\n",
       "    <tr><th> Shape </th><td> (3600, 2) </td> <td> (3600, 2) </td></tr>\n",
       "    <tr><th> Count </th><td> 2 Tasks </td><td> 1 Chunks </td></tr>\n",
       "    <tr><th> Type </th><td> timedelta64[ns] </td><td> numpy.ndarray </td></tr>\n",
       "  </tbody>\n",
       "</table>\n",
       "</td>\n",
       "<td>\n",
       "<svg width=\"75\" height=\"170\" style=\"stroke:rgb(0,0,0);stroke-width:1\" >\n",
       "\n",
       "  <!-- Horizontal lines -->\n",
       "  <line x1=\"0\" y1=\"0\" x2=\"25\" y2=\"0\" style=\"stroke-width:2\" />\n",
       "  <line x1=\"0\" y1=\"120\" x2=\"25\" y2=\"120\" style=\"stroke-width:2\" />\n",
       "\n",
       "  <!-- Vertical lines -->\n",
       "  <line x1=\"0\" y1=\"0\" x2=\"0\" y2=\"120\" style=\"stroke-width:2\" />\n",
       "  <line x1=\"25\" y1=\"0\" x2=\"25\" y2=\"120\" style=\"stroke-width:2\" />\n",
       "\n",
       "  <!-- Colored Rectangle -->\n",
       "  <polygon points=\"0.0,0.0 25.412616514582485,0.0 25.412616514582485,120.0 0.0,120.0\" style=\"fill:#ECB172A0;stroke-width:0\"/>\n",
       "\n",
       "  <!-- Text -->\n",
       "  <text x=\"12.706308\" y=\"140.000000\" font-size=\"1.0rem\" font-weight=\"100\" text-anchor=\"middle\" >2</text>\n",
       "  <text x=\"45.412617\" y=\"60.000000\" font-size=\"1.0rem\" font-weight=\"100\" text-anchor=\"middle\" transform=\"rotate(-90,45.412617,60.000000)\">3600</text>\n",
       "</svg>\n",
       "</td>\n",
       "</tr>\n",
       "</table></div></li></ul></div></li><li class='xr-section-item'><input id='section-79832648-adc6-4918-bad6-b217bc25a80a' class='xr-section-summary-in' type='checkbox'  checked><label for='section-79832648-adc6-4918-bad6-b217bc25a80a' class='xr-section-summary' >Attributes: <span>(7)</span></label><div class='xr-section-inline-details'></div><div class='xr-section-details'><dl class='xr-attrs'><dt><span>filename :</span></dt><dd>ice_month.000101-000512.HI.nc</dd><dt><span>title :</span></dt><dd>ESM2M_pi-control_topaz_C3_verona_NEWDIAG_V4</dd><dt><span>grid_type :</span></dt><dd>regular</dd><dt><span>grid_tile :</span></dt><dd>N/A</dd><dt><span>history :</span></dt><dd>Fri Dec 25 21:23:18 2020: ncrcat HI_0001.nc HI_0002.nc HI_0003.nc HI_0004.nc HI_0005.nc HI_0006.nc HI_0007.nc HI_0008.nc HI_0009.nc HI_0010.nc HI_0011.nc HI_0012.nc HI_0013.nc HI_0014.nc HI_0015.nc HI_0016.nc HI_0017.nc HI_0018.nc HI_0019.nc HI_0020.nc HI_0021.nc HI_0022.nc HI_0023.nc HI_0024.nc HI_0025.nc HI_0026.nc HI_0027.nc HI_0028.nc HI_0029.nc HI_0030.nc HI_0031.nc HI_0032.nc HI_0033.nc HI_0034.nc HI_0035.nc HI_0036.nc HI_0037.nc HI_0038.nc HI_0039.nc HI_0040.nc HI_0041.nc HI_0042.nc HI_0043.nc HI_0044.nc HI_0045.nc HI_0046.nc HI_0047.nc HI_0048.nc HI_0049.nc HI_0050.nc HI_0051.nc HI_0052.nc HI_0053.nc HI_0054.nc HI_0055.nc HI_0056.nc HI_0057.nc HI_0058.nc HI_0059.nc HI_0060.nc HI_0061.nc HI_0062.nc HI_0063.nc HI_0064.nc HI_0065.nc HI_0066.nc HI_0067.nc HI_0068.nc HI_0069.nc HI_0070.nc HI_0071.nc HI_0072.nc HI_0073.nc HI_0074.nc HI_0075.nc HI_0076.nc HI_0077.nc HI_0078.nc HI_0079.nc HI_0080.nc HI_0081.nc HI_0082.nc HI_0083.nc HI_0084.nc HI_0085.nc HI_0086.nc HI_0087.nc HI_0088.nc HI_0089.nc HI_0090.nc HI_0091.nc HI_0092.nc HI_0093.nc HI_0094.nc HI_0095.nc HI_0096.nc HI_0097.nc HI_0098.nc HI_0099.nc HI_0100.nc HI_0101.nc HI_0102.nc HI_0103.nc HI_0104.nc HI_0105.nc HI_0106.nc HI_0107.nc HI_0108.nc HI_0109.nc HI_0110.nc HI_0111.nc HI_0112.nc HI_0113.nc HI_0114.nc HI_0115.nc HI_0116.nc HI_0117.nc HI_0118.nc HI_0119.nc HI_0120.nc HI_0121.nc HI_0122.nc HI_0123.nc HI_0124.nc HI_0125.nc HI_0126.nc HI_0127.nc HI_0128.nc HI_0129.nc HI_0130.nc HI_0131.nc HI_0132.nc HI_0133.nc HI_0134.nc HI_0135.nc HI_0136.nc HI_0137.nc HI_0138.nc HI_0139.nc HI_0140.nc HI_0141.nc HI_0142.nc HI_0143.nc HI_0144.nc HI_0145.nc HI_0146.nc HI_0147.nc HI_0148.nc HI_0149.nc HI_0150.nc HI_0151.nc HI_0152.nc HI_0153.nc HI_0154.nc HI_0155.nc HI_0156.nc HI_0157.nc HI_0158.nc HI_0159.nc HI_0160.nc HI_0161.nc HI_0162.nc HI_0163.nc HI_0164.nc HI_0165.nc HI_0166.nc HI_0167.nc HI_0168.nc HI_0169.nc HI_0170.nc HI_0171.nc HI_0172.nc HI_0173.nc HI_0174.nc HI_0175.nc HI_0176.nc HI_0177.nc HI_0178.nc HI_0179.nc HI_0180.nc HI_0181.nc HI_0182.nc HI_0183.nc HI_0184.nc HI_0185.nc HI_0186.nc HI_0187.nc HI_0188.nc HI_0189.nc HI_0190.nc HI_0191.nc HI_0192.nc HI_0193.nc HI_0194.nc HI_0195.nc HI_0196.nc HI_0197.nc HI_0198.nc HI_0199.nc HI_0200.nc HI_0201.nc HI_0202.nc HI_0203.nc HI_0204.nc HI_0205.nc HI_0206.nc HI_0207.nc HI_0208.nc HI_0209.nc HI_0210.nc HI_0211.nc HI_0212.nc HI_0213.nc HI_0214.nc HI_0215.nc HI_0216.nc HI_0217.nc HI_0218.nc HI_0219.nc HI_0220.nc HI_0221.nc HI_0222.nc HI_0223.nc HI_0224.nc HI_0225.nc HI_0226.nc HI_0227.nc HI_0228.nc HI_0229.nc HI_0230.nc HI_0231.nc HI_0232.nc HI_0233.nc HI_0234.nc HI_0235.nc HI_0236.nc HI_0237.nc HI_0238.nc HI_0239.nc HI_0240.nc HI_0241.nc HI_0242.nc HI_0243.nc HI_0244.nc HI_0245.nc HI_0246.nc HI_0247.nc HI_0248.nc HI_0249.nc HI_0250.nc HI_0251.nc HI_0252.nc HI_0253.nc HI_0254.nc HI_0255.nc HI_0256.nc HI_0257.nc HI_0258.nc HI_0259.nc HI_0260.nc HI_0261.nc HI_0262.nc HI_0263.nc HI_0264.nc HI_0265.nc HI_0266.nc HI_0267.nc HI_0268.nc HI_0269.nc HI_0270.nc HI_0271.nc HI_0272.nc HI_0273.nc HI_0274.nc HI_0275.nc HI_0276.nc HI_0277.nc HI_0278.nc HI_0279.nc HI_0280.nc HI_0281.nc HI_0282.nc HI_0283.nc HI_0284.nc HI_0285.nc HI_0286.nc HI_0287.nc HI_0288.nc HI_0289.nc HI_0290.nc HI_0291.nc HI_0292.nc HI_0293.nc HI_0294.nc HI_0295.nc HI_0296.nc HI_0297.nc HI_0298.nc HI_0299.nc HI_0300.nc HI_0001_0300.nc\n",
       "Fri Dec 25 10:06:41 2020: ncks -d time,0,11 ice_month.000101-000512.HI.nc HI_0001.nc</dd><dt><span>NCO :</span></dt><dd>&quot;4.5.4&quot;</dd><dt><span>nco_openmp_thread_number :</span></dt><dd>1</dd></dl></div></li></ul></div></div>"
      ],
      "text/plain": [
       "<xarray.Dataset>\n",
       "Dimensions:     (TIME: 3600, nv: 2, xb: 361, xt: 360, yb: 201, yt: 200)\n",
       "Coordinates:\n",
       "  * nv          (nv) float64 1.0 2.0\n",
       "  * TIME        (TIME) object 0001-01-16 12:00:00 ... 0300-12-16 12:00:00\n",
       "  * xb          (xb) float64 -280.0 -279.0 -278.1 -277.1 ... 78.08 79.04 80.0\n",
       "  * xt          (xt) float64 -279.5 -278.6 -277.6 -276.6 ... 77.6 78.56 79.52\n",
       "  * yb          (yb) float64 -82.0 -81.0 -80.0 -79.0 ... 78.2 78.51 78.73 78.83\n",
       "  * yt          (yt) float64 -81.5 -80.5 -79.5 -78.5 ... 78.0 78.35 78.62 78.78\n",
       "Data variables:\n",
       "    HI          (TIME, yt, xt) float32 dask.array<chunksize=(3600, 200, 360), meta=np.ndarray>\n",
       "    average_DT  (TIME) timedelta64[ns] dask.array<chunksize=(3600,), meta=np.ndarray>\n",
       "    average_T1  (TIME) object dask.array<chunksize=(3600,), meta=np.ndarray>\n",
       "    average_T2  (TIME) object dask.array<chunksize=(3600,), meta=np.ndarray>\n",
       "    time_bnds   (TIME, nv) timedelta64[ns] dask.array<chunksize=(3600, 2), meta=np.ndarray>\n",
       "Attributes:\n",
       "    filename:                  ice_month.000101-000512.HI.nc\n",
       "    title:                     ESM2M_pi-control_topaz_C3_verona_NEWDIAG_V4\n",
       "    grid_type:                 regular\n",
       "    grid_tile:                 N/A\n",
       "    history:                   Fri Dec 25 21:23:18 2020: ncrcat HI_0001.nc HI...\n",
       "    NCO:                       \"4.5.4\"\n",
       "    nco_openmp_thread_number:  1"
      ]
     },
     "execution_count": 39,
     "metadata": {},
     "output_type": "execute_result"
    }
   ],
   "source": [
    "hi_ds"
   ]
  },
  {
   "cell_type": "code",
   "execution_count": 16,
   "id": "a8970ec5-0963-4d42-8b70-c9ac30b95003",
   "metadata": {},
   "outputs": [
    {
     "data": {
      "text/plain": [
       "<matplotlib.collections.QuadMesh at 0x7fdec8660130>"
      ]
     },
     "execution_count": 16,
     "metadata": {},
     "output_type": "execute_result"
    },
    {
     "data": {
      "image/png": "[encoded data removed]",
      "text/plain": [
       "<Figure size 432x288 with 2 Axes>"
      ]
     },
     "metadata": {
      "needs_background": "light"
     },
     "output_type": "display_data"
    }
   ],
   "source": [
    "SH_area_SIE[0].plot()"
   ]
  },
  {
   "cell_type": "code",
   "execution_count": 17,
   "id": "9c2452d2-efbf-4591-9cff-405133983eff",
   "metadata": {},
   "outputs": [],
   "source": [
    "SI_vol = hi_ds.HI * SH_area_SIE"
   ]
  },
  {
   "cell_type": "code",
   "execution_count": 18,
   "id": "b76a2b36-b08b-4bba-ba48-60216f292f55",
   "metadata": {},
   "outputs": [
    {
     "data": {
      "text/plain": [
       "<matplotlib.collections.QuadMesh at 0x7fdec8b472b0>"
      ]
     },
     "execution_count": 18,
     "metadata": {},
     "output_type": "execute_result"
    },
    {
     "data": {
      "image/png": "[encoded data removed]",
      "text/plain": [
       "<Figure size 432x288 with 2 Axes>"
      ]
     },
     "metadata": {
      "needs_background": "light"
     },
     "output_type": "display_data"
    }
   ],
   "source": [
    "SI_vol[0].plot()"
   ]
  },
  {
   "cell_type": "code",
   "execution_count": 19,
   "id": "f83e1168-8bd6-4796-884a-21478701b2c9",
   "metadata": {},
   "outputs": [
    {
     "data": {
      "text/plain": [
       "array(6.39120299e+11)"
      ]
     },
     "execution_count": 19,
     "metadata": {},
     "output_type": "execute_result"
    }
   ],
   "source": [
    "SI_vol[0].sum(dim={'xt', 'yt'}).values"
   ]
  },
  {
   "cell_type": "code",
   "execution_count": 20,
   "id": "a50bf1e7-dbde-4510-b0a7-48dce4c6914b",
   "metadata": {},
   "outputs": [
    {
     "data": {
      "text/plain": [
       "array(1.36844554e+12)"
      ]
     },
     "execution_count": 20,
     "metadata": {},
     "output_type": "execute_result"
    }
   ],
   "source": [
    "SH_area_SIE[0].sum(dim={'xt', 'yt'}).values"
   ]
  },
  {
   "cell_type": "markdown",
   "id": "a844bb83-f866-4c21-8e7b-2ddbd4dd21f8",
   "metadata": {},
   "source": [
    "**Sea ice thickness is generally less than 1, so sea ice volume is less than SIC. (see below)**"
   ]
  },
  {
   "cell_type": "code",
   "execution_count": 49,
   "id": "d6e84559-8bcc-4203-87ab-fdcfb1a3d37f",
   "metadata": {},
   "outputs": [
    {
     "data": {
      "text/plain": [
       "<matplotlib.collections.QuadMesh at 0x7fdc847ac3a0>"
      ]
     },
     "execution_count": 49,
     "metadata": {},
     "output_type": "execute_result"
    },
    {
     "data": {
      "image/png": "[encoded data removed]",
      "text/plain": [
       "<Figure size 432x288 with 2 Axes>"
      ]
     },
     "metadata": {
      "needs_background": "light"
     },
     "output_type": "display_data"
    }
   ],
   "source": [
    "t = xr.where(hi_ds.HI[0] > 1, 1, 0)\n",
    "t = xr.where(np.isnan(hi_ds.HI[0]), np.nan, t)\n",
    "t.plot()"
   ]
  },
  {
   "cell_type": "code",
   "execution_count": 41,
   "id": "8f76829a-1ce6-42fd-a015-0ca88fb63ee1",
   "metadata": {},
   "outputs": [
    {
     "data": {
      "text/plain": [
       "<matplotlib.collections.QuadMesh at 0x7fde7c264160>"
      ]
     },
     "execution_count": 41,
     "metadata": {},
     "output_type": "execute_result"
    },
    {
     "data": {
      "image/png": "[encoded data removed]",
      "text/plain": [
       "<Figure size 432x288 with 2 Axes>"
      ]
     },
     "metadata": {
      "needs_background": "light"
     },
     "output_type": "display_data"
    }
   ],
   "source": [
    "hi_ds.HI[0].plot()"
   ]
  },
  {
   "cell_type": "code",
   "execution_count": null,
   "id": "00c9f402-3ef2-4237-b084-113ffda0fc2c",
   "metadata": {},
   "outputs": [],
   "source": []
  }
 ],
 "metadata": {
  "kernelspec": {
   "display_name": "Python 3",
   "language": "python",
   "name": "python3"
  },
  "language_info": {
   "codemirror_mode": {
    "name": "ipython",
    "version": 3
   },
   "file_extension": ".py",
   "mimetype": "text/x-python",
   "name": "python",
   "nbconvert_exporter": "python",
   "pygments_lexer": "ipython3",
   "version": "3.9.4"
  }
 },
 "nbformat": 4,
 "nbformat_minor": 5
}
