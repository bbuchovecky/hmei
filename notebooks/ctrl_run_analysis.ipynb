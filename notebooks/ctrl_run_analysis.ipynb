{
 "cells": [
  {
   "cell_type": "raw",
   "id": "7ea1dea1-0762-4886-8a56-684716c5e4a0",
   "metadata": {},
   "source": [
    "Project:      HMEI Summer Internship\n",
    "Author:       Benjamin Buchovecky\n",
    "Created:      6/3/2021"
   ]
  },
  {
   "cell_type": "markdown",
   "id": "77db0ce4-3d9d-4058-b062-0456d4cbed9c",
   "metadata": {},
   "source": [
    "# Control Run Analysis\n",
    "\n",
    "Computation of the potential prognostis predictability (PPP) for metrics from the control simulation, using pre-built functions in project folder. \n",
    "\n",
    "**Important metrics:** <br>\n",
    "- SH sea ice extent/volume\n",
    "- regional sea ice extent/volume\n",
    "- regional NPP, PCO2, SSS, SST\n",
    "- gridpoint-level fields for sea ice concentration, SST, SSS, NPP, PCO2\n",
    "- sea ice edge position (latitude at which sea ice concentration drops below 15%)"
   ]
  },
  {
   "cell_type": "code",
   "execution_count": 2,
   "id": "3ef4b6f2-4835-48da-b58f-e36e5a5e34c0",
   "metadata": {},
   "outputs": [],
   "source": [
    "import warnings\n",
    "warnings.filterwarnings(\"ignore\", message=\"invalid value encountered in true_divide\")\n",
    "warnings.filterwarnings(\"ignore\", message=\"Unable to decode time axis into full numpy.datetime64 objects, continuing using cftime.datetime objects instead, reason: dates out of range\")\n",
    "\n",
    "import xarray as xr\n",
    "import numpy as np\n",
    "\n",
    "import matplotlib.pyplot as plt\n",
    "from cartopy import crs as ccrs\n",
    "import cartopy.feature as cfeature\n",
    "from cartopy.util import add_cyclic_point"
   ]
  },
  {
   "cell_type": "code",
   "execution_count": 5,
   "id": "d3a5abe3-59e0-4b31-89b5-bc9190929db8",
   "metadata": {},
   "outputs": [],
   "source": [
    "rootdir = '/local/projects/so_predict/esm2m_froelicher/'\n",
    "subdir = 'CTRL'"
   ]
  },
  {
   "cell_type": "code",
   "execution_count": 8,
   "id": "8889c96a-1074-47d3-b14c-b2b080ef0f4e",
   "metadata": {},
   "outputs": [],
   "source": [
    "var = 'SST'\n",
    "ds = xr.open_mfdataset(rootdir+subdir+'/'+var+'/'+'sst_*.nc')"
   ]
  },
  {
   "cell_type": "code",
   "execution_count": null,
   "id": "3699479b-0a92-4269-a7d3-824af3e656db",
   "metadata": {},
   "outputs": [],
   "source": []
  }
 ],
 "metadata": {
  "kernelspec": {
   "display_name": "Python 3",
   "language": "python",
   "name": "python3"
  },
  "language_info": {
   "codemirror_mode": {
    "name": "ipython",
    "version": 3
   },
   "file_extension": ".py",
   "mimetype": "text/x-python",
   "name": "python",
   "nbconvert_exporter": "python",
   "pygments_lexer": "ipython3",
   "version": "3.9.4"
  }
 },
 "nbformat": 4,
 "nbformat_minor": 5
}
