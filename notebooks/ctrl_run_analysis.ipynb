{
 "cells": [
  {
   "cell_type": "raw",
   "id": "7ea1dea1-0762-4886-8a56-684716c5e4a0",
   "metadata": {},
   "source": [
    "Project:      HMEI Summer Internship\n",
    "Author:       Benjamin Buchovecky\n",
    "Created:      6/3/2021"
   ]
  },
  {
   "cell_type": "markdown",
   "id": "77db0ce4-3d9d-4058-b062-0456d4cbed9c",
   "metadata": {},
   "source": [
    "# Control Run Analysis\n",
    "\n",
    "Computation of the potential prognostic predictability (PPP) for metrics from the control simulation, eventually using pre-built functions in project folder. \n",
    "\n",
    "**Important metrics:** <br>\n",
    "- SH sea ice extent/volume\n",
    "- regional sea ice extent/volume\n",
    "- regional NPP, PCO2, SSS, SST\n",
    "- gridpoint-level fields for sea ice concentration, SST, SSS, NPP, PCO2 <-- *this is what I started with*\n",
    "- sea ice edge position (latitude at which sea ice concentration drops below 15%)"
   ]
  },
  {
   "cell_type": "markdown",
   "id": "9ea22d60-c570-408e-a397-14e58ae2163c",
   "metadata": {},
   "source": [
    "**Steps:** <br>\n",
    "- open dataset, including all files in control directory for specified variable\n",
    "- compute climatology + rename variable (var --> var_clim)\n",
    "- compute anomalies + rename variable (var --> var_anom)\n",
    "- compute variance &emsp; $\\sigma^{2} = \\frac{\\sum (X - \\mu)^{2}}{N}$\n",
    "    * mean of anomalies, by month\n",
    "    * deviation of each anomaly data point, compared to monthly mean anomaly\n",
    "    * square the deviations\n",
    "    * sum the deviations, by month\n",
    "    * divide these sums by number of years (300 in our case) <-- figure out how to keep NaN values, and stop conversion to 0s\n",
    "- merge climatology, anomalies, variance, and original datasets (```compat = 'override'```)\n",
    "- write this dataset to a NetCDF file"
   ]
  },
  {
   "cell_type": "code",
   "execution_count": 2,
   "id": "3ef4b6f2-4835-48da-b58f-e36e5a5e34c0",
   "metadata": {},
   "outputs": [],
   "source": [
    "import os\n",
    "import warnings\n",
    "warnings.filterwarnings(\"ignore\", message=\"invalid value encountered in true_divide\")\n",
    "warnings.filterwarnings(\"ignore\", message=\"Unable to decode time axis into full numpy.datetime64 objects, continuing using cftime.datetime objects instead, reason: dates out of range\")\n",
    "warnings.filterwarnings(\"ignore\", message=\"invalid value encountered in reduce\")\n",
    "\n",
    "import xarray as xr\n",
    "import numpy as np\n",
    "\n",
    "import matplotlib.pyplot as plt\n",
    "from cartopy import crs as ccrs\n",
    "import cartopy.feature as cfeature\n",
    "from cartopy.util import add_cyclic_point"
   ]
  },
  {
   "cell_type": "code",
   "execution_count": 3,
   "id": "2b79d0ea-7f7e-41c7-9fab-2759102f973f",
   "metadata": {},
   "outputs": [],
   "source": [
    "# compute the climatology (time mean for each month)\n",
    "def compute_ctrl_clim(ds):\n",
    "    return ds.groupby('time.month').mean(dim='time')\n",
    "\n",
    "\n",
    "# compute the monthly anomalies from the 300-year control runs\n",
    "def compute_ctrl_anom(ds):\n",
    "    clim = ds.groupby('time.month').mean(dim='time')\n",
    "    return ds.groupby('time.month') - clim"
   ]
  },
  {
   "cell_type": "code",
   "execution_count": 220,
   "id": "7072222d-5e5f-4d65-81e9-b5940ae67740",
   "metadata": {
    "tags": []
   },
   "outputs": [],
   "source": [
    "def grid_ctrl_runs(path, var):\n",
    "    ds = xr.open_mfdataset(path)\n",
    "\n",
    "    ## compute climatology\n",
    "    time = 'time'\n",
    "    try:\n",
    "        clim = ds.groupby(time+'.month').mean(dim=time)\n",
    "\n",
    "    except:\n",
    "        time = time.upper()\n",
    "        clim = ds.groupby(time+'.month').mean(dim=time)\n",
    "\n",
    "    ## compute anomalies\n",
    "    anom = ds.groupby(time+'.month') - clim\n",
    "\n",
    "    ## rename data variables\n",
    "    clim = clim.rename({var:var+'_clim'})\n",
    "    var_anom = var+'_anom'\n",
    "    anom = anom.rename({var:var+'_anom'})\n",
    "\n",
    "    ## compute variance\n",
    "    mean = anom.groupby(time+'.month').mean(dim=time)\n",
    "    dev = anom.groupby(time+'.month') - mean\n",
    "    dev2 = dev.assign(sqr = dev[var_anom]**2)\n",
    "    dev2_sum = dev2.groupby(time+'.month').sum()\n",
    "    variance = dev2_sum.assign(v=dev2_sum[var_anom] / 300)\n",
    "\n",
    "    variance = variance.rename({'v':var+'_variance'})\n",
    "    variance = variance.drop_vars('sqr')\n",
    "    variance = variance.drop_vars(var_anom)\n",
    "\n",
    "    ## merge climatology, anomaly, and variance data with the original dataset\n",
    "    ds_metrics = ds.merge(clim, compat='override')\n",
    "    ds_metrics = ds_metrics.merge(anom, compat='override')\n",
    "    ds_metrics = ds_metrics.merge(variance, compat='override')\n",
    "\n",
    "    ## write to a NetCDF file (where?)\n",
    "#     write_path = ??\n",
    "#     filename = var.upper() + 'GRID_CTRL_PPE_metrics.nc'\n",
    "#     ds_metrics.to_netcdf(write_path+filename)\n",
    "    \n",
    "    return ds_metrics"
   ]
  },
  {
   "cell_type": "markdown",
   "id": "8cd0499f-b255-4180-bb1d-200886985a95",
   "metadata": {},
   "source": [
    "## Gridpoint-level Fields"
   ]
  },
  {
   "cell_type": "code",
   "execution_count": 5,
   "id": "d3a5abe3-59e0-4b31-89b5-bc9190929db8",
   "metadata": {},
   "outputs": [],
   "source": [
    "rootdir = '/local/projects/so_predict/esm2m_froelicher/'\n",
    "subdir_ctrl = 'CTRL/'"
   ]
  },
  {
   "cell_type": "markdown",
   "id": "2441556c-4275-4429-8795-0b24bc7c3630",
   "metadata": {},
   "source": [
    "#### Sea Surface Temperature (SST)"
   ]
  },
  {
   "cell_type": "code",
   "execution_count": 92,
   "id": "8889c96a-1074-47d3-b14c-b2b080ef0f4e",
   "metadata": {},
   "outputs": [],
   "source": [
    "path_sst = rootdir+subdir_ctrl+'/SST/sst_*.nc'\n",
    "var_sst = 'sst'\n",
    "grid_SST_metrics = grid_ctrl_runs(path_sst, var_sst)"
   ]
  },
  {
   "cell_type": "markdown",
   "id": "227f0769-3ecd-456c-8ffa-55a41d7cf367",
   "metadata": {},
   "source": [
    "#### Sea Surface Salinity (SSS)"
   ]
  },
  {
   "cell_type": "code",
   "execution_count": 93,
   "id": "c47ae656-f599-4f44-ae76-5979693ff2f4",
   "metadata": {},
   "outputs": [],
   "source": [
    "path_sss = rootdir+subdir_ctrl+'/SSS/sss_*.nc'\n",
    "var_sss = 'sss'\n",
    "grid_SSS_metrics = grid_ctrl_runs(path_sss, var_sss)"
   ]
  },
  {
   "cell_type": "markdown",
   "id": "5e2fdb38-7948-4056-9f46-b916e388f64d",
   "metadata": {},
   "source": [
    "#### Sea-ice Concentration (CN)\n",
    "Summed over all thickness categories(?)"
   ]
  },
  {
   "cell_type": "code",
   "execution_count": 94,
   "id": "3699479b-0a92-4269-a7d3-824af3e656db",
   "metadata": {},
   "outputs": [],
   "source": [
    "path_cn = rootdir+subdir_ctrl+'/CN/CN_inv_*.nc'\n",
    "var_cn = 'CN_INV'\n",
    "grid_CN_INV_metrics = grid_ctrl_runs(path_cn, var_cn)"
   ]
  },
  {
   "cell_type": "markdown",
   "id": "97db8fda-0e62-4ffc-9a33-e1b7378b2b38",
   "metadata": {},
   "source": [
    "#### Net Primary Production (NPP)"
   ]
  },
  {
   "cell_type": "code",
   "execution_count": 96,
   "id": "e9a97387-3f31-4e5d-a6b0-ec3d2e361fe6",
   "metadata": {},
   "outputs": [],
   "source": [
    "path_npp = rootdir+subdir_ctrl+'/NPP/NPP_*.nc'\n",
    "var_npp = 'NPP'\n",
    "grid_NPP_metrics = grid_ctrl_runs(path_npp, var_npp)"
   ]
  },
  {
   "cell_type": "markdown",
   "id": "7ad75386-52a4-4ab5-91b9-9373aceebcae",
   "metadata": {},
   "source": [
    "#### Surface pCO$_2$ (PCO2SURF)"
   ]
  },
  {
   "cell_type": "code",
   "execution_count": 97,
   "id": "7f58963f-0683-4b51-a1a8-8414c987eb50",
   "metadata": {},
   "outputs": [],
   "source": [
    "path_pco2surf = rootdir+subdir_ctrl+'/PCO2SURF/pco2surf_*.nc'\n",
    "var_pco2surf = 'pco2surf'\n",
    "grid_PCO2SURF_metrics = grid_ctrl_runs(path_pco2surf, var_pco2surf)"
   ]
  },
  {
   "cell_type": "markdown",
   "id": "ae45fb9f-ccda-457c-bd14-958b28a29b00",
   "metadata": {},
   "source": [
    "## Southern Hemisphere Sea Ice Extent and Volume\n",
    "Using sea-ice extent (EXT) and sea-ice thickness (HI) with ocean/ice model grid information."
   ]
  },
  {
   "cell_type": "markdown",
   "id": "f681a7df-2119-4b6d-ab44-a0d9bdfed3c2",
   "metadata": {},
   "source": [
    "### Sea Ice Extent"
   ]
  },
  {
   "cell_type": "code",
   "execution_count": 322,
   "id": "fd012864-4e25-494b-957c-177a9dee7620",
   "metadata": {},
   "outputs": [],
   "source": [
    "rootdir = '/local/projects/so_predict/esm2m_froelicher/'\n",
    "subdir_ctrl = 'CTRL/'\n",
    "\n",
    "path_cn = rootdir+subdir_ctrl+'/CN/CN_inv_*.nc'\n",
    "cn_ds = xr.open_mfdataset(path_cn)\n",
    "\n",
    "## create mask for SIE where SIC > 15%\n",
    "SIE_binary = xr.where(cn_ds.CN_INV > 0.15, 1, 0)\n",
    "\n",
    "## replace values over land with NaN\n",
    "SIE_binary = xr.where(np.isnan(cn_ds.CN_INV), np.nan, extent)\n",
    "\n",
    "cn_ds = cn_ds.assign(SIE_binary=SIE_binary)\n",
    "cn_ds = cn_ds.rename({'XT':'xt', 'YT':'yt'})"
   ]
  },
  {
   "cell_type": "code",
   "execution_count": 323,
   "id": "ff15103c-3cff-42db-8943-9474fa7f9d31",
   "metadata": {},
   "outputs": [],
   "source": [
    "subdir_grid = 'GRID/'\n",
    "\n",
    "ice_grid = xr.open_dataset(rootdir+subdir_grid+'ice_month.static.nc')\n",
    "\n",
    "ocean_grid = xr.open_dataset(rootdir+subdir_grid+'ocean.static.nc')\n",
    "# mask_arr = xr.where(np.isnan(ocean_grid.ht), 0.0, 1.0)\n",
    "# ocean_grid.coords['mask'] = (('yt_ocean', 'xt_ocean'), mask_arr)\n",
    "# ocean_grid.mask.attrs['valid_range'] = '[0,1]'"
   ]
  },
  {
   "cell_type": "code",
   "execution_count": 397,
   "id": "14323b60-df9a-4039-97ba-3a31fce4b9fc",
   "metadata": {},
   "outputs": [],
   "source": [
    "## get the area of sea ice\n",
    "area_SIE = cn_ds.SIE_binary * ice_grid.area\n",
    "\n",
    "## limit to just the Southern Hemisphere (for summation purposes)\n",
    "SH_area_SIE = area_SIE.where(area_SIE.yt < 0)\n",
    "\n",
    "\n",
    "## SIE climatology - field (values at individual grid points)\n",
    "SIE_field_clim = SH_area_SIE.groupby('TIME.month').mean(dim='TIME')\n",
    "\n",
    "## SIE anomaly - field\n",
    "SIE_field_anom = SH_area_SIE.groupby('TIME.month') - SIE_field_clim\n",
    "\n",
    "\n",
    "## SIE climatology - single areal sum (total area covered by sea ice in Southern Hemisphere)\n",
    "SIE_sum_clim = SH_area_SIE.sum(dim={'xt', 'yt'}).groupby('TIME.month').mean(dim='TIME')\n",
    "\n",
    "## SIE anomaly - single area sum\n",
    "SIE_sum_anom = SH_area_SIE.sum(dim={'xt', 'yt'}).groupby('TIME.month') - SIE_sum_clim"
   ]
  },
  {
   "cell_type": "markdown",
   "id": "c9148057-1fa6-4435-8951-f149d25f189b",
   "metadata": {},
   "source": [
    "### Sea Ice Volume"
   ]
  },
  {
   "cell_type": "code",
   "execution_count": 398,
   "id": "b55a4c74-4f78-4834-ba4d-a2d9e9036f8c",
   "metadata": {},
   "outputs": [],
   "source": [
    "rootdir = '/local/projects/so_predict/esm2m_froelicher/'\n",
    "subdir_ctrl = 'CTRL/'\n",
    "\n",
    "path_hi = rootdir+subdir_ctrl+'/HI/HI_0001_0300.nc'\n",
    "hi_ds = xr.open_mfdataset(path_hi)\n",
    "\n",
    "hi_ds = hi_ds.rename({'time':'TIME'})"
   ]
  },
  {
   "cell_type": "code",
   "execution_count": 411,
   "id": "c3676a42-f497-4596-af9f-df82d4e423e8",
   "metadata": {},
   "outputs": [
    {
     "data": {
      "text/plain": [
       "<matplotlib.collections.QuadMesh at 0x7f34b7aee0a0>"
      ]
     },
     "execution_count": 411,
     "metadata": {},
     "output_type": "execute_result"
    },
    {
     "data": {
      "image/png": "[encoded data removed]",
      "text/plain": [
       "<Figure size 432x288 with 2 Axes>"
      ]
     },
     "metadata": {
      "needs_background": "light"
     },
     "output_type": "display_data"
    }
   ],
   "source": [
    "hi_ds.HI[0].plot()"
   ]
  },
  {
   "cell_type": "code",
   "execution_count": 412,
   "id": "a8970ec5-0963-4d42-8b70-c9ac30b95003",
   "metadata": {},
   "outputs": [
    {
     "data": {
      "text/plain": [
       "<matplotlib.collections.QuadMesh at 0x7f34b6420df0>"
      ]
     },
     "execution_count": 412,
     "metadata": {},
     "output_type": "execute_result"
    },
    {
     "data": {
      "image/png": "[encoded data removed]",
      "text/plain": [
       "<Figure size 432x288 with 2 Axes>"
      ]
     },
     "metadata": {
      "needs_background": "light"
     },
     "output_type": "display_data"
    }
   ],
   "source": [
    "SH_area_SIE[0].plot()"
   ]
  },
  {
   "cell_type": "code",
   "execution_count": 407,
   "id": "9c2452d2-efbf-4591-9cff-405133983eff",
   "metadata": {},
   "outputs": [],
   "source": [
    "SI_vol = hi_ds.HI * SH_area_SIE"
   ]
  },
  {
   "cell_type": "code",
   "execution_count": 413,
   "id": "b76a2b36-b08b-4bba-ba48-60216f292f55",
   "metadata": {},
   "outputs": [
    {
     "data": {
      "text/plain": [
       "<matplotlib.collections.QuadMesh at 0x7f34b7e27550>"
      ]
     },
     "execution_count": 413,
     "metadata": {},
     "output_type": "execute_result"
    },
    {
     "data": {
      "image/png": "[encoded data removed]",
      "text/plain": [
       "<Figure size 432x288 with 2 Axes>"
      ]
     },
     "metadata": {
      "needs_background": "light"
     },
     "output_type": "display_data"
    }
   ],
   "source": [
    "SI_vol[0].plot()"
   ]
  },
  {
   "cell_type": "code",
   "execution_count": 408,
   "id": "f83e1168-8bd6-4796-884a-21478701b2c9",
   "metadata": {},
   "outputs": [
    {
     "data": {
      "text/plain": [
       "array(6.39120299e+11)"
      ]
     },
     "execution_count": 408,
     "metadata": {},
     "output_type": "execute_result"
    }
   ],
   "source": [
    "SI_vol[0].sum(dim={'xt', 'yt'}).values"
   ]
  },
  {
   "cell_type": "code",
   "execution_count": 409,
   "id": "a50bf1e7-dbde-4510-b0a7-48dce4c6914b",
   "metadata": {},
   "outputs": [
    {
     "data": {
      "text/plain": [
       "array(1.36844554e+12)"
      ]
     },
     "execution_count": 409,
     "metadata": {},
     "output_type": "execute_result"
    }
   ],
   "source": [
    "SH_area_SIE[0].sum(dim={'xt', 'yt'}).values"
   ]
  },
  {
   "cell_type": "markdown",
   "id": "8f90081c-551f-4222-9c11-244ca41e53ed",
   "metadata": {},
   "source": [
    "**^^ don't think this (sea ice volume < sea ice extent) makes any sense. I need to take another look at my methods here.**"
   ]
  },
  {
   "cell_type": "code",
   "execution_count": null,
   "id": "7b537494-5136-4c61-9d20-312729981260",
   "metadata": {},
   "outputs": [],
   "source": []
  }
 ],
 "metadata": {
  "kernelspec": {
   "display_name": "Python 3",
   "language": "python",
   "name": "python3"
  },
  "language_info": {
   "codemirror_mode": {
    "name": "ipython",
    "version": 3
   },
   "file_extension": ".py",
   "mimetype": "text/x-python",
   "name": "python",
   "nbconvert_exporter": "python",
   "pygments_lexer": "ipython3",
   "version": "3.9.4"
  }
 },
 "nbformat": 4,
 "nbformat_minor": 5
}
