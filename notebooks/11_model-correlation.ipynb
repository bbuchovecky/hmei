{
 "cells": [
  {
   "cell_type": "raw",
   "id": "53855423-4ca0-47ab-9cc9-d2131e2ae0d9",
   "metadata": {},
   "source": [
    "Project:      HMEI Summer Internship / Spring JP\n",
    "Author:       Benjamin Buchovecky\n",
    "Created:      1/17/2022"
   ]
  },
  {
   "cell_type": "markdown",
   "id": "6ef0bd23-4a82-4205-bc70-75c281ac9d06",
   "metadata": {},
   "source": [
    "# Lagged Correlation Analysis of Model"
   ]
  },
  {
   "cell_type": "code",
   "execution_count": 1,
   "id": "4c78c56f-ed41-411f-b23d-c3a2d4406d56",
   "metadata": {},
   "outputs": [],
   "source": [
    "import os\n",
    "import warnings\n",
    "warnings.filterwarnings(\"ignore\", message=\"invalid value encountered in true_divide\")\n",
    "warnings.filterwarnings(\"ignore\",message=\"Unable to decode time axis into full numpy.datetime64 objects, continuing using cftime.datetime objects instead, reason: dates out of range\")\n",
    "warnings.filterwarnings(\"ignore\", message=\"invalid value encountered in reduce\")\n",
    "\n",
    "import xarray as xr\n",
    "import numpy as np\n",
    "import scipy.stats as stats\n",
    "import pickle as pkl\n",
    "\n",
    "import matplotlib.pyplot as plt\n",
    "import matplotlib.gridspec as gridspec\n",
    "import matplotlib as mpl\n",
    "\n",
    "import cmocean.cm as cm"
   ]
  },
  {
   "cell_type": "code",
   "execution_count": 3,
   "id": "550ae9e6-e833-47ec-9762-88b75fad96b5",
   "metadata": {},
   "outputs": [],
   "source": [
    "mpl.rcParams['figure.dpi']= 120"
   ]
  },
  {
   "cell_type": "code",
   "execution_count": 4,
   "id": "6f4e6a40-9b99-478b-a62d-8658ddc40e7e",
   "metadata": {
    "tags": []
   },
   "outputs": [],
   "source": [
    "def open_metric(var, reg, metric, timescale='monthly', ens_type=''):\n",
    "    \n",
    "    writedir = '/home/bbuchovecky/storage/so_predict_derived/'\n",
    "    \n",
    "    if metric == 'anom' or metric == 'mean':\n",
    "        subdir = 'CTRL/'+var.upper()+'/'\n",
    "        filename = var.lower()+'_ts_'+reg+'_'+timescale+'_'+metric+'.nc'\n",
    "    \n",
    "    if metric == 'ppp':\n",
    "        subdir = 'PPP/'+var.upper()+'/'\n",
    "        if ens_type != '':\n",
    "            ens_type += '_'\n",
    "        filename = var.lower()+'_ts_'+reg+'_'+timescale+'_'+ens_type+'ppp.nc'\n",
    "        \n",
    "    return xr.open_dataset(writedir+subdir+filename)\n",
    "\n",
    "def get_plotting_labels():\n",
    "    file = open('/home/bbuchovecky/storage/so_predict_derived/plotting_dicts.pkl','rb')\n",
    "    plotting_dicts = pkl.load(file)\n",
    "    file.close()\n",
    "    \n",
    "    reg_names = plotting_dicts['reg_names']\n",
    "    var_su_names = plotting_dicts['var_su_names']\n",
    "    abbrv_month_names = plotting_dicts['abbrv_month_names']\n",
    "    \n",
    "    return reg_names, var_su_names, abbrv_month_names"
   ]
  },
  {
   "cell_type": "markdown",
   "id": "7396f11b-349c-4d73-8169-3320c9def176",
   "metadata": {},
   "source": [
    "# Autocorrelation"
   ]
  },
  {
   "cell_type": "markdown",
   "id": "1bc1be8c-5232-41d4-9ff5-0d3476018bda",
   "metadata": {},
   "source": [
    "## Test Case\n",
    "The goal here is to compute the lagged correlations for all initial months with lags of -4 to +4 months for a single variable."
   ]
  },
  {
   "cell_type": "markdown",
   "id": "d5c6573e-e7d2-48d0-8bc7-406cfb2662ec",
   "metadata": {},
   "source": [
    "### Single init month"
   ]
  },
  {
   "cell_type": "code",
   "execution_count": 16,
   "id": "8d79ff65-93f4-40bd-ac81-1dd0aa39dc70",
   "metadata": {
    "collapsed": true,
    "jupyter": {
     "outputs_hidden": true,
     "source_hidden": true
    },
    "tags": []
   },
   "outputs": [
    {
     "name": "stdout",
     "output_type": "stream",
     "text": [
      "a [  0   1   2   3   4   5   6   7   8   9  10  11  12  13  14  15  16  17\n",
      "  18  19  20  21  22  23  24  25  26  27  28  29  30  31  32  33  34  35\n",
      "  36  37  38  39  40  41  42  43  44  45  46  47  48  49  50  51  52  53\n",
      "  54  55  56  57  58  59  60  61  62  63  64  65  66  67  68  69  70  71\n",
      "  72  73  74  75  76  77  78  79  80  81  82  83  84  85  86  87  88  89\n",
      "  90  91  92  93  94  95  96  97  98  99 100 101 102 103 104 105 106 107\n",
      " 108 109 110 111 112 113 114 115 116 117 118 119] \n",
      "\n",
      "lag -2\n",
      "trim 12\n",
      "tmp_a_init [ 14  26  38  50  62  74  86  98 110]\n",
      "tmp_a_lag  [ 12  24  36  48  60  72  84  96 108] \n",
      "\n",
      "lag -1\n",
      "trim 12\n",
      "tmp_a_init [ 14  26  38  50  62  74  86  98 110]\n",
      "tmp_a_lag  [ 13  25  37  49  61  73  85  97 109] \n",
      "\n",
      "lag 0\n",
      "trim 0\n",
      "tmp_a_init [  2  14  26  38  50  62  74  86  98 110]\n",
      "tmp_a_lag  [  2  14  26  38  50  62  74  86  98 110] \n",
      "\n",
      "lag 1\n",
      "trim 12\n",
      "tmp_a_init [  2  14  26  38  50  62  74  86  98 110]\n",
      "tmp_a_lag  [  3  15  27  39  51  63  75  87  99 111] \n",
      "\n",
      "lag 2\n",
      "trim 12\n",
      "tmp_a_init [  2  14  26  38  50  62  74  86  98 110]\n",
      "tmp_a_lag  [  4  16  28  40  52  64  76  88 100 112] \n",
      "\n"
     ]
    }
   ],
   "source": [
    "years = 10\n",
    "N = 12 * years\n",
    "\n",
    "## generate random time series of length N\n",
    "## 0 is Jan, 1 is Feb, ..., 11 is Dec\n",
    "a = np.arange(N)\n",
    "print('a', a, '\\n')\n",
    "\n",
    "## initialization month\n",
    "init = 2\n",
    "\n",
    "## max absolute value lag (in months)\n",
    "lag = 2\n",
    "\n",
    "for (im,m) in enumerate(range(-lag,lag+1)):    \n",
    "#     trim = 12*(abs(m)//12+1)\n",
    "    trim = 12*((abs(m)-1)//12+1)\n",
    "        \n",
    "    if m < 0:\n",
    "        tmp_a_init = a[init+trim:N:12]\n",
    "        tmp_a_lag = a[init+trim+m:N-trim+init:12]\n",
    "\n",
    "    else:\n",
    "        tmp_a_init = a[init:N-m:12]\n",
    "        tmp_a_lag = a[init+m:N:12]\n",
    "     \n",
    "    if tmp_a_init.size != tmp_a_lag.size:\n",
    "        print('### lag', m)\n",
    "        print('### trim', trim)\n",
    "        print('### tmp_a_init ', tmp_a_init.size)\n",
    "        print('### tmp_a_lag ', tmp_a_lag.size)\n",
    "        print('tmp_a_init', tmp_a_init)\n",
    "        print('tmp_a_lag ', tmp_a_lag, '\\n')\n",
    "        \n",
    "    else:\n",
    "        print('lag', m)\n",
    "        print('trim', trim)\n",
    "        print('tmp_a_init', tmp_a_init)\n",
    "        print('tmp_a_lag ', tmp_a_lag, '\\n')"
   ]
  },
  {
   "cell_type": "markdown",
   "id": "c98406a6-3726-48a1-8ecc-5163a3aca704",
   "metadata": {},
   "source": [
    "### All (12) init months"
   ]
  },
  {
   "cell_type": "code",
   "execution_count": 5,
   "id": "726d6e6e-24d4-4c7b-b8ab-8fdd2ebe2d02",
   "metadata": {
    "jupyter": {
     "source_hidden": true
    },
    "tags": []
   },
   "outputs": [],
   "source": [
    "maxlag = 2\n",
    "\n",
    "## generate random time series of length N\n",
    "years = 10\n",
    "N = 12 * years\n",
    "a = np.random.randint(0,100, (N))\n",
    "\n",
    "## rows are different init months, cols are different lags\n",
    "r_matrix = np.zeros((12, 2*maxlag+1))\n",
    "p_matrix = np.zeros((12, 2*maxlag+1))\n",
    "\n",
    "lag_matrix = np.zeros((12, 2*maxlag+1))\n",
    "init_matrix = np.zeros((12, 2*maxlag+1))\n",
    "\n",
    "for (it,init) in enumerate(range(0,12)):\n",
    "    for (ig,lag) in enumerate(range(-maxlag,maxlag+1)):    \n",
    "        trim = 12*((abs(lag)-1)//12+1)\n",
    "        init_matrix[it][ig] = init\n",
    "        lag_matrix[it][ig] = lag\n",
    "\n",
    "        if lag < 0:\n",
    "            tmp_a_init = a[init+trim:N:12]\n",
    "            tmp_a_lagged = a[init+trim+lag:N-trim+init:12]\n",
    "\n",
    "        else:\n",
    "            tmp_a_init = a[init:N-lag:12]\n",
    "            tmp_a_lagged = a[init+lag:N:12]\n",
    "\n",
    "        r_matrix[it][ig], p_matrix[it][ig] = stats.pearsonr(tmp_a_init, tmp_a_lagged)"
   ]
  },
  {
   "cell_type": "markdown",
   "id": "91853657-9cb8-4d1d-8b37-de66cfecfd70",
   "metadata": {},
   "source": [
    "## Create function"
   ]
  },
  {
   "cell_type": "code",
   "execution_count": 5,
   "id": "80c9022d-c56a-4c60-977e-c46090146f7b",
   "metadata": {},
   "outputs": [],
   "source": [
    "def compute_lagged_autocorr(a, maxlag):\n",
    "    ## convert DataArray to NumPy array\n",
    "    a = a.values\n",
    "    N = a.size\n",
    "    \n",
    "    ## rows are different init months, cols are different lags\n",
    "    r_matrix = np.zeros((2*maxlag+1, 12))\n",
    "    p_matrix = np.zeros((2*maxlag+1, 12))\n",
    "\n",
    "    init_matrix = np.zeros((2*maxlag+1, 12))\n",
    "    lag_matrix = np.zeros((2*maxlag+1, 12))\n",
    "    \n",
    "    for (it,init) in enumerate(range(0,12)):\n",
    "        for (ig,lag) in enumerate(range(-maxlag,maxlag+1)):    \n",
    "            trim = 12*((abs(lag)-1)//12+1)\n",
    "            init_matrix[ig][it] = init\n",
    "            lag_matrix[ig][it] = lag\n",
    "\n",
    "            if lag < 0:\n",
    "                tmp_a_init = a[init+trim:N:12]\n",
    "                tmp_a_lagged = a[init+trim+lag:N-trim+init:12]\n",
    "\n",
    "            else:\n",
    "                tmp_a_init = a[init:N-lag:12]\n",
    "                tmp_a_lagged = a[init+lag:N:12]\n",
    "\n",
    "            r_matrix[ig][it], p_matrix[ig][it] = stats.pearsonr(tmp_a_init, tmp_a_lagged)\n",
    "            \n",
    "    return r_matrix, p_matrix, init_matrix, lag_matrix"
   ]
  },
  {
   "cell_type": "code",
   "execution_count": 6,
   "id": "35d09b9a-0584-46e3-9d91-357016670559",
   "metadata": {},
   "outputs": [],
   "source": [
    "## compute t-test with 95 degrees of freedom (95% confidence interval) to determine threshold for hatching\n",
    "def plot_single_lagged_autocorr(variable, region, maxlag=24, threshold=0.75, hatch='//', figsize=(6,7)):\n",
    "    \n",
    "    ts = open_metric(variable, 'so', 'anom')[region]\n",
    "    \n",
    "    r, p, inits, lags = compute_lagged_autocorr(ts, maxlag=maxlag)\n",
    "\n",
    "    reg_names, var_su_names, abbrv_month_names = get_plotting_labels()\n",
    "\n",
    "    fig,ax = plt.subplots(figsize=figsize)\n",
    "    im = ax.pcolormesh(r, vmin=-1.0, vmax=1.0, cmap=cm.balance, edgecolor='k', linewidth=0.01)\n",
    "\n",
    "    # for (i, j), z in np.ndenumerate(inits):\n",
    "    #     ax.text(j+0.5, i+0.5, '%3d'%z, ha='center', va='center', fontsize=4)\n",
    "\n",
    "    ax.set_yticks((np.arange(r.shape[0]) + 0.5)[::4])\n",
    "    ax.set_yticklabels(np.arange(-24,25)[::4])\n",
    "    ax.set_ylabel('LAG')\n",
    "\n",
    "    ax.set_xticks(np.arange(r.shape[1]) + 0.5)\n",
    "    ax.set_xticklabels(abbrv_month_names)\n",
    "    ax.set_xlabel('INIT MONTH')\n",
    "    \n",
    "    ax.set_title(reg_names[region]+' '+var_su_names[variable]+' autocorrelation')\n",
    "   \n",
    "    cb = fig.colorbar(im, ax=ax, label='Correlation coefficient')\n",
    "\n",
    "    if hatch:\n",
    "        masked = np.ma.masked_array(r, mask=np.where(abs(r) > threshold, 0, 1))\n",
    "        masked_im = ax.pcolor(masked, hatch=hatch, alpha=0)\n",
    "\n",
    "        cb.ax.plot([-1,1], [threshold,threshold], color='k')\n",
    "        cb.ax.plot([-1,1], [-threshold,-threshold], color='k')\n",
    "        cb.ax.fill_between([-1,1], [1,1], [threshold,threshold], hatch=hatch, alpha=0)\n",
    "        cb.ax.fill_between([-1,1], [-threshold,-threshold], [-1,-1], hatch=hatch, alpha=0)"
   ]
  },
  {
   "cell_type": "code",
   "execution_count": 16,
   "id": "54932554-79bf-4ccd-a7fa-e895ecfc62db",
   "metadata": {},
   "outputs": [],
   "source": [
    "# plot_lagged_autocorr('mld', 'SouthernOcean', hatch=False)"
   ]
  },
  {
   "cell_type": "code",
   "execution_count": 78,
   "id": "0c612bea-1c38-42b5-8f6f-822616a071a5",
   "metadata": {},
   "outputs": [],
   "source": [
    "def plot_regional_lagged_autocorr(variable, maxlag=24, threshold=0.75, hatch='//', figsize=(8,7)):\n",
    "    reg_names, var_su_names, abbrv_month_names = get_plotting_labels()\n",
    "    region_list = ['Weddell', 'Indian', 'WestPacific', 'SouthernOcean', 'Ross', 'AmundBell']\n",
    "    \n",
    "    fig,ax = plt.subplots(2, 3, figsize=figsize)\n",
    "    \n",
    "    for (ireg,reg) in enumerate(region_list):  \n",
    "        ts = open_metric(variable, 'so', 'anom')[reg]\n",
    "        r, p, inits, lags = compute_lagged_autocorr(ts, maxlag=maxlag)\n",
    "        \n",
    "        im = ax[int(ireg/3),ireg%3].pcolormesh(r, vmin=-1.0, vmax=1.0, cmap=cm.balance, edgecolor='k', linewidth=0.01)\n",
    "        \n",
    "        if hatch:\n",
    "            masked = np.ma.masked_array(r, mask=np.where(abs(r) > threshold, 0, 1))\n",
    "            masked_im = ax[int(ireg/3),ireg%3].pcolor(masked, hatch=hatch, alpha=0)\n",
    "        \n",
    "        ax[int(ireg/3),ireg%3].set_yticks((np.arange(r.shape[0]) + 0.5)[::4])\n",
    "        ax[int(ireg/3),ireg%3].set_yticklabels(np.arange(-24,25)[::4])\n",
    "        ax[int(ireg/3),ireg%3].set_xticks(np.arange(r.shape[1]) + 0.5)\n",
    "        ax[int(ireg/3),ireg%3].set_xticklabels(abbrv_month_names, rotation=45, ha=\"right\", rotation_mode=\"anchor\")\n",
    "        ax[int(ireg/3),ireg%3].set_title(reg_names[reg], fontweight='bold', fontsize='large')\n",
    "        \n",
    "        if ireg%3 == 0:\n",
    "            ax[int(ireg/3),ireg%3].set_ylabel('LAG')\n",
    "        if ireg//3 == 1:\n",
    "            ax[int(ireg/3),ireg%3].set_xlabel('INIT MONTH')\n",
    "    \n",
    "    fig.suptitle(var_su_names[variable], x=0, fontweight='bold', fontsize='x-large')\n",
    "    fig.tight_layout()\n",
    "    \n",
    "    cb = fig.colorbar(im, ax=ax.ravel().tolist(), label='correlation coefficient')\n",
    "    \n",
    "    if hatch:\n",
    "        cb.ax.plot([-1,1], [threshold,threshold], color='k')\n",
    "        cb.ax.plot([-1,1], [-threshold,-threshold], color='k')\n",
    "        cb.ax.fill_between([-1,1], [1,1], [threshold,threshold], hatch=hatch, alpha=0)\n",
    "        cb.ax.fill_between([-1,1], [-threshold,-threshold], [-1,-1], hatch=hatch, alpha=0)\n",
    "        \n",
    "    return fig,ax"
   ]
  },
  {
   "cell_type": "code",
   "execution_count": 90,
   "id": "3ac94f9c-5bab-4c48-baeb-69276893a936",
   "metadata": {},
   "outputs": [],
   "source": [
    "# plot_regional_lagged_autocorr('sfc_chl', hatch=False, figsize=(14,12));"
   ]
  },
  {
   "cell_type": "code",
   "execution_count": null,
   "id": "e5a44c17-49fd-45d3-a801-8514a69da1b8",
   "metadata": {},
   "outputs": [],
   "source": []
  },
  {
   "cell_type": "code",
   "execution_count": null,
   "id": "e5c250eb-e6c0-4937-a4a9-a28a78618f76",
   "metadata": {},
   "outputs": [],
   "source": []
  }
 ],
 "metadata": {
  "kernelspec": {
   "display_name": "Python 3",
   "language": "python",
   "name": "python3"
  },
  "language_info": {
   "codemirror_mode": {
    "name": "ipython",
    "version": 3
   },
   "file_extension": ".py",
   "mimetype": "text/x-python",
   "name": "python",
   "nbconvert_exporter": "python",
   "pygments_lexer": "ipython3",
   "version": "3.9.4"
  },
  "toc-autonumbering": true
 },
 "nbformat": 4,
 "nbformat_minor": 5
}
