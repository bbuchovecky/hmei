{
 "cells": [
  {
   "cell_type": "raw",
   "id": "53855423-4ca0-47ab-9cc9-d2131e2ae0d9",
   "metadata": {},
   "source": [
    "Project:      HMEI Summer Internship / Spring JP\n",
    "Author:       Benjamin Buchovecky\n",
    "Created:      1/17/2022"
   ]
  },
  {
   "cell_type": "markdown",
   "id": "6ef0bd23-4a82-4205-bc70-75c281ac9d06",
   "metadata": {},
   "source": [
    "# Lagged Correlation Analysis of PI Control"
   ]
  },
  {
   "cell_type": "code",
   "execution_count": 1,
   "id": "4c78c56f-ed41-411f-b23d-c3a2d4406d56",
   "metadata": {},
   "outputs": [],
   "source": [
    "import os\n",
    "import warnings\n",
    "warnings.filterwarnings(\"ignore\", message=\"invalid value encountered in true_divide\")\n",
    "warnings.filterwarnings(\"ignore\",message=\"Unable to decode time axis into full numpy.datetime64 objects, continuing using cftime.datetime objects instead, reason: dates out of range\")\n",
    "warnings.filterwarnings(\"ignore\", message=\"invalid value encountered in reduce\")\n",
    "\n",
    "import xarray as xr\n",
    "import numpy as np\n",
    "import scipy.stats as stats\n",
    "import pickle as pkl\n",
    "\n",
    "import matplotlib.pyplot as plt\n",
    "import matplotlib as mpl\n",
    "\n",
    "import cmocean.cm as cm"
   ]
  },
  {
   "cell_type": "code",
   "execution_count": 2,
   "id": "550ae9e6-e833-47ec-9762-88b75fad96b5",
   "metadata": {},
   "outputs": [],
   "source": [
    "mpl.rcParams['figure.dpi']= 120"
   ]
  },
  {
   "cell_type": "code",
   "execution_count": 3,
   "id": "6f4e6a40-9b99-478b-a62d-8658ddc40e7e",
   "metadata": {
    "tags": []
   },
   "outputs": [],
   "source": [
    "def open_metric(var, reg, metric, timescale='monthly', ens_type=''):\n",
    "    \n",
    "    writedir = '/home/bbuchovecky/storage/so_predict_derived/'\n",
    "    \n",
    "    if metric == 'anom' or metric == 'mean':\n",
    "        subdir = 'CTRL/'+var.upper()+'/'\n",
    "        filename = var.lower()+'_ts_'+reg+'_'+timescale+'_'+metric+'.nc'\n",
    "    \n",
    "    if metric == 'ppp':\n",
    "        subdir = 'PPP/'+var.upper()+'/'\n",
    "        if ens_type != '':\n",
    "            ens_type += '_'\n",
    "        filename = var.lower()+'_ts_'+reg+'_'+timescale+'_'+ens_type+'ppp.nc'\n",
    "        \n",
    "    return xr.open_dataset(writedir+subdir+filename)\n",
    "\n",
    "def get_plotting_labels():\n",
    "    file = open('/home/bbuchovecky/storage/so_predict_derived/plotting_dicts.pkl','rb')\n",
    "    plotting_dicts = pkl.load(file)\n",
    "    file.close()\n",
    "    \n",
    "    reg_names = plotting_dicts['reg_names']\n",
    "    var_su_names = plotting_dicts['var_su_names']\n",
    "    abbrv_month_names = plotting_dicts['abbrv_month_names']\n",
    "    \n",
    "    return reg_names, var_su_names, abbrv_month_names"
   ]
  },
  {
   "cell_type": "markdown",
   "id": "7396f11b-349c-4d73-8169-3320c9def176",
   "metadata": {},
   "source": [
    "# Autocorrelation"
   ]
  },
  {
   "cell_type": "markdown",
   "id": "1bc1be8c-5232-41d4-9ff5-0d3476018bda",
   "metadata": {},
   "source": [
    "## Test case\n",
    "The goal here is to compute the lagged correlations for all initial months with lags of -4 to +4 months for a single variable."
   ]
  },
  {
   "cell_type": "markdown",
   "id": "d5c6573e-e7d2-48d0-8bc7-406cfb2662ec",
   "metadata": {},
   "source": [
    "### Single init month"
   ]
  },
  {
   "cell_type": "code",
   "execution_count": 101,
   "id": "8d79ff65-93f4-40bd-ac81-1dd0aa39dc70",
   "metadata": {
    "tags": []
   },
   "outputs": [
    {
     "name": "stdout",
     "output_type": "stream",
     "text": [
      "a [  0   1   2   3   4   5   6   7   8   9  10  11  12  13  14  15  16  17\n",
      "  18  19  20  21  22  23  24  25  26  27  28  29  30  31  32  33  34  35\n",
      "  36  37  38  39  40  41  42  43  44  45  46  47  48  49  50  51  52  53\n",
      "  54  55  56  57  58  59  60  61  62  63  64  65  66  67  68  69  70  71\n",
      "  72  73  74  75  76  77  78  79  80  81  82  83  84  85  86  87  88  89\n",
      "  90  91  92  93  94  95  96  97  98  99 100 101 102 103 104 105 106 107\n",
      " 108 109 110 111 112 113 114 115 116 117 118 119] \n",
      "\n",
      "lag -2\n",
      "trim 12\n",
      "tmp_a_init [ 12  24  36  48  60  72  84  96 108]\n",
      "tmp_a_lag  [ 10  22  34  46  58  70  82  94 106] \n",
      "\n",
      "lag -1\n",
      "trim 12\n",
      "tmp_a_init [ 12  24  36  48  60  72  84  96 108]\n",
      "tmp_a_lag  [ 11  23  35  47  59  71  83  95 107] \n",
      "\n",
      "lag 0\n",
      "trim 0\n",
      "tmp_a_init [  0  12  24  36  48  60  72  84  96 108]\n",
      "tmp_a_lag  [  0  12  24  36  48  60  72  84  96 108] \n",
      "\n",
      "lag 1\n",
      "trim 12\n",
      "tmp_a_init [  0  12  24  36  48  60  72  84  96 108]\n",
      "tmp_a_lag  [  1  13  25  37  49  61  73  85  97 109] \n",
      "\n",
      "lag 2\n",
      "trim 12\n",
      "tmp_a_init [  0  12  24  36  48  60  72  84  96 108]\n",
      "tmp_a_lag  [  2  14  26  38  50  62  74  86  98 110] \n",
      "\n"
     ]
    }
   ],
   "source": [
    "years = 10\n",
    "N = 12 * years\n",
    "\n",
    "## generate random time series of length N\n",
    "## 0 is Jan, 1 is Feb, ..., 11 is Dec\n",
    "a = np.arange(N)\n",
    "print('a', a, '\\n')\n",
    "\n",
    "## initialization month\n",
    "init = 0\n",
    "\n",
    "## max absolute value lag (in months)\n",
    "lag = 2\n",
    "\n",
    "for (im,m) in enumerate(range(-lag,lag+1)):    \n",
    "#     trim = 12*(abs(m)//12+1)\n",
    "    trim = 12*((abs(m)-1)//12+1)\n",
    "        \n",
    "    if m < 0:\n",
    "        tmp_a_init = a[init+trim:N:12]\n",
    "        tmp_a_lag = a[init+trim+m:N-trim+init:12]\n",
    "\n",
    "    else:\n",
    "        tmp_a_init = a[init:N-m:12]\n",
    "        tmp_a_lag = a[init+m:N:12]\n",
    "     \n",
    "    if tmp_a_init.size != tmp_a_lag.size:\n",
    "        print('### lag', m)\n",
    "        print('### trim', trim)\n",
    "        print('### tmp_a_init ', tmp_a_init.size)\n",
    "        print('### tmp_a_lag ', tmp_a_lag.size)\n",
    "        print('tmp_a_init', tmp_a_init)\n",
    "        print('tmp_a_lag ', tmp_a_lag, '\\n')\n",
    "        \n",
    "    else:\n",
    "        print('lag', m)\n",
    "        print('trim', trim)\n",
    "        print('tmp_a_init', tmp_a_init)\n",
    "        print('tmp_a_lag ', tmp_a_lag, '\\n')"
   ]
  },
  {
   "cell_type": "markdown",
   "id": "c98406a6-3726-48a1-8ecc-5163a3aca704",
   "metadata": {},
   "source": [
    "### All (12) init months"
   ]
  },
  {
   "cell_type": "code",
   "execution_count": 12,
   "id": "726d6e6e-24d4-4c7b-b8ab-8fdd2ebe2d02",
   "metadata": {
    "jupyter": {
     "source_hidden": true
    },
    "tags": []
   },
   "outputs": [],
   "source": [
    "maxlag = 2\n",
    "\n",
    "## generate random time series of length N\n",
    "years = 10\n",
    "N = 12 * years\n",
    "a = np.random.randint(0,100, (N))\n",
    "\n",
    "## rows are different init months, cols are different lags\n",
    "r_matrix = np.zeros((12, 2*maxlag+1))\n",
    "p_matrix = np.zeros((12, 2*maxlag+1))\n",
    "\n",
    "lag_matrix = np.zeros((12, 2*maxlag+1))\n",
    "init_matrix = np.zeros((12, 2*maxlag+1))\n",
    "\n",
    "for (it,init) in enumerate(range(0,12)):\n",
    "    for (ig,lag) in enumerate(range(-maxlag,maxlag+1)):    \n",
    "        trim = 12*((abs(lag)-1)//12+1)\n",
    "        init_matrix[it][ig] = init\n",
    "        lag_matrix[it][ig] = lag\n",
    "\n",
    "        if lag < 0:\n",
    "            tmp_a_init = a[init+trim:N:12]\n",
    "            tmp_a_lagged = a[init+trim+lag:N-trim+init:12]\n",
    "\n",
    "        else:\n",
    "            tmp_a_init = a[init:N-lag:12]\n",
    "            tmp_a_lagged = a[init+lag:N:12]\n",
    "\n",
    "        r_matrix[it][ig], p_matrix[it][ig] = stats.pearsonr(tmp_a_init, tmp_a_lagged)"
   ]
  },
  {
   "cell_type": "markdown",
   "id": "91853657-9cb8-4d1d-8b37-de66cfecfd70",
   "metadata": {},
   "source": [
    "## Create function"
   ]
  },
  {
   "cell_type": "code",
   "execution_count": 11,
   "id": "80c9022d-c56a-4c60-977e-c46090146f7b",
   "metadata": {
    "jupyter": {
     "source_hidden": true
    },
    "tags": []
   },
   "outputs": [],
   "source": [
    "def compute_lagged_autocorr(a, maxlag):\n",
    "    ## convert DataArray to NumPy array\n",
    "    a = a.values\n",
    "    N = a.size\n",
    "    \n",
    "    ## rows are different lags, cols are different init months\n",
    "    r_matrix = np.zeros((2*maxlag+1, 12))\n",
    "    p_matrix = np.zeros((2*maxlag+1, 12))\n",
    "\n",
    "    init_matrix = np.zeros((2*maxlag+1, 12))\n",
    "    lag_matrix = np.zeros((2*maxlag+1, 12))\n",
    "    \n",
    "    for (it,init) in enumerate(range(0,12)):\n",
    "        for (ig,lag) in enumerate(range(-maxlag,maxlag+1)):    \n",
    "            trim = 12*((abs(lag)-1)//12+1)\n",
    "            init_matrix[ig][it] = init\n",
    "            lag_matrix[ig][it] = lag\n",
    "\n",
    "            if lag < 0:\n",
    "                tmp_a_init = a[init+trim:N:12]\n",
    "                tmp_a_lagged = a[init+trim+lag:N-trim+init:12]\n",
    "\n",
    "            else:\n",
    "                tmp_a_init = a[init:N-lag:12]\n",
    "                tmp_a_lagged = a[init+lag:N:12]\n",
    "\n",
    "            r_matrix[ig][it], p_matrix[ig][it] = stats.pearsonr(tmp_a_init, tmp_a_lagged)\n",
    "            \n",
    "    return r_matrix, p_matrix, init_matrix, lag_matrix"
   ]
  },
  {
   "cell_type": "markdown",
   "id": "60f7dc37-e514-4475-ab7f-05ca0b4937c3",
   "metadata": {},
   "source": [
    "## Create figures"
   ]
  },
  {
   "cell_type": "code",
   "execution_count": 45,
   "id": "35d09b9a-0584-46e3-9d91-357016670559",
   "metadata": {
    "jupyter": {
     "source_hidden": true
    },
    "tags": []
   },
   "outputs": [],
   "source": [
    "## compute t-test with 95 degrees of freedom (95% confidence interval) to determine threshold for hatching\n",
    "def plot_single_lagged_autocorr(variable, region, maxlag=24, threshold=0.75, hatch='//', figsize=(6,7)):\n",
    "    \n",
    "    ts = open_metric(variable, 'so', 'anom')[region]\n",
    "    \n",
    "    r, p, inits, lags = compute_lagged_autocorr(ts, maxlag=maxlag)\n",
    "\n",
    "    reg_names, var_su_names, abbrv_month_names = get_plotting_labels()\n",
    "\n",
    "    fig,ax = plt.subplots(figsize=figsize)\n",
    "    im = ax.pcolormesh(r, vmin=-1.0, vmax=1.0, cmap=cm.balance, edgecolor='k', linewidth=0.01)\n",
    "\n",
    "    # for (i, j), z in np.ndenumerate(inits):\n",
    "    #     ax.text(j+0.5, i+0.5, '%3d'%z, ha='center', va='center', fontsize=4)\n",
    "\n",
    "    ax.set_yticks((np.arange(r.shape[0]) + 0.5)[::4])\n",
    "    ax.set_yticklabels(np.arange(-maxlag,maxlag+1)[::4])\n",
    "    ax.set_ylabel('LAG')\n",
    "\n",
    "    ax.set_xticks(np.arange(r.shape[1]) + 0.5)\n",
    "    ax.set_xticklabels(abbrv_month_names)\n",
    "    ax.set_xlabel('INIT MONTH')\n",
    "    \n",
    "    ax.set_title(reg_names[region]+' '+var_su_names[variable]+' autocorrelation')\n",
    "   \n",
    "    cb = fig.colorbar(im, ax=ax, label='Correlation coefficient')\n",
    "\n",
    "    if hatch:\n",
    "        masked = np.ma.masked_array(r, mask=np.where(abs(r) > threshold, 0, 1))\n",
    "        masked_im = ax.pcolor(masked, hatch=hatch, alpha=0)\n",
    "\n",
    "        cb.ax.plot([-1,1], [threshold,threshold], color='k')\n",
    "        cb.ax.plot([-1,1], [-threshold,-threshold], color='k')\n",
    "        cb.ax.fill_between([-1,1], [1,1], [threshold,threshold], hatch=hatch, alpha=0)\n",
    "        cb.ax.fill_between([-1,1], [-threshold,-threshold], [-1,-1], hatch=hatch, alpha=0)"
   ]
  },
  {
   "cell_type": "code",
   "execution_count": 16,
   "id": "54932554-79bf-4ccd-a7fa-e895ecfc62db",
   "metadata": {
    "jupyter": {
     "source_hidden": true
    },
    "tags": []
   },
   "outputs": [],
   "source": [
    "var = 'sie'\n",
    "plot_lagged_autocorr(var, 'SouthernOcean', hatch=False)"
   ]
  },
  {
   "cell_type": "code",
   "execution_count": 78,
   "id": "0c612bea-1c38-42b5-8f6f-822616a071a5",
   "metadata": {
    "jupyter": {
     "source_hidden": true
    },
    "tags": []
   },
   "outputs": [],
   "source": [
    "def plot_regional_lagged_autocorr(variable, maxlag=24, threshold=0.75, hatch='//', figsize=(8,7)):\n",
    "    reg_names, var_su_names, abbrv_month_names = get_plotting_labels()\n",
    "    region_list = ['Weddell', 'Indian', 'WestPacific', 'SouthernOcean', 'Ross', 'AmundBell']\n",
    "    \n",
    "    fig,ax = plt.subplots(2, 3, figsize=figsize)\n",
    "    \n",
    "    for (ireg,reg) in enumerate(region_list):  \n",
    "        ts = open_metric(variable, 'so', 'anom')[reg]\n",
    "        r, p, inits, lags = compute_lagged_autocorr(ts, maxlag=maxlag)\n",
    "        \n",
    "        im = ax[int(ireg/3),ireg%3].pcolormesh(r, vmin=-1.0, vmax=1.0, cmap=cm.balance, edgecolor='k', linewidth=0.01)\n",
    "        \n",
    "        if hatch:\n",
    "            masked = np.ma.masked_array(r, mask=np.where(abs(r) > threshold, 0, 1))\n",
    "            masked_im = ax[int(ireg/3),ireg%3].pcolor(masked, hatch=hatch, alpha=0)\n",
    "        \n",
    "        ax[int(ireg/3),ireg%3].set_yticks((np.arange(r.shape[0]) + 0.5)[::4])\n",
    "        ax[int(ireg/3),ireg%3].set_yticklabels(np.arange(-24,25)[::4])\n",
    "        ax[int(ireg/3),ireg%3].set_xticks(np.arange(r.shape[1]) + 0.5)\n",
    "        ax[int(ireg/3),ireg%3].set_xticklabels(abbrv_month_names, rotation=45, ha=\"right\", rotation_mode=\"anchor\")\n",
    "        ax[int(ireg/3),ireg%3].set_title(reg_names[reg], fontweight='bold', fontsize='large')\n",
    "        \n",
    "        if ireg%3 == 0:\n",
    "            ax[int(ireg/3),ireg%3].set_ylabel('LAG')\n",
    "        if ireg//3 == 1:\n",
    "            ax[int(ireg/3),ireg%3].set_xlabel('INIT MONTH')\n",
    "    \n",
    "    fig.suptitle(var_su_names[variable], x=0, fontweight='bold', fontsize='x-large')\n",
    "    fig.tight_layout()\n",
    "    \n",
    "    cb = fig.colorbar(im, ax=ax.ravel().tolist(), label='correlation coefficient')\n",
    "    \n",
    "    if hatch:\n",
    "        cb.ax.plot([-1,1], [threshold,threshold], color='k')\n",
    "        cb.ax.plot([-1,1], [-threshold,-threshold], color='k')\n",
    "        cb.ax.fill_between([-1,1], [1,1], [threshold,threshold], hatch=hatch, alpha=0)\n",
    "        cb.ax.fill_between([-1,1], [-threshold,-threshold], [-1,-1], hatch=hatch, alpha=0)\n",
    "        \n",
    "    return fig,ax"
   ]
  },
  {
   "cell_type": "code",
   "execution_count": 90,
   "id": "3ac94f9c-5bab-4c48-baeb-69276893a936",
   "metadata": {
    "jupyter": {
     "source_hidden": true
    },
    "tags": []
   },
   "outputs": [],
   "source": [
    "var = 'sie'\n",
    "plot_regional_lagged_autocorr(var, hatch=False, figsize=(14,12));"
   ]
  },
  {
   "cell_type": "markdown",
   "id": "5f03eecd-fb5d-4a39-8882-73cd3fbb5c0e",
   "metadata": {},
   "source": [
    "# Cross-correlation"
   ]
  },
  {
   "cell_type": "markdown",
   "id": "00450ce3-0222-4dcb-9c98-cc13cf439fbf",
   "metadata": {},
   "source": [
    "## Test case"
   ]
  },
  {
   "cell_type": "markdown",
   "id": "5e182980-7e0d-412a-896f-decc1268ae1c",
   "metadata": {},
   "source": [
    "### Single init month"
   ]
  },
  {
   "cell_type": "code",
   "execution_count": 115,
   "id": "72fce778-05ae-4318-8a26-c39cdd17d3d6",
   "metadata": {
    "collapsed": true,
    "jupyter": {
     "outputs_hidden": true,
     "source_hidden": true
    },
    "tags": []
   },
   "outputs": [
    {
     "name": "stdout",
     "output_type": "stream",
     "text": [
      "predictand (a) [  0   1   2   3   4   5   6   7   8   9  10  11  12  13  14  15  16  17\n",
      "  18  19  20  21  22  23  24  25  26  27  28  29  30  31  32  33  34  35\n",
      "  36  37  38  39  40  41  42  43  44  45  46  47  48  49  50  51  52  53\n",
      "  54  55  56  57  58  59  60  61  62  63  64  65  66  67  68  69  70  71\n",
      "  72  73  74  75  76  77  78  79  80  81  82  83  84  85  86  87  88  89\n",
      "  90  91  92  93  94  95  96  97  98  99 100 101 102 103 104 105 106 107\n",
      " 108 109 110 111 112 113 114 115 116 117 118 119] \n",
      "\n",
      "predictor  (b) [0.   0.01 0.02 0.03 0.04 0.05 0.06 0.07 0.08 0.09 0.1  0.11 0.12 0.13\n",
      " 0.14 0.15 0.16 0.17 0.18 0.19 0.2  0.21 0.22 0.23 0.24 0.25 0.26 0.27\n",
      " 0.28 0.29 0.3  0.31 0.32 0.33 0.34 0.35 0.36 0.37 0.38 0.39 0.4  0.41\n",
      " 0.42 0.43 0.44 0.45 0.46 0.47 0.48 0.49 0.5  0.51 0.52 0.53 0.54 0.55\n",
      " 0.56 0.57 0.58 0.59 0.6  0.61 0.62 0.63 0.64 0.65 0.66 0.67 0.68 0.69\n",
      " 0.7  0.71 0.72 0.73 0.74 0.75 0.76 0.77 0.78 0.79 0.8  0.81 0.82 0.83\n",
      " 0.84 0.85 0.86 0.87 0.88 0.89 0.9  0.91 0.92 0.93 0.94 0.95 0.96 0.97\n",
      " 0.98 0.99 1.   1.01 1.02 1.03 1.04 1.05 1.06 1.07 1.08 1.09 1.1  1.11\n",
      " 1.12 1.13 1.14 1.15 1.16 1.17 1.18 1.19] \n",
      "\n",
      "lag -2\n",
      "trim 12\n",
      "tmp_predictand (a) [ 17  29  41  53  65  77  89 101 113]\n",
      "tmp_predictor  (b) [0.15 0.27 0.39 0.51 0.63 0.75 0.87 0.99 1.11] \n",
      "\n",
      "lag -1\n",
      "trim 12\n",
      "tmp_predictand (a) [ 17  29  41  53  65  77  89 101 113]\n",
      "tmp_predictor  (b) [0.16 0.28 0.4  0.52 0.64 0.76 0.88 1.   1.12] \n",
      "\n",
      "lag 0\n",
      "trim 0\n",
      "tmp_predictand (a) [  5  17  29  41  53  65  77  89 101 113]\n",
      "tmp_predictor  (b) [0.05 0.17 0.29 0.41 0.53 0.65 0.77 0.89 1.01 1.13] \n",
      "\n"
     ]
    }
   ],
   "source": [
    "years = 10\n",
    "N = 12 * years\n",
    "\n",
    "## generate random time series of length N\n",
    "## 0 is Jan, 1 is Feb, ..., 11 is Dec\n",
    "a = np.arange(N)\n",
    "b = np.arange(N)/100\n",
    "print('predictand (a)', a, '\\n')\n",
    "print('predictor  (b)', b, '\\n')\n",
    "\n",
    "## initialization month\n",
    "init = 5\n",
    "\n",
    "## max absolute value lag (in months)\n",
    "lag = -2\n",
    "\n",
    "lag_values = np.arange(lag, 1)\n",
    "for (im,m) in enumerate(lag_values):    \n",
    "    trim = 12*((abs(m)-1)//12+1)\n",
    "        \n",
    "    if m == 0:\n",
    "        tmp_predictand = a[init:N:12]\n",
    "        tmp_predictor = b[init:N:12]\n",
    "        \n",
    "    else:\n",
    "        tmp_predictand = a[init+trim:N:12]\n",
    "        tmp_predictor = b[init+trim+m:N-trim+init:12]\n",
    "     \n",
    "#     if tmp_a_init.size != tmp_a_lag.size:\n",
    "#         print('### lag', m)\n",
    "#         print('### trim', trim)\n",
    "#         print('### tmp_predictand (a)', tmp_predictand.size)\n",
    "#         print('### tmp_predictor  (b)', tmp_predictor.size)\n",
    "#         print('tmp_predictand (a)', tmp_predictand)\n",
    "#         print('tmp_predictor  (b)', tmp_predictor, '\\n')\n",
    "        \n",
    "#     else:\n",
    "    print('lag', m)\n",
    "    print('trim', trim)\n",
    "    print('tmp_predictand (a)', tmp_predictand)\n",
    "    print('tmp_predictor  (b)', tmp_predictor, '\\n')"
   ]
  },
  {
   "cell_type": "markdown",
   "id": "0a0310da-3cee-4716-afb9-7ca82cfbdfb0",
   "metadata": {},
   "source": [
    "### All (12) init months"
   ]
  },
  {
   "cell_type": "code",
   "execution_count": 30,
   "id": "b7af09a2-6cf1-46ba-aa41-1d4d4dcb72a6",
   "metadata": {
    "jupyter": {
     "source_hidden": true
    },
    "tags": []
   },
   "outputs": [],
   "source": [
    "maxlag = 2\n",
    "\n",
    "## generate random time series of length N\n",
    "years = 10\n",
    "N = 12 * years\n",
    "predictor = np.random.randint(0,100, (N))\n",
    "predictand = np.random.randint(0,100, (N))\n",
    "\n",
    "## rows are different lags, cols are different init months\n",
    "r_matrix = np.zeros((maxlag+1, 12))\n",
    "p_matrix = np.zeros((maxlag+1, 12))\n",
    "\n",
    "lag_matrix = np.zeros((maxlag+1, 12))\n",
    "init_matrix = np.zeros((maxlag+1, 12))\n",
    "\n",
    "for (it,init) in enumerate(range(0,12)):\n",
    "    for (ig,lag) in enumerate(range(maxlag+1)):    \n",
    "        trim = 12*((abs(lag)-1)//12+1)\n",
    "        init_matrix[ig][it] = init\n",
    "        lag_matrix[ig][it] = lag\n",
    "\n",
    "        tmp_predictand = predictand[init+trim:N:12]\n",
    "        tmp_predictor = predictor[init+trim-lag:N-trim+init:12]\n",
    "        \n",
    "        r_matrix[ig][it], p_matrix[ig][it] = stats.pearsonr(tmp_predictand, tmp_predictor)"
   ]
  },
  {
   "cell_type": "markdown",
   "id": "7e6dea0a-48d1-4328-b525-d4a906df904d",
   "metadata": {},
   "source": [
    "## Create function"
   ]
  },
  {
   "cell_type": "code",
   "execution_count": 108,
   "id": "e5c250eb-e6c0-4937-a4a9-a28a78618f76",
   "metadata": {},
   "outputs": [],
   "source": [
    "## predictor --> the field doing the predicting (e.g., SIE or SFC_IRR)\n",
    "## predictand --> the field being predicted (e.g., NPP)\n",
    "def compute_lagged_xcorr(predictor, predictand, maxlag):\n",
    "    ## convert DataArray to NumPy array\n",
    "    predictor = predictor.values\n",
    "    predictand = predictand.values\n",
    "    \n",
    "    assert predictor.size == predictand.size, 'predictor and predictand have different lengths'\n",
    "    N = predictor.size\n",
    "    \n",
    "    ## rows are different init months, cols are different lags\n",
    "    r_matrix = np.zeros((abs(maxlag)+1, 12))\n",
    "    p_matrix = np.zeros((abs(maxlag)+1, 12))\n",
    "\n",
    "    init_matrix = np.zeros((abs(maxlag)+1, 12))\n",
    "    lag_matrix = np.zeros((abs(maxlag)+1, 12))\n",
    "    \n",
    "    lag_values = np.arange(maxlag, 1)\n",
    "    for (it,init) in enumerate(range(0,12)):\n",
    "        for (ig,lag) in enumerate(lag_values):   \n",
    "            trim = 12*((abs(lag)-1)//12+1)\n",
    "            init_matrix[ig][it] = init\n",
    "            lag_matrix[ig][it] = lag\n",
    "            \n",
    "            if lag == 0:\n",
    "                tmp_predictand = predictand[init:N:12]\n",
    "                tmp_predictor = predictor[init:N:12]\n",
    "                \n",
    "            else:\n",
    "                tmp_predictand = predictand[init+trim:N:12]\n",
    "                tmp_predictor = predictor[init+trim+lag:N-trim+init:12]\n",
    "            \n",
    "            r_matrix[ig][it], p_matrix[ig][it] = stats.pearsonr(tmp_predictand, tmp_predictor)\n",
    "            \n",
    "    return r_matrix, p_matrix, init_matrix, lag_matrix"
   ]
  },
  {
   "cell_type": "markdown",
   "id": "a180ab36-a1c9-45ed-becf-acceb061bd7c",
   "metadata": {},
   "source": [
    "## Create figures"
   ]
  },
  {
   "cell_type": "code",
   "execution_count": 109,
   "id": "29e7cb4c-aa9d-45d2-a27d-54c2e3d828d5",
   "metadata": {},
   "outputs": [],
   "source": [
    "## compute t-test with 95 degrees of freedom (95% confidence interval) to determine threshold for hatching\n",
    "def plot_single_lagged_xcorr(predictor, predictand, region, maxlag=-24, threshold=0.75, hatch='//', figsize=(6,7)):\n",
    "    \n",
    "    ts_predictor = open_metric(predictor, 'so', 'anom')[region]\n",
    "    ts_predictand = open_metric(predictand, 'so', 'anom')[region]\n",
    "    \n",
    "    r, p, inits, lags = compute_lagged_xcorr(ts_predictor, ts_predictand, maxlag=maxlag)\n",
    "\n",
    "    reg_names, var_su_names, abbrv_month_names = get_plotting_labels()\n",
    "\n",
    "    fig,ax = plt.subplots(figsize=figsize)\n",
    "    im = ax.pcolormesh(r, vmin=-1.0, vmax=1.0, cmap=cm.balance, edgecolor='k', linewidth=0.01)\n",
    "\n",
    "    # for (i, j), z in np.ndenumerate(inits):\n",
    "    #     ax.text(j+0.5, i+0.5, '%3d'%z, ha='center', va='center', fontsize=4)\n",
    "\n",
    "    ax.set_yticks((np.arange(r.shape[0]) + 0.5))\n",
    "    ax.set_yticklabels(np.arange(abs(maxlag)+1))\n",
    "    ax.set_ylabel('LEAD')\n",
    "\n",
    "    ax.set_xticks(np.arange(r.shape[1]) + 0.5)\n",
    "    ax.set_xticklabels(abbrv_month_names)\n",
    "    ax.set_xlabel('INIT MONTH')\n",
    "    \n",
    "    ax.set_title(reg_names[region]+' - '+var_su_names[predictor]+' predicting '+var_su_names[predictand])\n",
    "   \n",
    "    cb = fig.colorbar(im, ax=ax, label='correlation coefficient')\n",
    "\n",
    "    if hatch:\n",
    "        masked = np.ma.masked_array(r, mask=np.where(abs(r) > threshold, 0, 1))\n",
    "        masked_im = ax.pcolor(masked, hatch=hatch, alpha=0)\n",
    "\n",
    "        cb.ax.plot([-1,1], [threshold,threshold], color='k')\n",
    "        cb.ax.plot([-1,1], [-threshold,-threshold], color='k')\n",
    "        cb.ax.fill_between([-1,1], [1,1], [threshold,threshold], hatch=hatch, alpha=0)\n",
    "        cb.ax.fill_between([-1,1], [-threshold,-threshold], [-1,-1], hatch=hatch, alpha=0)"
   ]
  },
  {
   "cell_type": "code",
   "execution_count": 117,
   "id": "cc5c13b9-9dab-4527-ab3a-b866e9ec6364",
   "metadata": {},
   "outputs": [
    {
     "data": {
      "image/png": "[encoded data removed]",
      "text/plain": [
       "<Figure size 720x840 with 2 Axes>"
      ]
     },
     "metadata": {
      "needs_background": "light"
     },
     "output_type": "display_data"
    }
   ],
   "source": [
    "plot_single_lagged_xcorr('sfc_biomass', 'npp', 'SouthernOcean', hatch=False)"
   ]
  },
  {
   "cell_type": "code",
   "execution_count": null,
   "id": "ac149180-7fd6-49c3-b308-1ce561f0009e",
   "metadata": {},
   "outputs": [],
   "source": []
  },
  {
   "cell_type": "code",
   "execution_count": null,
   "id": "ca39db45-dd1a-46f5-8f70-d94dd0bbd8e0",
   "metadata": {},
   "outputs": [],
   "source": []
  }
 ],
 "metadata": {
  "kernelspec": {
   "display_name": "Python 3",
   "language": "python",
   "name": "python3"
  },
  "language_info": {
   "codemirror_mode": {
    "name": "ipython",
    "version": 3
   },
   "file_extension": ".py",
   "mimetype": "text/x-python",
   "name": "python",
   "nbconvert_exporter": "python",
   "pygments_lexer": "ipython3",
   "version": "3.9.4"
  },
  "toc-autonumbering": true
 },
 "nbformat": 4,
 "nbformat_minor": 5
}
