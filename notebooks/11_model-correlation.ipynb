{
 "cells": [
  {
   "cell_type": "raw",
   "id": "53855423-4ca0-47ab-9cc9-d2131e2ae0d9",
   "metadata": {},
   "source": [
    "Project:      HMEI Summer Internship / Spring JP\n",
    "Author:       Benjamin Buchovecky\n",
    "Created:      1/17/2022"
   ]
  },
  {
   "cell_type": "markdown",
   "id": "6ef0bd23-4a82-4205-bc70-75c281ac9d06",
   "metadata": {},
   "source": [
    "# Lagged Correlation Analysis of Model"
   ]
  },
  {
   "cell_type": "code",
   "execution_count": 1,
   "id": "4c78c56f-ed41-411f-b23d-c3a2d4406d56",
   "metadata": {},
   "outputs": [],
   "source": [
    "import os\n",
    "import warnings\n",
    "warnings.filterwarnings(\"ignore\", message=\"invalid value encountered in true_divide\")\n",
    "warnings.filterwarnings(\"ignore\",message=\"Unable to decode time axis into full numpy.datetime64 objects, continuing using cftime.datetime objects instead, reason: dates out of range\")\n",
    "warnings.filterwarnings(\"ignore\", message=\"invalid value encountered in reduce\")\n",
    "\n",
    "import xarray as xr\n",
    "import numpy as np\n",
    "import scipy.stats as stats\n",
    "import pickle as pkl\n",
    "\n",
    "import matplotlib.pyplot as plt\n",
    "import matplotlib.gridspec as gridspec\n",
    "import matplotlib as mpl\n",
    "\n",
    "import cmocean.cm as cm"
   ]
  },
  {
   "cell_type": "code",
   "execution_count": 19,
   "id": "550ae9e6-e833-47ec-9762-88b75fad96b5",
   "metadata": {},
   "outputs": [],
   "source": [
    "mpl.rcParams['figure.dpi']= 200"
   ]
  },
  {
   "cell_type": "code",
   "execution_count": 89,
   "id": "6f4e6a40-9b99-478b-a62d-8658ddc40e7e",
   "metadata": {
    "jupyter": {
     "source_hidden": true
    },
    "tags": []
   },
   "outputs": [],
   "source": [
    "def open_metric(var, reg, metric, timescale='monthly', ens_type=''):\n",
    "    \n",
    "    writedir = '/home/bbuchovecky/storage/so_predict_derived/'\n",
    "    \n",
    "    if metric == 'anom' or metric == 'mean':\n",
    "        subdir = 'CTRL/'+var.upper()+'/'\n",
    "        filename = var.lower()+'_ts_'+reg+'_'+timescale+'_'+metric+'.nc'\n",
    "    \n",
    "    if metric == 'ppp':\n",
    "        subdir = 'PPP/'+var.upper()+'/'\n",
    "        if ens_type != '':\n",
    "            ens_type += '_'\n",
    "        filename = var.lower()+'_ts_'+reg+'_'+timescale+'_'+ens_type+'ppp.nc'\n",
    "        \n",
    "    return xr.open_dataset(writedir+subdir+filename)\n",
    "\n",
    "def get_plotting_labels():\n",
    "    file = open('/home/bbuchovecky/storage/so_predict_derived/plotting_dicts.pkl','rb')\n",
    "    plotting_dicts = pkl.load(file)\n",
    "    file.close()\n",
    "    \n",
    "    reg_names = plotting_dicts['reg_names']\n",
    "    var_su_names = plotting_dicts['var_su_names']\n",
    "    abbrv_month_names = plotting_dicts['abbrv_month_names']\n",
    "    \n",
    "    return reg_names, var_su_names, abbrv_month_names"
   ]
  },
  {
   "cell_type": "code",
   "execution_count": 4,
   "id": "15006080-1176-40a1-a95c-5586cbce347e",
   "metadata": {
    "jupyter": {
     "source_hidden": true
    },
    "tags": []
   },
   "outputs": [],
   "source": [
    "## adapted from esmtools.stats.corr and xskillscore.pearson_r\n",
    "## --> https://esmtools.readthedocs.io/en/stable/index.html\n",
    "## --> https://xskillscore.readthedocs.io/en/stable/index.html\n",
    "\n",
    "## predictand = a\n",
    "## predictor = b\n",
    "\n",
    "def compute_lagged_corr_monthly(a, b, maxlead, lead_and_lag=False):\n",
    "    \n",
    "    ## helper function to compute lagged correlation\n",
    "    def _lagged_corr(a, b, lead):\n",
    "        a = a.values\n",
    "        b = b.values\n",
    "        \n",
    "        ## get length of time series\n",
    "        assert a.size == b.size, 'time series have different lengths'\n",
    "        N = a.size\n",
    "        \n",
    "        normal = b[0 : N - lead]\n",
    "        shifted = a[0 + lead : N]\n",
    "        \n",
    "        return stats.pearsonr(normal, shifted)\n",
    "    \n",
    "    if maxlead == 0:\n",
    "        leadvalue = 0\n",
    "        r, p = _lagged_corr(a, b, 0)\n",
    "    \n",
    "    else:\n",
    "        if lead_and_lag:\n",
    "            leadvalue = np.asarray(range(-maxlead, maxlead+1))\n",
    "            r = np.zeros(2*maxlead+1)\n",
    "            pvalue = np.zeros(2*maxlead+1)\n",
    "        if not lead_and_lag:\n",
    "            leadvalue = np.asarray(range(maxlead+1))\n",
    "            r = np.zeros(maxlead+1)\n",
    "            pvalue = np.zeros(maxlead+1)\n",
    "    \n",
    "        for (i, lead) in enumerate(leadvalue):\n",
    "            if lead < 0:\n",
    "                r[i], pvalue[i] = _lagged_corr(b, a, abs(lead))\n",
    "            else:\n",
    "                r[i], pvalue[i] = _lagged_corr(a, b, lead)\n",
    "\n",
    "    return r, pvalue, leadvalue"
   ]
  },
  {
   "cell_type": "code",
   "execution_count": 9,
   "id": "133df15e-65f7-42a0-8087-30086429448b",
   "metadata": {
    "jupyter": {
     "source_hidden": true
    },
    "tags": []
   },
   "outputs": [],
   "source": [
    "def lagged_single_corr_heatmap(predictand_name, predictor_name, reg, threshold=0.75, hatch='//', cmap=cm.balance, figsize=(12,8)):  \n",
    "    \n",
    "    predictand = open_metric(predictand_name, 'so', 'anom')\n",
    "    predictor = open_metric(predictor_name, 'so', 'anom')\n",
    "    \n",
    "    file = open('/home/bbuchovecky/storage/so_predict_derived/plotting_dicts.pkl','rb')\n",
    "    plotting_dicts = pkl.load(file)\n",
    "    file.close()\n",
    "    reg_names = plotting_dicts['reg_names']\n",
    "    var_su_names = plotting_dicts['var_su_names']\n",
    "    var_lu_names = plotting_dicts['var_lu_names']\n",
    "    var_ll_names = plotting_dicts['var_ll_names']\n",
    "    abbrv_month_names = plotting_dicts['abbrv_month_names']\n",
    "    \n",
    "    if reg.lower() != 'all':\n",
    "        predictand = predictand[reg]\n",
    "        predictor = predictor[reg]\n",
    "        \n",
    "        maxlead = 119\n",
    "        r, pvalue, leads = compute_lagged_corr_monthly(predictand, predictor, maxlead=maxlead)\n",
    "\n",
    "        r_matrix = np.zeros((10,12))\n",
    "        p_matrix = np.zeros((10,12))\n",
    "        for m in range(r.size):\n",
    "            r_matrix[int(m/12), m%12] = r[m]\n",
    "            p_matrix[int(m/12), m%12] = pvalue[m]\n",
    "\n",
    "        r_matrix = r_matrix.T\n",
    "        p_matrix = p_matrix.T\n",
    "\n",
    "        fig,ax = plt.subplots(figsize=figsize)\n",
    "        im = ax.pcolormesh(r_matrix, vmin=-1.0, vmax=1.0, cmap=cmap, shading='auto')\n",
    "\n",
    "        ax.set_title(reg_names[reg])\n",
    "        fig.suptitle(var_su_names[predictor_name]+' as a predictor of (leading) '+var_su_names[predictand_name], fontweight='bold')\n",
    "\n",
    "        ax.set_yticks(np.arange(r_matrix.shape[0]) + 0.5)\n",
    "        ax.set_yticklabels(abbrv_month_names)\n",
    "\n",
    "        ax.set_xticks(np.arange(r_matrix.shape[1]) + 0.5)\n",
    "        ax.set_xticklabels(np.arange(1,11))\n",
    "        ax.set_xlabel('Year')\n",
    "\n",
    "        cb = fig.colorbar(im, label='Correlation coefficient', ax=ax)\n",
    "\n",
    "        if hatch:\n",
    "            masked = np.ma.masked_array(r_matrix, mask=np.where(abs(r_matrix) > threshold, 0, 1))\n",
    "            masked_im = ax.pcolor(masked, hatch=hatch, alpha=0)\n",
    "\n",
    "            cb.ax.plot([-1,1], [threshold,threshold], color='k')\n",
    "            cb.ax.plot([-1,1], [-threshold,-threshold], color='k')\n",
    "            cb.ax.fill_between([-1,1], [1,1], [threshold,threshold], hatch=hatch, alpha=0)\n",
    "            cb.ax.fill_between([-1,1], [-threshold,-threshold], [-1,-1], hatch=hatch, alpha=0)\n",
    "\n",
    "        fig.tight_layout()\n",
    "\n",
    "        return fig, ax\n",
    "    \n",
    "    elif reg.lower() == 'all':\n",
    "        fig,ax = plt.subplots(2, 3, sharex=True, sharey=True, figsize=figsize)\n",
    "        regions = ['Weddell', 'Indian', 'WestPacific', 'SouthernOcean', 'Ross', 'AmundBell']\n",
    "\n",
    "        for (ireg,reg) in enumerate(regions):\n",
    "            tmp_predictand = predictand[reg]\n",
    "            tmp_predictor = predictor[reg]\n",
    "            \n",
    "            maxlead = 119\n",
    "            r, pvalue, leads = compute_lagged_corr_monthly(tmp_predictand, tmp_predictor, maxlead=maxlead)\n",
    "            r_matrix = np.zeros((10,12))\n",
    "            p_matrix = np.zeros((10,12))\n",
    "            lead_matrix = np.zeros((10,12))\n",
    "        \n",
    "            for m in range(r.size):\n",
    "                r_matrix[int(m/12),m%12] = r[m]\n",
    "                p_matrix[int(m/12),m%12] = pvalue[m]\n",
    "                lead_matrix[int(m/12),m%12] = leads[m]\n",
    "\n",
    "            r_matrix = r_matrix.T\n",
    "            p_matrix = p_matrix.T\n",
    "            lead_matrix = lead_matrix.T\n",
    "\n",
    "            im = ax[int(ireg/3),ireg%3].pcolormesh(r_matrix, vmin=-1.0, vmax=1.0, cmap=cmap, shading='auto')\n",
    "            \n",
    "            ## print lead values on plot\n",
    "            if int(ireg/3) == 0 and ireg%3 == 0:\n",
    "                for (i, j), z in np.ndenumerate(lead_matrix):\n",
    "                    ax[int(ireg/3),ireg%3].text(j+0.5, i+0.5, '%3d'%z, ha='center', va='center', fontsize=4)\n",
    "\n",
    "            ax[int(ireg/3),ireg%3].set_title(reg_names[reg], fontweight='bold')\n",
    "\n",
    "            ax[int(ireg/3),ireg%3].set_yticks(np.arange(r_matrix.shape[0]) + 0.5)\n",
    "            ax[int(ireg/3),ireg%3].set_yticklabels(abbrv_month_names)\n",
    "\n",
    "            ax[int(ireg/3),ireg%3].set_xticks(np.arange(r_matrix.shape[1]) + 0.5)\n",
    "            ax[int(ireg/3),ireg%3].set_xticklabels(np.arange(1,11,1))\n",
    "            ax[int(ireg/3),ireg%3].set_aspect('auto')\n",
    "\n",
    "            if int(ireg/3) == 1:\n",
    "                ax[int(ireg/3),ireg%3].set_xlabel('Year')\n",
    "\n",
    "            if hatch:\n",
    "                masked = np.ma.masked_array(r_matrix, mask=np.where(abs(r_matrix) > threshold, 0, 1))\n",
    "                masked_im = ax.pcolor(masked, hatch=hatch, alpha=0)\n",
    "\n",
    "        fig.suptitle(var_su_names[predictor_name]+' as a predictor of (leading) '+var_su_names[predictand_name], fontsize=14)\n",
    "        fig.tight_layout()\n",
    "\n",
    "        cb = fig.colorbar(im, ax=ax.ravel().tolist(), label='Correlation coefficient')\n",
    "        if hatch:\n",
    "            cb.ax.plot([-1,1], [threshold,threshold], color='k')\n",
    "            cb.ax.plot([-1,1], [-threshold,-threshold], color='k')\n",
    "            cb.ax.fill_between([-1,1], [1,1], [threshold,threshold], hatch=hatch, alpha=0)\n",
    "            cb.ax.fill_between([-1,1], [-threshold,-threshold], [-1,-1], hatch=hatch, alpha=0)\n",
    "        \n",
    "        return fig,ax"
   ]
  },
  {
   "cell_type": "code",
   "execution_count": 18,
   "id": "3d63aa66-58a6-45e9-9a99-ae835b00815f",
   "metadata": {
    "jupyter": {
     "source_hidden": true
    },
    "tags": []
   },
   "outputs": [],
   "source": [
    "# lagged_single_corr_heatmap('npp', 'sie', 'all', hatch=None);"
   ]
  },
  {
   "cell_type": "code",
   "execution_count": 15,
   "id": "3a874a45-a4c8-46f3-bd58-b64103e8b825",
   "metadata": {
    "jupyter": {
     "source_hidden": true
    },
    "tags": []
   },
   "outputs": [],
   "source": [
    "def lagged_multiple_corr_heatmap(constant_variable, other_variables, maxlead, threshold=0.75, hatch='//', grid=False, yaxis_steps=2, cmap=cm.balance, figsize=(9,7)):\n",
    "    constant = open_metric(constant_variable, 'so', 'anom')\n",
    "    \n",
    "    file = open('/home/bbuchovecky/storage/so_predict_derived/plotting_dicts.pkl','rb')\n",
    "    plotting_dicts = pkl.load(file)\n",
    "    file.close()\n",
    "    \n",
    "    reg_names = plotting_dicts['reg_names']\n",
    "    var_su_names = plotting_dicts['var_su_names']\n",
    "    var_lu_names = plotting_dicts['var_lu_names']\n",
    "    var_ll_names = plotting_dicts['var_ll_names']\n",
    "    abbrv_month_names = plotting_dicts['abbrv_month_names']\n",
    "    \n",
    "    regions = ['Weddell', 'Indian', 'WestPacific', 'SouthernOcean', 'Ross', 'AmundBell']\n",
    "    variable_names = []\n",
    "    \n",
    "    fig,ax = plt.subplots(2, 3, sharex=True, sharey=True, figsize=figsize)\n",
    "    \n",
    "    for (ireg,reg) in enumerate(regions):\n",
    "        tmp_constant = constant[reg]\n",
    "        r_matrix = np.zeros((len(other_variables), 2*maxlead+1))\n",
    "        p_matrix = np.zeros((len(other_variables), 2*maxlead+1))\n",
    "        lead_matrix = np.zeros((len(other_variables), 2*maxlead+1))\n",
    "        \n",
    "        for (ivar,var) in enumerate(other_variables):\n",
    "            if ireg == 0: variable_names.append(var_su_names[var])\n",
    "            tmp_other = open_metric(var, 'so', 'anom')[reg]\n",
    "            r, pvalue, leads = compute_lagged_corr_monthly(tmp_constant, tmp_other, maxlead, True)\n",
    "            \n",
    "            r_matrix[ivar] = r\n",
    "            p_matrix[ivar] = pvalue\n",
    "            lead_matrix[ivar] = leads\n",
    "            \n",
    "        r_matrix = r_matrix.T\n",
    "        p_matrix = p_matrix.T\n",
    "        lead_matrix = lead_matrix.T\n",
    "        \n",
    "        if grid:\n",
    "            im = ax[int(ireg/3),ireg%3].pcolormesh(r_matrix, vmin=-1.0, vmax=1.0, cmap=cmap, shading='auto', edgecolor='dimgray', linewidth=0.01)\n",
    "        elif not grid:\n",
    "            im = ax[int(ireg/3),ireg%3].pcolormesh(r_matrix, vmin=-1.0, vmax=1.0, cmap=cmap, shading='auto')\n",
    "        \n",
    "        ax[int(ireg/3),ireg%3].set_xticks(np.arange(r_matrix.shape[1]) + 0.5)\n",
    "        ax[int(ireg/3),ireg%3].set_xticklabels(variable_names)\n",
    "        plt.setp(ax[int(ireg/3),ireg%3].get_xticklabels(), rotation=45, ha=\"right\", rotation_mode=\"anchor\")\n",
    "        \n",
    "        ax[int(ireg/3),ireg%3].set_yticks(np.arange(0, 2*maxlead+1, yaxis_steps) + 0.5)\n",
    "        ax[int(ireg/3),ireg%3].set_yticklabels(['%3d' % m for m in lead_matrix.T[0]][0:2*maxlead+1:yaxis_steps])\n",
    "        if ireg%3 == 0:\n",
    "            ax[int(ireg/3),ireg%3].set_ylabel('Lead (months)')\n",
    "\n",
    "        ax[int(ireg/3),ireg%3].set_title(reg_names[reg], fontsize='x-large', fontweight='bold')\n",
    "    \n",
    "        if hatch:\n",
    "            masked = np.ma.masked_array(r_matrix, mask=np.where(abs(r_matrix) > threshold, 0, 1))\n",
    "            masked_im = ax[int(ireg/3),ireg%3].pcolor(masked, hatch=hatch, alpha=0)\n",
    "\n",
    "    fig.suptitle('correlation to '+var_su_names[constant_variable], ha='right')\n",
    "    fig.tight_layout()\n",
    "    \n",
    "    cb = fig.colorbar(im, ax=ax.ravel().tolist(), label='correlation coefficient')"
   ]
  },
  {
   "cell_type": "markdown",
   "id": "7396f11b-349c-4d73-8169-3320c9def176",
   "metadata": {},
   "source": [
    "# Autocorrelation"
   ]
  },
  {
   "cell_type": "markdown",
   "id": "1bc1be8c-5232-41d4-9ff5-0d3476018bda",
   "metadata": {},
   "source": [
    "## Example\n",
    "The goal here is to compute the lagged correlations for all initial months with lags of -4 to +4 months for a single variable."
   ]
  },
  {
   "cell_type": "code",
   "execution_count": 17,
   "id": "b5c9538c-f526-45b5-aaa6-ea07571358ae",
   "metadata": {},
   "outputs": [
    {
     "data": {
      "text/plain": [
       "array([ 24,  36,  48,  60,  72,  84,  96, 108])"
      ]
     },
     "execution_count": 17,
     "metadata": {},
     "output_type": "execute_result"
    }
   ],
   "source": [
    "a = np.arange(N)\n",
    "a[init+12*(lag//12+1):-1:12]  "
   ]
  },
  {
   "cell_type": "markdown",
   "id": "d5c6573e-e7d2-48d0-8bc7-406cfb2662ec",
   "metadata": {},
   "source": [
    "### Single init month"
   ]
  },
  {
   "cell_type": "code",
   "execution_count": 162,
   "id": "8d79ff65-93f4-40bd-ac81-1dd0aa39dc70",
   "metadata": {
    "tags": []
   },
   "outputs": [
    {
     "name": "stdout",
     "output_type": "stream",
     "text": [
      "lag -1\n",
      "trim 12\n",
      "tmp_a_init [ 12  24  36  48  60  72  84  96 108]\n",
      "tmp_a_lag  [ 11  23  35  47  59  71  83  95 107] \n",
      "\n",
      "lag 0\n",
      "trim 0\n",
      "tmp_a_init [  0  12  24  36  48  60  72  84  96 108]\n",
      "tmp_a_lag  [  0  12  24  36  48  60  72  84  96 108] \n",
      "\n",
      "lag 1\n",
      "trim 12\n",
      "tmp_a_init [  0  12  24  36  48  60  72  84  96 108]\n",
      "tmp_a_lag  [  1  13  25  37  49  61  73  85  97 109] \n",
      "\n"
     ]
    }
   ],
   "source": [
    "years = 10\n",
    "N = 12 * years\n",
    "\n",
    "## generate random time series of length N\n",
    "## 0 is Jan, 1 is Feb, ..., 11 is Dec\n",
    "a = np.arange(N)\n",
    "\n",
    "## initialization month\n",
    "init = 0\n",
    "\n",
    "## max absolute value lag (in months)\n",
    "lag = 1\n",
    "\n",
    "for (im,m) in enumerate(range(-lag,lag+1)):    \n",
    "#     trim = 12*(abs(m)//12+1)\n",
    "    trim = 12*((abs(m)-1)//12+1)\n",
    "        \n",
    "    if m < 0:\n",
    "        tmp_a_init = a[init+trim:N:12]\n",
    "        tmp_a_lag = a[init+trim+m:N-trim+init:12]\n",
    "\n",
    "    else:\n",
    "        tmp_a_init = a[init:N-m:12]\n",
    "        tmp_a_lag = a[init+m:N:12]\n",
    "     \n",
    "    if tmp_a_init.size != tmp_a_lag.size:\n",
    "        print('### lag', m)\n",
    "        print('### trim', trim)\n",
    "        print('### tmp_a_init ', tmp_a_init.size)\n",
    "        print('### tmp_a_lag ', tmp_a_lag.size)\n",
    "        print('tmp_a_init', tmp_a_init)\n",
    "        print('tmp_a_lag ', tmp_a_lag, '\\n')\n",
    "        \n",
    "    else:\n",
    "        print('lag', m)\n",
    "        print('trim', trim)\n",
    "        print('tmp_a_init', tmp_a_init)\n",
    "        print('tmp_a_lag ', tmp_a_lag, '\\n')"
   ]
  },
  {
   "cell_type": "markdown",
   "id": "c98406a6-3726-48a1-8ecc-5163a3aca704",
   "metadata": {},
   "source": [
    "### All (12) init months"
   ]
  },
  {
   "cell_type": "code",
   "execution_count": 5,
   "id": "726d6e6e-24d4-4c7b-b8ab-8fdd2ebe2d02",
   "metadata": {},
   "outputs": [],
   "source": [
    "maxlag = 2\n",
    "\n",
    "## generate random time series of length N\n",
    "years = 10\n",
    "N = 12 * years\n",
    "a = np.random.randint(0,100, (N))\n",
    "\n",
    "## rows are different init months, cols are different lags\n",
    "r_matrix = np.zeros((12, 2*maxlag+1))\n",
    "p_matrix = np.zeros((12, 2*maxlag+1))\n",
    "\n",
    "lag_matrix = np.zeros((12, 2*maxlag+1))\n",
    "init_matrix = np.zeros((12, 2*maxlag+1))\n",
    "\n",
    "for (it,init) in enumerate(range(0,12)):\n",
    "    for (ig,lag) in enumerate(range(-maxlag,maxlag+1)):    \n",
    "        trim = 12*((abs(lag)-1)//12+1)\n",
    "        init_matrix[it][ig] = init\n",
    "        lag_matrix[it][ig] = lag\n",
    "\n",
    "        if lag < 0:\n",
    "            tmp_a_init = a[init+trim:N:12]\n",
    "            tmp_a_lagged = a[init+trim+lag:N-trim+init:12]\n",
    "\n",
    "        else:\n",
    "            tmp_a_init = a[init:N-lag:12]\n",
    "            tmp_a_lagged = a[init+lag:N:12]\n",
    "\n",
    "        r_matrix[it][ig], p_matrix[it][ig] = stats.pearsonr(tmp_a_init, tmp_a_lagged)"
   ]
  },
  {
   "cell_type": "markdown",
   "id": "91853657-9cb8-4d1d-8b37-de66cfecfd70",
   "metadata": {},
   "source": [
    "## Create function"
   ]
  },
  {
   "cell_type": "code",
   "execution_count": 67,
   "id": "80c9022d-c56a-4c60-977e-c46090146f7b",
   "metadata": {},
   "outputs": [],
   "source": [
    "def compute_lagged_autocorr(a, maxlag):\n",
    "    ## convert DataArray to NumPy array\n",
    "    a = a.values\n",
    "    \n",
    "    ## rows are different init months, cols are different lags\n",
    "    r_matrix = np.zeros((2*maxlag+1, 12))\n",
    "    p_matrix = np.zeros((2*maxlag+1, 12))\n",
    "\n",
    "    init_matrix = np.zeros((2*maxlag+1, 12))\n",
    "    lag_matrix = np.zeros((2*maxlag+1, 12))\n",
    "\n",
    "    for (it,init) in enumerate(range(0,12)):\n",
    "        for (ig,lag) in enumerate(range(-maxlag,maxlag+1)):    \n",
    "            trim = 12*((abs(lag)-1)//12+1)\n",
    "            init_matrix[ig][it] = init\n",
    "            lag_matrix[ig][it] = lag\n",
    "\n",
    "            if lag < 0:\n",
    "                tmp_a_init = a[init+trim:N:12]\n",
    "                tmp_a_lagged = a[init+trim+lag:N-trim+init:12]\n",
    "\n",
    "            else:\n",
    "                tmp_a_init = a[init:N-lag:12]\n",
    "                tmp_a_lagged = a[init+lag:N:12]\n",
    "\n",
    "            r_matrix[ig][it], p_matrix[ig][it] = stats.pearsonr(tmp_a_init, tmp_a_lagged)\n",
    "            \n",
    "    return r_matrix, p_matrix, init_matrix, lag_matrix"
   ]
  },
  {
   "cell_type": "code",
   "execution_count": 105,
   "id": "35d09b9a-0584-46e3-9d91-357016670559",
   "metadata": {},
   "outputs": [],
   "source": [
    "def plot_lagged_autocorr(variable, region, maxlag=24, threshold=0.75, hatch='//'):\n",
    "    \n",
    "    ts = open_metric(variable, 'so', 'anom')[region]\n",
    "    \n",
    "    r, p, inits, lags = compute_lagged_autocorr(ts, maxlag=maxlag)\n",
    "\n",
    "    reg_names, var_su_names, abbrv_month_names = get_plotting_labels()\n",
    "\n",
    "    fig,ax = plt.subplots(figsize=(6,7))\n",
    "    im = ax.pcolormesh(r, vmin=-1.0, vmax=1.0, cmap=cm.balance, edgecolor='k', linewidth=0.01)\n",
    "\n",
    "    # for (i, j), z in np.ndenumerate(inits):\n",
    "    #     ax.text(j+0.5, i+0.5, '%3d'%z, ha='center', va='center', fontsize=4)\n",
    "\n",
    "    ax.set_yticks((np.arange(r.shape[0]) + 0.5)[::4])\n",
    "    ax.set_yticklabels(np.arange(-24,25)[::4])\n",
    "    ax.set_ylabel('LAG')\n",
    "\n",
    "    ax.set_xticks(np.arange(r.shape[1]) + 0.5)\n",
    "    ax.set_xticklabels(abbrv_month_names)\n",
    "    ax.set_xlabel('INIT MONTH')\n",
    "    \n",
    "    ax.set_title(reg_names[region]+' '+var_su_names[variable]+' autocorrelation')\n",
    "   \n",
    "    cb = fig.colorbar(im, ax=ax, label='Correlation coefficient')\n",
    "\n",
    "    if hatch:\n",
    "        masked = np.ma.masked_array(r, mask=np.where(abs(r) > threshold, 0, 1))\n",
    "        masked_im = ax.pcolor(masked, hatch=hatch, alpha=0)\n",
    "\n",
    "        cb.ax.plot([-1,1], [threshold,threshold], color='k')\n",
    "        cb.ax.plot([-1,1], [-threshold,-threshold], color='k')\n",
    "        cb.ax.fill_between([-1,1], [1,1], [threshold,threshold], hatch=hatch, alpha=0)\n",
    "        cb.ax.fill_between([-1,1], [-threshold,-threshold], [-1,-1], hatch=hatch, alpha=0)"
   ]
  },
  {
   "cell_type": "code",
   "execution_count": 107,
   "id": "54932554-79bf-4ccd-a7fa-e895ecfc62db",
   "metadata": {},
   "outputs": [
    {
     "data": {
      "image/png": "[encoded data removed]",
      "text/plain": [
       "<Figure size 1200x1400 with 2 Axes>"
      ]
     },
     "metadata": {
      "needs_background": "light"
     },
     "output_type": "display_data"
    }
   ],
   "source": [
    "plot_lagged_autocorr('sie', 'SouthernOcean')"
   ]
  },
  {
   "cell_type": "markdown",
   "id": "73a0209c-35f6-45ac-a983-a8d665bfeb38",
   "metadata": {},
   "source": [
    "# Misc"
   ]
  },
  {
   "cell_type": "code",
   "execution_count": 100,
   "id": "3f5f8d90-1477-4147-9877-5fea15391b35",
   "metadata": {
    "jupyter": {
     "source_hidden": true
    },
    "tags": []
   },
   "outputs": [],
   "source": [
    "years = 10\n",
    "N = 12 * years\n",
    "\n",
    "## generate random time series of length N\n",
    "a = np.random.rand(N) * 10 # populate time series with random values\n",
    "ixa = np.arange(N) # to keep track of indices\n",
    "montha = np.asarray(years * list(range(1,13))) # to keep track of months (1 is Jan, 2 is Feb, etc.)"
   ]
  },
  {
   "cell_type": "code",
   "execution_count": 140,
   "id": "9ae9f559-a9ca-4dc3-b807-983051d03751",
   "metadata": {
    "jupyter": {
     "source_hidden": true
    },
    "tags": []
   },
   "outputs": [],
   "source": [
    "# init = 0 # Jan init index\n",
    "# lag = 4 # lag of +4 months\n",
    "\n",
    "# ## first, we need to trim the data to prepare for a lag of +/- 12 months\n",
    "# a_trimmed = a[lag : N - lag]\n",
    "# ixa_trimmed = ixa[lag : N - lag]\n",
    "# montha_trimmed = montha[lag : N - lag]\n",
    "\n",
    "# ## subselect all Jan values\n",
    "# a_init = a[init:-1:12]\n",
    "# ixa_init = ixa[init:-1:12]\n",
    "# montha_init = montha[init:-1:12]\n",
    "\n",
    "# ## subselect all lag +4 (May) values\n",
    "# a_lag = a[lag:-1:12]\n",
    "# ixa_lag = ixa[lag:-1:12]\n",
    "# montha_lag = montha[lag:-1:12]\n",
    "\n",
    "# ## compute correlation coefficient\n",
    "# r, pvalue = stats.pearsonr(a_init, a_lag)"
   ]
  }
 ],
 "metadata": {
  "kernelspec": {
   "display_name": "Python 3",
   "language": "python",
   "name": "python3"
  },
  "language_info": {
   "codemirror_mode": {
    "name": "ipython",
    "version": 3
   },
   "file_extension": ".py",
   "mimetype": "text/x-python",
   "name": "python",
   "nbconvert_exporter": "python",
   "pygments_lexer": "ipython3",
   "version": "3.9.4"
  },
  "toc-autonumbering": true
 },
 "nbformat": 4,
 "nbformat_minor": 5
}
