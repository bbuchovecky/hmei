{
 "cells": [
  {
   "cell_type": "raw",
   "id": "9eb1b8bb-efc5-4be0-a20d-c4b6aa39a691",
   "metadata": {},
   "source": [
    "Project:      HMEI Summer Internship\n",
    "Author:       Benjamin Buchovecky\n",
    "Created:      7/13/2021"
   ]
  },
  {
   "cell_type": "markdown",
   "id": "f1c7e5f2-90b1-4d50-b7fa-5ddd348a58c8",
   "metadata": {},
   "source": [
    "# **Convective State Analysis**\n",
    "\n",
    "The goal is to analyze each convective state independently, thresholding based on the MLD in the Weddell Sea."
   ]
  },
  {
   "cell_type": "code",
   "execution_count": 1,
   "id": "35c93f44-b932-446c-86d0-66e5ac81366c",
   "metadata": {
    "jupyter": {
     "source_hidden": true
    },
    "tags": []
   },
   "outputs": [],
   "source": [
    "import os\n",
    "import warnings\n",
    "warnings.filterwarnings(\"ignore\", message=\"invalid value encountered in true_divide\")\n",
    "warnings.filterwarnings(\"ignore\", message=\"Unable to decode time axis into full numpy.datetime64 objects, continuing using cftime.datetime objects instead, reason: dates out of range\")\n",
    "warnings.filterwarnings(\"ignore\", message=\"invalid value encountered in reduce\")\n",
    "warnings.filterwarnings(\"ignore\", message=\"Degrees of freedom <= 0 for slice.\")\n",
    "\n",
    "import xarray as xr\n",
    "import numpy as np\n",
    "import math\n",
    "\n",
    "import matplotlib.pyplot as plt\n",
    "import matplotlib.gridspec as gridspec\n",
    "from cartopy import crs as ccrs\n",
    "import cartopy.feature as cfeature\n",
    "from cartopy.util import add_cyclic_point\n",
    "\n",
    "%load_ext autoreload\n",
    "%autoreload 2\n",
    "import hmei.processing as pcs\n",
    "import hmei.visualization as vis"
   ]
  },
  {
   "cell_type": "markdown",
   "id": "6d9d7a79-17cc-417c-8c12-fed9cd967198",
   "metadata": {},
   "source": [
    "1. Inspect annual and monthly mean MLD timeseries to develop a method for defining the convective states."
   ]
  },
  {
   "cell_type": "code",
   "execution_count": 5,
   "id": "2b4b488c-611c-4bd2-afbb-1d93d80d4bd5",
   "metadata": {},
   "outputs": [
    {
     "data": {
      "text/plain": [
       "['mld_gc_global_monthly_anom.nc',\n",
       " 'mld_gc_global_monthly_mean.nc',\n",
       " 'mld_gc_global_monthly_var.nc',\n",
       " 'mld_gc_so_monthly_anom.nc',\n",
       " 'mld_gc_so_monthly_mean.nc',\n",
       " 'mld_gc_so_monthly_var.nc',\n",
       " 'mld_ts_global_annual_mean.nc',\n",
       " 'mld_ts_global_clim.nc',\n",
       " 'mld_ts_global_monthly_anom.nc',\n",
       " 'mld_ts_global_monthly_mean.nc',\n",
       " 'mld_ts_global_monthly_var.nc',\n",
       " 'mld_ts_so_annual_mean.nc',\n",
       " 'mld_ts_so_clim.nc',\n",
       " 'mld_ts_so_monthly_anom.nc',\n",
       " 'mld_ts_so_monthly_mean.nc',\n",
       " 'mld_ts_so_monthly_var.nc']"
      ]
     },
     "execution_count": 5,
     "metadata": {},
     "output_type": "execute_result"
    }
   ],
   "source": [
    "rootdir = '/home/bbuchovecky/storage/so_predict_derived/CTRL/'\n",
    "var = 'mld'\n",
    "\n",
    "\n",
    "\n",
    "pcs.dir_inspect('/home/bbuchovecky/storage/so_predict_derived/CTRL/MLD')"
   ]
  },
  {
   "cell_type": "code",
   "execution_count": null,
   "id": "bdb99108-67c0-40ab-a4a0-7f4d4c4228fa",
   "metadata": {},
   "outputs": [],
   "source": []
  }
 ],
 "metadata": {
  "kernelspec": {
   "display_name": "Python 3",
   "language": "python",
   "name": "python3"
  },
  "language_info": {
   "codemirror_mode": {
    "name": "ipython",
    "version": 3
   },
   "file_extension": ".py",
   "mimetype": "text/x-python",
   "name": "python",
   "nbconvert_exporter": "python",
   "pygments_lexer": "ipython3",
   "version": "3.9.4"
  }
 },
 "nbformat": 4,
 "nbformat_minor": 5
}
