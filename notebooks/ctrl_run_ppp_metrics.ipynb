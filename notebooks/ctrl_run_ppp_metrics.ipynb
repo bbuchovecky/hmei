{
 "cells": [
  {
   "cell_type": "raw",
   "id": "209e81f9-d076-44d1-bcf1-44e8a35151cb",
   "metadata": {},
   "source": [
    "Project:      HMEI Summer Internship\n",
    "Author:       Benjamin Buchovecky\n",
    "Created:      6/11/2021"
   ]
  },
  {
   "cell_type": "markdown",
   "id": "944ebb97-d403-4d4f-8bdb-6b65e74b63ac",
   "metadata": {},
   "source": [
    "# **Computation of PPP Metrics for Control Run**\n",
    "\n",
    "**Important metrics:**\n",
    "\n",
    "- SH sea ice extent/volume\n",
    "- regional sea ice extent/volume\n",
    "- regional NPP, PCO2, SSS, SST\n",
    "- gridpoint-level fields for sea ice concentration, SST, SSS, NPP, PCO2\n",
    "- sea ice edge position (latitude at which sea ice concentration drops below 15%)"
   ]
  },
  {
   "cell_type": "code",
   "execution_count": 1,
   "id": "2ee41e1e-b17b-4bf5-b500-631d29fa1762",
   "metadata": {},
   "outputs": [],
   "source": [
    "import os\n",
    "import warnings\n",
    "warnings.filterwarnings(\"ignore\", message=\"invalid value encountered in true_divide\")\n",
    "warnings.filterwarnings(\"ignore\", message=\"Unable to decode time axis into full numpy.datetime64 objects, continuing using cftime.datetime objects instead, reason: dates out of range\")\n",
    "warnings.filterwarnings(\"ignore\", message=\"invalid value encountered in reduce\")\n",
    "\n",
    "import xarray as xr\n",
    "import numpy as np\n",
    "import math\n",
    "import matplotlib.pyplot as plt\n",
    "\n",
    "%load_ext autoreload\n",
    "%autoreload 2\n",
    "import hmei.processing as pcs\n",
    "import hmei.visualization as vis"
   ]
  },
  {
   "cell_type": "code",
   "execution_count": 2,
   "id": "0fa5842a-fba1-4982-913c-e7ea87df1973",
   "metadata": {},
   "outputs": [],
   "source": [
    "write_rootdir = '/home/bbuchovecky/storage/so_predict_derived/'\n",
    "reg_masks = xr.open_dataset(write_rootdir+'regional_global_masks.nc')"
   ]
  },
  {
   "cell_type": "code",
   "execution_count": 3,
   "id": "0889e072-1a1a-4aab-9782-d70bcf7b03d9",
   "metadata": {},
   "outputs": [],
   "source": [
    "rootdir = '/home/bbuchovecky/storage/so_predict_derived/'\n",
    "reg_masks = xr.open_dataset(rootdir+'regional_global_masks.nc')"
   ]
  },
  {
   "cell_type": "code",
   "execution_count": 4,
   "id": "7d69f45f-571c-4c1c-8a3c-4771c9482511",
   "metadata": {},
   "outputs": [],
   "source": [
    "## variable names\n",
    "CN_INV = 'CN_INV'\n",
    "NPP = 'NPP'\n",
    "PCO2SURF = 'PCO2SURF'\n",
    "SIE = 'SIE'\n",
    "SIV = 'SIV'\n",
    "SI_EDGE = 'SI_EDGE'\n",
    "SSS = 'SSS'\n",
    "SST = 'SST'\n",
    "MLD ='MLD'"
   ]
  },
  {
   "cell_type": "code",
   "execution_count": 5,
   "id": "e890bd77-c4ae-4b4d-9b4d-a745e89fd5e0",
   "metadata": {
    "tags": []
   },
   "outputs": [
    {
     "name": "stdout",
     "output_type": "stream",
     "text": [
      "/local/projects/so_predict/esm2m_froelicher/CTRL/SST/sst_*.nc\n"
     ]
    }
   ],
   "source": [
    "sst_raw = pcs.open_raw_ctrl(SST)"
   ]
  },
  {
   "cell_type": "code",
   "execution_count": 6,
   "id": "f3146387-6950-4507-bbb0-04d50f7811a8",
   "metadata": {},
   "outputs": [
    {
     "name": "stdout",
     "output_type": "stream",
     "text": [
      "/local/projects/so_predict/esm2m_froelicher/CTRL/SSS/sss_*.nc\n"
     ]
    }
   ],
   "source": [
    "sss_raw = pcs.open_raw_ctrl(SSS)"
   ]
  },
  {
   "cell_type": "code",
   "execution_count": 7,
   "id": "061dd6dc-b025-4d7a-8c7d-45cdad94451e",
   "metadata": {},
   "outputs": [
    {
     "name": "stdout",
     "output_type": "stream",
     "text": [
      "/local/projects/so_predict/esm2m_froelicher/CTRL/PCO2SURF/pco2surf_*.nc\n"
     ]
    }
   ],
   "source": [
    "pco2_raw = pcs.open_raw_ctrl(PCO2SURF)"
   ]
  },
  {
   "cell_type": "code",
   "execution_count": 8,
   "id": "1789a6a2-d78e-4f73-902b-697b1ed18e00",
   "metadata": {},
   "outputs": [
    {
     "name": "stdout",
     "output_type": "stream",
     "text": [
      "/local/projects/so_predict/esm2m_froelicher/CTRL/NPP/NPP_*.nc\n"
     ]
    }
   ],
   "source": [
    "npp_raw = pcs.open_raw_ctrl(NPP)"
   ]
  },
  {
   "cell_type": "code",
   "execution_count": 9,
   "id": "d093a881-3342-45e1-b66e-d6c74f47a632",
   "metadata": {},
   "outputs": [
    {
     "name": "stdout",
     "output_type": "stream",
     "text": [
      "/local/projects/so_predict/esm2m_froelicher/CTRL/CN/CN_inv_*.nc\n"
     ]
    }
   ],
   "source": [
    "cn_raw = pcs.open_raw_ctrl(CN_INV)"
   ]
  },
  {
   "cell_type": "code",
   "execution_count": 10,
   "id": "8ac0894c-7ec7-4241-aed8-57f7c3991418",
   "metadata": {},
   "outputs": [
    {
     "name": "stdout",
     "output_type": "stream",
     "text": [
      "/local/projects/so_predict/esm2m_froelicher/CTRL/MLD/mld_0*.nc\n"
     ]
    }
   ],
   "source": [
    "mld_raw = pcs.open_raw_ctrl(MLD)"
   ]
  },
  {
   "cell_type": "code",
   "execution_count": 11,
   "id": "28811c90-33fa-4bf4-a388-18517a41c650",
   "metadata": {},
   "outputs": [
    {
     "name": "stdout",
     "output_type": "stream",
     "text": [
      "/home/bbuchovecky/storage/so_predict_derived/CTRL/SIE/sie_ctrl_so_timeseries.nc\n"
     ]
    }
   ],
   "source": [
    "sie_raw = pcs.open_gridcell_ctrl(SIE)"
   ]
  },
  {
   "cell_type": "code",
   "execution_count": 12,
   "id": "6c79d0f0-797e-4777-ad9e-e82c1ff09de6",
   "metadata": {},
   "outputs": [
    {
     "name": "stdout",
     "output_type": "stream",
     "text": [
      "/home/bbuchovecky/storage/so_predict_derived/CTRL/SIV/siv_ctrl_so_timeseries.nc\n"
     ]
    }
   ],
   "source": [
    "siv_raw = pcs.open_gridcell_ctrl(SIV)"
   ]
  },
  {
   "cell_type": "markdown",
   "id": "6e2a705f-d126-4d31-9347-fb4326cc9d4d",
   "metadata": {},
   "source": [
    "## Annual Mean\n",
    "For each year, the area-weighted mean value for the specified region."
   ]
  },
  {
   "cell_type": "code",
   "execution_count": 13,
   "id": "1fb6dc76-bacb-463b-aa42-be6347e39d56",
   "metadata": {},
   "outputs": [],
   "source": [
    "## global annual mean\n",
    "\n",
    "sst_global_annual_mean = pcs.reg_annual_mean(sst_raw, 'sst') - 273.15\n",
    "sss_global_annual_mean = pcs.reg_annual_mean(sss_raw, 'sss')\n",
    "pco2_global_annual_mean = pcs.reg_annual_mean(pco2_raw, 'pco2surf')\n",
    "npp_global_annual_mean = pcs.reg_annual_mean(npp_raw, 'NPP')\n",
    "cn_global_annual_mean = pcs.reg_annual_mean(cn_raw, 'CN_INV')\n",
    "sie_global_annual_mean = pcs.reg_annual_mean(sie_raw, 'SIE_area')\n",
    "siv_global_annual_mean = pcs.reg_annual_mean(siv_raw, 'SIV_area')\n",
    "mld_global_annual_mean = pcs.reg_annual_mean(mld_raw, 'mld')"
   ]
  },
  {
   "cell_type": "code",
   "execution_count": 14,
   "id": "cad549bd-dc2a-4fdf-bd2b-d2b316de8f80",
   "metadata": {},
   "outputs": [],
   "source": [
    "write_rootdir = '/home/bbuchovecky/storage/so_predict_derived/'\n",
    "subdir_ctrl = 'CTRL/'\n",
    "\n",
    "## save mean data\n",
    "def save_mean(ds, var, reg, time_scale):\n",
    "    filename = var.lower()+'_'+reg.lower()+'_'+time_scale.lower()+'_mean.nc'\n",
    "    ds.to_netcdf(write_rootdir+subdir_ctrl+var.upper()+'/'+filename)\n",
    "\n",
    "# save_mean(sst_global_annual_mean, 'sst', 'global', 'annual')\n",
    "# save_mean(sss_global_annual_mean, 'sss', 'global', 'annual')\n",
    "# save_mean(pco2_global_annual_mean, 'pco2surf', 'global', 'annual')\n",
    "# save_mean(npp_global_annual_mean, 'npp', 'global', 'annual')\n",
    "# save_mean(cn_global_annual_mean, 'cn_inv', 'global', 'annual')\n",
    "# save_mean(sie_global_annual_mean, 'sie', 'global', 'annual')\n",
    "# save_mean(siv_global_annual_mean, 'siv', 'global', 'annual')\n",
    "# save_mean(mld_global_annual_mean, 'mld', 'global', 'annual')"
   ]
  },
  {
   "cell_type": "code",
   "execution_count": 15,
   "id": "6323d425-22fb-4961-845d-2e531d318689",
   "metadata": {},
   "outputs": [],
   "source": [
    "## Southern Ocean annual mean\n",
    "\n",
    "sst_so_annual_mean  = []\n",
    "sss_so_annual_mean  = []\n",
    "pco2_so_annual_mean = []\n",
    "npp_so_annual_mean  = []\n",
    "cn_so_annual_mean   = []\n",
    "sie_so_annual_mean  = []\n",
    "siv_so_annual_mean  = []\n",
    "mld_so_annual_mean = []\n",
    "\n",
    "for reg in reg_masks.data_vars:\n",
    "    sst_so_annual_mean.append(pcs.reg_annual_mean(sst_raw, 'sst', reg_masks, reg) - 273.15)\n",
    "    sss_so_annual_mean.append(pcs.reg_annual_mean(sss_raw, 'sss', reg_masks, reg))\n",
    "    pco2_so_annual_mean.append(pcs.reg_annual_mean(pco2_raw, 'pco2surf', reg_masks, reg))\n",
    "    npp_so_annual_mean.append(pcs.reg_annual_mean(npp_raw, 'NPP', reg_masks, reg))\n",
    "    cn_so_annual_mean.append(pcs.reg_annual_mean(cn_raw, 'CN_INV', reg_masks, reg))\n",
    "    sie_so_annual_mean.append(pcs.reg_annual_mean(sie_raw, 'SIE_area', reg_masks, reg))\n",
    "    siv_so_annual_mean.append(pcs.reg_annual_mean(siv_raw, 'SIV_area', reg_masks, reg))\n",
    "    mld_so_annual_mean.append(pcs.reg_annual_mean(mld_raw, 'mld', reg_masks, reg))"
   ]
  },
  {
   "cell_type": "code",
   "execution_count": 16,
   "id": "8e24cb0d-5a6a-4850-bc29-e552f7decc06",
   "metadata": {},
   "outputs": [],
   "source": [
    "## rename DataArrays to regional names (SouthernOcean, Weddell, etc.)\n",
    "\n",
    "so_annual_mean = zip(sst_so_annual_mean,sss_so_annual_mean,pco2_so_annual_mean,npp_so_annual_mean,\n",
    "                       cn_so_annual_mean,sie_so_annual_mean,siv_so_annual_mean,mld_so_annual_mean)\n",
    "\n",
    "for (sst,sss,pco2,npp,cn,sie,siv,mld) in so_annual_mean:\n",
    "    sst.name = sst.name.split('_')[0]\n",
    "    sss.name = sss.name.split('_')[0]\n",
    "    pco2.name = pco2.name.split('_')[0]\n",
    "    npp.name = npp.name.split('_')[0]\n",
    "    cn.name = cn.name.split('_')[0]\n",
    "    sie.name = sie.name.split('_')[0]\n",
    "    siv.name = siv.name.split('_')[0]\n",
    "    mld.name = mld.name.split('_')[0]"
   ]
  },
  {
   "cell_type": "code",
   "execution_count": 17,
   "id": "22e6d6b5-362b-40eb-8512-0e07e12b4474",
   "metadata": {},
   "outputs": [],
   "source": [
    "## create Dataset\n",
    "\n",
    "ds_sst_annual_mean = xr.merge(sst_so_annual_mean)\n",
    "ds_sss_annual_mean = xr.merge(sss_so_annual_mean)\n",
    "ds_pco2_annual_mean = xr.merge(pco2_so_annual_mean)\n",
    "ds_npp_annual_mean = xr.merge(npp_so_annual_mean)\n",
    "ds_cn_annual_mean = xr.merge(cn_so_annual_mean)\n",
    "ds_sie_annual_mean = xr.merge(sie_so_annual_mean)\n",
    "ds_siv_annual_mean = xr.merge(siv_so_annual_mean)\n",
    "ds_mld_annual_mean = xr.merge(mld_so_annual_mean)"
   ]
  },
  {
   "cell_type": "code",
   "execution_count": 18,
   "id": "86b3fe58-1159-4275-b1ee-e752d1e3f245",
   "metadata": {},
   "outputs": [],
   "source": [
    "## set names\n",
    "\n",
    "ds_sst_annual_mean.attrs['name'] = 'sst_so_annual_mean'\n",
    "ds_sss_annual_mean.attrs['name'] = 'sss_so_annual_mean'\n",
    "ds_pco2_annual_mean.attrs['name'] = 'pco2surf_so_annual_mean'\n",
    "ds_npp_annual_mean.attrs['name'] = 'npp_so_annual_mean'\n",
    "ds_cn_annual_mean.attrs['name'] = 'sic_so_annual_mean'\n",
    "ds_sie_annual_mean.attrs['name'] = 'sie_so_annual_mean'\n",
    "ds_siv_annual_mean.attrs['name'] = 'siv_so_annual_mean'\n",
    "ds_mld_annual_mean.attrs['name'] = 'mld_so_annual_mean'"
   ]
  },
  {
   "cell_type": "code",
   "execution_count": 19,
   "id": "4dd7a0db-5bfb-406b-8d5a-ba3cdb473d69",
   "metadata": {},
   "outputs": [],
   "source": [
    "## save Datasets as NetCDF files\n",
    "\n",
    "write_rootdir = '/home/bbuchovecky/storage/so_predict_derived/'\n",
    "subdir_ctrl = 'CTRL/'\n",
    "\n",
    "## save mean data\n",
    "def save_mean(ds, var, reg, time_scale):\n",
    "    filename = var.lower()+'_'+reg.lower()+'_'+time_scale.lower()+'_mean.nc'\n",
    "    ds.to_netcdf(write_rootdir+subdir_ctrl+var.upper()+'/'+filename)\n",
    "\n",
    "# save_mean(ds_sst_annual_mean, 'sst', 'so', 'annual')\n",
    "# save_mean(ds_sss_annual_mean, 'sss', 'so', 'annual')\n",
    "# save_mean(ds_pco2_annual_mean, 'pco2surf', 'so', 'annual')\n",
    "# save_mean(ds_npp_annual_mean, 'npp', 'so', 'annual')\n",
    "# save_mean(ds_cn_annual_mean, 'cn_inv', 'so', 'annual')\n",
    "# save_mean(ds_sie_annual_mean, 'sie', 'so', 'annual')\n",
    "# save_mean(ds_siv_annual_mean, 'siv', 'so', 'annual')\n",
    "# save_mean(ds_mld_annual_mean, 'mld', 'so', 'annual')"
   ]
  },
  {
   "cell_type": "markdown",
   "id": "21747952-26ae-4419-a1cf-00b19df88843",
   "metadata": {},
   "source": [
    "## Monthly Mean\n",
    "For each month, the area-weighted mean value for the specified region."
   ]
  },
  {
   "cell_type": "code",
   "execution_count": 20,
   "id": "e3ac6db2-2639-47fb-9395-79a4fbebd07e",
   "metadata": {},
   "outputs": [],
   "source": [
    "## global monthly mean\n",
    "\n",
    "sst_global_monthly_mean = pcs.reg_monthly_mean(sst_raw, 'sst') - 273.15\n",
    "sss_global_monthly_mean = pcs.reg_monthly_mean(sss_raw, 'sss')\n",
    "pco2_global_monthly_mean = pcs.reg_monthly_mean(pco2_raw, 'pco2surf')\n",
    "npp_global_monthly_mean = pcs.reg_monthly_mean(npp_raw, 'NPP')\n",
    "cn_global_monthly_mean = pcs.reg_monthly_mean(cn_raw, 'CN_INV')\n",
    "sie_global_monthly_mean = pcs.reg_monthly_mean(sie_raw, 'SIE_area')\n",
    "siv_global_monthly_mean = pcs.reg_monthly_mean(siv_raw, 'SIV_area')\n",
    "mld_global_monthly_mean = pcs.reg_monthly_mean(mld_raw, 'mld')"
   ]
  },
  {
   "cell_type": "code",
   "execution_count": 21,
   "id": "546f4531-7b28-47eb-b932-a4385a8bb42d",
   "metadata": {},
   "outputs": [],
   "source": [
    "write_rootdir = '/home/bbuchovecky/storage/so_predict_derived/'\n",
    "subdir_ctrl = 'CTRL/'\n",
    "\n",
    "## save mean data\n",
    "def save_mean(ds, var, reg, time_scale):\n",
    "    filename = var.lower()+'_'+reg.lower()+'_'+time_scale.lower()+'_mean.nc'\n",
    "    ds.to_netcdf(write_rootdir+subdir_ctrl+var.upper()+'/'+filename)\n",
    "\n",
    "# save_mean(sst_global_monthly_mean, 'sst', 'global', 'monthly')\n",
    "# save_mean(sss_global_monthly_mean, 'sss', 'global', 'monthly')\n",
    "# save_mean(pco2_global_monthly_mean, 'pco2surf', 'global', 'monthly')\n",
    "# save_mean(npp_global_monthly_mean, 'npp', 'global', 'monthly')\n",
    "# save_mean(cn_global_monthly_mean, 'cn_inv', 'global', 'monthly')\n",
    "# save_mean(sie_global_monthly_mean, 'sie', 'global', 'monthly')\n",
    "# save_mean(siv_global_monthly_mean, 'siv', 'global', 'monthly')\n",
    "# save_mean(mld_global_monthly_mean, 'mld', 'global', 'monthly')"
   ]
  },
  {
   "cell_type": "code",
   "execution_count": 22,
   "id": "8cbe6670-a674-4b1d-aec8-4b2e65e14421",
   "metadata": {},
   "outputs": [],
   "source": [
    "## regional monthly mean\n",
    "\n",
    "sst_so_monthly_mean  = []\n",
    "sss_so_monthly_mean  = []\n",
    "pco2_so_monthly_mean = []\n",
    "npp_so_monthly_mean  = []\n",
    "cn_so_monthly_mean   = []\n",
    "sie_so_monthly_mean  = []\n",
    "siv_so_monthly_mean  = []\n",
    "mld_so_monthly_mean = []\n",
    "\n",
    "for reg in reg_masks.data_vars:\n",
    "    sst_so_monthly_mean.append(pcs.reg_monthly_mean(sst_raw, 'sst', reg_masks, reg) - 273.15)\n",
    "    sss_so_monthly_mean.append(pcs.reg_monthly_mean(sss_raw, 'sss', reg_masks, reg))\n",
    "    pco2_so_monthly_mean.append(pcs.reg_monthly_mean(pco2_raw, 'pco2surf', reg_masks, reg))\n",
    "    npp_so_monthly_mean.append(pcs.reg_monthly_mean(npp_raw, 'NPP', reg_masks, reg))\n",
    "    cn_so_monthly_mean.append(pcs.reg_monthly_mean(cn_raw, 'CN_INV', reg_masks, reg))\n",
    "    sie_so_monthly_mean.append(pcs.reg_monthly_mean(sie_raw, 'SIE_area', reg_masks, reg))\n",
    "    siv_so_monthly_mean.append(pcs.reg_monthly_mean(siv_raw, 'SIV_area', reg_masks, reg))\n",
    "    mld_so_monthly_mean.append(pcs.reg_monthly_mean(mld_raw, 'mld', reg_masks, reg))"
   ]
  },
  {
   "cell_type": "code",
   "execution_count": 23,
   "id": "53861806-1dbb-47eb-ac7e-4c1f24783993",
   "metadata": {},
   "outputs": [],
   "source": [
    "## rename DataArrays to regional names (SouthernOcean, Weddell, etc.)\n",
    "\n",
    "so_monthly_mean = zip(sst_so_monthly_mean,sss_so_monthly_mean,pco2_so_monthly_mean,npp_so_monthly_mean,\n",
    "                       cn_so_monthly_mean,sie_so_monthly_mean,siv_so_monthly_mean,mld_so_monthly_mean)\n",
    "\n",
    "for (sst,sss,pco2,npp,cn,sie,siv,mld) in so_monthly_mean:\n",
    "    sst.name = sst.name.split('_')[0]\n",
    "    sss.name = sss.name.split('_')[0]\n",
    "    pco2.name = pco2.name.split('_')[0]\n",
    "    npp.name = npp.name.split('_')[0]\n",
    "    cn.name = cn.name.split('_')[0]\n",
    "    sie.name = sie.name.split('_')[0]\n",
    "    siv.name = siv.name.split('_')[0]\n",
    "    mld.name = mld.name.split('_')[0]"
   ]
  },
  {
   "cell_type": "code",
   "execution_count": 24,
   "id": "43218b28-ceb0-4a29-b578-180e1193fcde",
   "metadata": {},
   "outputs": [],
   "source": [
    "## create Dataset\n",
    "\n",
    "ds_sst_monthly_mean = xr.merge(sst_so_monthly_mean)\n",
    "ds_sss_monthly_mean = xr.merge(sss_so_monthly_mean)\n",
    "ds_pco2_monthly_mean = xr.merge(pco2_so_monthly_mean)\n",
    "ds_npp_monthly_mean = xr.merge(npp_so_monthly_mean)\n",
    "ds_cn_monthly_mean = xr.merge(cn_so_monthly_mean)\n",
    "ds_sie_monthly_mean = xr.merge(sie_so_monthly_mean)\n",
    "ds_siv_monthly_mean = xr.merge(siv_so_monthly_mean)\n",
    "ds_mld_monthly_mean = xr.merge(mld_so_monthly_mean)"
   ]
  },
  {
   "cell_type": "code",
   "execution_count": 25,
   "id": "ea87ea93-b793-4beb-8b44-73b6884a1a99",
   "metadata": {},
   "outputs": [],
   "source": [
    "## set names\n",
    "\n",
    "ds_sst_monthly_mean.attrs['name'] = 'sst_so_monthly_mean'\n",
    "ds_sss_monthly_mean.attrs['name'] = 'sss_so_monthly_mean'\n",
    "ds_pco2_monthly_mean.attrs['name'] = 'pco2surf_so_monthly_mean'\n",
    "ds_npp_monthly_mean.attrs['name'] = 'npp_so_monthly_mean'\n",
    "ds_cn_monthly_mean.attrs['name'] = 'sic_so_monthly_mean'\n",
    "ds_sie_monthly_mean.attrs['name'] = 'sie_so_monthly_mean'\n",
    "ds_siv_monthly_mean.attrs['name'] = 'siv_so_monthly_mean'\n",
    "ds_mld_monthly_mean.attrs['name'] = 'mld_so_monthly_mean'"
   ]
  },
  {
   "cell_type": "code",
   "execution_count": 26,
   "id": "41295e47-62ac-4564-82e4-72fc076d3d61",
   "metadata": {},
   "outputs": [],
   "source": [
    "## save Datasets as NetCDF files\n",
    "\n",
    "write_rootdir = '/home/bbuchovecky/storage/so_predict_derived/'\n",
    "subdir_ctrl = 'CTRL/'\n",
    "\n",
    "## save mean data\n",
    "def save_mean(ds, var, reg, time_scale):\n",
    "    filename = var.lower()+'_'+reg.lower()+'_'+time_scale.lower()+'_mean.nc'\n",
    "    ds.to_netcdf(write_rootdir+subdir_ctrl+var.upper()+'/'+filename)\n",
    "\n",
    "# save_mean(ds_sst_monthly_mean, 'sst', 'so', 'monthly')\n",
    "# save_mean(ds_sss_monthly_mean, 'sss', 'so', 'monthly')\n",
    "# save_mean(ds_pco2_monthly_mean, 'pco2surf', 'so', 'monthly')\n",
    "# save_mean(ds_npp_monthly_mean, 'npp', 'so', 'monthly')\n",
    "# save_mean(ds_cn_monthly_mean, 'cn_inv', 'so', 'monthly')\n",
    "# save_mean(ds_sie_monthly_mean, 'sie', 'so', 'monthly')\n",
    "# save_mean(ds_siv_monthly_mean, 'siv', 'so', 'monthly')\n",
    "# save_mean(ds_mld_monthly_mean, 'mld', 'so', 'monthly')"
   ]
  },
  {
   "cell_type": "markdown",
   "id": "5b30ba7a-abd1-4c30-b4f5-700ae0171051",
   "metadata": {},
   "source": [
    "## MISC"
   ]
  },
  {
   "cell_type": "code",
   "execution_count": null,
   "id": "c73b1342-2c16-41f9-a181-594b5b2e8eef",
   "metadata": {},
   "outputs": [],
   "source": []
  }
 ],
 "metadata": {
  "kernelspec": {
   "display_name": "Python 3",
   "language": "python",
   "name": "python3"
  },
  "language_info": {
   "codemirror_mode": {
    "name": "ipython",
    "version": 3
   },
   "file_extension": ".py",
   "mimetype": "text/x-python",
   "name": "python",
   "nbconvert_exporter": "python",
   "pygments_lexer": "ipython3",
   "version": "3.9.4"
  }
 },
 "nbformat": 4,
 "nbformat_minor": 5
}
