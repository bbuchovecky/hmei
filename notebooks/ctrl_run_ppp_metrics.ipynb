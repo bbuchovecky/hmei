{
 "cells": [
  {
   "cell_type": "raw",
   "id": "209e81f9-d076-44d1-bcf1-44e8a35151cb",
   "metadata": {},
   "source": [
    "Project:      HMEI Summer Internship\n",
    "Author:       Benjamin Buchovecky\n",
    "Created:      6/11/2021"
   ]
  },
  {
   "cell_type": "markdown",
   "id": "944ebb97-d403-4d4f-8bdb-6b65e74b63ac",
   "metadata": {},
   "source": [
    "# **Computation of PPP Metrics for Control Run**\n",
    "\n",
    "**Important metrics:**\n",
    "\n",
    "- SH sea ice extent/volume\n",
    "- regional sea ice extent/volume\n",
    "- regional NPP, PCO2, SSS, SST\n",
    "- gridpoint-level fields for sea ice concentration, SST, SSS, NPP, PCO2\n",
    "- sea ice edge position (latitude at which sea ice concentration drops below 15%)"
   ]
  },
  {
   "cell_type": "code",
   "execution_count": 1,
   "id": "2ee41e1e-b17b-4bf5-b500-631d29fa1762",
   "metadata": {},
   "outputs": [],
   "source": [
    "import os\n",
    "import warnings\n",
    "warnings.filterwarnings(\"ignore\", message=\"invalid value encountered in true_divide\")\n",
    "warnings.filterwarnings(\"ignore\", message=\"Unable to decode time axis into full numpy.datetime64 objects, continuing using cftime.datetime objects instead, reason: dates out of range\")\n",
    "warnings.filterwarnings(\"ignore\", message=\"invalid value encountered in reduce\")\n",
    "\n",
    "import xarray as xr\n",
    "import numpy as np\n",
    "import math\n",
    "import matplotlib.pyplot as plt\n",
    "\n",
    "%load_ext autoreload\n",
    "%autoreload 2\n",
    "import hmei.processing as pcs\n",
    "import hmei.visualization as vis"
   ]
  },
  {
   "cell_type": "markdown",
   "id": "3759a045-7a37-460f-9d20-a2acef3ddefc",
   "metadata": {},
   "source": [
    "# Import Raw Data"
   ]
  },
  {
   "cell_type": "code",
   "execution_count": 2,
   "id": "0fa5842a-fba1-4982-913c-e7ea87df1973",
   "metadata": {},
   "outputs": [],
   "source": [
    "write_rootdir = '/home/bbuchovecky/storage/so_predict_derived/'\n",
    "reg_masks = xr.open_dataset(write_rootdir+'regional_global_masks.nc')"
   ]
  },
  {
   "cell_type": "code",
   "execution_count": 3,
   "id": "0889e072-1a1a-4aab-9782-d70bcf7b03d9",
   "metadata": {},
   "outputs": [],
   "source": [
    "rootdir = '/home/bbuchovecky/storage/so_predict_derived/'\n",
    "reg_masks = xr.open_dataset(rootdir+'regional_global_masks.nc')"
   ]
  },
  {
   "cell_type": "code",
   "execution_count": 4,
   "id": "7d69f45f-571c-4c1c-8a3c-4771c9482511",
   "metadata": {},
   "outputs": [],
   "source": [
    "## variable names\n",
    "CN_INV = 'CN_INV'\n",
    "NPP = 'NPP'\n",
    "PCO2SURF = 'PCO2SURF'\n",
    "SIE = 'SIE'\n",
    "SIV = 'SIV'\n",
    "SI_EDGE = 'SI_EDGE'\n",
    "SSS = 'SSS'\n",
    "SST = 'SST'\n",
    "MLD ='MLD'"
   ]
  },
  {
   "cell_type": "code",
   "execution_count": 5,
   "id": "e890bd77-c4ae-4b4d-9b4d-a745e89fd5e0",
   "metadata": {
    "tags": []
   },
   "outputs": [
    {
     "name": "stdout",
     "output_type": "stream",
     "text": [
      "/local/projects/so_predict/esm2m_froelicher/CTRL/SST/sst_*.nc\n"
     ]
    }
   ],
   "source": [
    "sst_raw = pcs.open_raw_ctrl(SST)"
   ]
  },
  {
   "cell_type": "code",
   "execution_count": 6,
   "id": "f3146387-6950-4507-bbb0-04d50f7811a8",
   "metadata": {},
   "outputs": [
    {
     "name": "stdout",
     "output_type": "stream",
     "text": [
      "/local/projects/so_predict/esm2m_froelicher/CTRL/SSS/sss_*.nc\n"
     ]
    }
   ],
   "source": [
    "sss_raw = pcs.open_raw_ctrl(SSS)"
   ]
  },
  {
   "cell_type": "code",
   "execution_count": 7,
   "id": "061dd6dc-b025-4d7a-8c7d-45cdad94451e",
   "metadata": {},
   "outputs": [
    {
     "name": "stdout",
     "output_type": "stream",
     "text": [
      "/local/projects/so_predict/esm2m_froelicher/CTRL/PCO2SURF/pco2surf_*.nc\n"
     ]
    }
   ],
   "source": [
    "pco2_raw = pcs.open_raw_ctrl(PCO2SURF)"
   ]
  },
  {
   "cell_type": "code",
   "execution_count": 8,
   "id": "1789a6a2-d78e-4f73-902b-697b1ed18e00",
   "metadata": {},
   "outputs": [
    {
     "name": "stdout",
     "output_type": "stream",
     "text": [
      "/local/projects/so_predict/esm2m_froelicher/CTRL/NPP/NPP_*.nc\n"
     ]
    }
   ],
   "source": [
    "npp_raw = pcs.open_raw_ctrl(NPP)"
   ]
  },
  {
   "cell_type": "code",
   "execution_count": 9,
   "id": "d093a881-3342-45e1-b66e-d6c74f47a632",
   "metadata": {},
   "outputs": [
    {
     "name": "stdout",
     "output_type": "stream",
     "text": [
      "/local/projects/so_predict/esm2m_froelicher/CTRL/CN/CN_inv_*.nc\n"
     ]
    }
   ],
   "source": [
    "cn_raw = pcs.open_raw_ctrl(CN_INV)"
   ]
  },
  {
   "cell_type": "code",
   "execution_count": 10,
   "id": "8ac0894c-7ec7-4241-aed8-57f7c3991418",
   "metadata": {},
   "outputs": [
    {
     "name": "stdout",
     "output_type": "stream",
     "text": [
      "/local/projects/so_predict/esm2m_froelicher/CTRL/MLD/mld_0*.nc\n"
     ]
    }
   ],
   "source": [
    "mld_raw = pcs.open_raw_ctrl(MLD)"
   ]
  },
  {
   "cell_type": "code",
   "execution_count": 11,
   "id": "28811c90-33fa-4bf4-a388-18517a41c650",
   "metadata": {},
   "outputs": [
    {
     "name": "stdout",
     "output_type": "stream",
     "text": [
      "/home/bbuchovecky/storage/so_predict_derived/CTRL/SIE/sie_ctrl_so_timeseries.nc\n"
     ]
    }
   ],
   "source": [
    "sie_raw = pcs.open_gridcell_ctrl(SIE)"
   ]
  },
  {
   "cell_type": "code",
   "execution_count": 12,
   "id": "6c79d0f0-797e-4777-ad9e-e82c1ff09de6",
   "metadata": {},
   "outputs": [
    {
     "name": "stdout",
     "output_type": "stream",
     "text": [
      "/home/bbuchovecky/storage/so_predict_derived/CTRL/SIV/siv_ctrl_so_timeseries.nc\n"
     ]
    }
   ],
   "source": [
    "siv_raw = pcs.open_gridcell_ctrl(SIV)"
   ]
  },
  {
   "cell_type": "markdown",
   "id": "f4d582e9-d9ae-411e-8197-9a51fde89010",
   "metadata": {},
   "source": [
    "# ANNUAL"
   ]
  },
  {
   "cell_type": "markdown",
   "id": "6e2a705f-d126-4d31-9347-fb4326cc9d4d",
   "metadata": {},
   "source": [
    "## Annual Mean\n",
    "For each year, the area-weighted mean value for the specified region."
   ]
  },
  {
   "cell_type": "markdown",
   "id": "6893e13c-ed07-47d1-8d55-3e6eaeeeba53",
   "metadata": {},
   "source": [
    "### Global"
   ]
  },
  {
   "cell_type": "code",
   "execution_count": 13,
   "id": "1fb6dc76-bacb-463b-aa42-be6347e39d56",
   "metadata": {},
   "outputs": [],
   "source": [
    "## global annual mean\n",
    "\n",
    "sst_global_annual_mean = pcs.reg_annual_mean(sst_raw, 'sst') - 273.15\n",
    "sss_global_annual_mean = pcs.reg_annual_mean(sss_raw, 'sss')\n",
    "pco2_global_annual_mean = pcs.reg_annual_mean(pco2_raw, 'pco2surf')\n",
    "npp_global_annual_mean = pcs.reg_annual_mean(npp_raw, 'NPP')\n",
    "cn_global_annual_mean = pcs.reg_annual_mean(cn_raw, 'CN_INV')\n",
    "sie_global_annual_mean = pcs.reg_annual_mean(sie_raw, 'SIE_area')\n",
    "siv_global_annual_mean = pcs.reg_annual_mean(siv_raw, 'SIV_area')\n",
    "mld_global_annual_mean = pcs.reg_annual_mean(mld_raw, 'mld')"
   ]
  },
  {
   "cell_type": "code",
   "execution_count": 14,
   "id": "cad549bd-dc2a-4fdf-bd2b-d2b316de8f80",
   "metadata": {},
   "outputs": [],
   "source": [
    "write_rootdir = '/home/bbuchovecky/storage/so_predict_derived/'\n",
    "subdir_ctrl = 'CTRL/'\n",
    "\n",
    "## save mean data\n",
    "def save_mean(ds, var, reg, time_scale):\n",
    "    filename = var.lower()+'_'+reg.lower()+'_'+time_scale.lower()+'_mean.nc'\n",
    "    ds.to_netcdf(write_rootdir+subdir_ctrl+var.upper()+'/'+filename)\n",
    "\n",
    "save_mean(sst_global_annual_mean, 'sst', 'global', 'annual')\n",
    "save_mean(sss_global_annual_mean, 'sss', 'global', 'annual')\n",
    "save_mean(pco2_global_annual_mean, 'pco2surf', 'global', 'annual')\n",
    "save_mean(npp_global_annual_mean, 'npp', 'global', 'annual')\n",
    "save_mean(cn_global_annual_mean, 'cn_inv', 'global', 'annual')\n",
    "save_mean(sie_global_annual_mean, 'sie', 'global', 'annual')\n",
    "save_mean(siv_global_annual_mean, 'siv', 'global', 'annual')\n",
    "save_mean(mld_global_annual_mean, 'mld', 'global', 'annual')"
   ]
  },
  {
   "cell_type": "markdown",
   "id": "eee75a5c-df7b-4f93-a47c-f1cf1007900a",
   "metadata": {},
   "source": [
    "### Southern Ocean Regions"
   ]
  },
  {
   "cell_type": "code",
   "execution_count": 15,
   "id": "6323d425-22fb-4961-845d-2e531d318689",
   "metadata": {},
   "outputs": [],
   "source": [
    "## Southern Ocean annual mean\n",
    "\n",
    "sst_so_annual_mean  = []\n",
    "sss_so_annual_mean  = []\n",
    "pco2_so_annual_mean = []\n",
    "npp_so_annual_mean  = []\n",
    "cn_so_annual_mean   = []\n",
    "sie_so_annual_mean  = []\n",
    "siv_so_annual_mean  = []\n",
    "mld_so_annual_mean = []\n",
    "\n",
    "for reg in reg_masks.data_vars:\n",
    "    sst_so_annual_mean.append(pcs.reg_annual_mean(sst_raw, 'sst', reg_masks, reg) - 273.15)\n",
    "    sss_so_annual_mean.append(pcs.reg_annual_mean(sss_raw, 'sss', reg_masks, reg))\n",
    "    pco2_so_annual_mean.append(pcs.reg_annual_mean(pco2_raw, 'pco2surf', reg_masks, reg))\n",
    "    npp_so_annual_mean.append(pcs.reg_annual_mean(npp_raw, 'NPP', reg_masks, reg))\n",
    "    cn_so_annual_mean.append(pcs.reg_annual_mean(cn_raw, 'CN_INV', reg_masks, reg))\n",
    "    sie_so_annual_mean.append(pcs.reg_annual_mean(sie_raw, 'SIE_area', reg_masks, reg))\n",
    "    siv_so_annual_mean.append(pcs.reg_annual_mean(siv_raw, 'SIV_area', reg_masks, reg))\n",
    "    mld_so_annual_mean.append(pcs.reg_annual_mean(mld_raw, 'mld', reg_masks, reg))"
   ]
  },
  {
   "cell_type": "code",
   "execution_count": 16,
   "id": "8e24cb0d-5a6a-4850-bc29-e552f7decc06",
   "metadata": {},
   "outputs": [],
   "source": [
    "## rename DataArrays to regional names (SouthernOcean, Weddell, etc.)\n",
    "\n",
    "so_annual_mean = zip(sst_so_annual_mean,sss_so_annual_mean,pco2_so_annual_mean,npp_so_annual_mean,\n",
    "                       cn_so_annual_mean,sie_so_annual_mean,siv_so_annual_mean,mld_so_annual_mean)\n",
    "\n",
    "for (sst,sss,pco2,npp,cn,sie,siv,mld) in so_annual_mean:\n",
    "    sst.name = sst.name.split('_')[0]\n",
    "    sss.name = sss.name.split('_')[0]\n",
    "    pco2.name = pco2.name.split('_')[0]\n",
    "    npp.name = npp.name.split('_')[0]\n",
    "    cn.name = cn.name.split('_')[0]\n",
    "    sie.name = sie.name.split('_')[0]\n",
    "    siv.name = siv.name.split('_')[0]\n",
    "    mld.name = mld.name.split('_')[0]"
   ]
  },
  {
   "cell_type": "code",
   "execution_count": 17,
   "id": "22e6d6b5-362b-40eb-8512-0e07e12b4474",
   "metadata": {},
   "outputs": [],
   "source": [
    "## create Dataset\n",
    "\n",
    "ds_sst_annual_mean = xr.merge(sst_so_annual_mean)\n",
    "ds_sss_annual_mean = xr.merge(sss_so_annual_mean)\n",
    "ds_pco2_annual_mean = xr.merge(pco2_so_annual_mean)\n",
    "ds_npp_annual_mean = xr.merge(npp_so_annual_mean)\n",
    "ds_cn_annual_mean = xr.merge(cn_so_annual_mean)\n",
    "ds_sie_annual_mean = xr.merge(sie_so_annual_mean)\n",
    "ds_siv_annual_mean = xr.merge(siv_so_annual_mean)\n",
    "ds_mld_annual_mean = xr.merge(mld_so_annual_mean)"
   ]
  },
  {
   "cell_type": "code",
   "execution_count": 18,
   "id": "86b3fe58-1159-4275-b1ee-e752d1e3f245",
   "metadata": {},
   "outputs": [],
   "source": [
    "## set names\n",
    "\n",
    "ds_sst_annual_mean.attrs['name'] = 'sst_so_annual_mean'\n",
    "ds_sss_annual_mean.attrs['name'] = 'sss_so_annual_mean'\n",
    "ds_pco2_annual_mean.attrs['name'] = 'pco2surf_so_annual_mean'\n",
    "ds_npp_annual_mean.attrs['name'] = 'npp_so_annual_mean'\n",
    "ds_cn_annual_mean.attrs['name'] = 'sic_so_annual_mean'\n",
    "ds_sie_annual_mean.attrs['name'] = 'sie_so_annual_mean'\n",
    "ds_siv_annual_mean.attrs['name'] = 'siv_so_annual_mean'\n",
    "ds_mld_annual_mean.attrs['name'] = 'mld_so_annual_mean'"
   ]
  },
  {
   "cell_type": "code",
   "execution_count": 19,
   "id": "4dd7a0db-5bfb-406b-8d5a-ba3cdb473d69",
   "metadata": {},
   "outputs": [],
   "source": [
    "## save Datasets as NetCDF files\n",
    "\n",
    "write_rootdir = '/home/bbuchovecky/storage/so_predict_derived/'\n",
    "subdir_ctrl = 'CTRL/'\n",
    "\n",
    "## save mean data\n",
    "def save_mean(ds, var, reg, time_scale):\n",
    "    filename = var.lower()+'_'+reg.lower()+'_'+time_scale.lower()+'_mean.nc'\n",
    "    ds.to_netcdf(write_rootdir+subdir_ctrl+var.upper()+'/'+filename)\n",
    "\n",
    "save_mean(ds_sst_annual_mean, 'sst', 'so', 'annual')\n",
    "save_mean(ds_sss_annual_mean, 'sss', 'so', 'annual')\n",
    "save_mean(ds_pco2_annual_mean, 'pco2surf', 'so', 'annual')\n",
    "save_mean(ds_npp_annual_mean, 'npp', 'so', 'annual')\n",
    "save_mean(ds_cn_annual_mean, 'cn_inv', 'so', 'annual')\n",
    "save_mean(ds_sie_annual_mean, 'sie', 'so', 'annual')\n",
    "save_mean(ds_siv_annual_mean, 'siv', 'so', 'annual')\n",
    "save_mean(ds_mld_annual_mean, 'mld', 'so', 'annual')"
   ]
  },
  {
   "cell_type": "markdown",
   "id": "c90a1a32-0816-445b-9990-b687894bf5cc",
   "metadata": {
    "tags": []
   },
   "source": [
    "# MONTHLY"
   ]
  },
  {
   "cell_type": "markdown",
   "id": "21747952-26ae-4419-a1cf-00b19df88843",
   "metadata": {},
   "source": [
    "## Monthly Mean\n",
    "For each month, the area-weighted mean value for the specified region."
   ]
  },
  {
   "cell_type": "markdown",
   "id": "4117c252-1015-4249-b52c-90e47eb705d7",
   "metadata": {},
   "source": [
    "### Global"
   ]
  },
  {
   "cell_type": "code",
   "execution_count": 20,
   "id": "e3ac6db2-2639-47fb-9395-79a4fbebd07e",
   "metadata": {},
   "outputs": [],
   "source": [
    "## global monthly mean\n",
    "\n",
    "sst_global_monthly_mean = pcs.reg_monthly_mean(sst_raw, 'sst') - 273.15\n",
    "sss_global_monthly_mean = pcs.reg_monthly_mean(sss_raw, 'sss')\n",
    "pco2_global_monthly_mean = pcs.reg_monthly_mean(pco2_raw, 'pco2surf')\n",
    "npp_global_monthly_mean = pcs.reg_monthly_mean(npp_raw, 'NPP')\n",
    "cn_global_monthly_mean = pcs.reg_monthly_mean(cn_raw, 'CN_INV')\n",
    "sie_global_monthly_mean = pcs.reg_monthly_mean(sie_raw, 'SIE_area')\n",
    "siv_global_monthly_mean = pcs.reg_monthly_mean(siv_raw, 'SIV_area')\n",
    "mld_global_monthly_mean = pcs.reg_monthly_mean(mld_raw, 'mld')"
   ]
  },
  {
   "cell_type": "code",
   "execution_count": 21,
   "id": "546f4531-7b28-47eb-b932-a4385a8bb42d",
   "metadata": {
    "tags": []
   },
   "outputs": [],
   "source": [
    "write_rootdir = '/home/bbuchovecky/storage/so_predict_derived/'\n",
    "subdir_ctrl = 'CTRL/'\n",
    "\n",
    "## save mean data\n",
    "def save_mean(ds, var, reg, time_scale):\n",
    "    filename = var.lower()+'_'+reg.lower()+'_'+time_scale.lower()+'_mean.nc'\n",
    "    ds.to_netcdf(write_rootdir+subdir_ctrl+var.upper()+'/'+filename)\n",
    "\n",
    "save_mean(sst_global_monthly_mean, 'sst', 'global', 'monthly')\n",
    "save_mean(sss_global_monthly_mean, 'sss', 'global', 'monthly')\n",
    "save_mean(pco2_global_monthly_mean, 'pco2surf', 'global', 'monthly')\n",
    "save_mean(npp_global_monthly_mean, 'npp', 'global', 'monthly')\n",
    "save_mean(cn_global_monthly_mean, 'cn_inv', 'global', 'monthly')\n",
    "save_mean(sie_global_monthly_mean, 'sie', 'global', 'monthly')\n",
    "save_mean(siv_global_monthly_mean, 'siv', 'global', 'monthly')\n",
    "save_mean(mld_global_monthly_mean, 'mld', 'global', 'monthly')"
   ]
  },
  {
   "cell_type": "markdown",
   "id": "0aa1cfa4-442b-4691-bad9-a182b4e0470e",
   "metadata": {},
   "source": [
    "### Southern Ocean Regions"
   ]
  },
  {
   "cell_type": "code",
   "execution_count": 22,
   "id": "8cbe6670-a674-4b1d-aec8-4b2e65e14421",
   "metadata": {},
   "outputs": [],
   "source": [
    "## regional monthly mean\n",
    "\n",
    "sst_so_monthly_mean  = []\n",
    "sss_so_monthly_mean  = []\n",
    "pco2_so_monthly_mean = []\n",
    "npp_so_monthly_mean  = []\n",
    "cn_so_monthly_mean   = []\n",
    "sie_so_monthly_mean  = []\n",
    "siv_so_monthly_mean  = []\n",
    "mld_so_monthly_mean = []\n",
    "\n",
    "for reg in reg_masks.data_vars:\n",
    "    sst_so_monthly_mean.append(pcs.reg_monthly_mean(sst_raw, 'sst', reg_masks, reg) - 273.15)\n",
    "    sss_so_monthly_mean.append(pcs.reg_monthly_mean(sss_raw, 'sss', reg_masks, reg))\n",
    "    pco2_so_monthly_mean.append(pcs.reg_monthly_mean(pco2_raw, 'pco2surf', reg_masks, reg))\n",
    "    npp_so_monthly_mean.append(pcs.reg_monthly_mean(npp_raw, 'NPP', reg_masks, reg))\n",
    "    cn_so_monthly_mean.append(pcs.reg_monthly_mean(cn_raw, 'CN_INV', reg_masks, reg))\n",
    "    sie_so_monthly_mean.append(pcs.reg_monthly_mean(sie_raw, 'SIE_area', reg_masks, reg))\n",
    "    siv_so_monthly_mean.append(pcs.reg_monthly_mean(siv_raw, 'SIV_area', reg_masks, reg))\n",
    "    mld_so_monthly_mean.append(pcs.reg_monthly_mean(mld_raw, 'mld', reg_masks, reg))"
   ]
  },
  {
   "cell_type": "code",
   "execution_count": 23,
   "id": "53861806-1dbb-47eb-ac7e-4c1f24783993",
   "metadata": {},
   "outputs": [],
   "source": [
    "## rename DataArrays to regional names (SouthernOcean, Weddell, etc.)\n",
    "\n",
    "so_monthly_mean = zip(sst_so_monthly_mean,sss_so_monthly_mean,pco2_so_monthly_mean,npp_so_monthly_mean,\n",
    "                       cn_so_monthly_mean,sie_so_monthly_mean,siv_so_monthly_mean,mld_so_monthly_mean)\n",
    "\n",
    "for (sst,sss,pco2,npp,cn,sie,siv,mld) in so_monthly_mean:\n",
    "    sst.name = sst.name.split('_')[0]\n",
    "    sss.name = sss.name.split('_')[0]\n",
    "    pco2.name = pco2.name.split('_')[0]\n",
    "    npp.name = npp.name.split('_')[0]\n",
    "    cn.name = cn.name.split('_')[0]\n",
    "    sie.name = sie.name.split('_')[0]\n",
    "    siv.name = siv.name.split('_')[0]\n",
    "    mld.name = mld.name.split('_')[0]"
   ]
  },
  {
   "cell_type": "code",
   "execution_count": 24,
   "id": "43218b28-ceb0-4a29-b578-180e1193fcde",
   "metadata": {},
   "outputs": [],
   "source": [
    "## create Dataset\n",
    "\n",
    "ds_sst_monthly_mean = xr.merge(sst_so_monthly_mean)\n",
    "ds_sss_monthly_mean = xr.merge(sss_so_monthly_mean)\n",
    "ds_pco2_monthly_mean = xr.merge(pco2_so_monthly_mean)\n",
    "ds_npp_monthly_mean = xr.merge(npp_so_monthly_mean)\n",
    "ds_cn_monthly_mean = xr.merge(cn_so_monthly_mean)\n",
    "ds_sie_monthly_mean = xr.merge(sie_so_monthly_mean)\n",
    "ds_siv_monthly_mean = xr.merge(siv_so_monthly_mean)\n",
    "ds_mld_monthly_mean = xr.merge(mld_so_monthly_mean)"
   ]
  },
  {
   "cell_type": "code",
   "execution_count": 25,
   "id": "ea87ea93-b793-4beb-8b44-73b6884a1a99",
   "metadata": {},
   "outputs": [],
   "source": [
    "## set names\n",
    "\n",
    "ds_sst_monthly_mean.attrs['name'] = 'sst_so_monthly_mean'\n",
    "ds_sss_monthly_mean.attrs['name'] = 'sss_so_monthly_mean'\n",
    "ds_pco2_monthly_mean.attrs['name'] = 'pco2surf_so_monthly_mean'\n",
    "ds_npp_monthly_mean.attrs['name'] = 'npp_so_monthly_mean'\n",
    "ds_cn_monthly_mean.attrs['name'] = 'sic_so_monthly_mean'\n",
    "ds_sie_monthly_mean.attrs['name'] = 'sie_so_monthly_mean'\n",
    "ds_siv_monthly_mean.attrs['name'] = 'siv_so_monthly_mean'\n",
    "ds_mld_monthly_mean.attrs['name'] = 'mld_so_monthly_mean'"
   ]
  },
  {
   "cell_type": "code",
   "execution_count": 26,
   "id": "41295e47-62ac-4564-82e4-72fc076d3d61",
   "metadata": {},
   "outputs": [],
   "source": [
    "## save Datasets as NetCDF files\n",
    "\n",
    "write_rootdir = '/home/bbuchovecky/storage/so_predict_derived/'\n",
    "subdir_ctrl = 'CTRL/'\n",
    "\n",
    "## save mean data\n",
    "def save_mean(ds, var, reg, time_scale):\n",
    "    filename = var.lower()+'_'+reg.lower()+'_'+time_scale.lower()+'_mean.nc'\n",
    "    ds.to_netcdf(write_rootdir+subdir_ctrl+var.upper()+'/'+filename)\n",
    "\n",
    "save_mean(ds_sst_monthly_mean, 'sst', 'so', 'monthly')\n",
    "save_mean(ds_sss_monthly_mean, 'sss', 'so', 'monthly')\n",
    "save_mean(ds_pco2_monthly_mean, 'pco2surf', 'so', 'monthly')\n",
    "save_mean(ds_npp_monthly_mean, 'npp', 'so', 'monthly')\n",
    "save_mean(ds_cn_monthly_mean, 'cn_inv', 'so', 'monthly')\n",
    "save_mean(ds_sie_monthly_mean, 'sie', 'so', 'monthly')\n",
    "save_mean(ds_siv_monthly_mean, 'siv', 'so', 'monthly')\n",
    "save_mean(ds_mld_monthly_mean, 'mld', 'so', 'monthly')"
   ]
  },
  {
   "cell_type": "markdown",
   "id": "fce973c3-5953-464e-ad08-dd97b276b9f5",
   "metadata": {},
   "source": [
    "## Monthly Anomaly\n",
    "Remove the seasonal cycle from the monthly mean timeseries."
   ]
  },
  {
   "cell_type": "markdown",
   "id": "e5df9331-567d-4309-bbcc-329733e48f41",
   "metadata": {},
   "source": [
    "### Global"
   ]
  },
  {
   "cell_type": "code",
   "execution_count": 27,
   "id": "25edcdf2-e1f0-477e-8779-978510bccb76",
   "metadata": {},
   "outputs": [],
   "source": [
    "write_rootdir = '/home/bbuchovecky/storage/so_predict_derived/'\n",
    "subdir_ctrl = 'CTRL/'\n",
    "\n",
    "def open_mean(var, reg, time_scale):\n",
    "    write_rootdir = '/home/bbuchovecky/storage/so_predict_derived/'\n",
    "    subdir_ctrl = 'CTRL/'\n",
    "    filename = var.lower()+'_'+reg.lower()+'_'+time_scale.lower()+'_mean.nc'\n",
    "    return xr.open_dataset(write_rootdir+subdir_ctrl+var.upper()+'/'+filename)"
   ]
  },
  {
   "cell_type": "code",
   "execution_count": 28,
   "id": "4607dae9-e953-47d6-b83c-d2c819e1e0ff",
   "metadata": {},
   "outputs": [],
   "source": [
    "sst_global_monthly_mean = open_mean('sst', 'global', 'monthly')\n",
    "sss_global_monthly_mean = open_mean('sss', 'global', 'monthly')\n",
    "pco2_global_monthly_mean = open_mean('pco2surf', 'global', 'monthly')\n",
    "npp_global_monthly_mean = open_mean('npp', 'global', 'monthly')\n",
    "cn_global_monthly_mean = open_mean('cn_inv', 'global', 'monthly')\n",
    "sie_global_monthly_mean = open_mean('sie', 'global', 'monthly')\n",
    "siv_global_monthly_mean = open_mean('siv', 'global', 'monthly')\n",
    "mld_global_monthly_mean = open_mean('mld', 'global', 'monthly')"
   ]
  },
  {
   "cell_type": "code",
   "execution_count": 29,
   "id": "594e3d8c-9331-4494-9d7f-b53ffdb62db1",
   "metadata": {},
   "outputs": [],
   "source": [
    "sst_global_monthly_anom = pcs.reg_monthly_anom(sst_global_monthly_mean)\n",
    "sss_global_monthly_anom = pcs.reg_monthly_anom(sss_global_monthly_mean)\n",
    "pco2_global_monthly_anom = pcs.reg_monthly_anom(pco2_global_monthly_mean)\n",
    "npp_global_monthly_anom = pcs.reg_monthly_anom(npp_global_monthly_mean)\n",
    "cn_global_monthly_anom = pcs.reg_monthly_anom(cn_global_monthly_mean)\n",
    "sie_global_monthly_anom = pcs.reg_monthly_anom(sie_global_monthly_mean)\n",
    "siv_global_monthly_anom = pcs.reg_monthly_anom(siv_global_monthly_mean)\n",
    "mld_global_monthly_anom = pcs.reg_monthly_anom(mld_global_monthly_mean)"
   ]
  },
  {
   "cell_type": "code",
   "execution_count": 30,
   "id": "321d6d87-c9bb-458f-8b1f-84c03aa267dc",
   "metadata": {
    "tags": []
   },
   "outputs": [],
   "source": [
    "write_rootdir = '/home/bbuchovecky/storage/so_predict_derived/'\n",
    "subdir_ctrl = 'CTRL/'\n",
    "\n",
    "## save mean data\n",
    "def save_anom(ds, var, reg, time_scale):\n",
    "    filename = var.lower()+'_'+reg.lower()+'_'+time_scale.lower()+'_anom.nc'\n",
    "    ds.to_netcdf(write_rootdir+subdir_ctrl+var.upper()+'/'+filename)\n",
    "\n",
    "save_anom(sst_global_monthly_anom, 'sst', 'global', 'monthly')\n",
    "save_anom(sss_global_monthly_anom, 'sss', 'global', 'monthly')\n",
    "save_anom(pco2_global_monthly_anom, 'pco2surf', 'global', 'monthly')\n",
    "save_anom(npp_global_monthly_anom, 'npp', 'global', 'monthly')\n",
    "save_anom(cn_global_monthly_anom, 'cn_inv', 'global', 'monthly')\n",
    "save_anom(sie_global_monthly_anom, 'sie', 'global', 'monthly')\n",
    "save_anom(siv_global_monthly_anom, 'siv', 'global', 'monthly')\n",
    "save_anom(mld_global_monthly_anom, 'mld', 'global', 'monthly')"
   ]
  },
  {
   "cell_type": "markdown",
   "id": "36a0bbd1-8629-4b72-9904-a720bc16cf4b",
   "metadata": {},
   "source": [
    "### Southern Ocean Regions"
   ]
  },
  {
   "cell_type": "code",
   "execution_count": 31,
   "id": "4880e7bd-ffcd-449c-b707-c0b34ec4c096",
   "metadata": {},
   "outputs": [],
   "source": [
    "write_rootdir = '/home/bbuchovecky/storage/so_predict_derived/'\n",
    "subdir_ctrl = 'CTRL/'\n",
    "\n",
    "def open_mean(var, reg, time_scale):\n",
    "    write_rootdir = '/home/bbuchovecky/storage/so_predict_derived/'\n",
    "    subdir_ctrl = 'CTRL/'\n",
    "    filename = var.lower()+'_'+reg.lower()+'_'+time_scale.lower()+'_mean.nc'\n",
    "    return xr.open_dataset(write_rootdir+subdir_ctrl+var.upper()+'/'+filename)"
   ]
  },
  {
   "cell_type": "code",
   "execution_count": 32,
   "id": "f0ef3dfa-cdcf-4743-8ea7-98f2871c31f0",
   "metadata": {},
   "outputs": [],
   "source": [
    "sst_so_monthly_mean = open_mean('sst', 'so', 'monthly')\n",
    "sss_so_monthly_mean = open_mean('sss', 'so', 'monthly')\n",
    "pco2_so_monthly_mean = open_mean('pco2surf', 'so', 'monthly')\n",
    "npp_so_monthly_mean = open_mean('npp', 'so', 'monthly')\n",
    "cn_so_monthly_mean = open_mean('cn_inv', 'so', 'monthly')\n",
    "sie_so_monthly_mean = open_mean('sie', 'so', 'monthly')\n",
    "siv_so_monthly_mean = open_mean('siv', 'so', 'monthly')\n",
    "mld_so_monthly_mean = open_mean('mld', 'so', 'monthly')"
   ]
  },
  {
   "cell_type": "code",
   "execution_count": 33,
   "id": "9e0db8fe-3889-4a09-a095-3de6428ca665",
   "metadata": {},
   "outputs": [],
   "source": [
    "sst_so_monthly_anom = pcs.reg_monthly_anom(sst_so_monthly_mean)\n",
    "sss_so_monthly_anom = pcs.reg_monthly_anom(sss_so_monthly_mean)\n",
    "pco2_so_monthly_anom = pcs.reg_monthly_anom(pco2_so_monthly_mean)\n",
    "npp_so_monthly_anom = pcs.reg_monthly_anom(npp_so_monthly_mean)\n",
    "cn_so_monthly_anom = pcs.reg_monthly_anom(cn_so_monthly_mean)\n",
    "sie_so_monthly_anom = pcs.reg_monthly_anom(sie_so_monthly_mean)\n",
    "siv_so_monthly_anom = pcs.reg_monthly_anom(siv_so_monthly_mean)\n",
    "mld_so_monthly_anom = pcs.reg_monthly_anom(mld_so_monthly_mean)"
   ]
  },
  {
   "cell_type": "code",
   "execution_count": 34,
   "id": "a10b6fd4-b370-4598-b972-b3fd9a07abfc",
   "metadata": {},
   "outputs": [],
   "source": [
    "write_rootdir = '/home/bbuchovecky/storage/so_predict_derived/'\n",
    "subdir_ctrl = 'CTRL/'\n",
    "\n",
    "def save_anom(ds, var, reg, time_scale):\n",
    "    filename = var.lower()+'_'+reg.lower()+'_'+time_scale.lower()+'_anom.nc'\n",
    "    ds.to_netcdf(write_rootdir+subdir_ctrl+var.upper()+'/'+filename)\n",
    "\n",
    "save_anom(sst_so_monthly_anom, 'sst', 'so', 'monthly')\n",
    "save_anom(sss_so_monthly_anom, 'sss', 'so', 'monthly')\n",
    "save_anom(pco2_so_monthly_anom, 'pco2surf', 'so', 'monthly')\n",
    "save_anom(npp_so_monthly_anom, 'npp', 'so', 'monthly')\n",
    "save_anom(cn_so_monthly_anom, 'cn_inv', 'so', 'monthly')\n",
    "save_anom(sie_so_monthly_anom, 'sie', 'so', 'monthly')\n",
    "save_anom(siv_so_monthly_anom, 'siv', 'so', 'monthly')\n",
    "save_anom(mld_so_monthly_anom, 'mld', 'so', 'monthly')"
   ]
  },
  {
   "cell_type": "code",
   "execution_count": 38,
   "id": "fad2823a-ba62-4ac3-abfa-f4a078e9fafa",
   "metadata": {},
   "outputs": [
    {
     "data": {
      "text/plain": [
       "['SST_raw',\n",
       " 'ocean.static.nc',\n",
       " 'sst_ctrl_global_anomaly.nc',\n",
       " 'sst_ctrl_global_climatology.nc',\n",
       " 'sst_ctrl_global_variance.nc',\n",
       " 'sst_ctrl_so_anomaly.nc',\n",
       " 'sst_ctrl_so_climatology.nc',\n",
       " 'sst_ctrl_so_variance.nc',\n",
       " 'sst_global_annual_mean.nc',\n",
       " 'sst_global_monthly_anom.nc',\n",
       " 'sst_global_monthly_mean.nc',\n",
       " 'sst_so_annual_mean.nc',\n",
       " 'sst_so_monthly_anom.nc',\n",
       " 'sst_so_monthly_mean.nc']"
      ]
     },
     "execution_count": 38,
     "metadata": {},
     "output_type": "execute_result"
    }
   ],
   "source": [
    "write_rootdir = '/home/bbuchovecky/storage/so_predict_derived/'\n",
    "subdir_ctrl = 'CTRL/'\n",
    "\n",
    "pcs.dir_inspect(write_rootdir+subdir_ctrl+'SST')"
   ]
  },
  {
   "cell_type": "code",
   "execution_count": 64,
   "id": "cd4e6340-c136-4972-b591-e88466d3fc58",
   "metadata": {
    "tags": []
   },
   "outputs": [],
   "source": [
    "x = xr.open_dataset(write_rootdir+subdir_ctrl+'MLD/mld_so_annual_mean.nc')"
   ]
  },
  {
   "cell_type": "code",
   "execution_count": 66,
   "id": "8085dfcd-5a0a-4bd7-ab2d-423ef677c9bc",
   "metadata": {},
   "outputs": [
    {
     "data": {
      "text/plain": [
       "[<matplotlib.lines.Line2D at 0x7f510b646b20>]"
      ]
     },
     "execution_count": 66,
     "metadata": {},
     "output_type": "execute_result"
    },
    {
     "data": {
      "image/png": "[encoded data removed]",
      "text/plain": [
       "<Figure size 432x288 with 1 Axes>"
      ]
     },
     "metadata": {
      "needs_background": "light"
     },
     "output_type": "display_data"
    }
   ],
   "source": [
    "plt.plot(np.arange(0,300), x['Weddell'])"
   ]
  },
  {
   "cell_type": "code",
   "execution_count": 67,
   "id": "17f64cd1-5a93-4a4c-8f6f-8f875023a262",
   "metadata": {},
   "outputs": [],
   "source": [
    "y = xr.open_dataset(write_rootdir+subdir_ctrl+'MLD/mld_so_monthly_anom.nc')"
   ]
  },
  {
   "cell_type": "code",
   "execution_count": 68,
   "id": "3504179c-f693-46d7-a2f2-5b88ef198ffc",
   "metadata": {},
   "outputs": [
    {
     "data": {
      "text/plain": [
       "[<matplotlib.lines.Line2D at 0x7f510b656d00>]"
      ]
     },
     "execution_count": 68,
     "metadata": {},
     "output_type": "execute_result"
    },
    {
     "data": {
      "image/png": "[encoded data removed]",
      "text/plain": [
       "<Figure size 432x288 with 1 Axes>"
      ]
     },
     "metadata": {
      "needs_background": "light"
     },
     "output_type": "display_data"
    }
   ],
   "source": [
    "plt.plot(np.arange(0,3600), y['Weddell'])"
   ]
  },
  {
   "cell_type": "markdown",
   "id": "5b30ba7a-abd1-4c30-b4f5-700ae0171051",
   "metadata": {},
   "source": [
    "# Misc"
   ]
  },
  {
   "cell_type": "code",
   "execution_count": 35,
   "id": "34f09b71-0bf1-4cc8-8cf0-e3eb3169d4a0",
   "metadata": {
    "collapsed": true,
    "jupyter": {
     "outputs_hidden": true,
     "source_hidden": true
    },
    "tags": []
   },
   "outputs": [
    {
     "ename": "NameError",
     "evalue": "name 'np_sst_anom_so' is not defined",
     "output_type": "error",
     "traceback": [
      "\u001b[0;31m---------------------------------------------------------------------------\u001b[0m",
      "\u001b[0;31mNameError\u001b[0m                                 Traceback (most recent call last)",
      "\u001b[0;32m<ipython-input-35-aea6f4489e75>\u001b[0m in \u001b[0;36m<module>\u001b[0;34m\u001b[0m\n\u001b[1;32m      3\u001b[0m \u001b[0;34m\u001b[0m\u001b[0m\n\u001b[1;32m      4\u001b[0m \u001b[0mfig\u001b[0m\u001b[0;34m,\u001b[0m\u001b[0max\u001b[0m \u001b[0;34m=\u001b[0m \u001b[0mplt\u001b[0m\u001b[0;34m.\u001b[0m\u001b[0msubplots\u001b[0m\u001b[0;34m(\u001b[0m\u001b[0mfigsize\u001b[0m\u001b[0;34m=\u001b[0m\u001b[0;34m(\u001b[0m\u001b[0;36m10\u001b[0m\u001b[0;34m,\u001b[0m\u001b[0;36m5\u001b[0m\u001b[0;34m)\u001b[0m\u001b[0;34m)\u001b[0m\u001b[0;34m\u001b[0m\u001b[0;34m\u001b[0m\u001b[0m\n\u001b[0;32m----> 5\u001b[0;31m \u001b[0max\u001b[0m\u001b[0;34m.\u001b[0m\u001b[0mplot\u001b[0m\u001b[0;34m(\u001b[0m\u001b[0mnp\u001b[0m\u001b[0;34m.\u001b[0m\u001b[0marange\u001b[0m\u001b[0;34m(\u001b[0m\u001b[0;36m0\u001b[0m\u001b[0;34m,\u001b[0m\u001b[0;36m3600\u001b[0m\u001b[0;34m)\u001b[0m\u001b[0;34m,\u001b[0m \u001b[0mnp_sst_anom_so\u001b[0m\u001b[0;34m)\u001b[0m\u001b[0;34m\u001b[0m\u001b[0;34m\u001b[0m\u001b[0m\n\u001b[0m\u001b[1;32m      6\u001b[0m \u001b[0max\u001b[0m\u001b[0;34m.\u001b[0m\u001b[0mset\u001b[0m\u001b[0;34m(\u001b[0m\u001b[0mxlim\u001b[0m\u001b[0;34m=\u001b[0m\u001b[0;34m[\u001b[0m\u001b[0;36m0\u001b[0m\u001b[0;34m,\u001b[0m\u001b[0;36m3600\u001b[0m\u001b[0;34m]\u001b[0m\u001b[0;34m,\u001b[0m \u001b[0mxticks\u001b[0m\u001b[0;34m=\u001b[0m\u001b[0mens_mths\u001b[0m\u001b[0;34m,\u001b[0m \u001b[0mxticklabels\u001b[0m\u001b[0;34m=\u001b[0m\u001b[0mens_yrs\u001b[0m\u001b[0;34m)\u001b[0m\u001b[0;34m;\u001b[0m\u001b[0;34m\u001b[0m\u001b[0;34m\u001b[0m\u001b[0m\n",
      "\u001b[0;31mNameError\u001b[0m: name 'np_sst_anom_so' is not defined"
     ]
    },
    {
     "data": {
      "image/png": "[encoded data removed]",
      "text/plain": [
       "<Figure size 720x360 with 1 Axes>"
      ]
     },
     "metadata": {
      "needs_background": "light"
     },
     "output_type": "display_data"
    }
   ],
   "source": [
    "ens_yrs = np.array([22,64,106,170,232,295])\n",
    "ens_mths = ens_yrs * 12\n",
    "\n",
    "fig,ax = plt.subplots(figsize=(10,5))\n",
    "ax.plot(np.arange(0,3600), np_sst_anom_so)\n",
    "ax.set(xlim=[0,3600], xticks=ens_mths, xticklabels=ens_yrs);"
   ]
  },
  {
   "cell_type": "code",
   "execution_count": 71,
   "id": "3fd25038-2765-4705-abd2-f6c0da4113d5",
   "metadata": {},
   "outputs": [
    {
     "data": {
      "text/plain": [
       "<matplotlib.collections.QuadMesh at 0x7f510b5209a0>"
      ]
     },
     "execution_count": 71,
     "metadata": {},
     "output_type": "execute_result"
    },
    {
     "data": {
      "image/png": "[encoded data removed]",
      "text/plain": [
       "<Figure size 432x288 with 3 Axes>"
      ]
     },
     "metadata": {
      "needs_background": "light"
     },
     "output_type": "display_data"
    }
   ],
   "source": [
    "reg_masks['SouthernOcean'].plot()\n",
    "reg_masks['Weddell'].plot(alpha=0.3)"
   ]
  },
  {
   "cell_type": "code",
   "execution_count": 78,
   "id": "7180ba97-52c4-45d5-ab15-fd67a9579c31",
   "metadata": {
    "tags": []
   },
   "outputs": [
    {
     "data": {
      "text/html": [
       "<div><svg style=\"position: absolute; width: 0; height: 0; overflow: hidden\">\n",
       "<defs>\n",
       "<symbol id=\"icon-database\" viewBox=\"0 0 32 32\">\n",
       "<path d=\"M16 0c-8.837 0-16 2.239-16 5v4c0 2.761 7.163 5 16 5s16-2.239 16-5v-4c0-2.761-7.163-5-16-5z\"></path>\n",
       "<path d=\"M16 17c-8.837 0-16-2.239-16-5v6c0 2.761 7.163 5 16 5s16-2.239 16-5v-6c0 2.761-7.163 5-16 5z\"></path>\n",
       "<path d=\"M16 26c-8.837 0-16-2.239-16-5v6c0 2.761 7.163 5 16 5s16-2.239 16-5v-6c0 2.761-7.163 5-16 5z\"></path>\n",
       "</symbol>\n",
       "<symbol id=\"icon-file-text2\" viewBox=\"0 0 32 32\">\n",
       "<path d=\"M28.681 7.159c-0.694-0.947-1.662-2.053-2.724-3.116s-2.169-2.030-3.116-2.724c-1.612-1.182-2.393-1.319-2.841-1.319h-15.5c-1.378 0-2.5 1.121-2.5 2.5v27c0 1.378 1.122 2.5 2.5 2.5h23c1.378 0 2.5-1.122 2.5-2.5v-19.5c0-0.448-0.137-1.23-1.319-2.841zM24.543 5.457c0.959 0.959 1.712 1.825 2.268 2.543h-4.811v-4.811c0.718 0.556 1.584 1.309 2.543 2.268zM28 29.5c0 0.271-0.229 0.5-0.5 0.5h-23c-0.271 0-0.5-0.229-0.5-0.5v-27c0-0.271 0.229-0.5 0.5-0.5 0 0 15.499-0 15.5 0v7c0 0.552 0.448 1 1 1h7v19.5z\"></path>\n",
       "<path d=\"M23 26h-14c-0.552 0-1-0.448-1-1s0.448-1 1-1h14c0.552 0 1 0.448 1 1s-0.448 1-1 1z\"></path>\n",
       "<path d=\"M23 22h-14c-0.552 0-1-0.448-1-1s0.448-1 1-1h14c0.552 0 1 0.448 1 1s-0.448 1-1 1z\"></path>\n",
       "<path d=\"M23 18h-14c-0.552 0-1-0.448-1-1s0.448-1 1-1h14c0.552 0 1 0.448 1 1s-0.448 1-1 1z\"></path>\n",
       "</symbol>\n",
       "</defs>\n",
       "</svg>\n",
       "<style>/* CSS stylesheet for displaying xarray objects in jupyterlab.\n",
       " *\n",
       " */\n",
       "\n",
       ":root {\n",
       "  --xr-font-color0: var(--jp-content-font-color0, rgba(0, 0, 0, 1));\n",
       "  --xr-font-color2: var(--jp-content-font-color2, rgba(0, 0, 0, 0.54));\n",
       "  --xr-font-color3: var(--jp-content-font-color3, rgba(0, 0, 0, 0.38));\n",
       "  --xr-border-color: var(--jp-border-color2, #e0e0e0);\n",
       "  --xr-disabled-color: var(--jp-layout-color3, #bdbdbd);\n",
       "  --xr-background-color: var(--jp-layout-color0, white);\n",
       "  --xr-background-color-row-even: var(--jp-layout-color1, white);\n",
       "  --xr-background-color-row-odd: var(--jp-layout-color2, #eeeeee);\n",
       "}\n",
       "\n",
       "html[theme=dark],\n",
       "body.vscode-dark {\n",
       "  --xr-font-color0: rgba(255, 255, 255, 1);\n",
       "  --xr-font-color2: rgba(255, 255, 255, 0.54);\n",
       "  --xr-font-color3: rgba(255, 255, 255, 0.38);\n",
       "  --xr-border-color: #1F1F1F;\n",
       "  --xr-disabled-color: #515151;\n",
       "  --xr-background-color: #111111;\n",
       "  --xr-background-color-row-even: #111111;\n",
       "  --xr-background-color-row-odd: #313131;\n",
       "}\n",
       "\n",
       ".xr-wrap {\n",
       "  display: block;\n",
       "  min-width: 300px;\n",
       "  max-width: 700px;\n",
       "}\n",
       "\n",
       ".xr-text-repr-fallback {\n",
       "  /* fallback to plain text repr when CSS is not injected (untrusted notebook) */\n",
       "  display: none;\n",
       "}\n",
       "\n",
       ".xr-header {\n",
       "  padding-top: 6px;\n",
       "  padding-bottom: 6px;\n",
       "  margin-bottom: 4px;\n",
       "  border-bottom: solid 1px var(--xr-border-color);\n",
       "}\n",
       "\n",
       ".xr-header > div,\n",
       ".xr-header > ul {\n",
       "  display: inline;\n",
       "  margin-top: 0;\n",
       "  margin-bottom: 0;\n",
       "}\n",
       "\n",
       ".xr-obj-type,\n",
       ".xr-array-name {\n",
       "  margin-left: 2px;\n",
       "  margin-right: 10px;\n",
       "}\n",
       "\n",
       ".xr-obj-type {\n",
       "  color: var(--xr-font-color2);\n",
       "}\n",
       "\n",
       ".xr-sections {\n",
       "  padding-left: 0 !important;\n",
       "  display: grid;\n",
       "  grid-template-columns: 150px auto auto 1fr 20px 20px;\n",
       "}\n",
       "\n",
       ".xr-section-item {\n",
       "  display: contents;\n",
       "}\n",
       "\n",
       ".xr-section-item input {\n",
       "  display: none;\n",
       "}\n",
       "\n",
       ".xr-section-item input + label {\n",
       "  color: var(--xr-disabled-color);\n",
       "}\n",
       "\n",
       ".xr-section-item input:enabled + label {\n",
       "  cursor: pointer;\n",
       "  color: var(--xr-font-color2);\n",
       "}\n",
       "\n",
       ".xr-section-item input:enabled + label:hover {\n",
       "  color: var(--xr-font-color0);\n",
       "}\n",
       "\n",
       ".xr-section-summary {\n",
       "  grid-column: 1;\n",
       "  color: var(--xr-font-color2);\n",
       "  font-weight: 500;\n",
       "}\n",
       "\n",
       ".xr-section-summary > span {\n",
       "  display: inline-block;\n",
       "  padding-left: 0.5em;\n",
       "}\n",
       "\n",
       ".xr-section-summary-in:disabled + label {\n",
       "  color: var(--xr-font-color2);\n",
       "}\n",
       "\n",
       ".xr-section-summary-in + label:before {\n",
       "  display: inline-block;\n",
       "  content: '►';\n",
       "  font-size: 11px;\n",
       "  width: 15px;\n",
       "  text-align: center;\n",
       "}\n",
       "\n",
       ".xr-section-summary-in:disabled + label:before {\n",
       "  color: var(--xr-disabled-color);\n",
       "}\n",
       "\n",
       ".xr-section-summary-in:checked + label:before {\n",
       "  content: '▼';\n",
       "}\n",
       "\n",
       ".xr-section-summary-in:checked + label > span {\n",
       "  display: none;\n",
       "}\n",
       "\n",
       ".xr-section-summary,\n",
       ".xr-section-inline-details {\n",
       "  padding-top: 4px;\n",
       "  padding-bottom: 4px;\n",
       "}\n",
       "\n",
       ".xr-section-inline-details {\n",
       "  grid-column: 2 / -1;\n",
       "}\n",
       "\n",
       ".xr-section-details {\n",
       "  display: none;\n",
       "  grid-column: 1 / -1;\n",
       "  margin-bottom: 5px;\n",
       "}\n",
       "\n",
       ".xr-section-summary-in:checked ~ .xr-section-details {\n",
       "  display: contents;\n",
       "}\n",
       "\n",
       ".xr-array-wrap {\n",
       "  grid-column: 1 / -1;\n",
       "  display: grid;\n",
       "  grid-template-columns: 20px auto;\n",
       "}\n",
       "\n",
       ".xr-array-wrap > label {\n",
       "  grid-column: 1;\n",
       "  vertical-align: top;\n",
       "}\n",
       "\n",
       ".xr-preview {\n",
       "  color: var(--xr-font-color3);\n",
       "}\n",
       "\n",
       ".xr-array-preview,\n",
       ".xr-array-data {\n",
       "  padding: 0 5px !important;\n",
       "  grid-column: 2;\n",
       "}\n",
       "\n",
       ".xr-array-data,\n",
       ".xr-array-in:checked ~ .xr-array-preview {\n",
       "  display: none;\n",
       "}\n",
       "\n",
       ".xr-array-in:checked ~ .xr-array-data,\n",
       ".xr-array-preview {\n",
       "  display: inline-block;\n",
       "}\n",
       "\n",
       ".xr-dim-list {\n",
       "  display: inline-block !important;\n",
       "  list-style: none;\n",
       "  padding: 0 !important;\n",
       "  margin: 0;\n",
       "}\n",
       "\n",
       ".xr-dim-list li {\n",
       "  display: inline-block;\n",
       "  padding: 0;\n",
       "  margin: 0;\n",
       "}\n",
       "\n",
       ".xr-dim-list:before {\n",
       "  content: '(';\n",
       "}\n",
       "\n",
       ".xr-dim-list:after {\n",
       "  content: ')';\n",
       "}\n",
       "\n",
       ".xr-dim-list li:not(:last-child):after {\n",
       "  content: ',';\n",
       "  padding-right: 5px;\n",
       "}\n",
       "\n",
       ".xr-has-index {\n",
       "  font-weight: bold;\n",
       "}\n",
       "\n",
       ".xr-var-list,\n",
       ".xr-var-item {\n",
       "  display: contents;\n",
       "}\n",
       "\n",
       ".xr-var-item > div,\n",
       ".xr-var-item label,\n",
       ".xr-var-item > .xr-var-name span {\n",
       "  background-color: var(--xr-background-color-row-even);\n",
       "  margin-bottom: 0;\n",
       "}\n",
       "\n",
       ".xr-var-item > .xr-var-name:hover span {\n",
       "  padding-right: 5px;\n",
       "}\n",
       "\n",
       ".xr-var-list > li:nth-child(odd) > div,\n",
       ".xr-var-list > li:nth-child(odd) > label,\n",
       ".xr-var-list > li:nth-child(odd) > .xr-var-name span {\n",
       "  background-color: var(--xr-background-color-row-odd);\n",
       "}\n",
       "\n",
       ".xr-var-name {\n",
       "  grid-column: 1;\n",
       "}\n",
       "\n",
       ".xr-var-dims {\n",
       "  grid-column: 2;\n",
       "}\n",
       "\n",
       ".xr-var-dtype {\n",
       "  grid-column: 3;\n",
       "  text-align: right;\n",
       "  color: var(--xr-font-color2);\n",
       "}\n",
       "\n",
       ".xr-var-preview {\n",
       "  grid-column: 4;\n",
       "}\n",
       "\n",
       ".xr-var-name,\n",
       ".xr-var-dims,\n",
       ".xr-var-dtype,\n",
       ".xr-preview,\n",
       ".xr-attrs dt {\n",
       "  white-space: nowrap;\n",
       "  overflow: hidden;\n",
       "  text-overflow: ellipsis;\n",
       "  padding-right: 10px;\n",
       "}\n",
       "\n",
       ".xr-var-name:hover,\n",
       ".xr-var-dims:hover,\n",
       ".xr-var-dtype:hover,\n",
       ".xr-attrs dt:hover {\n",
       "  overflow: visible;\n",
       "  width: auto;\n",
       "  z-index: 1;\n",
       "}\n",
       "\n",
       ".xr-var-attrs,\n",
       ".xr-var-data {\n",
       "  display: none;\n",
       "  background-color: var(--xr-background-color) !important;\n",
       "  padding-bottom: 5px !important;\n",
       "}\n",
       "\n",
       ".xr-var-attrs-in:checked ~ .xr-var-attrs,\n",
       ".xr-var-data-in:checked ~ .xr-var-data {\n",
       "  display: block;\n",
       "}\n",
       "\n",
       ".xr-var-data > table {\n",
       "  float: right;\n",
       "}\n",
       "\n",
       ".xr-var-name span,\n",
       ".xr-var-data,\n",
       ".xr-attrs {\n",
       "  padding-left: 25px !important;\n",
       "}\n",
       "\n",
       ".xr-attrs,\n",
       ".xr-var-attrs,\n",
       ".xr-var-data {\n",
       "  grid-column: 1 / -1;\n",
       "}\n",
       "\n",
       "dl.xr-attrs {\n",
       "  padding: 0;\n",
       "  margin: 0;\n",
       "  display: grid;\n",
       "  grid-template-columns: 125px auto;\n",
       "}\n",
       "\n",
       ".xr-attrs dt,\n",
       ".xr-attrs dd {\n",
       "  padding: 0;\n",
       "  margin: 0;\n",
       "  float: left;\n",
       "  padding-right: 10px;\n",
       "  width: auto;\n",
       "}\n",
       "\n",
       ".xr-attrs dt {\n",
       "  font-weight: normal;\n",
       "  grid-column: 1;\n",
       "}\n",
       "\n",
       ".xr-attrs dt:hover span {\n",
       "  display: inline-block;\n",
       "  background: var(--xr-background-color);\n",
       "  padding-right: 10px;\n",
       "}\n",
       "\n",
       ".xr-attrs dd {\n",
       "  grid-column: 2;\n",
       "  white-space: pre-wrap;\n",
       "  word-break: break-all;\n",
       "}\n",
       "\n",
       ".xr-icon-database,\n",
       ".xr-icon-file-text2 {\n",
       "  display: inline-block;\n",
       "  vertical-align: middle;\n",
       "  width: 1em;\n",
       "  height: 1.5em !important;\n",
       "  stroke-width: 0;\n",
       "  stroke: currentColor;\n",
       "  fill: currentColor;\n",
       "}\n",
       "</style><pre class='xr-text-repr-fallback'>&lt;xarray.Dataset&gt;\n",
       "Dimensions:       (month: 12, time: 3600, xt_ocean: 360, yt_ocean: 200)\n",
       "Coordinates:\n",
       "  * time          (time) object 0001-01-16 12:00:00 ... 0300-12-16 12:00:00\n",
       "  * xt_ocean      (xt_ocean) float64 -279.5 -278.5 -277.5 ... 77.5 78.5 79.5\n",
       "  * yt_ocean      (yt_ocean) float64 -81.5 -80.5 -79.5 -78.5 ... 87.5 88.5 89.5\n",
       "    geolat_t      (yt_ocean, xt_ocean) float32 -81.5 -81.5 -81.5 ... 65.63 65.21\n",
       "    geolon_t      (yt_ocean, xt_ocean) float32 -279.5 -278.5 ... 79.94 79.98\n",
       "  * month         (month) int64 1 2 3 4 5 6 7 8 9 10 11 12\n",
       "Data variables:\n",
       "    SIE           (time) float32 1.368e+12 2.441e+11 ... 1.073e+13 6.174e+12\n",
       "    SIE_area      (time, yt_ocean, xt_ocean) float32 ...\n",
       "    SIE_clim      (month) float32 1.149e+12 2.316e+11 ... 1.134e+13 6.124e+12\n",
       "    SIE_anom      (time) float32 2.195e+11 1.254e+10 ... -6.066e+11 4.995e+10\n",
       "    SIE_variance  (month) float32 1.858e+23 2.925e+22 ... 8.084e+23 4.546e+23\n",
       "Attributes:\n",
       "    description:  timeseries of sea ice extent metrics</pre><div class='xr-wrap' hidden><div class='xr-header'><div class='xr-obj-type'>xarray.Dataset</div></div><ul class='xr-sections'><li class='xr-section-item'><input id='section-e06c2ce1-83db-4c71-aa83-1af35e255d41' class='xr-section-summary-in' type='checkbox' disabled ><label for='section-e06c2ce1-83db-4c71-aa83-1af35e255d41' class='xr-section-summary'  title='Expand/collapse section'>Dimensions:</label><div class='xr-section-inline-details'><ul class='xr-dim-list'><li><span class='xr-has-index'>month</span>: 12</li><li><span class='xr-has-index'>time</span>: 3600</li><li><span class='xr-has-index'>xt_ocean</span>: 360</li><li><span class='xr-has-index'>yt_ocean</span>: 200</li></ul></div><div class='xr-section-details'></div></li><li class='xr-section-item'><input id='section-5151eca9-358e-4088-8aef-b040d19cf26a' class='xr-section-summary-in' type='checkbox'  checked><label for='section-5151eca9-358e-4088-8aef-b040d19cf26a' class='xr-section-summary' >Coordinates: <span>(6)</span></label><div class='xr-section-inline-details'></div><div class='xr-section-details'><ul class='xr-var-list'><li class='xr-var-item'><div class='xr-var-name'><span class='xr-has-index'>time</span></div><div class='xr-var-dims'>(time)</div><div class='xr-var-dtype'>object</div><div class='xr-var-preview xr-preview'>0001-01-16 12:00:00 ... 0300-12-...</div><input id='attrs-7c95ad2d-7c4e-4e85-a430-c8c00d493b9c' class='xr-var-attrs-in' type='checkbox' disabled><label for='attrs-7c95ad2d-7c4e-4e85-a430-c8c00d493b9c' title='Show/Hide attributes'><svg class='icon xr-icon-file-text2'><use xlink:href='#icon-file-text2'></use></svg></label><input id='data-cbd3e042-f659-4c23-ae43-49f7578a9995' class='xr-var-data-in' type='checkbox'><label for='data-cbd3e042-f659-4c23-ae43-49f7578a9995' title='Show/Hide data repr'><svg class='icon xr-icon-database'><use xlink:href='#icon-database'></use></svg></label><div class='xr-var-attrs'><dl class='xr-attrs'></dl></div><div class='xr-var-data'><pre>array([cftime.DatetimeNoLeap(1, 1, 16, 12, 0, 0, 0, has_year_zero=True),\n",
       "       cftime.DatetimeNoLeap(1, 2, 15, 0, 0, 0, 0, has_year_zero=True),\n",
       "       cftime.DatetimeNoLeap(1, 3, 16, 12, 0, 0, 0, has_year_zero=True), ...,\n",
       "       cftime.DatetimeNoLeap(300, 10, 16, 12, 0, 0, 0, has_year_zero=True),\n",
       "       cftime.DatetimeNoLeap(300, 11, 16, 0, 0, 0, 0, has_year_zero=True),\n",
       "       cftime.DatetimeNoLeap(300, 12, 16, 12, 0, 0, 0, has_year_zero=True)],\n",
       "      dtype=object)</pre></div></li><li class='xr-var-item'><div class='xr-var-name'><span class='xr-has-index'>xt_ocean</span></div><div class='xr-var-dims'>(xt_ocean)</div><div class='xr-var-dtype'>float64</div><div class='xr-var-preview xr-preview'>-279.5 -278.5 -277.5 ... 78.5 79.5</div><input id='attrs-13d8b171-aa09-4c5c-91cf-880a1b3c3d06' class='xr-var-attrs-in' type='checkbox' ><label for='attrs-13d8b171-aa09-4c5c-91cf-880a1b3c3d06' title='Show/Hide attributes'><svg class='icon xr-icon-file-text2'><use xlink:href='#icon-file-text2'></use></svg></label><input id='data-c3e13784-9c98-46c4-8917-43aaf11e6725' class='xr-var-data-in' type='checkbox'><label for='data-c3e13784-9c98-46c4-8917-43aaf11e6725' title='Show/Hide data repr'><svg class='icon xr-icon-database'><use xlink:href='#icon-database'></use></svg></label><div class='xr-var-attrs'><dl class='xr-attrs'><dt><span>long_name :</span></dt><dd>tcell longitude</dd><dt><span>units :</span></dt><dd>degrees_E</dd><dt><span>cartesian_axis :</span></dt><dd>X</dd></dl></div><div class='xr-var-data'><pre>array([-279.5, -278.5, -277.5, ...,   77.5,   78.5,   79.5])</pre></div></li><li class='xr-var-item'><div class='xr-var-name'><span class='xr-has-index'>yt_ocean</span></div><div class='xr-var-dims'>(yt_ocean)</div><div class='xr-var-dtype'>float64</div><div class='xr-var-preview xr-preview'>-81.5 -80.5 -79.5 ... 88.5 89.5</div><input id='attrs-73598ced-38f7-4c33-abf4-33b90b855ac9' class='xr-var-attrs-in' type='checkbox' ><label for='attrs-73598ced-38f7-4c33-abf4-33b90b855ac9' title='Show/Hide attributes'><svg class='icon xr-icon-file-text2'><use xlink:href='#icon-file-text2'></use></svg></label><input id='data-993bfcd7-0390-4911-87bb-26aef86147fb' class='xr-var-data-in' type='checkbox'><label for='data-993bfcd7-0390-4911-87bb-26aef86147fb' title='Show/Hide data repr'><svg class='icon xr-icon-database'><use xlink:href='#icon-database'></use></svg></label><div class='xr-var-attrs'><dl class='xr-attrs'><dt><span>long_name :</span></dt><dd>tcell latitude</dd><dt><span>units :</span></dt><dd>degrees_N</dd><dt><span>cartesian_axis :</span></dt><dd>Y</dd></dl></div><div class='xr-var-data'><pre>array([-81.5     , -80.5     , -79.5     , -78.5     , -77.5     , -76.5     ,\n",
       "       -75.5     , -74.5     , -73.5     , -72.5     , -71.5     , -70.5     ,\n",
       "       -69.5     , -68.5     , -67.5     , -66.5     , -65.5     , -64.5     ,\n",
       "       -63.5     , -62.5     , -61.5     , -60.5     , -59.5     , -58.5     ,\n",
       "       -57.5     , -56.5     , -55.5     , -54.5     , -53.5     , -52.5     ,\n",
       "       -51.5     , -50.5     , -49.5     , -48.5     , -47.5     , -46.5     ,\n",
       "       -45.5     , -44.5     , -43.5     , -42.5     , -41.5     , -40.5     ,\n",
       "       -39.5     , -38.5     , -37.5     , -36.5     , -35.5     , -34.5     ,\n",
       "       -33.5     , -32.5     , -31.5     , -30.5     , -29.5     , -28.501426,\n",
       "       -27.507105, -26.519792, -25.542121, -24.576562, -23.625377, -22.690584,\n",
       "       -21.773917, -20.876803, -20.000333, -19.145246, -18.311912, -17.500333,\n",
       "       -16.710136, -15.940584, -15.190584, -14.458711, -13.743228, -13.04212 ,\n",
       "       -12.353125, -11.673771, -11.001426, -10.333333,  -9.666666,  -9.002051,\n",
       "        -8.343542,  -7.695041,  -7.060205,  -6.442354,  -5.844389,  -5.268724,\n",
       "        -4.717221,  -4.191149,  -3.691149,  -3.217221,  -2.768724,  -2.344389,\n",
       "        -1.942354,  -1.560205,  -1.195041,  -0.843542,  -0.502051,  -0.166666,\n",
       "         0.166667,   0.502052,   0.843543,   1.195042,   1.560206,   1.942354,\n",
       "         2.34439 ,   2.768725,   3.217222,   3.69115 ,   4.19115 ,   4.717222,\n",
       "         5.268725,   5.84439 ,   6.442354,   7.060206,   7.695042,   8.343543,\n",
       "         9.002052,   9.666667,  10.333334,  11.001426,  11.673772,  12.353125,\n",
       "        13.042121,  13.743229,  14.458711,  15.190584,  15.940584,  16.710137,\n",
       "        17.500334,  18.311913,  19.145246,  20.000334,  20.876804,  21.773918,\n",
       "        22.690585,  23.625378,  24.576563,  25.542122,  26.519792,  27.507106,\n",
       "        28.501427,  29.500001,  30.500001,  31.500001,  32.500001,  33.500001,\n",
       "        34.500001,  35.500001,  36.500001,  37.500001,  38.500001,  39.500001,\n",
       "        40.500001,  41.500001,  42.500001,  43.500001,  44.500001,  45.500001,\n",
       "        46.500001,  47.500001,  48.500001,  49.500001,  50.500001,  51.500001,\n",
       "        52.500001,  53.500001,  54.500001,  55.500001,  56.500001,  57.500001,\n",
       "        58.500001,  59.500001,  60.500001,  61.500001,  62.500001,  63.500001,\n",
       "        64.500001,  65.500001,  66.500001,  67.500001,  68.500001,  69.500001,\n",
       "        70.500001,  71.500001,  72.500001,  73.500001,  74.500001,  75.500001,\n",
       "        76.500001,  77.500001,  78.500001,  79.500001,  80.500001,  81.500001,\n",
       "        82.500001,  83.500001,  84.500001,  85.500001,  86.500001,  87.500001,\n",
       "        88.500001,  89.500001])</pre></div></li><li class='xr-var-item'><div class='xr-var-name'><span>geolat_t</span></div><div class='xr-var-dims'>(yt_ocean, xt_ocean)</div><div class='xr-var-dtype'>float32</div><div class='xr-var-preview xr-preview'>...</div><input id='attrs-9af80660-15f9-4119-8457-a4e385d3d702' class='xr-var-attrs-in' type='checkbox' ><label for='attrs-9af80660-15f9-4119-8457-a4e385d3d702' title='Show/Hide attributes'><svg class='icon xr-icon-file-text2'><use xlink:href='#icon-file-text2'></use></svg></label><input id='data-799084d2-d3c0-4110-8381-fde06143b2d0' class='xr-var-data-in' type='checkbox'><label for='data-799084d2-d3c0-4110-8381-fde06143b2d0' title='Show/Hide data repr'><svg class='icon xr-icon-database'><use xlink:href='#icon-database'></use></svg></label><div class='xr-var-attrs'><dl class='xr-attrs'><dt><span>long_name :</span></dt><dd>tracer latitude</dd><dt><span>units :</span></dt><dd>degrees_N</dd><dt><span>valid_range :</span></dt><dd>[-91.  91.]</dd><dt><span>cell_methods :</span></dt><dd>time: point</dd></dl></div><div class='xr-var-data'><pre>array([[-81.5     , -81.5     , -81.5     , ..., -81.5     , -81.5     ,\n",
       "        -81.5     ],\n",
       "       [-80.5     , -80.5     , -80.5     , ..., -80.5     , -80.5     ,\n",
       "        -80.5     ],\n",
       "       [-79.5     , -79.5     , -79.5     , ..., -79.5     , -79.5     ,\n",
       "        -79.5     ],\n",
       "       ...,\n",
       "       [ 65.20646 ,  65.61464 ,  66.01667 , ...,  66.01667 ,  65.61464 ,\n",
       "         65.20646 ],\n",
       "       [ 65.20902 ,  65.62222 ,  66.02913 , ...,  66.02913 ,  65.62222 ,\n",
       "         65.20902 ],\n",
       "       [ 65.21032 ,  65.626045,  66.03541 , ...,  66.03541 ,  65.626045,\n",
       "         65.21032 ]], dtype=float32)</pre></div></li><li class='xr-var-item'><div class='xr-var-name'><span>geolon_t</span></div><div class='xr-var-dims'>(yt_ocean, xt_ocean)</div><div class='xr-var-dtype'>float32</div><div class='xr-var-preview xr-preview'>...</div><input id='attrs-4eff1ba2-ddcb-49c7-a231-54942dc97440' class='xr-var-attrs-in' type='checkbox' ><label for='attrs-4eff1ba2-ddcb-49c7-a231-54942dc97440' title='Show/Hide attributes'><svg class='icon xr-icon-file-text2'><use xlink:href='#icon-file-text2'></use></svg></label><input id='data-2e99f213-044d-4183-9e39-6a1c87274b66' class='xr-var-data-in' type='checkbox'><label for='data-2e99f213-044d-4183-9e39-6a1c87274b66' title='Show/Hide data repr'><svg class='icon xr-icon-database'><use xlink:href='#icon-database'></use></svg></label><div class='xr-var-attrs'><dl class='xr-attrs'><dt><span>long_name :</span></dt><dd>tracer longitude</dd><dt><span>units :</span></dt><dd>degrees_E</dd><dt><span>valid_range :</span></dt><dd>[-281.  361.]</dd><dt><span>cell_methods :</span></dt><dd>time: point</dd></dl></div><div class='xr-var-data'><pre>array([[-279.5     , -278.5     , -277.5     , ...,   77.5     ,   78.5     ,\n",
       "          79.5     ],\n",
       "       [-279.5     , -278.5     , -277.5     , ...,   77.5     ,   78.5     ,\n",
       "          79.5     ],\n",
       "       [-279.5     , -278.5     , -277.5     , ...,   77.5     ,   78.5     ,\n",
       "          79.5     ],\n",
       "       ...,\n",
       "       [-279.90253 , -279.7075  , -279.5123  , ...,   79.51231 ,   79.7075  ,\n",
       "          79.90252 ],\n",
       "       [-279.94116 , -279.82343 , -279.7056  , ...,   79.7056  ,   79.82343 ,\n",
       "          79.941154],\n",
       "       [-279.98032 , -279.94098 , -279.90158 , ...,   79.901566,   79.94096 ,\n",
       "          79.98032 ]], dtype=float32)</pre></div></li><li class='xr-var-item'><div class='xr-var-name'><span class='xr-has-index'>month</span></div><div class='xr-var-dims'>(month)</div><div class='xr-var-dtype'>int64</div><div class='xr-var-preview xr-preview'>1 2 3 4 5 6 7 8 9 10 11 12</div><input id='attrs-cde796ee-2374-4b3d-9784-41a6d06be9d0' class='xr-var-attrs-in' type='checkbox' disabled><label for='attrs-cde796ee-2374-4b3d-9784-41a6d06be9d0' title='Show/Hide attributes'><svg class='icon xr-icon-file-text2'><use xlink:href='#icon-file-text2'></use></svg></label><input id='data-a5fd3d9d-f3aa-426a-98bf-6c365a4f8e0c' class='xr-var-data-in' type='checkbox'><label for='data-a5fd3d9d-f3aa-426a-98bf-6c365a4f8e0c' title='Show/Hide data repr'><svg class='icon xr-icon-database'><use xlink:href='#icon-database'></use></svg></label><div class='xr-var-attrs'><dl class='xr-attrs'></dl></div><div class='xr-var-data'><pre>array([ 1,  2,  3,  4,  5,  6,  7,  8,  9, 10, 11, 12])</pre></div></li></ul></div></li><li class='xr-section-item'><input id='section-b37d6dca-e123-45a9-ab78-cddb14f356fc' class='xr-section-summary-in' type='checkbox'  checked><label for='section-b37d6dca-e123-45a9-ab78-cddb14f356fc' class='xr-section-summary' >Data variables: <span>(5)</span></label><div class='xr-section-inline-details'></div><div class='xr-section-details'><ul class='xr-var-list'><li class='xr-var-item'><div class='xr-var-name'><span>SIE</span></div><div class='xr-var-dims'>(time)</div><div class='xr-var-dtype'>float32</div><div class='xr-var-preview xr-preview'>...</div><input id='attrs-5a97a22c-8e58-4707-8f79-120e492b3165' class='xr-var-attrs-in' type='checkbox' ><label for='attrs-5a97a22c-8e58-4707-8f79-120e492b3165' title='Show/Hide attributes'><svg class='icon xr-icon-file-text2'><use xlink:href='#icon-file-text2'></use></svg></label><input id='data-787e9d30-ed07-48f4-9224-57c4f2ede045' class='xr-var-data-in' type='checkbox'><label for='data-787e9d30-ed07-48f4-9224-57c4f2ede045' title='Show/Hide data repr'><svg class='icon xr-icon-database'><use xlink:href='#icon-database'></use></svg></label><div class='xr-var-attrs'><dl class='xr-attrs'><dt><span>long_name :</span></dt><dd>Sea Ice Extent</dd><dt><span>units :</span></dt><dd>m ^2</dd><dt><span>coordinates :</span></dt><dd>geolon_t, geolat_t</dd><dt><span>description :</span></dt><dd>total sea ice extent south of 40.5 degS</dd></dl></div><div class='xr-var-data'><pre>array([1.368463e+12, 2.441459e+11, 5.248694e+11, ..., 1.319565e+13,\n",
       "       1.073486e+13, 6.173660e+12], dtype=float32)</pre></div></li><li class='xr-var-item'><div class='xr-var-name'><span>SIE_area</span></div><div class='xr-var-dims'>(time, yt_ocean, xt_ocean)</div><div class='xr-var-dtype'>float32</div><div class='xr-var-preview xr-preview'>...</div><input id='attrs-133c78d9-0d81-42d4-9f3a-d1cc906d5c96' class='xr-var-attrs-in' type='checkbox' ><label for='attrs-133c78d9-0d81-42d4-9f3a-d1cc906d5c96' title='Show/Hide attributes'><svg class='icon xr-icon-file-text2'><use xlink:href='#icon-file-text2'></use></svg></label><input id='data-6c691332-1ce7-47a7-b633-48280bd808ee' class='xr-var-data-in' type='checkbox'><label for='data-6c691332-1ce7-47a7-b633-48280bd808ee' title='Show/Hide data repr'><svg class='icon xr-icon-database'><use xlink:href='#icon-database'></use></svg></label><div class='xr-var-attrs'><dl class='xr-attrs'><dt><span>long_name :</span></dt><dd>Sea Ice Extent (spatial)</dd><dt><span>units :</span></dt><dd>m ^2</dd><dt><span>description :</span></dt><dd>area of ice per tracer cell</dd></dl></div><div class='xr-var-data'><pre>[259200000 values with dtype=float32]</pre></div></li><li class='xr-var-item'><div class='xr-var-name'><span>SIE_clim</span></div><div class='xr-var-dims'>(month)</div><div class='xr-var-dtype'>float32</div><div class='xr-var-preview xr-preview'>...</div><input id='attrs-598ea0cb-7f7b-4364-92fe-ae2e4d42f107' class='xr-var-attrs-in' type='checkbox' ><label for='attrs-598ea0cb-7f7b-4364-92fe-ae2e4d42f107' title='Show/Hide attributes'><svg class='icon xr-icon-file-text2'><use xlink:href='#icon-file-text2'></use></svg></label><input id='data-9778ca05-1842-40b1-81e7-d94f254478d3' class='xr-var-data-in' type='checkbox'><label for='data-9778ca05-1842-40b1-81e7-d94f254478d3' title='Show/Hide data repr'><svg class='icon xr-icon-database'><use xlink:href='#icon-database'></use></svg></label><div class='xr-var-attrs'><dl class='xr-attrs'><dt><span>long_name :</span></dt><dd>Sea Ice Extent</dd><dt><span>units :</span></dt><dd>m ^2</dd><dt><span>coordinates :</span></dt><dd>geolon_t, geolat_t</dd><dt><span>description :</span></dt><dd>monthly climatology of total sea ice extent south of 40.5 degS</dd></dl></div><div class='xr-var-data'><pre>array([1.148945e+12, 2.316063e+11, 6.339479e+11, 2.325860e+12, 5.558951e+12,\n",
       "       8.615708e+12, 1.101508e+13, 1.273582e+13, 1.357310e+13, 1.340948e+13,\n",
       "       1.134142e+13, 6.123707e+12], dtype=float32)</pre></div></li><li class='xr-var-item'><div class='xr-var-name'><span>SIE_anom</span></div><div class='xr-var-dims'>(time)</div><div class='xr-var-dtype'>float32</div><div class='xr-var-preview xr-preview'>...</div><input id='attrs-5bc2758e-c178-481e-92a8-7a74b1510e1a' class='xr-var-attrs-in' type='checkbox' ><label for='attrs-5bc2758e-c178-481e-92a8-7a74b1510e1a' title='Show/Hide attributes'><svg class='icon xr-icon-file-text2'><use xlink:href='#icon-file-text2'></use></svg></label><input id='data-cf397ef3-bf0f-4c51-8095-790d6cd82dfb' class='xr-var-data-in' type='checkbox'><label for='data-cf397ef3-bf0f-4c51-8095-790d6cd82dfb' title='Show/Hide data repr'><svg class='icon xr-icon-database'><use xlink:href='#icon-database'></use></svg></label><div class='xr-var-attrs'><dl class='xr-attrs'><dt><span>long_name :</span></dt><dd>Sea Ice Extent Anomaly</dd><dt><span>units :</span></dt><dd>m ^2</dd><dt><span>coordinates :</span></dt><dd>geolon_t, geolat_t</dd><dt><span>description :</span></dt><dd>monthly anomaly of total sea ice extent south of 40.5 degS</dd></dl></div><div class='xr-var-data'><pre>array([ 2.195183e+11,  1.253959e+10, -1.090785e+11, ..., -2.138351e+11,\n",
       "       -6.065635e+11,  4.995311e+10], dtype=float32)</pre></div></li><li class='xr-var-item'><div class='xr-var-name'><span>SIE_variance</span></div><div class='xr-var-dims'>(month)</div><div class='xr-var-dtype'>float32</div><div class='xr-var-preview xr-preview'>...</div><input id='attrs-5763e767-1f3c-4896-a75b-ff6383ba541d' class='xr-var-attrs-in' type='checkbox' ><label for='attrs-5763e767-1f3c-4896-a75b-ff6383ba541d' title='Show/Hide attributes'><svg class='icon xr-icon-file-text2'><use xlink:href='#icon-file-text2'></use></svg></label><input id='data-a6ee28d7-32b4-4d51-8532-a0e3ca990645' class='xr-var-data-in' type='checkbox'><label for='data-a6ee28d7-32b4-4d51-8532-a0e3ca990645' title='Show/Hide data repr'><svg class='icon xr-icon-database'><use xlink:href='#icon-database'></use></svg></label><div class='xr-var-attrs'><dl class='xr-attrs'><dt><span>long_name :</span></dt><dd>Variance of Sea Ice Extent Anomaly</dd><dt><span>coordinates :</span></dt><dd>geolon_t, geolat_t</dd><dt><span>description :</span></dt><dd>variance of monthly anomaly of total sea ice extent south of 40.5 degS</dd></dl></div><div class='xr-var-data'><pre>array([1.857922e+23, 2.924655e+22, 5.207139e+22, 1.802828e+23, 5.213645e+23,\n",
       "       5.842717e+23, 7.097822e+23, 9.079637e+23, 1.000399e+24, 9.763367e+23,\n",
       "       8.084325e+23, 4.546103e+23], dtype=float32)</pre></div></li></ul></div></li><li class='xr-section-item'><input id='section-b0c5b764-f981-4594-a397-145615047967' class='xr-section-summary-in' type='checkbox'  checked><label for='section-b0c5b764-f981-4594-a397-145615047967' class='xr-section-summary' >Attributes: <span>(1)</span></label><div class='xr-section-inline-details'></div><div class='xr-section-details'><dl class='xr-attrs'><dt><span>description :</span></dt><dd>timeseries of sea ice extent metrics</dd></dl></div></li></ul></div></div>"
      ],
      "text/plain": [
       "<xarray.Dataset>\n",
       "Dimensions:       (month: 12, time: 3600, xt_ocean: 360, yt_ocean: 200)\n",
       "Coordinates:\n",
       "  * time          (time) object 0001-01-16 12:00:00 ... 0300-12-16 12:00:00\n",
       "  * xt_ocean      (xt_ocean) float64 -279.5 -278.5 -277.5 ... 77.5 78.5 79.5\n",
       "  * yt_ocean      (yt_ocean) float64 -81.5 -80.5 -79.5 -78.5 ... 87.5 88.5 89.5\n",
       "    geolat_t      (yt_ocean, xt_ocean) float32 ...\n",
       "    geolon_t      (yt_ocean, xt_ocean) float32 ...\n",
       "  * month         (month) int64 1 2 3 4 5 6 7 8 9 10 11 12\n",
       "Data variables:\n",
       "    SIE           (time) float32 ...\n",
       "    SIE_area      (time, yt_ocean, xt_ocean) float32 ...\n",
       "    SIE_clim      (month) float32 ...\n",
       "    SIE_anom      (time) float32 ...\n",
       "    SIE_variance  (month) float32 ...\n",
       "Attributes:\n",
       "    description:  timeseries of sea ice extent metrics"
      ]
     },
     "execution_count": 78,
     "metadata": {},
     "output_type": "execute_result"
    }
   ],
   "source": [
    "xr.open_dataset(write_rootdir+subdir_ctrl+'SIE/sie_ctrl_so_timeseries.nc')"
   ]
  },
  {
   "cell_type": "code",
   "execution_count": 77,
   "id": "60b33922-7fae-468d-8c79-7c0b9518d356",
   "metadata": {},
   "outputs": [
    {
     "data": {
      "text/plain": [
       "['CN_raw',\n",
       " 'ocean.static.nc',\n",
       " 'sie_ctrl_so_binary.nc',\n",
       " 'sie_ctrl_so_timeseries.nc',\n",
       " 'sie_global_annual_mean.nc',\n",
       " 'sie_global_monthly_anom.nc',\n",
       " 'sie_global_monthly_mean.nc',\n",
       " 'sie_so_annual_mean.nc',\n",
       " 'sie_so_monthly_anom.nc',\n",
       " 'sie_so_monthly_mean.nc']"
      ]
     },
     "execution_count": 77,
     "metadata": {},
     "output_type": "execute_result"
    }
   ],
   "source": [
    "pcs.dir_inspect(write_rootdir+subdir_ctrl+'SIE')"
   ]
  },
  {
   "cell_type": "code",
   "execution_count": null,
   "id": "0c495f5d-4ad0-4e42-a450-caebf118686c",
   "metadata": {},
   "outputs": [],
   "source": []
  }
 ],
 "metadata": {
  "kernelspec": {
   "display_name": "Python 3",
   "language": "python",
   "name": "python3"
  },
  "language_info": {
   "codemirror_mode": {
    "name": "ipython",
    "version": 3
   },
   "file_extension": ".py",
   "mimetype": "text/x-python",
   "name": "python",
   "nbconvert_exporter": "python",
   "pygments_lexer": "ipython3",
   "version": "3.9.4"
  },
  "toc-autonumbering": true,
  "toc-showcode": false,
  "toc-showmarkdowntxt": false,
  "toc-showtags": false
 },
 "nbformat": 4,
 "nbformat_minor": 5
}
