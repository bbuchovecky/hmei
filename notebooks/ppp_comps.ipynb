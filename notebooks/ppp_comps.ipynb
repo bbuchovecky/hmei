{
 "cells": [
  {
   "cell_type": "raw",
   "id": "7de1331c-e04d-47dc-9bd3-1faf596d0f2f",
   "metadata": {},
   "source": [
    "Project:      HMEI Summer Internship\n",
    "Author:       Benjamin Buchovecky\n",
    "Created:      7/5/2021"
   ]
  },
  {
   "cell_type": "markdown",
   "id": "109aa86c-8aa3-4165-9f83-4e8f19761811",
   "metadata": {},
   "source": [
    "# **PPP Computations**"
   ]
  },
  {
   "cell_type": "code",
   "execution_count": 1,
   "id": "58d955d6-327e-48e3-9024-68650ebf370d",
   "metadata": {
    "tags": []
   },
   "outputs": [],
   "source": [
    "import os\n",
    "import warnings\n",
    "warnings.filterwarnings(\"ignore\", message=\"invalid value encountered in true_divide\")\n",
    "warnings.filterwarnings(\"ignore\", message=\"Unable to decode time axis into full numpy.datetime64 objects, continuing using cftime.datetime objects instead, reason: dates out of range\")\n",
    "warnings.filterwarnings(\"ignore\", message=\"invalid value encountered in reduce\")\n",
    "\n",
    "import xarray as xr\n",
    "import numpy as np\n",
    "import math\n",
    "\n",
    "import matplotlib.pyplot as plt\n",
    "import matplotlib.gridspec as gridspec\n",
    "from cartopy import crs as ccrs\n",
    "import cartopy.feature as cfeature\n",
    "from cartopy.util import add_cyclic_point\n",
    "\n",
    "from PIL import Image\n",
    "\n",
    "%load_ext autoreload\n",
    "%autoreload 2\n",
    "import hmei.processing as pcs\n",
    "import hmei.visualization as vis"
   ]
  },
  {
   "cell_type": "markdown",
   "id": "9a8540d8-895f-47f9-be75-37561ef01e7f",
   "metadata": {
    "tags": []
   },
   "source": [
    "# ~~Import Data~~\n",
    "\n",
    "Necessary data:\n",
    "* control run variance\n",
    "* ensemble timeseries"
   ]
  },
  {
   "cell_type": "markdown",
   "id": "654324aa-f647-4692-93a4-09b26046858d",
   "metadata": {},
   "source": [
    "## Southern Ocean"
   ]
  },
  {
   "cell_type": "code",
   "execution_count": 3,
   "id": "f4c55894-b41e-4c27-b0c2-168f34561acf",
   "metadata": {
    "jupyter": {
     "source_hidden": true
    },
    "tags": []
   },
   "outputs": [],
   "source": [
    "def open_ctrl(var, timescale, reg='so'):\n",
    "    writedir = '/home/bbuchovecky/storage/so_predict_derived/CTRL/'\n",
    "    subdir = var.upper()+'/'\n",
    "    filename = var.lower()+'_ts_'+reg+'_'+timescale+'_var.nc'\n",
    "    \n",
    "    return xr.open_dataset(writedir+subdir+filename)\n",
    "\n",
    "sst_ctrl_so_var = open_ctrl('sst', 'monthly')\n",
    "sss_ctrl_so_var = open_ctrl('sss', 'monthly')\n",
    "mld_ctrl_so_var = open_ctrl('mld', 'monthly')\n",
    "npp_ctrl_so_var = open_ctrl('npp', 'monthly')\n",
    "sic_ctrl_so_var = open_ctrl('cn_inv', 'monthly')\n",
    "sie_ctrl_so_var = open_ctrl('sie', 'monthly')\n",
    "siv_ctrl_so_var = open_ctrl('siv', 'monthly')"
   ]
  },
  {
   "cell_type": "code",
   "execution_count": 4,
   "id": "1d0e709d-95c6-4b6c-be7e-458885a9a9fe",
   "metadata": {
    "jupyter": {
     "source_hidden": true
    },
    "tags": []
   },
   "outputs": [],
   "source": [
    "def open_ens(var, timescale, reg='so'):\n",
    "    writedir = '/home/bbuchovecky/storage/so_predict_derived/'\n",
    "    subdir = var.upper()+'_ENSEMBLE/'\n",
    "    filename = var.lower()+'_ens_'+reg+'_'+timescale+'_anom.nc'\n",
    "    \n",
    "    return xr.open_dataset(writedir+subdir+filename)\n",
    "\n",
    "sst_ens_so_anom = open_ens('sst', 'monthly')\n",
    "sss_ens_so_anom = open_ens('sss', 'monthly')\n",
    "mld_ens_so_anom = open_ens('mld', 'monthly')\n",
    "npp_ens_so_anom = open_ens('npp', 'monthly')\n",
    "sic_ens_so_anom = open_ens('cn_inv', 'monthly')\n",
    "sie_ens_so_anom = open_ens('sie', 'monthly')\n",
    "siv_ens_so_anom = open_ens('siv', 'monthly')"
   ]
  },
  {
   "cell_type": "markdown",
   "id": "ee439547-d92a-449b-9299-bb3d62eb1afa",
   "metadata": {},
   "source": [
    "## Global"
   ]
  },
  {
   "cell_type": "code",
   "execution_count": 5,
   "id": "d1e0ec96-4141-4363-9f58-fd3465ff1b33",
   "metadata": {
    "jupyter": {
     "source_hidden": true
    },
    "tags": []
   },
   "outputs": [],
   "source": [
    "def open_ctrl(var, timescale, reg='so'):\n",
    "    writedir = '/home/bbuchovecky/storage/so_predict_derived/CTRL/'\n",
    "    subdir = var.upper()+'/'\n",
    "    filename = var.lower()+'_ts_'+reg+'_'+timescale+'_var.nc'\n",
    "    \n",
    "    return xr.open_dataset(writedir+subdir+filename)\n",
    "\n",
    "sst_ctrl_global_var = open_ctrl('sst', 'monthly', reg='global')\n",
    "sss_ctrl_global_var = open_ctrl('sss', 'monthly', reg='global')\n",
    "mld_ctrl_global_var = open_ctrl('mld', 'monthly', reg='global')\n",
    "npp_ctrl_global_var = open_ctrl('npp', 'monthly', reg='global')\n",
    "sic_ctrl_global_var = open_ctrl('cn_inv', 'monthly', reg='global')\n",
    "sie_ctrl_global_var = open_ctrl('sie', 'monthly', reg='global')\n",
    "siv_ctrl_global_var = open_ctrl('siv', 'monthly', reg='global')"
   ]
  },
  {
   "cell_type": "code",
   "execution_count": 6,
   "id": "d0eafa7a-fb93-4353-8c45-7c2920474d3f",
   "metadata": {
    "jupyter": {
     "source_hidden": true
    },
    "tags": []
   },
   "outputs": [],
   "source": [
    "def open_ens(var, timescale, reg='so'):\n",
    "    writedir = '/home/bbuchovecky/storage/so_predict_derived/'\n",
    "    subdir = var.upper()+'_ENSEMBLE/'\n",
    "    filename = var.lower()+'_ens_'+reg+'_'+timescale+'_anom.nc'\n",
    "    \n",
    "    return xr.open_dataset(writedir+subdir+filename)\n",
    "\n",
    "sst_ens_global_anom = open_ens('sst', 'monthly', reg='global')\n",
    "sss_ens_global_anom = open_ens('sss', 'monthly', reg='global')\n",
    "mld_ens_global_anom = open_ens('mld', 'monthly', reg='global')\n",
    "npp_ens_global_anom = open_ens('npp', 'monthly', reg='global')\n",
    "sic_ens_global_anom = open_ens('cn_inv', 'monthly', reg='global')\n",
    "sie_ens_global_anom = open_ens('sie', 'monthly', reg='global')\n",
    "siv_ens_global_anom = open_ens('siv', 'monthly', reg='global')"
   ]
  },
  {
   "cell_type": "markdown",
   "id": "e38463dc-24d3-4791-a8cc-b614f698c75c",
   "metadata": {},
   "source": [
    "# Compute PPP\n",
    "\n",
    "$$ PPP(t) = 1 - \\frac{\\frac{1}{N(M - 1)} \\sum\\limits_{j=1}^{N} \\sum\\limits_{I=1}^{M} (X_{ij}(t) - \\overline{X}_{j}(t))^{2}}{\\sigma_{c}^{2}} $$\n",
    "\n",
    "\"where $X_{ij}(t)$ is the value of a given variable for the $j$th ensemble and $i$th ensemble member, $\\overline{X}_{j}$ is the mean of the $j$th ensemble over all ensemble members, $\\sigma_{c}^{2}$ is the variance of the control simulation, $N$ is the total number of different ensemble simulations ($N$=6) and $M$ the number of ensemble members ($M$=40)\" - Froelicher et al. 2020"
   ]
  },
  {
   "cell_type": "code",
   "execution_count": 149,
   "id": "0beda286-4a5b-476a-895d-031f80873455",
   "metadata": {},
   "outputs": [],
   "source": [
    "def comp_ppp(var, reg, save=False, timescale='monthly'):\n",
    "\n",
    "    ## import necessary data\n",
    "    writedir = '/home/bbuchovecky/storage/so_predict_derived/'\n",
    "    \n",
    "    ## variance of the control simulation for each month\n",
    "    ## dimensions (month: 12)\n",
    "    subdir = 'CTRL/'+var.upper()+'/'\n",
    "    filename = var.lower()+'_ts_'+reg+'_'+timescale+'_var.nc'\n",
    "    ctrl_var = xr.open_dataset(writedir+subdir+filename)\n",
    "    \n",
    "    ## ensemble anomalies\n",
    "    ## dimensions (nStart: 6, nEns: 40, nT: 120)\n",
    "    subdir = var.upper()+'_ENSEMBLE/'\n",
    "    filename = var.lower()+'_ens_'+reg+'_'+timescale+'_anom.nc'\n",
    "    ens_anom = xr.open_dataset(writedir+subdir+filename)\n",
    "    \n",
    "    regions = ctrl_var.data_vars\n",
    "\n",
    "    ## constants\n",
    "    N = 6\n",
    "    M = 40\n",
    "\n",
    "    ## numerator coefficient\n",
    "    num_coeff = 1 / (N * (M - 1))\n",
    "\n",
    "    ## numerator outer sum - across all ensembles\n",
    "    num_outer_sum = np.zeros((6,120))\n",
    "\n",
    "    PPP = np.zeros( (len(regions), 120) )\n",
    "\n",
    "    for (iReg,r) in zip(range(len(regions)), regions):\n",
    "\n",
    "        for j in range(N):\n",
    "            ## numerator inner sum - across all ensemble members\n",
    "            num_inner_sum = np.zeros((40,120))\n",
    "\n",
    "            ## ensemble mean\n",
    "            ens_mean = ens_anom[r][j].mean(dim='nEns')\n",
    "\n",
    "            for i in range(M):\n",
    "                num_inner_sum[i] = np.square(ens_anom[r][j,i] - ens_mean)\n",
    "\n",
    "            num_outer_sum[j] = np.sum(num_inner_sum, axis=0)\n",
    "\n",
    "        ## numerator total sum\n",
    "        num_sum = np.sum(num_outer_sum, axis=0)\n",
    "\n",
    "        ## compute PPP\n",
    "        for m in range(120):\n",
    "            PPP[iReg][m] = 1 - ( (num_coeff * num_sum[m]) / ctrl_var[r][m%12] )\n",
    "            \n",
    "    ## organize PPP data in a Dataset\n",
    "    PPP_da = []\n",
    "    for (iReg,r) in zip(range(len(regions)), regions):\n",
    "        \n",
    "        PPP_reg = xr.DataArray(\n",
    "                    data=PPP[iReg],\n",
    "                    dims=['nT'],\n",
    "                    coords=dict(\n",
    "                        nT=np.arange(1,121)\n",
    "                    ),\n",
    "                    name=r\n",
    "                )\n",
    "        \n",
    "        PPP_da.append(PPP_reg.copy(deep=True))\n",
    "    \n",
    "    PPP_ds = xr.merge(PPP_da)\n",
    "    PPP_ds.attrs['name'] = var.lower()+'_ts_'+reg+'_'+timescale+'_ppp.nc'\n",
    "        \n",
    "    if save:\n",
    "        subdir = 'PPP/'+var.upper()+'/'\n",
    "        filename = var.lower()+'_ts_'+reg+'_'+timescale+'_ppp.nc'\n",
    "        PPP_ds.to_netcdf(writedir+subdir+filename)\n",
    "        print(writedir+subdir+filename)\n",
    "        \n",
    "    elif not save:\n",
    "        return PPP_ds"
   ]
  },
  {
   "cell_type": "code",
   "execution_count": 150,
   "id": "2edc2edd-04c0-48a5-a875-67b029475461",
   "metadata": {
    "collapsed": true,
    "jupyter": {
     "outputs_hidden": true
    },
    "tags": []
   },
   "outputs": [
    {
     "name": "stdout",
     "output_type": "stream",
     "text": [
      "/home/bbuchovecky/storage/so_predict_derived/PPP/SST/sst_ts_global_monthly_ppp.nc\n",
      "/home/bbuchovecky/storage/so_predict_derived/PPP/SST/sst_ts_so_monthly_ppp.nc\n",
      "/home/bbuchovecky/storage/so_predict_derived/PPP/SSS/sss_ts_global_monthly_ppp.nc\n",
      "/home/bbuchovecky/storage/so_predict_derived/PPP/SSS/sss_ts_so_monthly_ppp.nc\n",
      "/home/bbuchovecky/storage/so_predict_derived/PPP/NPP/npp_ts_global_monthly_ppp.nc\n",
      "/home/bbuchovecky/storage/so_predict_derived/PPP/NPP/npp_ts_so_monthly_ppp.nc\n",
      "/home/bbuchovecky/storage/so_predict_derived/PPP/MLD/mld_ts_global_monthly_ppp.nc\n",
      "/home/bbuchovecky/storage/so_predict_derived/PPP/MLD/mld_ts_so_monthly_ppp.nc\n",
      "/home/bbuchovecky/storage/so_predict_derived/PPP/PCO2SURF/pco2surf_ts_global_monthly_ppp.nc\n",
      "/home/bbuchovecky/storage/so_predict_derived/PPP/PCO2SURF/pco2surf_ts_so_monthly_ppp.nc\n",
      "/home/bbuchovecky/storage/so_predict_derived/PPP/CN_INV/cn_inv_ts_global_monthly_ppp.nc\n",
      "/home/bbuchovecky/storage/so_predict_derived/PPP/CN_INV/cn_inv_ts_so_monthly_ppp.nc\n",
      "/home/bbuchovecky/storage/so_predict_derived/PPP/SIE/sie_ts_global_monthly_ppp.nc\n",
      "/home/bbuchovecky/storage/so_predict_derived/PPP/SIE/sie_ts_so_monthly_ppp.nc\n",
      "/home/bbuchovecky/storage/so_predict_derived/PPP/SIV/siv_ts_global_monthly_ppp.nc\n",
      "/home/bbuchovecky/storage/so_predict_derived/PPP/SIV/siv_ts_so_monthly_ppp.nc\n"
     ]
    }
   ],
   "source": [
    "variables = ['sst','sss','npp','mld', 'pco2surf', 'cn_inv','sie','siv']\n",
    "regions = ['global', 'so']\n",
    "\n",
    "for v in variables:\n",
    "    for r in regions:\n",
    "        comp_ppp(v, r, save=True, timescale='monthly')"
   ]
  },
  {
   "cell_type": "code",
   "execution_count": 168,
   "id": "c4e94814-1161-4ee1-b18c-785f22094eab",
   "metadata": {},
   "outputs": [
    {
     "data": {
      "text/plain": [
       "<matplotlib.collections.LineCollection at 0x7f60e80523a0>"
      ]
     },
     "execution_count": 168,
     "metadata": {},
     "output_type": "execute_result"
    },
    {
     "data": {
      "image/png": "[encoded data removed]",
      "text/plain": [
       "<Figure size 720x360 with 1 Axes>"
      ]
     },
     "metadata": {
      "needs_background": "light"
     },
     "output_type": "display_data"
    }
   ],
   "source": [
    "fig,ax = plt.subplots(figsize=(10,5))\n",
    "\n",
    "ax.plot(np.arange(1,121), comp_ppp('cn_inv', 'so')['Ross'])\n",
    "\n",
    "for m in np.arange(-2, 120, 12):\n",
    "    ax.axvspan(m, m+4, color='gray', alpha=0.25)\n",
    "\n",
    "ax.set_xlim(1,120);\n",
    "ax.set_ylim(-1,1)\n",
    "\n",
    "ax.hlines(0.183, 1, 120, color='black', ls='-.')"
   ]
  },
  {
   "cell_type": "markdown",
   "id": "3bf71225-9d59-4372-bb18-3bb34432a29e",
   "metadata": {},
   "source": [
    "# Questions\n",
    "\n",
    "* How well does PPP work with strong seasonal cycles?"
   ]
  },
  {
   "cell_type": "code",
   "execution_count": null,
   "id": "5b236b5a-9847-47e5-9e05-cc713b9518c4",
   "metadata": {},
   "outputs": [],
   "source": []
  }
 ],
 "metadata": {
  "kernelspec": {
   "display_name": "Python 3",
   "language": "python",
   "name": "python3"
  },
  "language_info": {
   "codemirror_mode": {
    "name": "ipython",
    "version": 3
   },
   "file_extension": ".py",
   "mimetype": "text/x-python",
   "name": "python",
   "nbconvert_exporter": "python",
   "pygments_lexer": "ipython3",
   "version": "3.9.4"
  },
  "toc-autonumbering": true
 },
 "nbformat": 4,
 "nbformat_minor": 5
}
