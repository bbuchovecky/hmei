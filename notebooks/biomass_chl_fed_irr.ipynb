{
 "cells": [
  {
   "cell_type": "raw",
   "id": "9921ab25-c93c-429b-85d7-5aaadeca1b34",
   "metadata": {},
   "source": [
    "Project:      HMEI Summer Internship\n",
    "Author:       Benjamin Buchovecky\n",
    "Created:      7/9/2021"
   ]
  },
  {
   "cell_type": "markdown",
   "id": "06305443-9a19-4f7a-bcc2-f645114ce706",
   "metadata": {},
   "source": [
    "# **New Variable Processing**\n",
    "`BIOMASS, SFC_CHL, SFC_FED, SFC_IRR`\n",
    "\n",
    "`BIOMASS` consists of `sfc_ndi`, `sfc_nlg_diatoms`, `sfc_nlg_nondiatoms`, and `sfc_nsm`"
   ]
  },
  {
   "cell_type": "code",
   "execution_count": 1,
   "id": "43d72747-de6d-4915-a229-e9b6bad4fbbd",
   "metadata": {
    "tags": []
   },
   "outputs": [],
   "source": [
    "import os\n",
    "import warnings\n",
    "warnings.filterwarnings(\"ignore\", message=\"invalid value encountered in true_divide\")\n",
    "warnings.filterwarnings(\"ignore\", message=\"Unable to decode time axis into full numpy.datetime64 objects, continuing using cftime.datetime objects instead, reason: dates out of range\")\n",
    "warnings.filterwarnings(\"ignore\", message=\"invalid value encountered in reduce\")\n",
    "warnings.filterwarnings(\"ignore\", message=\"Degrees of freedom <= 0 for slice.\")\n",
    "\n",
    "import xarray as xr\n",
    "import numpy as np\n",
    "import math\n",
    "\n",
    "import matplotlib.pyplot as plt\n",
    "import matplotlib.gridspec as gridspec\n",
    "from cartopy import crs as ccrs\n",
    "import cartopy.feature as cfeature\n",
    "from cartopy.util import add_cyclic_point\n",
    "\n",
    "from PIL import Image\n",
    "\n",
    "%load_ext autoreload\n",
    "%autoreload 2\n",
    "import hmei.processing as pcs\n",
    "import hmei.visualization as vis"
   ]
  },
  {
   "cell_type": "code",
   "execution_count": 1,
   "id": "25966d9a-4ff0-40fb-a85e-eb1375822265",
   "metadata": {},
   "outputs": [],
   "source": [
    "d = '/local/projects/so_predict/esm2m_froelicher/CTRL/'\n",
    "# pcs.dir_inspect(d+'BIOMASS')\n",
    "\n",
    "# xr.open_dataset(d+'BIOMASS/sfc_ndi_0001.nc')"
   ]
  },
  {
   "cell_type": "markdown",
   "id": "175addac-a9d8-480d-aae6-039e140cf6a3",
   "metadata": {},
   "source": [
    "# Revamped Processing Functions"
   ]
  },
  {
   "cell_type": "code",
   "execution_count": 2,
   "id": "3a635072-18c0-4357-bea5-713d85c8f69b",
   "metadata": {
    "jupyter": {
     "source_hidden": true
    },
    "tags": []
   },
   "outputs": [],
   "source": [
    "def comp_gc_metrics(\n",
    "    ds, variable, resize=False, save=False):\n",
    "    \n",
    "    writedir = '/home/bbuchovecky/storage/so_predict_derived/CTRL/'\n",
    "    subdir = variable.upper()+'/'\n",
    "    reg = 'global'\n",
    "    \n",
    "    da = ds[variable.lower()]\n",
    "    \n",
    "    if resize:\n",
    "        da = pcs.SouthernOcean_resize(da, time=True)\n",
    "        reg = 'so'\n",
    "    \n",
    "    ## global climatology\n",
    "    clim = da.groupby('time.month').mean(dim='time')\n",
    "    clim.name = variable.lower()+'_clim'\n",
    "    clim.attrs = da.attrs\n",
    "    clim.attrs['description'] = 'monthly climatology'\n",
    "    \n",
    "    clim_name = variable.lower()+'_gc_'+reg+'_clim.nc'\n",
    "    clim = clim.to_dataset()\n",
    "    clim.attrs['name'] = clim_name\n",
    "    \n",
    "    ## global monthly anomaly\n",
    "    anom = da.groupby('time.month') - clim[variable.lower()+'_clim']\n",
    "    anom.name = variable.lower()+'_anom'\n",
    "    anom.attrs = da.attrs\n",
    "    anom.attrs['description'] = 'monthly anomaly'\n",
    "    \n",
    "    anom_name = variable.lower()+'_gc_'+reg+'_monthly_anom.nc'\n",
    "    anom = anom.to_dataset()\n",
    "    anom.attrs['name'] = anom_name\n",
    "    \n",
    "    ## global monthly variance\n",
    "    var = anom[variable.lower()+'_anom'].groupby('time.month').var(dim='time')\n",
    "    var.name = variable.lower()+'_var'\n",
    "    var.attrs = da.attrs\n",
    "    var.attrs['units'] = '( '+da.attrs['units']+' )^2'\n",
    "    var.attrs['description'] = 'variance of monthly anomaly'\n",
    "    \n",
    "    var_name = variable.lower()+'_gc_'+reg+'_monthly_var.nc'\n",
    "    var = var.to_dataset()\n",
    "    var.attrs['name'] = var_name\n",
    "    \n",
    "    if save:\n",
    "        clim.to_netcdf(writedir+subdir+clim_name)\n",
    "        anom.to_netcdf(writedir+subdir+anom_name)\n",
    "        var.to_netcdf(writedir+subdir+var_name)\n",
    "        \n",
    "        print(writedir+subdir+clim_name)\n",
    "        print(writedir+subdir+anom_name)\n",
    "        print(writedir+subdir+var_name)\n",
    "        \n",
    "    if not save:\n",
    "        print(writedir+subdir+clim_name)\n",
    "        print(writedir+subdir+anom_name)\n",
    "        print(writedir+subdir+var_name)\n",
    "        return clim,anom,var"
   ]
  },
  {
   "cell_type": "code",
   "execution_count": 3,
   "id": "26e0ee19-1cd8-49b6-99d1-9a9b5a1c6272",
   "metadata": {
    "jupyter": {
     "source_hidden": true
    },
    "tags": []
   },
   "outputs": [],
   "source": [
    "def comp_annual_mean(\n",
    "    ds, var, reg, save=False):\n",
    "    \n",
    "    writedir = '/home/bbuchovecky/storage/so_predict_derived/'\n",
    "    reg_masks = xr.open_dataset(writedir+'regional_global_masks.nc')\n",
    "    \n",
    "    ## get ocean model grid information\n",
    "    ocean_grid = xr.open_dataset('/local/projects/so_predict/esm2m_froelicher/GRID/ocean.static.nc')\n",
    "    \n",
    "    ## get grid-cell area for the ocean only\n",
    "    total_area = xr.where(np.isnan(ds[var][0]), np.nan, ocean_grid['area_t'])\n",
    "    \n",
    "    ## global mean\n",
    "    if reg == 'global':\n",
    "        area_sum = total_area.sum(dim={'xt_ocean', 'yt_ocean'})\n",
    "        \n",
    "        if var == 'SIE_area' or var == 'SIV_area':\n",
    "            annual_mean = ds[var].groupby('time.year').mean(dim='time').sum(dim={'xt_ocean', 'yt_ocean'})\n",
    "        else:\n",
    "            annual_mean = (ds[var] * ocean_grid['area_t']).groupby('time.year').mean(dim='time').sum(dim={'xt_ocean', 'yt_ocean'}) / area_sum\n",
    "        \n",
    "        annual_mean.name = 'Global'\n",
    "        annual_mean.attrs = ds[var].attrs\n",
    "        annual_mean.attrs['description'] = 'annual mean'\n",
    "        annual_mean = annual_mean.to_dataset()\n",
    "        annual_mean = annual_mean.drop('time')\n",
    "        \n",
    "        filename = var.lower()+'_ts_'+reg+'_annual_mean.nc'\n",
    "        annual_mean.attrs['name'] = filename\n",
    "        \n",
    "        if save:\n",
    "            annual_mean.to_netcdf(writedir+'CTRL/'+var.upper()+'/'+filename)\n",
    "            print(writedir+'CTRL/'+var.upper()+'/'+filename)\n",
    "        if not save:\n",
    "            print(writedir+'CTRL/'+var.upper()+'/'+filename)\n",
    "            return annual_mean\n",
    "    \n",
    "    ## regional mean\n",
    "    if reg == 'so':\n",
    "        regions = ['SouthernOcean', 'Weddell', 'Indian', 'WestPacific', 'Ross', 'AmundBell']\n",
    "        reg_mean = []\n",
    "        \n",
    "        for r in regions:\n",
    "            area = total_area.where(reg_masks[r] == 1)\n",
    "            area_sum = area.sum(dim={'xt_ocean', 'yt_ocean'})\n",
    "            reg_var = ds[var].where(reg_masks[r] == 1)\n",
    "            \n",
    "            if var == 'SIE_area' or var == 'SIV_area':\n",
    "                annual_mean = reg_var.groupby('time.year').mean(dim='time').sum(dim={'xt_ocean', 'yt_ocean'})\n",
    "            else:\n",
    "                annual_mean = (reg_var * ocean_grid['area_t']).groupby('time.year').mean(dim='time').sum(dim={'xt_ocean', 'yt_ocean'}) / area_sum\n",
    "            \n",
    "            annual_mean.name = r\n",
    "            annual_mean.attrs = ds[var].attrs\n",
    "            annual_mean.attrs['description'] = 'annual mean'\n",
    "            \n",
    "            reg_mean.append(annual_mean.copy(deep=True))\n",
    "            \n",
    "        annual_mean = xr.merge(reg_mean)\n",
    "        annual_mean = annual_mean.drop('time')\n",
    "        \n",
    "        filename = var.lower()+'_ts_'+reg+'_annual_mean.nc'\n",
    "        annual_mean.attrs = {}\n",
    "        annual_mean.attrs['name'] = filename\n",
    "        \n",
    "        if save:\n",
    "            annual_mean.to_netcdf(writedir+'CTRL/'+var.upper()+'/'+filename)\n",
    "            print(writedir+'CTRL/'+var.upper()+'/'+filename)\n",
    "        if not save:\n",
    "            print(writedir+'CTRL/'+var.upper()+'/'+filename)\n",
    "            return annual_mean"
   ]
  },
  {
   "cell_type": "code",
   "execution_count": 4,
   "id": "b7941324-2218-449b-89e0-64cc789c79f1",
   "metadata": {
    "tags": []
   },
   "outputs": [],
   "source": [
    "def comp_monthly_mean(\n",
    "    ds, var, reg, save=False):\n",
    "    \n",
    "    writedir = '/home/bbuchovecky/storage/so_predict_derived/'\n",
    "    reg_masks = xr.open_dataset(writedir+'regional_global_masks.nc')\n",
    "    \n",
    "    ## get ocean model grid information\n",
    "    ocean_grid = xr.open_dataset('/local/projects/so_predict/esm2m_froelicher/GRID/ocean.static.nc')\n",
    "    \n",
    "    ## get grid-cell area for the ocean only\n",
    "    total_area = xr.where(np.isnan(ds[var][0]), np.nan, ocean_grid['area_t'])\n",
    "    \n",
    "    ## global mean\n",
    "    if reg == 'global':\n",
    "        area_sum = total_area.sum(dim={'xt_ocean', 'yt_ocean'})\n",
    "        \n",
    "        if var == 'SIE_area' or var == 'SIV_area':\n",
    "            monthly_mean = ds[var].sum(dim={'xt_ocean', 'yt_ocean'})\n",
    "        else:\n",
    "            monthly_mean = (ds[var] * ocean_grid['area_t']).sum(dim={'xt_ocean', 'yt_ocean'}) / area_sum\n",
    "        \n",
    "        monthly_mean.name = 'Global'\n",
    "        monthly_mean.attrs = ds[var].attrs\n",
    "        monthly_mean.attrs['description'] = 'monthly mean'\n",
    "        monthly_mean = monthly_mean.to_dataset()\n",
    "        \n",
    "        filename = var.lower()+'_ts_'+reg+'_monthly_mean.nc'\n",
    "        monthly_mean.attrs['name'] = filename\n",
    "        \n",
    "        if save:\n",
    "            monthly_mean.to_netcdf(writedir+'CTRL/'+var.upper()+'/'+filename)\n",
    "            print(writedir+'CTRL/'+var.upper()+'/'+filename)\n",
    "        if not save:\n",
    "            print(writedir+'CTRL/'+var.upper()+'/'+filename)\n",
    "            return monthly_mean\n",
    "    \n",
    "    ## regional mean\n",
    "    if reg == 'so':\n",
    "        regions = ['SouthernOcean', 'Weddell', 'Indian', 'WestPacific', 'Ross', 'AmundBell']\n",
    "        reg_mean = []\n",
    "        \n",
    "        for r in regions:\n",
    "            area = total_area.where(reg_masks[r] == 1)\n",
    "            area_sum = area.sum(dim={'xt_ocean', 'yt_ocean'})\n",
    "            reg_var = ds[var].where(reg_masks[r] == 1)\n",
    "            \n",
    "            if var == 'SIE_area' or var == 'SIV_area':\n",
    "                monthly_mean = reg_var.sum(dim={'xt_ocean', 'yt_ocean'})\n",
    "            else:\n",
    "                monthly_mean = (reg_var * ocean_grid['area_t']).sum(dim={'xt_ocean', 'yt_ocean'}) / area_sum\n",
    "            \n",
    "            monthly_mean.name = r\n",
    "            monthly_mean.attrs = ds[var].attrs\n",
    "            monthly_mean.attrs['description'] = 'monthly mean'\n",
    "            \n",
    "            reg_mean.append(monthly_mean.copy(deep=True))\n",
    "            \n",
    "        monthly_mean = xr.merge(reg_mean)\n",
    "        \n",
    "        filename = var.lower()+'_ts_'+reg+'_monthly_mean.nc'\n",
    "        monthly_mean.attrs = {}\n",
    "        monthly_mean.attrs['name'] = filename\n",
    "        \n",
    "        if save:\n",
    "            monthly_mean.to_netcdf(writedir+'CTRL/'+var.upper()+'/'+filename)\n",
    "            print(writedir+'CTRL/'+var.upper()+'/'+filename)\n",
    "        if not save:\n",
    "            print(writedir+'CTRL/'+var.upper()+'/'+filename)\n",
    "            return monthly_mean"
   ]
  },
  {
   "cell_type": "code",
   "execution_count": 5,
   "id": "abc63d57-4f69-4ec2-81ba-8548a1959461",
   "metadata": {
    "jupyter": {
     "source_hidden": true
    },
    "tags": []
   },
   "outputs": [],
   "source": [
    "def comp_monthly_anom(\n",
    "    var, reg, mean=None, save=False):\n",
    "    \n",
    "    writedir = '/home/bbuchovecky/storage/so_predict_derived/'\n",
    "    \n",
    "    if os.path.isfile(writedir+'CTRL/'+var.upper()+'/'+var.lower()+'_ts_'+reg+'_monthly_mean.nc') and mean == None:\n",
    "        mean = xr.open_dataset(writedir+'CTRL/'+var.upper()+'/'+var.lower()+'_ts_'+reg+'_monthly_mean.nc')\n",
    "        print('Source: '+var.lower()+'_ts_'+reg+'_monthly_mean.nc')\n",
    "\n",
    "    ds_anom = mean.copy(deep=True)\n",
    "    ds_anom['month'] = np.arange(1,3601)\n",
    "    \n",
    "    for r in ds_anom.data_vars:\n",
    "        ds_anom[r] = (('month'), ds_anom[r])\n",
    "        \n",
    "    ds_anom = ds_anom.drop('time')\n",
    "    \n",
    "    for r in mean.data_vars:\n",
    "        np_clim = mean[r].groupby('time.month').mean(dim='time').values\n",
    "        np_mean = mean[r].values\n",
    "\n",
    "        reg_anom = np.zeros(3600)\n",
    "        for m in range(0,3600):\n",
    "            reg_anom[m] = np_mean[m] - np_clim[m%12]\n",
    "\n",
    "        ds_anom[r] = (('month'), reg_anom)\n",
    "        ds_anom[r].attrs = mean[r].attrs\n",
    "        ds_anom[r].attrs['description'] = 'monthly anomaly'\n",
    "    \n",
    "    filename = var.lower()+'_ts_'+reg+'_monthly_anom.nc'\n",
    "    ds_anom.attrs['name'] = filename\n",
    "    \n",
    "    if save:\n",
    "        ds_anom.to_netcdf(writedir+'CTRL/'+var.upper()+'/'+filename)\n",
    "        print(writedir+'CTRL/'+var.upper()+'/'+filename)\n",
    "    if not save:\n",
    "        print(writedir+'CTRL/'+var.upper()+'/'+filename)\n",
    "        return ds_anom"
   ]
  },
  {
   "cell_type": "code",
   "execution_count": 6,
   "id": "cec31183-870d-4b9e-b8d0-c76d6abfc8ed",
   "metadata": {
    "jupyter": {
     "source_hidden": true
    },
    "tags": []
   },
   "outputs": [],
   "source": [
    "def comp_monthly_var(\n",
    "    var, reg, anom=None, save=False):\n",
    "    \n",
    "    writedir = '/home/bbuchovecky/storage/so_predict_derived/'\n",
    "    \n",
    "    if os.path.isfile(writedir+'CTRL/'+var.upper()+'/'+var.lower()+'_ts_'+reg+'_monthly_anom.nc') and anom == None:\n",
    "        anom = xr.open_dataset(writedir+'CTRL/'+var.upper()+'/'+var.lower()+'_ts_'+reg+'_monthly_anom.nc')\n",
    "        print('Source: '+var.lower()+'_ts_'+reg+'_monthly_anom.nc')\n",
    "    \n",
    "    ds_var = anom.copy(deep=True)\n",
    "    \n",
    "    if reg == 'global':\n",
    "        ds_var = ds_var.drop({'month','Global'})\n",
    "        ds_var['month'] = np.arange(1,13)\n",
    "        \n",
    "        np_anom = np.zeros((12,300))\n",
    "        \n",
    "        ## group anomaly data by month\n",
    "        for r in anom.data_vars:\n",
    "            for m in range(0,3600):           \n",
    "                np_anom[m%12][int(m/12)] = anom[r].isel(month=m)\n",
    "        \n",
    "        ## compute variance\n",
    "        np_var = np.var(np_anom, axis=1)\n",
    "        if np.shape(np_var) != (12,):\n",
    "            raise Exception('variance array is the wrong shape')\n",
    "            \n",
    "        ## migrate data from numpy array to dataset\n",
    "        ds_var['Global'] = (('month'), np_var)\n",
    "        ds_var['Global'].attrs['name'] = 'variance of monthly anomaly'\n",
    "    \n",
    "    if reg == 'so':\n",
    "        ds_var = ds_var.drop({'month','SouthernOcean','Weddell','Indian','WestPacific','Ross','AmundBell'})\n",
    "        ds_var['month'] = np.arange(1,13)\n",
    "        \n",
    "        np_anom = np.zeros((len(anom.data_vars),12,300))\n",
    "        \n",
    "        ## group anomaly data by month\n",
    "        for (r,i) in zip(anom.data_vars,range(6)):\n",
    "            for m in range(0,3600):           \n",
    "                np_anom[i][m%12][int(m/12)] = anom[r].isel(month=m)\n",
    "        \n",
    "        ## compute variance\n",
    "        np_var = np.var(np_anom, axis=2)\n",
    "        if np.shape(np_var) != (6,12):\n",
    "            raise Exception('variance array is the wrong shape')\n",
    "        \n",
    "        ## migrate data from numpy array to dataset\n",
    "        for (r,i) in zip(anom.data_vars, range(6)):\n",
    "            ds_var[r] = (('month'), np_var[i])\n",
    "            ds_var[r].attrs['name'] = 'variance of monthly anomaly'\n",
    "    \n",
    "    filename = var.lower()+'_ts_'+reg+'_monthly_var.nc'\n",
    "    ds_var.attrs['name'] = filename\n",
    "    \n",
    "    if save:\n",
    "        ds_var.to_netcdf(writedir+'CTRL/'+var.upper()+'/'+filename)\n",
    "        print(writedir+'CTRL/'+var.upper()+'/'+filename)\n",
    "    if not save:\n",
    "        print(writedir+'CTRL/'+var.upper()+'/'+filename)\n",
    "        return ds_var"
   ]
  },
  {
   "cell_type": "code",
   "execution_count": 7,
   "id": "3b382ed9-c5d3-473f-acd4-76bc8ebe40af",
   "metadata": {
    "jupyter": {
     "source_hidden": true
    },
    "tags": []
   },
   "outputs": [],
   "source": [
    "def comp_ens_global_mean(\n",
    "    variables, timescale, save=False, SIE=False, SIV=False):\n",
    "    \n",
    "    rootdir = '/local/projects/so_predict/esm2m_froelicher/'\n",
    "    writedir = '/home/bbuchovecky/storage/so_predict_derived/'\n",
    "    \n",
    "    reg_masks = xr.open_dataset(writedir+'regional_global_masks.nc')\n",
    "    regions = list(reg_masks.data_vars)\n",
    "\n",
    "    ocean_grid = xr.open_dataset(rootdir+'GRID/ocean.static.nc')\n",
    "    geolat_t = ocean_grid.geolat_t\n",
    "    geolon_t = ocean_grid.geolon_t\n",
    "    \n",
    "    months = 120\n",
    "\n",
    "    nT_months = np.arange(1,months+1)\n",
    "    nT_years = np.arange(1,(months/12)+1)\n",
    "    nStart = np.arange(1,7)\n",
    "    nEns = np.empty(0, dtype=str)\n",
    "\n",
    "    start_yrs = ['0170_0179', '0022_0031', '0064_0073', '0106_0115', '0232_0241', '0295_0304']\n",
    "    \n",
    "    biomass_vars = ['sfc_ndi', 'sfc_nlg_diatoms', 'sfc_nlg_nondiatoms', 'sfc_nsm']\n",
    "    \n",
    "    ## iterate through all variables\n",
    "    for var in variables:\n",
    "        ## update status\n",
    "        print('\\n######## '+var[0]+' ########\\n')\n",
    "\n",
    "        subdir = var[0]+'_ENSEMBLE/'\n",
    "\n",
    "        ## list with datasets for each start year (includes 40 ensembles)\n",
    "        yrs_list = []\n",
    "\n",
    "        ## iterate through the start years\n",
    "        for (i,yrs) in zip(range(1,7), start_yrs):\n",
    "\n",
    "            ## list with datasets for each ensemble run (pos/neg, 1-20)\n",
    "            ens_list = []\n",
    "\n",
    "            ## reset 'nEns' coord list\n",
    "            nEns = np.empty(0, dtype=str)\n",
    "\n",
    "            ## iterate through ensembles\n",
    "            for sign in ['neg', 'pos']:\n",
    "                for pert in range(1,21):\n",
    "                    \n",
    "                    nEns = np.append(nEns, sign+f'{pert:02}')\n",
    "                    \n",
    "                    if var[0] != 'BIOMASS':\n",
    "                        filename = var[1]+'_ENS'+f'{i:02}'+'_'+sign+f'{pert:02}'+'_'+yrs+'.nc'\n",
    "                        ds = xr.open_dataset(rootdir+subdir+filename)\n",
    "                    \n",
    "                    if var[0] == 'BIOMASS':\n",
    "                        filename = '_ENS'+f'{i:02}'+'_'+sign+f'{pert:02}'+'_'+yrs+'.nc'\n",
    "                        ndi = xr.open_dataset(rootdir+subdir+biomass_vars[0]+filename)\n",
    "                        diatoms = xr.open_dataset(rootdir+subdir+biomass_vars[1]+filename)\n",
    "                        nondiatoms = xr.open_dataset(rootdir+subdir+biomass_vars[2]+filename)\n",
    "                        nsm = xr.open_dataset(rootdir+subdir+biomass_vars[3]+filename)\n",
    "\n",
    "                        ds = ndi.copy(deep=True)\n",
    "                        ds = ds.rename({'sfc_ndi':'sfc_biomass'})\n",
    "\n",
    "                        ds['sfc_biomass'] = ndi['sfc_ndi'] + diatoms['sfc_nlg_diatoms'] + nondiatoms['sfc_nlg_nondiatoms'] + nsm['sfc_nsm']\n",
    "                    \n",
    "                    ## reassign coord names to ensure continuity between datasets\n",
    "                    coords = list(ds.coords)\n",
    "                    if (coords.count('XT') == 1) and (coords.count('YT') == 1) and (coords.count('TIME') == 1):\n",
    "                        ds = ds.rename({'XT':'xt_ocean', 'YT':'yt_ocean', 'TIME':'time'})\n",
    "\n",
    "                    if (coords.count('XT_OCEAN') == 1) and (coords.count('YT_OCEAN') == 1) and (coords.count('TIME') == 1):\n",
    "                        ds = ds.rename({'XT_OCEAN':'xt_ocean', 'YT_OCEAN':'yt_ocean', 'TIME':'time'})\n",
    "                        \n",
    "                    if (coords.count('xt') == 1) and (coords.count('yt') == 1):\n",
    "                        ds = ds.rename({'xt':'xt_ocean', 'yt':'yt_ocean'})\n",
    "                        \n",
    "                    ## truncate at 120 months for CN_INV\n",
    "                    if ds['time'].size > months:\n",
    "                        time = xr.cftime_range(start='0000', periods=months, freq='MS', calendar='noleap')\n",
    "                        temp = ds.copy(deep=True)\n",
    "                        ds = ds.drop('time')\n",
    "                        ds = ds.drop_vars(var[2])\n",
    "                        ds = ds.assign_coords({'time':time})\n",
    "                        ds[var[2]] = (('time','yt_ocean','xt_ocean'), temp[var[2]][:months])\n",
    "                                            \n",
    "                    ## assign ocean_grid coords for continuity\n",
    "                    ds = ds.assign_coords({'xt_ocean':ocean_grid.xt_ocean, 'yt_ocean':ocean_grid.yt_ocean})\n",
    "                    \n",
    "                    ## remove 'area_t' gridcells on land, keep only the ocean\n",
    "                    area = xr.where(np.isnan(ds[var[2]][0]), np.nan, ocean_grid['area_t'])\n",
    "\n",
    "                    ## total ocean area in the region\n",
    "                    area_sum = area.sum(dim={'xt_ocean', 'yt_ocean'})\n",
    "                    \n",
    "                    ## load and format SIC data for SIV computation\n",
    "                    if SIV:\n",
    "                        sie_area = xr.open_dataset(rootdir+'CN_ENSEMBLE/CN_inv_ENS'+f'{i:02}'+'_'+sign+f'{pert:02}'+'_'+yrs+'.nc')\n",
    "                        sie_area = sie_area.rename({'XT':'xt_ocean', 'YT':'yt_ocean', 'TIME':'time'})\n",
    "                        sie_area = sie_area.assign_coords({'xt_ocean':ocean_grid.xt_ocean, 'yt_ocean':ocean_grid.yt_ocean})\n",
    "        \n",
    "                        if sie_area['CN_INV'].size > months:\n",
    "                            temp = sie_area.copy(deep=True)\n",
    "                            sie_area = sie_area.drop('time')\n",
    "                            sie_area = sie_area.drop_vars('CN_INV')\n",
    "                            sie_area['CN_INV'] = (('time','yt_ocean','xt_ocean'), temp['CN_INV'][:months])\n",
    "                        \n",
    "                        sie_area = sie_area.assign_coords({'time':ds['time']})\n",
    "                        sie_area.transpose()\n",
    "                        sie_area = sie_area['CN_INV'] * area\n",
    "                        \n",
    "                    ## threshold SIE at >15% SIC\n",
    "                    if SIE:\n",
    "                        gridcell = xr.where(ds[var[2]] > 0.15, 1, 0)\n",
    "\n",
    "                    if timescale == 'annual':                      \n",
    "                        if SIE:\n",
    "                            mean = (gridcell * ocean_grid['area_t']).groupby('time.year').mean(dim='time').sum(dim={'xt_ocean', 'yt_ocean'})\n",
    "                            \n",
    "                        elif SIV:\n",
    "                            mean = (ds[var[2]] * sie_area).groupby('time.year').mean(dim='time').sum(dim={'xt_ocean', 'yt_ocean'})\n",
    "                        \n",
    "                        else:                          \n",
    "                            ## annual mean - compute areal integral for each year\n",
    "                            ## (1) find annual mean value for each gridcell\n",
    "                            ## (2) compute areal integral for the annual mean gridcells\n",
    "                            mean = (ds[var[2]] * ocean_grid['area_t']).groupby('time.year').mean(dim='time').sum(dim={'xt_ocean', 'yt_ocean'}) / area_sum\n",
    "\n",
    "                        ## reassign 'time' cftime coord to 'nT' integer coord from 1-10\n",
    "                        if list(mean.coords).count('time') > 0:\n",
    "                            mean = mean.drop('time')\n",
    "                        mean = mean.rename({'year':'nT'})\n",
    "                        mean = mean.assign_coords({'nT':nT_years})\n",
    "\n",
    "                    if timescale == 'monthly':\n",
    "                        if SIE:\n",
    "                            mean = (gridcell * ocean_grid['area_t']).sum(dim={'xt_ocean', 'yt_ocean'})\n",
    "                            \n",
    "                        elif SIV:\n",
    "                            mean = (ds[var[2]] * sie_area).sum(dim={'xt_ocean', 'yt_ocean'})\n",
    "                        \n",
    "                        else:\n",
    "                            ## monthly mean - compute areal integral for each month\n",
    "                            mean = (ds[var[2]] * ocean_grid['area_t']).sum(dim={'xt_ocean', 'yt_ocean'}) / area_sum\n",
    "\n",
    "                        ## reassign 'time' cftime coord to 'nT' integer coord from 1-120\n",
    "                        mean = mean.rename({'time':'nT'})\n",
    "                        mean = mean.assign_coords({'nT':nT_months})\n",
    "\n",
    "                    ## rename the array to the region's name\n",
    "                    mean.name = 'Global'\n",
    "\n",
    "                    ## convert the array to a dataset\n",
    "                    this_ens = mean.to_dataset()\n",
    "\n",
    "                    ## append a copy of the dataset to the ensembles list\n",
    "                    ens_list.append(this_ens.copy(deep=True))\n",
    "\n",
    "                    ## update status\n",
    "                    if (i == 1) and (sign == 'neg') and (pert == 1):\n",
    "                        print('this_ens.coords = '+str(list(this_ens.coords)))\n",
    "                        print('this_ens.data_vars = '+str(list(this_ens.data_vars))+'\\n')\n",
    "\n",
    "                    print('o',end='')\n",
    "                    if pert == 20:\n",
    "                        print('')\n",
    "\n",
    "                ## update status\n",
    "                if sign == 'neg':\n",
    "                    print('var: '+var[2]+' | nStart: '+str(i)+' | nEns: 20/40')\n",
    "                if sign == 'pos':\n",
    "                    print('var: '+var[2]+' | nStart: '+str(i)+' | nEns: 40/40')\n",
    "\n",
    "            ## concatenate ensemble arrays along new 'nEns' dimension\n",
    "            these_ens = xr.concat(ens_list, 'nEns')\n",
    "            these_ens = these_ens.assign_coords({'nEns':nEns}) \n",
    "\n",
    "            ## append a copy of the dataset to the start years list\n",
    "            yrs_list.append(these_ens.copy(deep=True))\n",
    "\n",
    "            ## update status\n",
    "            if i == 1:\n",
    "                print('\\nthese_ens.coords = '+str(list(these_ens.coords)))\n",
    "                print('these_ens.data_vars = '+str(list(these_ens.data_vars))+'\\n')\n",
    "\n",
    "        ## concatenate start years arrays along new 'nStart' dimension\n",
    "        all_ens = xr.concat(yrs_list, 'nStart')\n",
    "        all_ens = all_ens.assign_coords({'nStart':start_yrs})\n",
    "\n",
    "        ## copy attributes to each region data variable\n",
    "        all_ens['Global'].attrs = mean.attrs\n",
    "\n",
    "        ## add description\n",
    "        if SIE:\n",
    "            filename = 'sie_ens_global_'+timescale+'_mean.nc'\n",
    "        if SIV:\n",
    "            filename = 'siv_ens_global_'+timescale+'_mean.nc'\n",
    "        if not SIE and not SIV:\n",
    "            filename = var[1].lower()+'_ens_global_'+timescale+'_mean.nc'\n",
    "        all_ens.attrs['name'] = filename\n",
    "\n",
    "        print('\\nall_ens.coords = '+str(list(all_ens.coords)))\n",
    "        print('all_ens.data_vars = '+str(list(all_ens.data_vars))+'\\n')\n",
    "\n",
    "        if save:\n",
    "            if var[0] == 'CN':\n",
    "                subdir = var[2]+'_ENSEMBLE/'\n",
    "            if var[0] == 'BIOMASS':\n",
    "                subdir = var[2].upper()+'_ENSEMBLE/'\n",
    "            if SIE:\n",
    "                subdir = 'SIE_ENSEMBLE/'\n",
    "            if SIV:\n",
    "                subdir = 'SIV_ENSEMBLE/'\n",
    "            all_ens.to_netcdf(writedir+subdir+filename)\n",
    "            print(writedir+subdir+filename)\n",
    "\n",
    "        elif not save:\n",
    "            return all_ens"
   ]
  },
  {
   "cell_type": "code",
   "execution_count": 8,
   "id": "4cf17e9b-9432-449a-b0f3-814c671053f3",
   "metadata": {
    "jupyter": {
     "source_hidden": true
    },
    "tags": []
   },
   "outputs": [],
   "source": [
    "def comp_ens_so_mean(\n",
    "    variables, timescale, save=False, SIE=False, SIV=False):\n",
    "    \n",
    "    rootdir = '/local/projects/so_predict/esm2m_froelicher/'\n",
    "    writedir = '/home/bbuchovecky/storage/so_predict_derived/'\n",
    "    \n",
    "    reg_masks = xr.open_dataset(writedir+'regional_global_masks.nc')\n",
    "    regions = list(reg_masks.data_vars)\n",
    "\n",
    "    ocean_grid = xr.open_dataset(rootdir+'GRID/ocean.static.nc')\n",
    "    geolat_t = ocean_grid.geolat_t\n",
    "    geolon_t = ocean_grid.geolon_t\n",
    "    \n",
    "    months = 120\n",
    "\n",
    "    nT_months = np.arange(1,months+1)\n",
    "    nT_years = np.arange(1,(months/12)+1)\n",
    "    nStart = np.arange(1,7)\n",
    "    nEns = np.empty(0, dtype=str)\n",
    "\n",
    "    start_yrs = ['0170_0179', '0022_0031', '0064_0073', '0106_0115', '0232_0241', '0295_0304']\n",
    "    \n",
    "    ## iterate through all variables\n",
    "    for var in variables:\n",
    "        ## update status\n",
    "        print('\\n######## '+var[0]+' ########\\n')\n",
    "\n",
    "        subdir = var[0]+'_ENSEMBLE/'\n",
    "\n",
    "        ## list with datasets for each start year (includes 40 ensembles)\n",
    "        yrs_list = []\n",
    "        \n",
    "        biomass_vars = ['sfc_ndi', 'sfc_nlg_diatoms', 'sfc_nlg_nondiatoms', 'sfc_nsm']\n",
    "        \n",
    "        ## iterate through the start years\n",
    "        for (i,yrs) in zip(range(1,7), start_yrs):\n",
    "\n",
    "            ## list with datasets for each ensemble run (pos/neg, 1-20)\n",
    "            ens_list = []\n",
    "\n",
    "            ## reset 'nEns' coord list\n",
    "            nEns = np.empty(0, dtype=str)\n",
    "\n",
    "            ## iterate through ensembles\n",
    "            for sign in ['neg', 'pos']:\n",
    "                for pert in range(1,21):\n",
    "                    \n",
    "                    nEns = np.append(nEns, sign+f'{pert:02}')\n",
    "                    \n",
    "                    if var[0] != 'BIOMASS':\n",
    "                        filename = var[1]+'_ENS'+f'{i:02}'+'_'+sign+f'{pert:02}'+'_'+yrs+'.nc'\n",
    "                        ds = xr.open_dataset(rootdir+subdir+filename)\n",
    "\n",
    "                    if var[0] == 'BIOMASS':\n",
    "                        filename = '_ENS'+f'{i:02}'+'_'+sign+f'{pert:02}'+'_'+yrs+'.nc'\n",
    "                        ndi = xr.open_dataset(rootdir+subdir+biomass_vars[0]+filename)\n",
    "                        diatoms = xr.open_dataset(rootdir+subdir+biomass_vars[1]+filename)\n",
    "                        nondiatoms = xr.open_dataset(rootdir+subdir+biomass_vars[2]+filename)\n",
    "                        nsm = xr.open_dataset(rootdir+subdir+biomass_vars[3]+filename)\n",
    "\n",
    "                        ds = ndi.copy(deep=True)\n",
    "                        ds = ds.rename({'sfc_ndi':'sfc_biomass'})\n",
    "\n",
    "                        ds['sfc_biomass'] = ndi['sfc_ndi'] + diatoms['sfc_nlg_diatoms'] + nondiatoms['sfc_nlg_nondiatoms'] + nsm['sfc_nsm']\n",
    "                    \n",
    "                    ## reassign coord names to ensure continuity between datasets\n",
    "                    coords = list(ds.coords)\n",
    "                    if (coords.count('XT') == 1) and (coords.count('YT') == 1) and (coords.count('TIME') == 1):\n",
    "                        ds = ds.rename({'XT':'xt_ocean', 'YT':'yt_ocean', 'TIME':'time'})\n",
    "\n",
    "                    if (coords.count('XT_OCEAN') == 1) and (coords.count('YT_OCEAN') == 1) and (coords.count('TIME') == 1):\n",
    "                        ds = ds.rename({'XT_OCEAN':'xt_ocean', 'YT_OCEAN':'yt_ocean', 'TIME':'time'})\n",
    "                        \n",
    "                    if (coords.count('xt') == 1) and (coords.count('yt') == 1):\n",
    "                        ds = ds.rename({'xt':'xt_ocean', 'yt':'yt_ocean'})\n",
    "                    \n",
    "                    ## truncate at 120 months for CN_INV\n",
    "                    if ds['time'].size > months:\n",
    "                        time = xr.cftime_range(start='0000', periods=months, freq='MS', calendar='noleap')\n",
    "                        temp = ds.copy(deep=True)\n",
    "                        ds = ds.drop('time')\n",
    "                        ds = ds.drop_vars(var[2])\n",
    "                        ds = ds.assign_coords({'time':time})\n",
    "                        ds[var[2]] = (('time','yt_ocean','xt_ocean'), temp[var[2]][:months])\n",
    "                    \n",
    "                    ## assign ocean_grid coords for continuity\n",
    "                    ds = ds.assign_coords({'xt_ocean':ocean_grid.xt_ocean, 'yt_ocean':ocean_grid.yt_ocean})\n",
    "                    \n",
    "                    ## remove 'area_t' gridcells on land, keep only the ocean\n",
    "                    glob_area = xr.where(np.isnan(ds[var[2]][0]), np.nan, ocean_grid['area_t'])\n",
    "                    \n",
    "                    ## load and format SIC data for SIV computation\n",
    "                    if SIV:\n",
    "                        sie_area = xr.open_dataset(rootdir+'CN_ENSEMBLE/CN_inv_ENS'+f'{i:02}'+'_'+sign+f'{pert:02}'+'_'+yrs+'.nc')\n",
    "                        sie_area = sie_area.rename({'XT':'xt_ocean', 'YT':'yt_ocean', 'TIME':'time'})\n",
    "                        sie_area = sie_area.assign_coords({'xt_ocean':ocean_grid.xt_ocean, 'yt_ocean':ocean_grid.yt_ocean})\n",
    "        \n",
    "                        if sie_area['CN_INV'].size > months:\n",
    "                            temp = sie_area.copy(deep=True)\n",
    "                            sie_area = sie_area.drop('time')\n",
    "                            sie_area = sie_area.drop_vars('CN_INV')\n",
    "                            sie_area['CN_INV'] = (('time','yt_ocean','xt_ocean'), temp['CN_INV'][:months])\n",
    "                        \n",
    "                        sie_area = sie_area.assign_coords({'time':ds['time']})\n",
    "                        sie_area.transpose()\n",
    "                        sie_area = sie_area['CN_INV'] * glob_area\n",
    "                                    \n",
    "                    ## compute timeseries for each region\n",
    "                    reg_list = []\n",
    "                    for reg in regions:\n",
    "                        ## regional mask of 'area_t' \n",
    "                        area = glob_area.where(reg_masks[reg] == 1)\n",
    "                        \n",
    "                        ## total ocean area in the region\n",
    "                        area_sum = area.sum(dim={'xt_ocean', 'yt_ocean'})\n",
    "                        \n",
    "                        ## regional mask of ensemble run data\n",
    "                        reg_gridcell = ds[var[2]].where(reg_masks[reg] == 1)\n",
    "                        \n",
    "                        ## threshold SIE at >15% SIC\n",
    "                        if SIE:\n",
    "                            reg_gridcell = xr.where(reg_gridcell > 0.15, 1, 0)\n",
    "                        \n",
    "                        if timescale == 'annual':\n",
    "                            if SIE:\n",
    "                                reg_mean = (reg_gridcell * ocean_grid['area_t']).groupby('time.year').mean(dim='time').sum(dim={'xt_ocean', 'yt_ocean'})\n",
    "                            \n",
    "                            elif SIV:\n",
    "                                reg_mean = (sie_area * reg_gridcell).groupby('time.year').mean(dim='time').sum(dim={'xt_ocean', 'yt_ocean'})\n",
    "                            \n",
    "                            else:\n",
    "                                ## annual mean - compute area integral for each year\n",
    "                                ## (1) find annual mean value for each gridcell\n",
    "                                ## (2) compute areal integral for the annual mean gridcells\n",
    "                                reg_mean = (reg_gridcell * ocean_grid['area_t']).groupby('time.year').mean(dim='time').sum(dim={'xt_ocean', 'yt_ocean'}) / area_sum\n",
    "                            \n",
    "                            ## reassign 'time' cftime coord to 'nT' integer coord from 1-10\n",
    "                            if list(reg_mean.coords).count('time') > 0:\n",
    "                                reg_mean = reg_mean.drop('time')\n",
    "                            reg_mean = reg_mean.rename({'year':'nT'})\n",
    "                            reg_mean = reg_mean.assign_coords({'nT':nT_years})\n",
    "\n",
    "                        if timescale == 'monthly':\n",
    "                            if SIE:\n",
    "                                reg_mean = (reg_gridcell * ocean_grid['area_t']).sum(dim={'xt_ocean', 'yt_ocean'})\n",
    "                            \n",
    "                            elif SIV:\n",
    "                                reg_mean = (sie_area * reg_gridcell).sum(dim={'xt_ocean', 'yt_ocean'})\n",
    "                               \n",
    "                            else:\n",
    "                                ## monthly mean - compute area integral for each month\n",
    "                                reg_mean = (reg_gridcell * ocean_grid['area_t']).sum(dim={'xt_ocean', 'yt_ocean'}) / area_sum\n",
    "                            \n",
    "                            ## reassign 'time' cftime coord to 'nT' integer coord from 1-120\n",
    "                            reg_mean = reg_mean.rename({'time':'nT'})\n",
    "                            reg_mean = reg_mean.assign_coords({'nT':nT_months})\n",
    "\n",
    "                        ## rename the array to the region's name\n",
    "                        reg_mean.name = reg\n",
    "\n",
    "                        ## append a copy of the array to the regions list\n",
    "                        reg_list.append(reg_mean.copy(deep=True))\n",
    "\n",
    "                    ## merge the regions list into one dataset, separate variables for each region\n",
    "                    this_ens = xr.merge(reg_list)\n",
    "\n",
    "                    ## append a copy of the dataset to the ensembles list\n",
    "                    ens_list.append(this_ens.copy(deep=True))\n",
    "\n",
    "                    ## update status\n",
    "                    if (i == 1) and (sign == 'neg') and (pert == 1):\n",
    "                        print('this_ens.coords = '+str(list(this_ens.coords)))\n",
    "                        print('this_ens.data_vars = '+str(list(this_ens.data_vars))+'\\n')\n",
    "\n",
    "                    print('o',end='')\n",
    "                    if pert == 20:\n",
    "                        print('')\n",
    "\n",
    "                ## update status\n",
    "                if sign == 'neg':\n",
    "                    print('var: '+var[2]+' | nStart: '+str(i)+' | nEns: 20/40')\n",
    "                if sign == 'pos':\n",
    "                    print('var: '+var[2]+' | nStart: '+str(i)+' | nEns: 40/40')\n",
    "\n",
    "            ## concatenate ensemble arrays along new 'nEns' dimension\n",
    "            these_ens = xr.concat(ens_list, 'nEns')\n",
    "            these_ens = these_ens.assign_coords({'nEns':nEns}) \n",
    "\n",
    "            ## append a copy of the dataset to the start years list\n",
    "            yrs_list.append(these_ens.copy(deep=True))\n",
    "\n",
    "            ## update status\n",
    "            if i == 1:\n",
    "                print('\\nthese_ens.coords = '+str(list(these_ens.coords)))\n",
    "                print('these_ens.data_vars = '+str(list(these_ens.data_vars))+'\\n')\n",
    "\n",
    "        ## concatenate start years arrays along new 'nStart' dimension\n",
    "        all_ens = xr.concat(yrs_list, 'nStart')\n",
    "        all_ens = all_ens.assign_coords({'nStart':start_yrs})\n",
    "\n",
    "        ## copy attributes to each region data variable\n",
    "        for reg in regions:\n",
    "            all_ens[reg].attrs = reg_gridcell.attrs\n",
    "\n",
    "        ## add description\n",
    "        if SIE:\n",
    "            filename = 'sie_ens_so_'+timescale+'_mean.nc'\n",
    "        if SIV:\n",
    "            filename = 'siv_ens_so_'+timescale+'_mean.nc'\n",
    "        if not SIE and not SIV:\n",
    "            filename = var[1].lower()+'_ens_so_'+timescale+'_mean.nc'\n",
    "        all_ens.attrs['name'] = filename\n",
    "\n",
    "        print('\\nall_ens.coords = '+str(list(all_ens.coords)))\n",
    "        print('all_ens.data_vars = '+str(list(all_ens.data_vars))+'\\n')\n",
    "\n",
    "        if save:\n",
    "            if var[0] == 'CN':\n",
    "                subdir = var[2]+'_ENSEMBLE/'\n",
    "            if var[0] == 'BIOMASS':\n",
    "                subdir = var[2].upper()+'_ENSEMBLE/'\n",
    "            if SIE:\n",
    "                subdir = 'SIE_ENSEMBLE/'\n",
    "            if SIV:\n",
    "                subdir = 'SIV_ENSEMBLE/'\n",
    "            all_ens.to_netcdf(writedir+subdir+filename)\n",
    "            print(writedir+subdir+filename)\n",
    "        elif not save:\n",
    "            return all_ens"
   ]
  },
  {
   "cell_type": "code",
   "execution_count": 9,
   "id": "eee7ee2a-7a00-46b3-b759-f73f16efaf96",
   "metadata": {
    "tags": []
   },
   "outputs": [],
   "source": [
    "def comp_ens_anom(\n",
    "    var, timescale, reg, clim=None, save=False):\n",
    "    \n",
    "    writedir = '/home/bbuchovecky/storage/so_predict_derived/'\n",
    "    subdir = var.upper()+'_ENSEMBLE/'\n",
    "    \n",
    "    if clim == None and timescale == 'monthly':\n",
    "        clim = xr.open_dataset(writedir+'CTRL/'+var.upper()+'/'+var.lower()+'_ts_'+reg+'_monthly_mean.nc')\n",
    "        clim = clim.groupby('time.month').mean(dim='time')\n",
    "    \n",
    "    ## open the ensemble timeseries\n",
    "    ens_mean = xr.open_dataset(writedir+subdir+var.lower()+'_ens_'+reg+'_'+timescale+'_mean.nc')\n",
    "    \n",
    "    ## create list of regions (either SO regions or Global)\n",
    "    regions = list(ens_mean.data_vars)\n",
    "        \n",
    "    ## create a copy of the ensemble timeseries to overwrite with anomaly data\n",
    "    ens_anom = ens_mean.copy(deep=True)\n",
    "        \n",
    "    ## iterate through all start years\n",
    "    for s in range(ens_anom['nStart'].size):\n",
    "        ## iterate through each perturbation\n",
    "        for e in range(ens_anom['nEns'].size):\n",
    "            ## iterate through all regions\n",
    "            for r in regions:\n",
    "                ## create a NumPy array of the ensemble data\n",
    "                np_mean = ens_mean[r][s,e].values\n",
    "\n",
    "                ## if SST, adjust units of climatology back to Kelvin\n",
    "                if var.lower() == 'sst':\n",
    "                    np_clim = clim[r].values + 273.15\n",
    "                else:\n",
    "                    np_clim = clim[r].values \n",
    "\n",
    "                ## calculate the anomaly between the ensemble data and the\n",
    "                ## control run climatology \n",
    "                ## (Jan_ens - Jan_ctrl, Feb_ens - Feb_ctrl, etc.)                    \n",
    "                reg_anom = np.zeros(120)\n",
    "                for m in range(120):\n",
    "                    reg_anom[m] = np_mean[m] - np_clim[m%12]\n",
    "\n",
    "                ens_anom[r][s,e] = reg_anom\n",
    "                \n",
    "    ## add description\n",
    "    if len(regions) > 1:\n",
    "        filename = var.lower()+'_ens_so_'+timescale+'_anom.nc'\n",
    "    elif len(regions) == 1:\n",
    "        filename = var.lower()+'_ens_global_'+timescale+'_anom.nc'\n",
    "    ens_anom.attrs['name'] = filename\n",
    "    \n",
    "    if save:\n",
    "        ens_anom.to_netcdf(writedir+subdir+filename)\n",
    "        print(writedir+subdir+filename)\n",
    "    elif not save:\n",
    "        return ens_anom"
   ]
  },
  {
   "cell_type": "code",
   "execution_count": 15,
   "id": "1634c031-e927-423c-9da6-db41e1b00651",
   "metadata": {
    "tags": []
   },
   "outputs": [],
   "source": [
    "def comp_ppp(\n",
    "    var, reg, save=False, timescale='monthly'):\n",
    "\n",
    "    ## import necessary data\n",
    "    writedir = '/home/bbuchovecky/storage/so_predict_derived/'\n",
    "    \n",
    "    ## variance of the control simulation for each month\n",
    "    ## dimensions (month: 12)\n",
    "    subdir = 'CTRL/'+var.upper()+'/'\n",
    "    filename = var.lower()+'_ts_'+reg+'_'+timescale+'_var.nc'\n",
    "    ctrl_var = xr.open_dataset(writedir+subdir+filename)\n",
    "    \n",
    "    ## ensemble anomalies\n",
    "    ## dimensions (nStart: 6, nEns: 40, nT: 120)\n",
    "    subdir = var.upper()+'_ENSEMBLE/'\n",
    "    filename = var.lower()+'_ens_'+reg+'_'+timescale+'_anom.nc'\n",
    "    ens_anom = xr.open_dataset(writedir+subdir+filename)\n",
    "    \n",
    "    regions = ctrl_var.data_vars\n",
    "\n",
    "    ## constants\n",
    "    N = 6\n",
    "    M = 40\n",
    "\n",
    "    ## numerator coefficient\n",
    "    num_coeff = 1 / (N * (M - 1))\n",
    "\n",
    "    ## numerator outer sum - across all ensembles\n",
    "    num_outer_sum = np.zeros((6,120))\n",
    "\n",
    "    PPP = np.zeros( (len(regions), 120) )\n",
    "\n",
    "    for (iReg,r) in zip(range(len(regions)), regions):\n",
    "\n",
    "        for j in range(N):\n",
    "            ## numerator inner sum - across all ensemble members\n",
    "            num_inner_sum = np.zeros((40,120))\n",
    "\n",
    "            ## ensemble mean\n",
    "            ens_mean = ens_anom[r][j].mean(dim='nEns')\n",
    "\n",
    "            for i in range(M):\n",
    "                num_inner_sum[i] = np.square(ens_anom[r][j,i] - ens_mean)\n",
    "\n",
    "            num_outer_sum[j] = np.sum(num_inner_sum, axis=0)\n",
    "\n",
    "        ## numerator total sum\n",
    "        num_sum = np.sum(num_outer_sum, axis=0)\n",
    "\n",
    "        ## compute PPP\n",
    "        for m in range(120):\n",
    "            PPP[iReg][m] = 1 - ( (num_coeff * num_sum[m]) / ctrl_var[r][m%12] )\n",
    "            \n",
    "    ## organize PPP data in a Dataset\n",
    "    PPP_da = []\n",
    "    for (iReg,r) in zip(range(len(regions)), regions):\n",
    "        \n",
    "        PPP_reg = xr.DataArray(\n",
    "                    data=PPP[iReg],\n",
    "                    dims=['nT'],\n",
    "                    coords=dict(\n",
    "                        nT=np.arange(1,121)\n",
    "                    ),\n",
    "                    name=r\n",
    "                )\n",
    "        \n",
    "        PPP_da.append(PPP_reg.copy(deep=True))\n",
    "    \n",
    "    PPP_ds = xr.merge(PPP_da)\n",
    "    PPP_ds.attrs['name'] = var.lower()+'_ts_'+reg+'_'+timescale+'_ppp.nc'\n",
    "    \n",
    "    subdir = 'PPP/'+var.upper()+'/'\n",
    "    filename = var.lower()+'_ts_'+reg+'_'+timescale+'_ppp.nc'\n",
    "        \n",
    "    if save:\n",
    "        PPP_ds.to_netcdf(writedir+subdir+filename)\n",
    "        print(writedir+subdir+filename)\n",
    "        \n",
    "    elif not save:\n",
    "        print(writedir+subdir+filename)\n",
    "        return PPP_ds"
   ]
  },
  {
   "cell_type": "markdown",
   "id": "68860fc8-db5e-4858-99b8-3a1d26a23aec",
   "metadata": {},
   "source": [
    "# Total Surface Biomass"
   ]
  },
  {
   "cell_type": "markdown",
   "id": "4bb64a62-a382-438a-b272-8a03cbcd2f3e",
   "metadata": {},
   "source": [
    "## Control"
   ]
  },
  {
   "cell_type": "markdown",
   "id": "4818a7cf-0944-4d3d-bcf9-06e2343e1d78",
   "metadata": {},
   "source": [
    "### Import Raw Data"
   ]
  },
  {
   "cell_type": "code",
   "execution_count": 35,
   "id": "2f129165-371a-4c4e-9de0-28683c2036a8",
   "metadata": {
    "scrolled": true,
    "tags": []
   },
   "outputs": [],
   "source": [
    "rootdir = '/local/projects/so_predict/esm2m_froelicher/CTRL/'\n",
    "writedir = '/home/bbuchovecky/storage/so_predict_derived/CTRL/'\n",
    "# pcs.dir_inspect(rootdir)"
   ]
  },
  {
   "cell_type": "code",
   "execution_count": 3,
   "id": "59692fc0-0869-4cab-9253-cc830452b767",
   "metadata": {
    "tags": []
   },
   "outputs": [],
   "source": [
    "## import raw gridcell data\n",
    "ndi = xr.open_dataset(rootdir+'BIOMASS/sfc_ndi_0001_0300.nc')\n",
    "diatoms = xr.open_dataset(rootdir+'BIOMASS/sfc_nlg_diatoms_0001_0300.nc')\n",
    "nondiatoms = xr.open_dataset(rootdir+'BIOMASS/sfc_nlg_nondiatoms_0001_0300.nc')\n",
    "nsm = xr.open_dataset(rootdir+'BIOMASS/sfc_nsm_0001_0300.nc')"
   ]
  },
  {
   "cell_type": "markdown",
   "id": "d7c5a312-4a6d-4d13-bd74-c3ca9ead913f",
   "metadata": {},
   "source": [
    "### Get Total Biomass"
   ]
  },
  {
   "cell_type": "code",
   "execution_count": 4,
   "id": "ed9030f0-838a-4c0c-8b6c-96aeabf944e6",
   "metadata": {},
   "outputs": [],
   "source": [
    "## sum all biomass contributors into sfc_biomass variable\n",
    "\n",
    "sfc_biomass = ndi.copy(deep=True)\n",
    "sfc_biomass = sfc_biomass.rename({'sfc_ndi':'sfc_biomass'})\n",
    "\n",
    "sfc_biomass['sfc_biomass'] = ndi['sfc_ndi'] + diatoms['sfc_nlg_diatoms'] + nondiatoms['sfc_nlg_nondiatoms'] + nsm['sfc_nsm']\n",
    "\n",
    "sfc_biomass['sfc_biomass'].attrs = ndi['sfc_ndi'].attrs\n",
    "sfc_biomass['sfc_biomass'].attrs['long_name'] = 'Total Surface N'\n",
    "sfc_biomass['sfc_biomass'].attrs['description'] = '('+ndi['sfc_ndi'].attrs['long_name']+') + ('+diatoms['sfc_nlg_diatoms'].attrs['long_name']+') + ('+nondiatoms['sfc_nlg_nondiatoms'].attrs['long_name']+') + ('+nsm['sfc_nsm'].attrs['long_name']+')'\n",
    "\n",
    "## save dataset\n",
    "filename = 'sfc_biomass_gc_global_monthly_mean.nc'\n",
    "sfc_biomass.to_netcdf(writedir+'SFC_BIOMASS/'+filename)\n",
    "print(writedir+'SFC_BIOMASS/'+filename)"
   ]
  },
  {
   "cell_type": "markdown",
   "id": "dd9ff3bc-e0c4-4170-811b-8d4473116285",
   "metadata": {},
   "source": [
    "### Gridcell Metrics"
   ]
  },
  {
   "cell_type": "code",
   "execution_count": 32,
   "id": "3ec9ab13-e385-40a4-b4af-b68dbd58473b",
   "metadata": {},
   "outputs": [
    {
     "name": "stdout",
     "output_type": "stream",
     "text": [
      "/home/bbuchovecky/storage/so_predict_derived/CTRL/SFC_BIOMASS/sfc_biomass_gc_global_clim.nc\n",
      "/home/bbuchovecky/storage/so_predict_derived/CTRL/SFC_BIOMASS/sfc_biomass_gc_global_monthly_anom.nc\n",
      "/home/bbuchovecky/storage/so_predict_derived/CTRL/SFC_BIOMASS/sfc_biomass_gc_global_monthly_var.nc\n"
     ]
    }
   ],
   "source": [
    "comp_gc_metrics(sfc_biomass, 'sfc_biomass', resize=False, save=True)"
   ]
  },
  {
   "cell_type": "code",
   "execution_count": 33,
   "id": "e6c9a533-194a-45b4-8d9c-0726d9967e40",
   "metadata": {},
   "outputs": [
    {
     "name": "stdout",
     "output_type": "stream",
     "text": [
      "/home/bbuchovecky/storage/so_predict_derived/CTRL/SFC_BIOMASS/sfc_biomass_gc_so_clim.nc\n",
      "/home/bbuchovecky/storage/so_predict_derived/CTRL/SFC_BIOMASS/sfc_biomass_gc_so_monthly_anom.nc\n",
      "/home/bbuchovecky/storage/so_predict_derived/CTRL/SFC_BIOMASS/sfc_biomass_gc_so_monthly_var.nc\n"
     ]
    }
   ],
   "source": [
    "comp_gc_metrics(sfc_biomass, 'sfc_biomass', resize=True, save=True)"
   ]
  },
  {
   "cell_type": "markdown",
   "id": "71a8918d-7a71-4287-99ed-76145737bf59",
   "metadata": {},
   "source": [
    "### Timeseries Metrics"
   ]
  },
  {
   "cell_type": "code",
   "execution_count": 140,
   "id": "68d27a9e-3b99-4671-bf12-c46df96dff96",
   "metadata": {},
   "outputs": [
    {
     "name": "stdout",
     "output_type": "stream",
     "text": [
      "/home/bbuchovecky/storage/so_predict_derived/CTRL/SFC_BIOMASS/sfc_biomass_ts_global_annual_mean.nc\n"
     ]
    }
   ],
   "source": [
    "comp_annual_mean(sfc_biomass, 'sfc_biomass', 'global', save=True)"
   ]
  },
  {
   "cell_type": "code",
   "execution_count": 141,
   "id": "f47c4e22-33c2-402d-8239-6a8ff95fde49",
   "metadata": {},
   "outputs": [
    {
     "name": "stdout",
     "output_type": "stream",
     "text": [
      "/home/bbuchovecky/storage/so_predict_derived/CTRL/SFC_BIOMASS/sfc_biomass_ts_so_annual_mean.nc\n"
     ]
    }
   ],
   "source": [
    "comp_annual_mean(sfc_biomass, 'sfc_biomass', 'so', save=True)"
   ]
  },
  {
   "cell_type": "code",
   "execution_count": 174,
   "id": "5b443559-b54c-42d3-ad4f-7b93fbd84973",
   "metadata": {},
   "outputs": [
    {
     "name": "stdout",
     "output_type": "stream",
     "text": [
      "/home/bbuchovecky/storage/so_predict_derived/CTRL/SFC_BIOMASS/sfc_biomass_ts_global_monthly_mean.nc\n"
     ]
    }
   ],
   "source": [
    "comp_monthly_mean(sfc_biomass, 'sfc_biomass', 'global', save=True)"
   ]
  },
  {
   "cell_type": "code",
   "execution_count": 175,
   "id": "c60a1eab-6a71-481b-b75c-562b77a69dc3",
   "metadata": {},
   "outputs": [
    {
     "name": "stdout",
     "output_type": "stream",
     "text": [
      "/home/bbuchovecky/storage/so_predict_derived/CTRL/SFC_BIOMASS/sfc_biomass_ts_so_monthly_mean.nc\n"
     ]
    }
   ],
   "source": [
    "comp_monthly_mean(sfc_biomass, 'sfc_biomass', 'so', save=True)"
   ]
  },
  {
   "cell_type": "code",
   "execution_count": 224,
   "id": "7d8fd55b-441c-4941-964d-4edaa453a3a4",
   "metadata": {},
   "outputs": [
    {
     "name": "stdout",
     "output_type": "stream",
     "text": [
      "Source: sfc_biomass_ts_global_monthly_mean.nc\n",
      "/home/bbuchovecky/storage/so_predict_derived/CTRL/SFC_BIOMASS/sfc_biomass_ts_global_monthly_anom.nc\n"
     ]
    }
   ],
   "source": [
    "comp_monthly_anom('sfc_biomass', 'global', save=True)"
   ]
  },
  {
   "cell_type": "code",
   "execution_count": 225,
   "id": "e255174c-ab12-45d3-94ab-487b5c192860",
   "metadata": {},
   "outputs": [
    {
     "name": "stdout",
     "output_type": "stream",
     "text": [
      "Source: sfc_biomass_ts_so_monthly_mean.nc\n",
      "/home/bbuchovecky/storage/so_predict_derived/CTRL/SFC_BIOMASS/sfc_biomass_ts_so_monthly_anom.nc\n"
     ]
    }
   ],
   "source": [
    "comp_monthly_anom('sfc_biomass', 'so', save=True)"
   ]
  },
  {
   "cell_type": "code",
   "execution_count": 263,
   "id": "bd7db6be-7977-4496-aff9-79809d4632e0",
   "metadata": {},
   "outputs": [
    {
     "name": "stdout",
     "output_type": "stream",
     "text": [
      "Source: sfc_biomass_ts_global_monthly_anom.nc\n",
      "/home/bbuchovecky/storage/so_predict_derived/CTRL/SFC_BIOMASS/sfc_biomass_ts_global_monthly_var.nc\n"
     ]
    }
   ],
   "source": [
    "comp_monthly_var('sfc_biomass', 'global', save=True)"
   ]
  },
  {
   "cell_type": "code",
   "execution_count": 264,
   "id": "20178715-4afb-4388-bae3-0d28e47c9840",
   "metadata": {},
   "outputs": [
    {
     "name": "stdout",
     "output_type": "stream",
     "text": [
      "Source: sfc_biomass_ts_so_monthly_anom.nc\n",
      "/home/bbuchovecky/storage/so_predict_derived/CTRL/SFC_BIOMASS/sfc_biomass_ts_so_monthly_var.nc\n"
     ]
    }
   ],
   "source": [
    "comp_monthly_var('sfc_biomass', 'so', save=True)"
   ]
  },
  {
   "cell_type": "code",
   "execution_count": 279,
   "id": "291d3980-f3af-4af6-8317-d30f02b58aac",
   "metadata": {},
   "outputs": [
    {
     "name": "stdout",
     "output_type": "stream",
     "text": [
      "/home/bbuchovecky/storage/so_predict_derived/CTRL/SFC_BIOMASS/sfc_biomass_ts_global_clim.nc\n",
      "/home/bbuchovecky/storage/so_predict_derived/CTRL/SFC_BIOMASS/sfc_biomass_ts_so_clim.nc\n"
     ]
    }
   ],
   "source": [
    "pcs.comp_clim('sfc_biomass', 'global', save=True)\n",
    "pcs.comp_clim('sfc_biomass', 'so', save=True)"
   ]
  },
  {
   "cell_type": "markdown",
   "id": "3e15410b-2b1e-4c92-a66a-0a4605aa1c8d",
   "metadata": {},
   "source": [
    "## Ensembles"
   ]
  },
  {
   "cell_type": "code",
   "execution_count": 369,
   "id": "068ff1fe-2f3e-4e95-a8df-dc7885395179",
   "metadata": {
    "collapsed": true,
    "jupyter": {
     "outputs_hidden": true
    },
    "tags": []
   },
   "outputs": [
    {
     "name": "stdout",
     "output_type": "stream",
     "text": [
      "\n",
      "######## BIOMASS ########\n",
      "\n",
      "this_ens.coords = ['nT']\n",
      "this_ens.data_vars = ['Global']\n",
      "\n",
      "oooooooooooooooooooo\n",
      "var: sfc_biomass | nStart: 1 | nEns: 20/40\n",
      "oooooooooooooooooooo\n",
      "var: sfc_biomass | nStart: 1 | nEns: 40/40\n",
      "\n",
      "these_ens.coords = ['nT', 'nEns']\n",
      "these_ens.data_vars = ['Global']\n",
      "\n",
      "oooooooooooooooooooo\n",
      "var: sfc_biomass | nStart: 2 | nEns: 20/40\n",
      "oooooooooooooooooooo\n",
      "var: sfc_biomass | nStart: 2 | nEns: 40/40\n",
      "oooooooooooooooooooo\n",
      "var: sfc_biomass | nStart: 3 | nEns: 20/40\n",
      "oooooooooooooooooooo\n",
      "var: sfc_biomass | nStart: 3 | nEns: 40/40\n",
      "oooooooooooooooooooo\n",
      "var: sfc_biomass | nStart: 4 | nEns: 20/40\n",
      "oooooooooooooooooooo\n",
      "var: sfc_biomass | nStart: 4 | nEns: 40/40\n",
      "oooooooooooooooooooo\n",
      "var: sfc_biomass | nStart: 5 | nEns: 20/40\n",
      "oooooooooooooooooooo\n",
      "var: sfc_biomass | nStart: 5 | nEns: 40/40\n",
      "oooooooooooooooooooo\n",
      "var: sfc_biomass | nStart: 6 | nEns: 20/40\n",
      "oooooooooooooooooooo\n",
      "var: sfc_biomass | nStart: 6 | nEns: 40/40\n",
      "\n",
      "all_ens.coords = ['nT', 'nEns', 'nStart']\n",
      "all_ens.data_vars = ['Global']\n",
      "\n",
      "/home/bbuchovecky/storage/so_predict_derived/SFC_BIOMASS_ENSEMBLE/sfc_biomass_ens_global_monthly_mean.nc\n"
     ]
    }
   ],
   "source": [
    "comp_ens_global_mean([['BIOMASS','sfc_biomass','sfc_biomass']], 'monthly', save=True)"
   ]
  },
  {
   "cell_type": "code",
   "execution_count": 370,
   "id": "680c8c37-daa3-4f32-9d3d-60b51d59efe1",
   "metadata": {
    "collapsed": true,
    "jupyter": {
     "outputs_hidden": true
    },
    "tags": []
   },
   "outputs": [
    {
     "name": "stdout",
     "output_type": "stream",
     "text": [
      "\n",
      "######## BIOMASS ########\n",
      "\n",
      "this_ens.coords = ['nT']\n",
      "this_ens.data_vars = ['SouthernOcean', 'Weddell', 'Indian', 'WestPacific', 'Ross', 'AmundBell']\n",
      "\n",
      "oooooooooooooooooooo\n",
      "var: sfc_biomass | nStart: 1 | nEns: 20/40\n",
      "oooooooooooooooooooo\n",
      "var: sfc_biomass | nStart: 1 | nEns: 40/40\n",
      "\n",
      "these_ens.coords = ['nT', 'nEns']\n",
      "these_ens.data_vars = ['SouthernOcean', 'Weddell', 'Indian', 'WestPacific', 'Ross', 'AmundBell']\n",
      "\n",
      "oooooooooooooooooooo\n",
      "var: sfc_biomass | nStart: 2 | nEns: 20/40\n",
      "oooooooooooooooooooo\n",
      "var: sfc_biomass | nStart: 2 | nEns: 40/40\n",
      "oooooooooooooooooooo\n",
      "var: sfc_biomass | nStart: 3 | nEns: 20/40\n",
      "oooooooooooooooooooo\n",
      "var: sfc_biomass | nStart: 3 | nEns: 40/40\n",
      "oooooooooooooooooooo\n",
      "var: sfc_biomass | nStart: 4 | nEns: 20/40\n",
      "oooooooooooooooooooo\n",
      "var: sfc_biomass | nStart: 4 | nEns: 40/40\n",
      "oooooooooooooooooooo\n",
      "var: sfc_biomass | nStart: 5 | nEns: 20/40\n",
      "oooooooooooooooooooo\n",
      "var: sfc_biomass | nStart: 5 | nEns: 40/40\n",
      "oooooooooooooooooooo\n",
      "var: sfc_biomass | nStart: 6 | nEns: 20/40\n",
      "oooooooooooooooooooo\n",
      "var: sfc_biomass | nStart: 6 | nEns: 40/40\n",
      "\n",
      "all_ens.coords = ['nT', 'nEns', 'nStart']\n",
      "all_ens.data_vars = ['SouthernOcean', 'Weddell', 'Indian', 'WestPacific', 'Ross', 'AmundBell']\n",
      "\n",
      "/home/bbuchovecky/storage/so_predict_derived/SFC_BIOMASS_ENSEMBLE/sfc_biomass_ens_so_monthly_mean.nc\n"
     ]
    }
   ],
   "source": [
    "comp_ens_so_mean([['BIOMASS','sfc_biomass','sfc_biomass']], 'monthly', save=True)"
   ]
  },
  {
   "cell_type": "code",
   "execution_count": 371,
   "id": "b848814d-358f-4645-a057-6ae0e3efa8ee",
   "metadata": {
    "collapsed": true,
    "jupyter": {
     "outputs_hidden": true
    },
    "tags": []
   },
   "outputs": [
    {
     "name": "stdout",
     "output_type": "stream",
     "text": [
      "\n",
      "######## BIOMASS ########\n",
      "\n",
      "this_ens.coords = ['nT']\n",
      "this_ens.data_vars = ['Global']\n",
      "\n",
      "oooooooooooooooooooo\n",
      "var: sfc_biomass | nStart: 1 | nEns: 20/40\n",
      "oooooooooooooooooooo\n",
      "var: sfc_biomass | nStart: 1 | nEns: 40/40\n",
      "\n",
      "these_ens.coords = ['nT', 'nEns']\n",
      "these_ens.data_vars = ['Global']\n",
      "\n",
      "oooooooooooooooooooo\n",
      "var: sfc_biomass | nStart: 2 | nEns: 20/40\n",
      "oooooooooooooooooooo\n",
      "var: sfc_biomass | nStart: 2 | nEns: 40/40\n",
      "oooooooooooooooooooo\n",
      "var: sfc_biomass | nStart: 3 | nEns: 20/40\n",
      "oooooooooooooooooooo\n",
      "var: sfc_biomass | nStart: 3 | nEns: 40/40\n",
      "oooooooooooooooooooo\n",
      "var: sfc_biomass | nStart: 4 | nEns: 20/40\n",
      "oooooooooooooooooooo\n",
      "var: sfc_biomass | nStart: 4 | nEns: 40/40\n",
      "oooooooooooooooooooo\n",
      "var: sfc_biomass | nStart: 5 | nEns: 20/40\n",
      "oooooooooooooooooooo\n",
      "var: sfc_biomass | nStart: 5 | nEns: 40/40\n",
      "oooooooooooooooooooo\n",
      "var: sfc_biomass | nStart: 6 | nEns: 20/40\n",
      "oooooooooooooooooooo\n",
      "var: sfc_biomass | nStart: 6 | nEns: 40/40\n",
      "\n",
      "all_ens.coords = ['nT', 'nEns', 'nStart']\n",
      "all_ens.data_vars = ['Global']\n",
      "\n",
      "/home/bbuchovecky/storage/so_predict_derived/SFC_BIOMASS_ENSEMBLE/sfc_biomass_ens_global_annual_mean.nc\n"
     ]
    }
   ],
   "source": [
    "comp_ens_global_mean([['BIOMASS','sfc_biomass','sfc_biomass']], 'annual', save=True)"
   ]
  },
  {
   "cell_type": "code",
   "execution_count": 372,
   "id": "49051ef9-6968-462d-be15-99adf2c3dcc6",
   "metadata": {
    "collapsed": true,
    "jupyter": {
     "outputs_hidden": true
    },
    "tags": []
   },
   "outputs": [
    {
     "name": "stdout",
     "output_type": "stream",
     "text": [
      "\n",
      "######## BIOMASS ########\n",
      "\n",
      "this_ens.coords = ['nT']\n",
      "this_ens.data_vars = ['SouthernOcean', 'Weddell', 'Indian', 'WestPacific', 'Ross', 'AmundBell']\n",
      "\n",
      "oooooooooooooooooooo\n",
      "var: sfc_biomass | nStart: 1 | nEns: 20/40\n",
      "oooooooooooooooooooo\n",
      "var: sfc_biomass | nStart: 1 | nEns: 40/40\n",
      "\n",
      "these_ens.coords = ['nT', 'nEns']\n",
      "these_ens.data_vars = ['SouthernOcean', 'Weddell', 'Indian', 'WestPacific', 'Ross', 'AmundBell']\n",
      "\n",
      "oooooooooooooooooooo\n",
      "var: sfc_biomass | nStart: 2 | nEns: 20/40\n",
      "oooooooooooooooooooo\n",
      "var: sfc_biomass | nStart: 2 | nEns: 40/40\n",
      "oooooooooooooooooooo\n",
      "var: sfc_biomass | nStart: 3 | nEns: 20/40\n",
      "oooooooooooooooooooo\n",
      "var: sfc_biomass | nStart: 3 | nEns: 40/40\n",
      "oooooooooooooooooooo\n",
      "var: sfc_biomass | nStart: 4 | nEns: 20/40\n",
      "oooooooooooooooooooo\n",
      "var: sfc_biomass | nStart: 4 | nEns: 40/40\n",
      "oooooooooooooooooooo\n",
      "var: sfc_biomass | nStart: 5 | nEns: 20/40\n",
      "oooooooooooooooooooo\n",
      "var: sfc_biomass | nStart: 5 | nEns: 40/40\n",
      "oooooooooooooooooooo\n",
      "var: sfc_biomass | nStart: 6 | nEns: 20/40\n",
      "oooooooooooooooooooo\n",
      "var: sfc_biomass | nStart: 6 | nEns: 40/40\n",
      "\n",
      "all_ens.coords = ['nT', 'nEns', 'nStart']\n",
      "all_ens.data_vars = ['SouthernOcean', 'Weddell', 'Indian', 'WestPacific', 'Ross', 'AmundBell']\n",
      "\n",
      "/home/bbuchovecky/storage/so_predict_derived/SFC_BIOMASS_ENSEMBLE/sfc_biomass_ens_so_annual_mean.nc\n"
     ]
    }
   ],
   "source": [
    "comp_ens_so_mean([['BIOMASS','sfc_biomass','sfc_biomass']], 'annual', save=True)"
   ]
  },
  {
   "cell_type": "code",
   "execution_count": 374,
   "id": "2c5a636f-766c-4a2e-a9e6-16fe737d508f",
   "metadata": {},
   "outputs": [
    {
     "name": "stdout",
     "output_type": "stream",
     "text": [
      "/home/bbuchovecky/storage/so_predict_derived/SFC_BIOMASS_ENSEMBLE/sfc_biomass_ens_global_monthly_anom.nc\n"
     ]
    }
   ],
   "source": [
    "comp_ens_anom('sfc_biomass', 'monthly', 'global', save=True)"
   ]
  },
  {
   "cell_type": "code",
   "execution_count": 375,
   "id": "b5f3b15c-fbc9-4ea5-9951-8aa1a9392b4b",
   "metadata": {},
   "outputs": [
    {
     "name": "stdout",
     "output_type": "stream",
     "text": [
      "/home/bbuchovecky/storage/so_predict_derived/SFC_BIOMASS_ENSEMBLE/sfc_biomass_ens_so_monthly_anom.nc\n"
     ]
    }
   ],
   "source": [
    "comp_ens_anom('sfc_biomass', 'monthly', 'so', save=True)"
   ]
  },
  {
   "cell_type": "markdown",
   "id": "b07423f7-dccc-4150-8fe6-5121e95948e4",
   "metadata": {},
   "source": [
    "## PPP"
   ]
  },
  {
   "cell_type": "code",
   "execution_count": 23,
   "id": "368699e3-b6d3-4e8e-8dd5-29762b621166",
   "metadata": {},
   "outputs": [
    {
     "name": "stdout",
     "output_type": "stream",
     "text": [
      "/home/bbuchovecky/storage/so_predict_derived/PPP/SFC_BIOMASS/sfc_biomass_ts_global_monthly_ppp.nc\n"
     ]
    }
   ],
   "source": [
    "comp_ppp('sfc_biomass', 'global', save=True)"
   ]
  },
  {
   "cell_type": "code",
   "execution_count": 24,
   "id": "f8043511-e6ac-4db0-8863-8f1dc2efd903",
   "metadata": {},
   "outputs": [
    {
     "name": "stdout",
     "output_type": "stream",
     "text": [
      "/home/bbuchovecky/storage/so_predict_derived/PPP/SFC_BIOMASS/sfc_biomass_ts_so_monthly_ppp.nc\n"
     ]
    }
   ],
   "source": [
    "comp_ppp('sfc_biomass', 'so', save=True)"
   ]
  },
  {
   "cell_type": "markdown",
   "id": "6145d92a-0071-4935-9335-80478c1cb49d",
   "metadata": {},
   "source": [
    "# SFC_CHL"
   ]
  },
  {
   "cell_type": "code",
   "execution_count": 34,
   "id": "868beafb-2674-4cb7-8059-c13bea4ea58f",
   "metadata": {
    "scrolled": true,
    "tags": []
   },
   "outputs": [],
   "source": [
    "# pcs.dir_inspect(rootdir+'SFC_CHL')"
   ]
  },
  {
   "cell_type": "code",
   "execution_count": 304,
   "id": "cd3bbf41-bed8-434d-81b6-425b5ff81886",
   "metadata": {},
   "outputs": [],
   "source": [
    "sfc_chl = xr.open_dataset(rootdir+'SFC_CHL/sfc_chl_0001_0300.nc')"
   ]
  },
  {
   "cell_type": "code",
   "execution_count": 30,
   "id": "00f9cfdf-5c1e-4423-816e-48dd3cbd0af0",
   "metadata": {},
   "outputs": [
    {
     "name": "stdout",
     "output_type": "stream",
     "text": [
      "/home/bbuchovecky/storage/so_predict_derived/CTRL/SFC_CHL/sfc_chl_gc_global_clim.nc\n",
      "/home/bbuchovecky/storage/so_predict_derived/CTRL/SFC_CHL/sfc_chl_gc_global_monthly_anom.nc\n",
      "/home/bbuchovecky/storage/so_predict_derived/CTRL/SFC_CHL/sfc_chl_gc_global_monthly_var.nc\n"
     ]
    }
   ],
   "source": [
    "comp_gc_metrics(sfc_chl, 'sfc_chl', resize=False, save=True)"
   ]
  },
  {
   "cell_type": "code",
   "execution_count": 31,
   "id": "fa4116e4-b116-482d-89bb-cd1ba5b6e072",
   "metadata": {},
   "outputs": [
    {
     "name": "stdout",
     "output_type": "stream",
     "text": [
      "/home/bbuchovecky/storage/so_predict_derived/CTRL/SFC_CHL/sfc_chl_gc_so_clim.nc\n",
      "/home/bbuchovecky/storage/so_predict_derived/CTRL/SFC_CHL/sfc_chl_gc_so_monthly_anom.nc\n",
      "/home/bbuchovecky/storage/so_predict_derived/CTRL/SFC_CHL/sfc_chl_gc_so_monthly_var.nc\n"
     ]
    }
   ],
   "source": [
    "comp_gc_metrics(sfc_chl, 'sfc_chl', resize=True, save=True)"
   ]
  },
  {
   "cell_type": "code",
   "execution_count": 142,
   "id": "9fa5d819-0f3d-45d7-bffc-c41e20c41837",
   "metadata": {},
   "outputs": [
    {
     "name": "stdout",
     "output_type": "stream",
     "text": [
      "/home/bbuchovecky/storage/so_predict_derived/CTRL/SFC_CHL/sfc_chl_ts_global_annual_mean.nc\n"
     ]
    }
   ],
   "source": [
    "comp_annual_mean(sfc_chl, 'sfc_chl', 'global', save=True)"
   ]
  },
  {
   "cell_type": "code",
   "execution_count": 143,
   "id": "8ab9d3b6-be2c-47b3-aaea-3771a8fed5d0",
   "metadata": {},
   "outputs": [
    {
     "name": "stdout",
     "output_type": "stream",
     "text": [
      "/home/bbuchovecky/storage/so_predict_derived/CTRL/SFC_CHL/sfc_chl_ts_so_annual_mean.nc\n"
     ]
    }
   ],
   "source": [
    "comp_annual_mean(sfc_chl, 'sfc_chl', 'so', save=True)"
   ]
  },
  {
   "cell_type": "code",
   "execution_count": 176,
   "id": "2aff1c8e-6dee-4d3b-8ac6-601f23b091c2",
   "metadata": {},
   "outputs": [
    {
     "name": "stdout",
     "output_type": "stream",
     "text": [
      "/home/bbuchovecky/storage/so_predict_derived/CTRL/SFC_CHL/sfc_chl_ts_global_monthly_mean.nc\n"
     ]
    }
   ],
   "source": [
    "comp_monthly_mean(sfc_chl, 'sfc_chl', 'global', save=True)"
   ]
  },
  {
   "cell_type": "code",
   "execution_count": 177,
   "id": "d283f757-ed74-43f4-bb15-18464dc4658e",
   "metadata": {},
   "outputs": [
    {
     "name": "stdout",
     "output_type": "stream",
     "text": [
      "/home/bbuchovecky/storage/so_predict_derived/CTRL/SFC_CHL/sfc_chl_ts_so_monthly_mean.nc\n"
     ]
    }
   ],
   "source": [
    "comp_monthly_mean(sfc_chl, 'sfc_chl', 'so', save=True)"
   ]
  },
  {
   "cell_type": "code",
   "execution_count": 226,
   "id": "f63544cf-d769-47ca-88f0-9e93aa807a03",
   "metadata": {},
   "outputs": [
    {
     "name": "stdout",
     "output_type": "stream",
     "text": [
      "Source: sfc_chl_ts_global_monthly_mean.nc\n",
      "/home/bbuchovecky/storage/so_predict_derived/CTRL/SFC_CHL/sfc_chl_ts_global_monthly_anom.nc\n"
     ]
    }
   ],
   "source": [
    "comp_monthly_anom('sfc_chl', 'global', save=True)"
   ]
  },
  {
   "cell_type": "code",
   "execution_count": 227,
   "id": "9cea3cb5-856c-47f1-a00d-d181eee2ddaf",
   "metadata": {},
   "outputs": [
    {
     "name": "stdout",
     "output_type": "stream",
     "text": [
      "Source: sfc_chl_ts_so_monthly_mean.nc\n",
      "/home/bbuchovecky/storage/so_predict_derived/CTRL/SFC_CHL/sfc_chl_ts_so_monthly_anom.nc\n"
     ]
    }
   ],
   "source": [
    "comp_monthly_anom('sfc_chl', 'so', save=True)"
   ]
  },
  {
   "cell_type": "code",
   "execution_count": 265,
   "id": "52863035-1442-436d-9106-d40e2d1f44a8",
   "metadata": {},
   "outputs": [
    {
     "name": "stdout",
     "output_type": "stream",
     "text": [
      "Source: sfc_chl_ts_global_monthly_anom.nc\n",
      "/home/bbuchovecky/storage/so_predict_derived/CTRL/SFC_CHL/sfc_chl_ts_global_monthly_var.nc\n"
     ]
    }
   ],
   "source": [
    "comp_monthly_var('sfc_chl', 'global', save=True)"
   ]
  },
  {
   "cell_type": "code",
   "execution_count": 266,
   "id": "bb62a7c1-6332-4046-8b81-d311a8d7e12d",
   "metadata": {},
   "outputs": [
    {
     "name": "stdout",
     "output_type": "stream",
     "text": [
      "Source: sfc_chl_ts_so_monthly_anom.nc\n",
      "/home/bbuchovecky/storage/so_predict_derived/CTRL/SFC_CHL/sfc_chl_ts_so_monthly_var.nc\n"
     ]
    }
   ],
   "source": [
    "comp_monthly_var('sfc_chl', 'so', save=True)"
   ]
  },
  {
   "cell_type": "code",
   "execution_count": 280,
   "id": "2899066f-0217-4538-bc97-1724651e35e4",
   "metadata": {},
   "outputs": [
    {
     "name": "stdout",
     "output_type": "stream",
     "text": [
      "/home/bbuchovecky/storage/so_predict_derived/CTRL/SFC_CHL/sfc_chl_ts_global_clim.nc\n",
      "/home/bbuchovecky/storage/so_predict_derived/CTRL/SFC_CHL/sfc_chl_ts_so_clim.nc\n"
     ]
    }
   ],
   "source": [
    "pcs.comp_clim('sfc_chl', 'global', save=True)\n",
    "pcs.comp_clim('sfc_chl', 'so', save=True)"
   ]
  },
  {
   "cell_type": "code",
   "execution_count": 313,
   "id": "1b1414a6-a97c-4ead-b8ca-703413953a9e",
   "metadata": {
    "collapsed": true,
    "jupyter": {
     "outputs_hidden": true
    },
    "tags": []
   },
   "outputs": [
    {
     "name": "stdout",
     "output_type": "stream",
     "text": [
      "\n",
      "######## SFC_CHL ########\n",
      "\n",
      "this_ens.coords = ['nT']\n",
      "this_ens.data_vars = ['Global']\n",
      "\n",
      "oooooooooooooooooooo\n",
      "var: sfc_chl | nStart: 1 | nEns: 20/40\n",
      "oooooooooooooooooooo\n",
      "var: sfc_chl | nStart: 1 | nEns: 40/40\n",
      "\n",
      "these_ens.coords = ['nT', 'nEns']\n",
      "these_ens.data_vars = ['Global']\n",
      "\n",
      "oooooooooooooooooooo\n",
      "var: sfc_chl | nStart: 2 | nEns: 20/40\n",
      "oooooooooooooooooooo\n",
      "var: sfc_chl | nStart: 2 | nEns: 40/40\n",
      "oooooooooooooooooooo\n",
      "var: sfc_chl | nStart: 3 | nEns: 20/40\n",
      "oooooooooooooooooooo\n",
      "var: sfc_chl | nStart: 3 | nEns: 40/40\n",
      "oooooooooooooooooooo\n",
      "var: sfc_chl | nStart: 4 | nEns: 20/40\n",
      "oooooooooooooooooooo\n",
      "var: sfc_chl | nStart: 4 | nEns: 40/40\n",
      "oooooooooooooooooooo\n",
      "var: sfc_chl | nStart: 5 | nEns: 20/40\n",
      "oooooooooooooooooooo\n",
      "var: sfc_chl | nStart: 5 | nEns: 40/40\n",
      "oooooooooooooooooooo\n",
      "var: sfc_chl | nStart: 6 | nEns: 20/40\n",
      "oooooooooooooooooooo\n",
      "var: sfc_chl | nStart: 6 | nEns: 40/40\n",
      "\n",
      "all_ens.coords = ['nT', 'nEns', 'nStart']\n",
      "all_ens.data_vars = ['Global']\n",
      "\n",
      "/home/bbuchovecky/storage/so_predict_derived/SFC_CHL_ENSEMBLE/sfc_chl_ens_global_monthly_mean.nc\n"
     ]
    }
   ],
   "source": [
    "comp_ens_global_mean([['SFC_CHL','sfc_chl','sfc_chl']], 'monthly', save=True)"
   ]
  },
  {
   "cell_type": "code",
   "execution_count": 314,
   "id": "85f4eeab-a202-49bd-b8a1-0858a0bf1d03",
   "metadata": {
    "collapsed": true,
    "jupyter": {
     "outputs_hidden": true
    },
    "tags": []
   },
   "outputs": [
    {
     "name": "stdout",
     "output_type": "stream",
     "text": [
      "\n",
      "######## SFC_CHL ########\n",
      "\n",
      "this_ens.coords = ['nT']\n",
      "this_ens.data_vars = ['SouthernOcean', 'Weddell', 'Indian', 'WestPacific', 'Ross', 'AmundBell']\n",
      "\n",
      "oooooooooooooooooooo\n",
      "var: sfc_chl | nStart: 1 | nEns: 20/40\n",
      "oooooooooooooooooooo\n",
      "var: sfc_chl | nStart: 1 | nEns: 40/40\n",
      "\n",
      "these_ens.coords = ['nT', 'nEns']\n",
      "these_ens.data_vars = ['SouthernOcean', 'Weddell', 'Indian', 'WestPacific', 'Ross', 'AmundBell']\n",
      "\n",
      "oooooooooooooooooooo\n",
      "var: sfc_chl | nStart: 2 | nEns: 20/40\n",
      "oooooooooooooooooooo\n",
      "var: sfc_chl | nStart: 2 | nEns: 40/40\n",
      "oooooooooooooooooooo\n",
      "var: sfc_chl | nStart: 3 | nEns: 20/40\n",
      "oooooooooooooooooooo\n",
      "var: sfc_chl | nStart: 3 | nEns: 40/40\n",
      "oooooooooooooooooooo\n",
      "var: sfc_chl | nStart: 4 | nEns: 20/40\n",
      "oooooooooooooooooooo\n",
      "var: sfc_chl | nStart: 4 | nEns: 40/40\n",
      "oooooooooooooooooooo\n",
      "var: sfc_chl | nStart: 5 | nEns: 20/40\n",
      "oooooooooooooooooooo\n",
      "var: sfc_chl | nStart: 5 | nEns: 40/40\n",
      "oooooooooooooooooooo\n",
      "var: sfc_chl | nStart: 6 | nEns: 20/40\n",
      "oooooooooooooooooooo\n",
      "var: sfc_chl | nStart: 6 | nEns: 40/40\n",
      "\n",
      "all_ens.coords = ['nT', 'nEns', 'nStart']\n",
      "all_ens.data_vars = ['SouthernOcean', 'Weddell', 'Indian', 'WestPacific', 'Ross', 'AmundBell']\n",
      "\n",
      "/home/bbuchovecky/storage/so_predict_derived/SFC_CHL_ENSEMBLE/sfc_chl_ens_so_monthly_mean.nc\n"
     ]
    }
   ],
   "source": [
    "comp_ens_so_mean([['SFC_CHL','sfc_chl','sfc_chl']], 'monthly', save=True)"
   ]
  },
  {
   "cell_type": "code",
   "execution_count": 315,
   "id": "49814dac-576f-4ee7-8a30-d9de8c3f6c9f",
   "metadata": {
    "collapsed": true,
    "jupyter": {
     "outputs_hidden": true
    },
    "tags": []
   },
   "outputs": [
    {
     "name": "stdout",
     "output_type": "stream",
     "text": [
      "\n",
      "######## SFC_CHL ########\n",
      "\n",
      "this_ens.coords = ['nT']\n",
      "this_ens.data_vars = ['Global']\n",
      "\n",
      "oooooooooooooooooooo\n",
      "var: sfc_chl | nStart: 1 | nEns: 20/40\n",
      "oooooooooooooooooooo\n",
      "var: sfc_chl | nStart: 1 | nEns: 40/40\n",
      "\n",
      "these_ens.coords = ['nT', 'nEns']\n",
      "these_ens.data_vars = ['Global']\n",
      "\n",
      "oooooooooooooooooooo\n",
      "var: sfc_chl | nStart: 2 | nEns: 20/40\n",
      "oooooooooooooooooooo\n",
      "var: sfc_chl | nStart: 2 | nEns: 40/40\n",
      "oooooooooooooooooooo\n",
      "var: sfc_chl | nStart: 3 | nEns: 20/40\n",
      "oooooooooooooooooooo\n",
      "var: sfc_chl | nStart: 3 | nEns: 40/40\n",
      "oooooooooooooooooooo\n",
      "var: sfc_chl | nStart: 4 | nEns: 20/40\n",
      "oooooooooooooooooooo\n",
      "var: sfc_chl | nStart: 4 | nEns: 40/40\n",
      "oooooooooooooooooooo\n",
      "var: sfc_chl | nStart: 5 | nEns: 20/40\n",
      "oooooooooooooooooooo\n",
      "var: sfc_chl | nStart: 5 | nEns: 40/40\n",
      "oooooooooooooooooooo\n",
      "var: sfc_chl | nStart: 6 | nEns: 20/40\n",
      "oooooooooooooooooooo\n",
      "var: sfc_chl | nStart: 6 | nEns: 40/40\n",
      "\n",
      "all_ens.coords = ['nT', 'nEns', 'nStart']\n",
      "all_ens.data_vars = ['Global']\n",
      "\n",
      "/home/bbuchovecky/storage/so_predict_derived/SFC_CHL_ENSEMBLE/sfc_chl_ens_global_annual_mean.nc\n"
     ]
    }
   ],
   "source": [
    "comp_ens_global_mean([['SFC_CHL','sfc_chl','sfc_chl']], 'annual', save=True)"
   ]
  },
  {
   "cell_type": "code",
   "execution_count": 316,
   "id": "59013ab3-dd92-4b52-989d-a50e94683826",
   "metadata": {
    "collapsed": true,
    "jupyter": {
     "outputs_hidden": true
    },
    "tags": []
   },
   "outputs": [
    {
     "name": "stdout",
     "output_type": "stream",
     "text": [
      "\n",
      "######## SFC_CHL ########\n",
      "\n",
      "this_ens.coords = ['nT']\n",
      "this_ens.data_vars = ['SouthernOcean', 'Weddell', 'Indian', 'WestPacific', 'Ross', 'AmundBell']\n",
      "\n",
      "oooooooooooooooooooo\n",
      "var: sfc_chl | nStart: 1 | nEns: 20/40\n",
      "oooooooooooooooooooo\n",
      "var: sfc_chl | nStart: 1 | nEns: 40/40\n",
      "\n",
      "these_ens.coords = ['nT', 'nEns']\n",
      "these_ens.data_vars = ['SouthernOcean', 'Weddell', 'Indian', 'WestPacific', 'Ross', 'AmundBell']\n",
      "\n",
      "oooooooooooooooooooo\n",
      "var: sfc_chl | nStart: 2 | nEns: 20/40\n",
      "oooooooooooooooooooo\n",
      "var: sfc_chl | nStart: 2 | nEns: 40/40\n",
      "oooooooooooooooooooo\n",
      "var: sfc_chl | nStart: 3 | nEns: 20/40\n",
      "oooooooooooooooooooo\n",
      "var: sfc_chl | nStart: 3 | nEns: 40/40\n",
      "oooooooooooooooooooo\n",
      "var: sfc_chl | nStart: 4 | nEns: 20/40\n",
      "oooooooooooooooooooo\n",
      "var: sfc_chl | nStart: 4 | nEns: 40/40\n",
      "oooooooooooooooooooo\n",
      "var: sfc_chl | nStart: 5 | nEns: 20/40\n",
      "oooooooooooooooooooo\n",
      "var: sfc_chl | nStart: 5 | nEns: 40/40\n",
      "oooooooooooooooooooo\n",
      "var: sfc_chl | nStart: 6 | nEns: 20/40\n",
      "oooooooooooooooooooo\n",
      "var: sfc_chl | nStart: 6 | nEns: 40/40\n",
      "\n",
      "all_ens.coords = ['nT', 'nEns', 'nStart']\n",
      "all_ens.data_vars = ['SouthernOcean', 'Weddell', 'Indian', 'WestPacific', 'Ross', 'AmundBell']\n",
      "\n",
      "/home/bbuchovecky/storage/so_predict_derived/SFC_CHL_ENSEMBLE/sfc_chl_ens_so_annual_mean.nc\n"
     ]
    }
   ],
   "source": [
    "comp_ens_so_mean([['SFC_CHL','sfc_chl','sfc_chl']], 'annual', save=True)"
   ]
  },
  {
   "cell_type": "code",
   "execution_count": 341,
   "id": "bd080f6e-2886-4400-bd6b-c7fcd4158a8b",
   "metadata": {},
   "outputs": [
    {
     "name": "stdout",
     "output_type": "stream",
     "text": [
      "/home/bbuchovecky/storage/so_predict_derived/SFC_CHL_ENSEMBLE/sfc_chl_ens_global_monthly_anom.nc\n"
     ]
    }
   ],
   "source": [
    "comp_ens_anom('sfc_chl', 'monthly', 'global', save=True)"
   ]
  },
  {
   "cell_type": "code",
   "execution_count": 342,
   "id": "0b059ecf-6024-4be6-9385-5bc0853fa3a4",
   "metadata": {},
   "outputs": [
    {
     "name": "stdout",
     "output_type": "stream",
     "text": [
      "/home/bbuchovecky/storage/so_predict_derived/SFC_CHL_ENSEMBLE/sfc_chl_ens_so_monthly_anom.nc\n"
     ]
    }
   ],
   "source": [
    "comp_ens_anom('sfc_chl', 'monthly', 'so', save=True)"
   ]
  },
  {
   "cell_type": "code",
   "execution_count": 25,
   "id": "c1c790a4-6a8c-4f47-a9ff-fabc7f7cd88c",
   "metadata": {},
   "outputs": [
    {
     "name": "stdout",
     "output_type": "stream",
     "text": [
      "/home/bbuchovecky/storage/so_predict_derived/PPP/SFC_CHL/sfc_chl_ts_global_monthly_ppp.nc\n"
     ]
    }
   ],
   "source": [
    "comp_ppp('sfc_chl', 'global', save=True)"
   ]
  },
  {
   "cell_type": "code",
   "execution_count": 26,
   "id": "0eca8959-4307-4389-ac9f-a66e458bad52",
   "metadata": {},
   "outputs": [
    {
     "name": "stdout",
     "output_type": "stream",
     "text": [
      "/home/bbuchovecky/storage/so_predict_derived/PPP/SFC_CHL/sfc_chl_ts_so_monthly_ppp.nc\n"
     ]
    }
   ],
   "source": [
    "comp_ppp('sfc_chl', 'so', save=True)"
   ]
  },
  {
   "cell_type": "markdown",
   "id": "d7dab40d-3a1e-43bd-9412-02e5336e1e8e",
   "metadata": {},
   "source": [
    "# SFC_FED"
   ]
  },
  {
   "cell_type": "code",
   "execution_count": 50,
   "id": "16d03f02-39f6-4145-83cc-89dec8cd0124",
   "metadata": {},
   "outputs": [],
   "source": [
    "# pcs.dir_inspect(rootdir+'SFC_FED')"
   ]
  },
  {
   "cell_type": "code",
   "execution_count": 39,
   "id": "e89e75f9-cd12-4dbf-901f-722601b74f64",
   "metadata": {},
   "outputs": [],
   "source": [
    "sfc_fed = xr.open_dataset(rootdir+'SFC_FED/sfc_fed_0001_0300.nc')"
   ]
  },
  {
   "cell_type": "code",
   "execution_count": 42,
   "id": "79b8267b-20f8-4775-b8df-ff098132a425",
   "metadata": {},
   "outputs": [
    {
     "name": "stdout",
     "output_type": "stream",
     "text": [
      "/home/bbuchovecky/storage/so_predict_derived/CTRL/SFC_FED/sfc_fed_gc_global_clim.nc\n",
      "/home/bbuchovecky/storage/so_predict_derived/CTRL/SFC_FED/sfc_fed_gc_global_monthly_anom.nc\n",
      "/home/bbuchovecky/storage/so_predict_derived/CTRL/SFC_FED/sfc_fed_gc_global_monthly_var.nc\n"
     ]
    }
   ],
   "source": [
    "comp_gc_metrics(sfc_fed, 'sfc_fed', resize=False, save=True)"
   ]
  },
  {
   "cell_type": "code",
   "execution_count": 43,
   "id": "bf402908-c9fc-4561-8b9b-4f33b789a739",
   "metadata": {},
   "outputs": [
    {
     "name": "stdout",
     "output_type": "stream",
     "text": [
      "/home/bbuchovecky/storage/so_predict_derived/CTRL/SFC_FED/sfc_fed_gc_so_clim.nc\n",
      "/home/bbuchovecky/storage/so_predict_derived/CTRL/SFC_FED/sfc_fed_gc_so_monthly_anom.nc\n",
      "/home/bbuchovecky/storage/so_predict_derived/CTRL/SFC_FED/sfc_fed_gc_so_monthly_var.nc\n"
     ]
    }
   ],
   "source": [
    "comp_gc_metrics(sfc_fed, 'sfc_fed', resize=True, save=True)"
   ]
  },
  {
   "cell_type": "code",
   "execution_count": 144,
   "id": "4bd9a66e-70be-4560-abc0-498fa2fc679a",
   "metadata": {},
   "outputs": [
    {
     "name": "stdout",
     "output_type": "stream",
     "text": [
      "/home/bbuchovecky/storage/so_predict_derived/CTRL/SFC_FED/sfc_fed_ts_global_annual_mean.nc\n"
     ]
    }
   ],
   "source": [
    "comp_annual_mean(sfc_fed, 'sfc_fed', 'global', save=True)"
   ]
  },
  {
   "cell_type": "code",
   "execution_count": 145,
   "id": "d69c7a37-c1f7-4ea8-9268-3768059719bf",
   "metadata": {},
   "outputs": [
    {
     "name": "stdout",
     "output_type": "stream",
     "text": [
      "/home/bbuchovecky/storage/so_predict_derived/CTRL/SFC_FED/sfc_fed_ts_so_annual_mean.nc\n"
     ]
    }
   ],
   "source": [
    "comp_annual_mean(sfc_fed, 'sfc_fed', 'so', save=True)"
   ]
  },
  {
   "cell_type": "code",
   "execution_count": 178,
   "id": "a865290b-798b-4941-9a6c-316a88a7acbb",
   "metadata": {},
   "outputs": [
    {
     "name": "stdout",
     "output_type": "stream",
     "text": [
      "/home/bbuchovecky/storage/so_predict_derived/CTRL/SFC_FED/sfc_fed_ts_global_monthly_mean.nc\n"
     ]
    }
   ],
   "source": [
    "comp_monthly_mean(sfc_fed, 'sfc_fed', 'global', save=True)"
   ]
  },
  {
   "cell_type": "code",
   "execution_count": 179,
   "id": "a780de78-f309-4548-854f-0ef6f0dda31f",
   "metadata": {},
   "outputs": [
    {
     "name": "stdout",
     "output_type": "stream",
     "text": [
      "/home/bbuchovecky/storage/so_predict_derived/CTRL/SFC_FED/sfc_fed_ts_so_monthly_mean.nc\n"
     ]
    }
   ],
   "source": [
    "comp_monthly_mean(sfc_fed, 'sfc_fed', 'so', save=True)"
   ]
  },
  {
   "cell_type": "code",
   "execution_count": 228,
   "id": "1db4ff6d-f52b-48d8-9308-d88f5dd2db74",
   "metadata": {},
   "outputs": [
    {
     "name": "stdout",
     "output_type": "stream",
     "text": [
      "Source: sfc_fed_ts_global_monthly_mean.nc\n",
      "/home/bbuchovecky/storage/so_predict_derived/CTRL/SFC_FED/sfc_fed_ts_global_monthly_anom.nc\n"
     ]
    }
   ],
   "source": [
    "comp_monthly_anom('sfc_fed', 'global', save=True)"
   ]
  },
  {
   "cell_type": "code",
   "execution_count": 229,
   "id": "0c8b40d9-070c-4787-b6ee-b0e6f6f4308a",
   "metadata": {},
   "outputs": [
    {
     "name": "stdout",
     "output_type": "stream",
     "text": [
      "Source: sfc_fed_ts_so_monthly_mean.nc\n",
      "/home/bbuchovecky/storage/so_predict_derived/CTRL/SFC_FED/sfc_fed_ts_so_monthly_anom.nc\n"
     ]
    }
   ],
   "source": [
    "comp_monthly_anom('sfc_fed', 'so', save=True)"
   ]
  },
  {
   "cell_type": "code",
   "execution_count": 267,
   "id": "b183bbcf-2734-41fb-aeac-0a32a8fa39a6",
   "metadata": {},
   "outputs": [
    {
     "name": "stdout",
     "output_type": "stream",
     "text": [
      "Source: sfc_fed_ts_global_monthly_anom.nc\n",
      "/home/bbuchovecky/storage/so_predict_derived/CTRL/SFC_FED/sfc_fed_ts_global_monthly_var.nc\n"
     ]
    }
   ],
   "source": [
    "comp_monthly_var('sfc_fed', 'global', save=True)"
   ]
  },
  {
   "cell_type": "code",
   "execution_count": 268,
   "id": "e04c94e5-ff25-4a5b-99bc-1c41b81b2eff",
   "metadata": {},
   "outputs": [
    {
     "name": "stdout",
     "output_type": "stream",
     "text": [
      "Source: sfc_fed_ts_so_monthly_anom.nc\n",
      "/home/bbuchovecky/storage/so_predict_derived/CTRL/SFC_FED/sfc_fed_ts_so_monthly_var.nc\n"
     ]
    }
   ],
   "source": [
    "comp_monthly_var('sfc_fed', 'so', save=True)"
   ]
  },
  {
   "cell_type": "code",
   "execution_count": 281,
   "id": "075874f4-12fa-4adf-98ba-7a71b9c7b76a",
   "metadata": {},
   "outputs": [
    {
     "name": "stdout",
     "output_type": "stream",
     "text": [
      "/home/bbuchovecky/storage/so_predict_derived/CTRL/SFC_FED/sfc_fed_ts_global_clim.nc\n",
      "/home/bbuchovecky/storage/so_predict_derived/CTRL/SFC_FED/sfc_fed_ts_so_clim.nc\n"
     ]
    }
   ],
   "source": [
    "pcs.comp_clim('sfc_fed', 'global', save=True)\n",
    "pcs.comp_clim('sfc_fed', 'so', save=True)"
   ]
  },
  {
   "cell_type": "code",
   "execution_count": 317,
   "id": "df5abe14-64ba-4765-946e-fe175b176862",
   "metadata": {
    "collapsed": true,
    "jupyter": {
     "outputs_hidden": true
    },
    "tags": []
   },
   "outputs": [
    {
     "name": "stdout",
     "output_type": "stream",
     "text": [
      "\n",
      "######## SFC_FED ########\n",
      "\n",
      "this_ens.coords = ['nT']\n",
      "this_ens.data_vars = ['Global']\n",
      "\n",
      "oooooooooooooooooooo\n",
      "var: sfc_fed | nStart: 1 | nEns: 20/40\n",
      "oooooooooooooooooooo\n",
      "var: sfc_fed | nStart: 1 | nEns: 40/40\n",
      "\n",
      "these_ens.coords = ['nT', 'nEns']\n",
      "these_ens.data_vars = ['Global']\n",
      "\n",
      "oooooooooooooooooooo\n",
      "var: sfc_fed | nStart: 2 | nEns: 20/40\n",
      "oooooooooooooooooooo\n",
      "var: sfc_fed | nStart: 2 | nEns: 40/40\n",
      "oooooooooooooooooooo\n",
      "var: sfc_fed | nStart: 3 | nEns: 20/40\n",
      "oooooooooooooooooooo\n",
      "var: sfc_fed | nStart: 3 | nEns: 40/40\n",
      "oooooooooooooooooooo\n",
      "var: sfc_fed | nStart: 4 | nEns: 20/40\n",
      "oooooooooooooooooooo\n",
      "var: sfc_fed | nStart: 4 | nEns: 40/40\n",
      "oooooooooooooooooooo\n",
      "var: sfc_fed | nStart: 5 | nEns: 20/40\n",
      "oooooooooooooooooooo\n",
      "var: sfc_fed | nStart: 5 | nEns: 40/40\n",
      "oooooooooooooooooooo\n",
      "var: sfc_fed | nStart: 6 | nEns: 20/40\n",
      "oooooooooooooooooooo\n",
      "var: sfc_fed | nStart: 6 | nEns: 40/40\n",
      "\n",
      "all_ens.coords = ['nT', 'nEns', 'nStart']\n",
      "all_ens.data_vars = ['Global']\n",
      "\n",
      "/home/bbuchovecky/storage/so_predict_derived/SFC_FED_ENSEMBLE/sfc_fed_ens_global_monthly_mean.nc\n"
     ]
    }
   ],
   "source": [
    "comp_ens_global_mean([['SFC_FED','sfc_fed','sfc_fed']], 'monthly', save=True)"
   ]
  },
  {
   "cell_type": "code",
   "execution_count": 318,
   "id": "63b24367-93fa-4572-9f71-a8382fc44ead",
   "metadata": {
    "collapsed": true,
    "jupyter": {
     "outputs_hidden": true
    },
    "tags": []
   },
   "outputs": [
    {
     "name": "stdout",
     "output_type": "stream",
     "text": [
      "\n",
      "######## SFC_FED ########\n",
      "\n",
      "this_ens.coords = ['nT']\n",
      "this_ens.data_vars = ['SouthernOcean', 'Weddell', 'Indian', 'WestPacific', 'Ross', 'AmundBell']\n",
      "\n",
      "oooooooooooooooooooo\n",
      "var: sfc_fed | nStart: 1 | nEns: 20/40\n",
      "oooooooooooooooooooo\n",
      "var: sfc_fed | nStart: 1 | nEns: 40/40\n",
      "\n",
      "these_ens.coords = ['nT', 'nEns']\n",
      "these_ens.data_vars = ['SouthernOcean', 'Weddell', 'Indian', 'WestPacific', 'Ross', 'AmundBell']\n",
      "\n",
      "oooooooooooooooooooo\n",
      "var: sfc_fed | nStart: 2 | nEns: 20/40\n",
      "oooooooooooooooooooo\n",
      "var: sfc_fed | nStart: 2 | nEns: 40/40\n",
      "oooooooooooooooooooo\n",
      "var: sfc_fed | nStart: 3 | nEns: 20/40\n",
      "oooooooooooooooooooo\n",
      "var: sfc_fed | nStart: 3 | nEns: 40/40\n",
      "oooooooooooooooooooo\n",
      "var: sfc_fed | nStart: 4 | nEns: 20/40\n",
      "oooooooooooooooooooo\n",
      "var: sfc_fed | nStart: 4 | nEns: 40/40\n",
      "oooooooooooooooooooo\n",
      "var: sfc_fed | nStart: 5 | nEns: 20/40\n",
      "oooooooooooooooooooo\n",
      "var: sfc_fed | nStart: 5 | nEns: 40/40\n",
      "oooooooooooooooooooo\n",
      "var: sfc_fed | nStart: 6 | nEns: 20/40\n",
      "oooooooooooooooooooo\n",
      "var: sfc_fed | nStart: 6 | nEns: 40/40\n",
      "\n",
      "all_ens.coords = ['nT', 'nEns', 'nStart']\n",
      "all_ens.data_vars = ['SouthernOcean', 'Weddell', 'Indian', 'WestPacific', 'Ross', 'AmundBell']\n",
      "\n",
      "/home/bbuchovecky/storage/so_predict_derived/SFC_FED_ENSEMBLE/sfc_fed_ens_so_monthly_mean.nc\n"
     ]
    }
   ],
   "source": [
    "comp_ens_so_mean([['SFC_FED','sfc_fed','sfc_fed']], 'monthly', save=True)"
   ]
  },
  {
   "cell_type": "code",
   "execution_count": 319,
   "id": "ccbdada3-75c0-48ee-a9bd-d1f1f0d08d76",
   "metadata": {
    "collapsed": true,
    "jupyter": {
     "outputs_hidden": true
    },
    "tags": []
   },
   "outputs": [
    {
     "name": "stdout",
     "output_type": "stream",
     "text": [
      "\n",
      "######## SFC_FED ########\n",
      "\n",
      "this_ens.coords = ['nT']\n",
      "this_ens.data_vars = ['Global']\n",
      "\n",
      "oooooooooooooooooooo\n",
      "var: sfc_fed | nStart: 1 | nEns: 20/40\n",
      "oooooooooooooooooooo\n",
      "var: sfc_fed | nStart: 1 | nEns: 40/40\n",
      "\n",
      "these_ens.coords = ['nT', 'nEns']\n",
      "these_ens.data_vars = ['Global']\n",
      "\n",
      "oooooooooooooooooooo\n",
      "var: sfc_fed | nStart: 2 | nEns: 20/40\n",
      "oooooooooooooooooooo\n",
      "var: sfc_fed | nStart: 2 | nEns: 40/40\n",
      "oooooooooooooooooooo\n",
      "var: sfc_fed | nStart: 3 | nEns: 20/40\n",
      "oooooooooooooooooooo\n",
      "var: sfc_fed | nStart: 3 | nEns: 40/40\n",
      "oooooooooooooooooooo\n",
      "var: sfc_fed | nStart: 4 | nEns: 20/40\n",
      "oooooooooooooooooooo\n",
      "var: sfc_fed | nStart: 4 | nEns: 40/40\n",
      "oooooooooooooooooooo\n",
      "var: sfc_fed | nStart: 5 | nEns: 20/40\n",
      "oooooooooooooooooooo\n",
      "var: sfc_fed | nStart: 5 | nEns: 40/40\n",
      "oooooooooooooooooooo\n",
      "var: sfc_fed | nStart: 6 | nEns: 20/40\n",
      "oooooooooooooooooooo\n",
      "var: sfc_fed | nStart: 6 | nEns: 40/40\n",
      "\n",
      "all_ens.coords = ['nT', 'nEns', 'nStart']\n",
      "all_ens.data_vars = ['Global']\n",
      "\n",
      "/home/bbuchovecky/storage/so_predict_derived/SFC_FED_ENSEMBLE/sfc_fed_ens_global_annual_mean.nc\n"
     ]
    }
   ],
   "source": [
    "comp_ens_global_mean([['SFC_FED','sfc_fed','sfc_fed']], 'annual', save=True)"
   ]
  },
  {
   "cell_type": "code",
   "execution_count": 320,
   "id": "20d55bfd-9432-450a-b97c-c7bb970fb503",
   "metadata": {
    "collapsed": true,
    "jupyter": {
     "outputs_hidden": true
    },
    "tags": []
   },
   "outputs": [
    {
     "name": "stdout",
     "output_type": "stream",
     "text": [
      "\n",
      "######## SFC_FED ########\n",
      "\n",
      "this_ens.coords = ['nT']\n",
      "this_ens.data_vars = ['SouthernOcean', 'Weddell', 'Indian', 'WestPacific', 'Ross', 'AmundBell']\n",
      "\n",
      "oooooooooooooooooooo\n",
      "var: sfc_fed | nStart: 1 | nEns: 20/40\n",
      "oooooooooooooooooooo\n",
      "var: sfc_fed | nStart: 1 | nEns: 40/40\n",
      "\n",
      "these_ens.coords = ['nT', 'nEns']\n",
      "these_ens.data_vars = ['SouthernOcean', 'Weddell', 'Indian', 'WestPacific', 'Ross', 'AmundBell']\n",
      "\n",
      "oooooooooooooooooooo\n",
      "var: sfc_fed | nStart: 2 | nEns: 20/40\n",
      "oooooooooooooooooooo\n",
      "var: sfc_fed | nStart: 2 | nEns: 40/40\n",
      "oooooooooooooooooooo\n",
      "var: sfc_fed | nStart: 3 | nEns: 20/40\n",
      "oooooooooooooooooooo\n",
      "var: sfc_fed | nStart: 3 | nEns: 40/40\n",
      "oooooooooooooooooooo\n",
      "var: sfc_fed | nStart: 4 | nEns: 20/40\n",
      "oooooooooooooooooooo\n",
      "var: sfc_fed | nStart: 4 | nEns: 40/40\n",
      "oooooooooooooooooooo\n",
      "var: sfc_fed | nStart: 5 | nEns: 20/40\n",
      "oooooooooooooooooooo\n",
      "var: sfc_fed | nStart: 5 | nEns: 40/40\n",
      "oooooooooooooooooooo\n",
      "var: sfc_fed | nStart: 6 | nEns: 20/40\n",
      "oooooooooooooooooooo\n",
      "var: sfc_fed | nStart: 6 | nEns: 40/40\n",
      "\n",
      "all_ens.coords = ['nT', 'nEns', 'nStart']\n",
      "all_ens.data_vars = ['SouthernOcean', 'Weddell', 'Indian', 'WestPacific', 'Ross', 'AmundBell']\n",
      "\n",
      "/home/bbuchovecky/storage/so_predict_derived/SFC_FED_ENSEMBLE/sfc_fed_ens_so_annual_mean.nc\n"
     ]
    }
   ],
   "source": [
    "comp_ens_so_mean([['SFC_FED','sfc_fed','sfc_fed']], 'annual', save=True)"
   ]
  },
  {
   "cell_type": "code",
   "execution_count": 343,
   "id": "d3bccc9c-c972-4360-b65a-92ccaf6db7c4",
   "metadata": {},
   "outputs": [
    {
     "name": "stdout",
     "output_type": "stream",
     "text": [
      "/home/bbuchovecky/storage/so_predict_derived/SFC_FED_ENSEMBLE/sfc_fed_ens_global_monthly_anom.nc\n"
     ]
    }
   ],
   "source": [
    "comp_ens_anom('sfc_fed', 'monthly', 'global', save=True)"
   ]
  },
  {
   "cell_type": "code",
   "execution_count": 344,
   "id": "3bd14687-1afc-4ca8-8a32-9b81855e5c4e",
   "metadata": {},
   "outputs": [
    {
     "name": "stdout",
     "output_type": "stream",
     "text": [
      "/home/bbuchovecky/storage/so_predict_derived/SFC_FED_ENSEMBLE/sfc_fed_ens_so_monthly_anom.nc\n"
     ]
    }
   ],
   "source": [
    "comp_ens_anom('sfc_fed', 'monthly', 'so', save=True)"
   ]
  },
  {
   "cell_type": "code",
   "execution_count": 27,
   "id": "55bcf86f-e3c1-4f62-a328-fc217293eb7a",
   "metadata": {},
   "outputs": [
    {
     "name": "stdout",
     "output_type": "stream",
     "text": [
      "/home/bbuchovecky/storage/so_predict_derived/PPP/SFC_FED/sfc_fed_ts_global_monthly_ppp.nc\n"
     ]
    }
   ],
   "source": [
    "comp_ppp('sfc_fed', 'global', save=True)"
   ]
  },
  {
   "cell_type": "code",
   "execution_count": 28,
   "id": "27a6ec71-8666-4cea-89b0-12e4039e9e62",
   "metadata": {},
   "outputs": [
    {
     "name": "stdout",
     "output_type": "stream",
     "text": [
      "/home/bbuchovecky/storage/so_predict_derived/PPP/SFC_FED/sfc_fed_ts_so_monthly_ppp.nc\n"
     ]
    }
   ],
   "source": [
    "comp_ppp('sfc_fed', 'so', save=True)"
   ]
  },
  {
   "cell_type": "markdown",
   "id": "38b91ef5-3ced-4bd3-97fb-9e6d6b828328",
   "metadata": {},
   "source": [
    "# SFC_IRR"
   ]
  },
  {
   "cell_type": "code",
   "execution_count": 150,
   "id": "b4d590a5-44e2-4e5e-b01e-076979cbaecc",
   "metadata": {},
   "outputs": [],
   "source": [
    "# pcs.dir_inspect(rootdir+'SFC_IRR')"
   ]
  },
  {
   "cell_type": "code",
   "execution_count": 45,
   "id": "be972ecf-2569-40b3-acf9-a311e883d945",
   "metadata": {},
   "outputs": [],
   "source": [
    "sfc_irr = xr.open_dataset(rootdir+'SFC_IRR/sfc_irr_0001_0300.nc')"
   ]
  },
  {
   "cell_type": "code",
   "execution_count": 47,
   "id": "573d72e3-d062-4b24-bc3c-bd81e25b4207",
   "metadata": {},
   "outputs": [
    {
     "name": "stdout",
     "output_type": "stream",
     "text": [
      "/home/bbuchovecky/storage/so_predict_derived/CTRL/SFC_IRR/sfc_irr_gc_global_clim.nc\n",
      "/home/bbuchovecky/storage/so_predict_derived/CTRL/SFC_IRR/sfc_irr_gc_global_monthly_anom.nc\n",
      "/home/bbuchovecky/storage/so_predict_derived/CTRL/SFC_IRR/sfc_irr_gc_global_monthly_var.nc\n"
     ]
    }
   ],
   "source": [
    "comp_gc_metrics(sfc_irr, 'sfc_irr', resize=False, save=True)"
   ]
  },
  {
   "cell_type": "code",
   "execution_count": 48,
   "id": "a21f79e0-7835-425b-ae3a-32c35b832604",
   "metadata": {},
   "outputs": [
    {
     "name": "stdout",
     "output_type": "stream",
     "text": [
      "/home/bbuchovecky/storage/so_predict_derived/CTRL/SFC_IRR/sfc_irr_gc_so_clim.nc\n",
      "/home/bbuchovecky/storage/so_predict_derived/CTRL/SFC_IRR/sfc_irr_gc_so_monthly_anom.nc\n",
      "/home/bbuchovecky/storage/so_predict_derived/CTRL/SFC_IRR/sfc_irr_gc_so_monthly_var.nc\n"
     ]
    }
   ],
   "source": [
    "comp_gc_metrics(sfc_irr, 'sfc_irr', resize=True, save=True)"
   ]
  },
  {
   "cell_type": "code",
   "execution_count": 146,
   "id": "75ee9e3c-3539-4e0d-be66-e77adca08c50",
   "metadata": {},
   "outputs": [
    {
     "name": "stdout",
     "output_type": "stream",
     "text": [
      "/home/bbuchovecky/storage/so_predict_derived/CTRL/SFC_IRR/sfc_irr_ts_global_annual_mean.nc\n"
     ]
    }
   ],
   "source": [
    "comp_annual_mean(sfc_irr, 'sfc_irr', 'global', save=True)"
   ]
  },
  {
   "cell_type": "code",
   "execution_count": 147,
   "id": "90e79a29-681b-4766-8673-c69dd9bf1a44",
   "metadata": {},
   "outputs": [
    {
     "name": "stdout",
     "output_type": "stream",
     "text": [
      "/home/bbuchovecky/storage/so_predict_derived/CTRL/SFC_IRR/sfc_irr_ts_so_annual_mean.nc\n"
     ]
    }
   ],
   "source": [
    "comp_annual_mean(sfc_irr, 'sfc_irr', 'so', save=True)"
   ]
  },
  {
   "cell_type": "code",
   "execution_count": 180,
   "id": "4f38a1cf-ed7c-462c-8986-8d223d387e9f",
   "metadata": {},
   "outputs": [
    {
     "name": "stdout",
     "output_type": "stream",
     "text": [
      "/home/bbuchovecky/storage/so_predict_derived/CTRL/SFC_IRR/sfc_irr_ts_global_monthly_mean.nc\n"
     ]
    }
   ],
   "source": [
    "comp_monthly_mean(sfc_irr, 'sfc_irr', 'global', save=True)"
   ]
  },
  {
   "cell_type": "code",
   "execution_count": 181,
   "id": "ed33032f-0bd4-454a-a721-89a6f583ef6f",
   "metadata": {},
   "outputs": [
    {
     "name": "stdout",
     "output_type": "stream",
     "text": [
      "/home/bbuchovecky/storage/so_predict_derived/CTRL/SFC_IRR/sfc_irr_ts_so_monthly_mean.nc\n"
     ]
    }
   ],
   "source": [
    "comp_monthly_mean(sfc_irr, 'sfc_irr', 'so', save=True)"
   ]
  },
  {
   "cell_type": "code",
   "execution_count": 230,
   "id": "53fbb008-c276-43c6-93a4-fb292d7fc9dd",
   "metadata": {},
   "outputs": [
    {
     "name": "stdout",
     "output_type": "stream",
     "text": [
      "Source: sfc_irr_ts_global_monthly_mean.nc\n",
      "/home/bbuchovecky/storage/so_predict_derived/CTRL/SFC_IRR/sfc_irr_ts_global_monthly_anom.nc\n"
     ]
    }
   ],
   "source": [
    "comp_monthly_anom('sfc_irr', 'global', save=True)"
   ]
  },
  {
   "cell_type": "code",
   "execution_count": 231,
   "id": "01528462-4144-4c8e-8e46-2ac9fb9c8347",
   "metadata": {},
   "outputs": [
    {
     "name": "stdout",
     "output_type": "stream",
     "text": [
      "Source: sfc_irr_ts_so_monthly_mean.nc\n",
      "/home/bbuchovecky/storage/so_predict_derived/CTRL/SFC_IRR/sfc_irr_ts_so_monthly_anom.nc\n"
     ]
    }
   ],
   "source": [
    "comp_monthly_anom('sfc_irr', 'so', save=True)"
   ]
  },
  {
   "cell_type": "code",
   "execution_count": 269,
   "id": "a840607c-99f1-4a57-bac3-9adbea564de4",
   "metadata": {},
   "outputs": [
    {
     "name": "stdout",
     "output_type": "stream",
     "text": [
      "Source: sfc_irr_ts_global_monthly_anom.nc\n",
      "/home/bbuchovecky/storage/so_predict_derived/CTRL/SFC_IRR/sfc_irr_ts_global_monthly_var.nc\n"
     ]
    }
   ],
   "source": [
    "comp_monthly_var('sfc_irr', 'global', save=True)"
   ]
  },
  {
   "cell_type": "code",
   "execution_count": 270,
   "id": "2e286d57-cbcb-4d75-9621-39758069c1ac",
   "metadata": {},
   "outputs": [
    {
     "name": "stdout",
     "output_type": "stream",
     "text": [
      "Source: sfc_irr_ts_so_monthly_anom.nc\n",
      "/home/bbuchovecky/storage/so_predict_derived/CTRL/SFC_IRR/sfc_irr_ts_so_monthly_var.nc\n"
     ]
    }
   ],
   "source": [
    "comp_monthly_var('sfc_irr', 'so', save=True)"
   ]
  },
  {
   "cell_type": "code",
   "execution_count": 282,
   "id": "12988427-d7ae-4e74-83dd-11b3a44f308f",
   "metadata": {},
   "outputs": [
    {
     "name": "stdout",
     "output_type": "stream",
     "text": [
      "/home/bbuchovecky/storage/so_predict_derived/CTRL/SFC_IRR/sfc_irr_ts_global_clim.nc\n",
      "/home/bbuchovecky/storage/so_predict_derived/CTRL/SFC_IRR/sfc_irr_ts_so_clim.nc\n"
     ]
    }
   ],
   "source": [
    "pcs.comp_clim('sfc_irr', 'global', save=True)\n",
    "pcs.comp_clim('sfc_irr', 'so', save=True)"
   ]
  },
  {
   "cell_type": "code",
   "execution_count": 321,
   "id": "6522393b-8dd4-49af-b216-58283dab28b4",
   "metadata": {
    "collapsed": true,
    "jupyter": {
     "outputs_hidden": true
    },
    "tags": []
   },
   "outputs": [
    {
     "name": "stdout",
     "output_type": "stream",
     "text": [
      "\n",
      "######## SFC_IRR ########\n",
      "\n",
      "this_ens.coords = ['nT']\n",
      "this_ens.data_vars = ['Global']\n",
      "\n",
      "oooooooooooooooooooo\n",
      "var: sfc_irr | nStart: 1 | nEns: 20/40\n",
      "oooooooooooooooooooo\n",
      "var: sfc_irr | nStart: 1 | nEns: 40/40\n",
      "\n",
      "these_ens.coords = ['nT', 'nEns']\n",
      "these_ens.data_vars = ['Global']\n",
      "\n",
      "oooooooooooooooooooo\n",
      "var: sfc_irr | nStart: 2 | nEns: 20/40\n",
      "oooooooooooooooooooo\n",
      "var: sfc_irr | nStart: 2 | nEns: 40/40\n",
      "oooooooooooooooooooo\n",
      "var: sfc_irr | nStart: 3 | nEns: 20/40\n",
      "oooooooooooooooooooo\n",
      "var: sfc_irr | nStart: 3 | nEns: 40/40\n",
      "oooooooooooooooooooo\n",
      "var: sfc_irr | nStart: 4 | nEns: 20/40\n",
      "oooooooooooooooooooo\n",
      "var: sfc_irr | nStart: 4 | nEns: 40/40\n",
      "oooooooooooooooooooo\n",
      "var: sfc_irr | nStart: 5 | nEns: 20/40\n",
      "oooooooooooooooooooo\n",
      "var: sfc_irr | nStart: 5 | nEns: 40/40\n",
      "oooooooooooooooooooo\n",
      "var: sfc_irr | nStart: 6 | nEns: 20/40\n",
      "oooooooooooooooooooo\n",
      "var: sfc_irr | nStart: 6 | nEns: 40/40\n",
      "\n",
      "all_ens.coords = ['nT', 'nEns', 'nStart']\n",
      "all_ens.data_vars = ['Global']\n",
      "\n",
      "/home/bbuchovecky/storage/so_predict_derived/SFC_IRR_ENSEMBLE/sfc_irr_ens_global_monthly_mean.nc\n"
     ]
    }
   ],
   "source": [
    "comp_ens_global_mean([['SFC_IRR','sfc_irr','sfc_irr']], 'monthly', save=True)"
   ]
  },
  {
   "cell_type": "code",
   "execution_count": 322,
   "id": "6060daa5-86ed-48e5-89d7-6874d74902f7",
   "metadata": {
    "collapsed": true,
    "jupyter": {
     "outputs_hidden": true
    },
    "tags": []
   },
   "outputs": [
    {
     "name": "stdout",
     "output_type": "stream",
     "text": [
      "\n",
      "######## SFC_IRR ########\n",
      "\n",
      "this_ens.coords = ['nT']\n",
      "this_ens.data_vars = ['SouthernOcean', 'Weddell', 'Indian', 'WestPacific', 'Ross', 'AmundBell']\n",
      "\n",
      "oooooooooooooooooooo\n",
      "var: sfc_irr | nStart: 1 | nEns: 20/40\n",
      "oooooooooooooooooooo\n",
      "var: sfc_irr | nStart: 1 | nEns: 40/40\n",
      "\n",
      "these_ens.coords = ['nT', 'nEns']\n",
      "these_ens.data_vars = ['SouthernOcean', 'Weddell', 'Indian', 'WestPacific', 'Ross', 'AmundBell']\n",
      "\n",
      "oooooooooooooooooooo\n",
      "var: sfc_irr | nStart: 2 | nEns: 20/40\n",
      "oooooooooooooooooooo\n",
      "var: sfc_irr | nStart: 2 | nEns: 40/40\n",
      "oooooooooooooooooooo\n",
      "var: sfc_irr | nStart: 3 | nEns: 20/40\n",
      "oooooooooooooooooooo\n",
      "var: sfc_irr | nStart: 3 | nEns: 40/40\n",
      "oooooooooooooooooooo\n",
      "var: sfc_irr | nStart: 4 | nEns: 20/40\n",
      "oooooooooooooooooooo\n",
      "var: sfc_irr | nStart: 4 | nEns: 40/40\n",
      "oooooooooooooooooooo\n",
      "var: sfc_irr | nStart: 5 | nEns: 20/40\n",
      "oooooooooooooooooooo\n",
      "var: sfc_irr | nStart: 5 | nEns: 40/40\n",
      "oooooooooooooooooooo\n",
      "var: sfc_irr | nStart: 6 | nEns: 20/40\n",
      "oooooooooooooooooooo\n",
      "var: sfc_irr | nStart: 6 | nEns: 40/40\n",
      "\n",
      "all_ens.coords = ['nT', 'nEns', 'nStart']\n",
      "all_ens.data_vars = ['SouthernOcean', 'Weddell', 'Indian', 'WestPacific', 'Ross', 'AmundBell']\n",
      "\n",
      "/home/bbuchovecky/storage/so_predict_derived/SFC_IRR_ENSEMBLE/sfc_irr_ens_so_monthly_mean.nc\n"
     ]
    }
   ],
   "source": [
    "comp_ens_so_mean([['SFC_IRR','sfc_irr','sfc_irr']], 'monthly', save=True)"
   ]
  },
  {
   "cell_type": "code",
   "execution_count": 323,
   "id": "6346cb6f-a0a7-4774-90a5-886d335752b0",
   "metadata": {
    "collapsed": true,
    "jupyter": {
     "outputs_hidden": true
    },
    "tags": []
   },
   "outputs": [
    {
     "name": "stdout",
     "output_type": "stream",
     "text": [
      "\n",
      "######## SFC_IRR ########\n",
      "\n",
      "this_ens.coords = ['nT']\n",
      "this_ens.data_vars = ['Global']\n",
      "\n",
      "oooooooooooooooooooo\n",
      "var: sfc_irr | nStart: 1 | nEns: 20/40\n",
      "oooooooooooooooooooo\n",
      "var: sfc_irr | nStart: 1 | nEns: 40/40\n",
      "\n",
      "these_ens.coords = ['nT', 'nEns']\n",
      "these_ens.data_vars = ['Global']\n",
      "\n",
      "oooooooooooooooooooo\n",
      "var: sfc_irr | nStart: 2 | nEns: 20/40\n",
      "oooooooooooooooooooo\n",
      "var: sfc_irr | nStart: 2 | nEns: 40/40\n",
      "oooooooooooooooooooo\n",
      "var: sfc_irr | nStart: 3 | nEns: 20/40\n",
      "oooooooooooooooooooo\n",
      "var: sfc_irr | nStart: 3 | nEns: 40/40\n",
      "oooooooooooooooooooo\n",
      "var: sfc_irr | nStart: 4 | nEns: 20/40\n",
      "oooooooooooooooooooo\n",
      "var: sfc_irr | nStart: 4 | nEns: 40/40\n",
      "oooooooooooooooooooo\n",
      "var: sfc_irr | nStart: 5 | nEns: 20/40\n",
      "oooooooooooooooooooo\n",
      "var: sfc_irr | nStart: 5 | nEns: 40/40\n",
      "oooooooooooooooooooo\n",
      "var: sfc_irr | nStart: 6 | nEns: 20/40\n",
      "oooooooooooooooooooo\n",
      "var: sfc_irr | nStart: 6 | nEns: 40/40\n",
      "\n",
      "all_ens.coords = ['nT', 'nEns', 'nStart']\n",
      "all_ens.data_vars = ['Global']\n",
      "\n",
      "/home/bbuchovecky/storage/so_predict_derived/SFC_IRR_ENSEMBLE/sfc_irr_ens_global_annual_mean.nc\n"
     ]
    }
   ],
   "source": [
    "comp_ens_global_mean([['SFC_IRR','sfc_irr','sfc_irr']], 'annual', save=True)"
   ]
  },
  {
   "cell_type": "code",
   "execution_count": 324,
   "id": "a1f4b2f6-9f19-44d4-ae88-8891337f180d",
   "metadata": {
    "collapsed": true,
    "jupyter": {
     "outputs_hidden": true
    },
    "tags": []
   },
   "outputs": [
    {
     "name": "stdout",
     "output_type": "stream",
     "text": [
      "\n",
      "######## SFC_IRR ########\n",
      "\n",
      "this_ens.coords = ['nT']\n",
      "this_ens.data_vars = ['SouthernOcean', 'Weddell', 'Indian', 'WestPacific', 'Ross', 'AmundBell']\n",
      "\n",
      "oooooooooooooooooooo\n",
      "var: sfc_irr | nStart: 1 | nEns: 20/40\n",
      "oooooooooooooooooooo\n",
      "var: sfc_irr | nStart: 1 | nEns: 40/40\n",
      "\n",
      "these_ens.coords = ['nT', 'nEns']\n",
      "these_ens.data_vars = ['SouthernOcean', 'Weddell', 'Indian', 'WestPacific', 'Ross', 'AmundBell']\n",
      "\n",
      "oooooooooooooooooooo\n",
      "var: sfc_irr | nStart: 2 | nEns: 20/40\n",
      "oooooooooooooooooooo\n",
      "var: sfc_irr | nStart: 2 | nEns: 40/40\n",
      "oooooooooooooooooooo\n",
      "var: sfc_irr | nStart: 3 | nEns: 20/40\n",
      "oooooooooooooooooooo\n",
      "var: sfc_irr | nStart: 3 | nEns: 40/40\n",
      "oooooooooooooooooooo\n",
      "var: sfc_irr | nStart: 4 | nEns: 20/40\n",
      "oooooooooooooooooooo\n",
      "var: sfc_irr | nStart: 4 | nEns: 40/40\n",
      "oooooooooooooooooooo\n",
      "var: sfc_irr | nStart: 5 | nEns: 20/40\n",
      "oooooooooooooooooooo\n",
      "var: sfc_irr | nStart: 5 | nEns: 40/40\n",
      "oooooooooooooooooooo\n",
      "var: sfc_irr | nStart: 6 | nEns: 20/40\n",
      "oooooooooooooooooooo\n",
      "var: sfc_irr | nStart: 6 | nEns: 40/40\n",
      "\n",
      "all_ens.coords = ['nT', 'nEns', 'nStart']\n",
      "all_ens.data_vars = ['SouthernOcean', 'Weddell', 'Indian', 'WestPacific', 'Ross', 'AmundBell']\n",
      "\n",
      "/home/bbuchovecky/storage/so_predict_derived/SFC_IRR_ENSEMBLE/sfc_irr_ens_so_annual_mean.nc\n"
     ]
    }
   ],
   "source": [
    "comp_ens_so_mean([['SFC_IRR','sfc_irr','sfc_irr']], 'annual', save=True)"
   ]
  },
  {
   "cell_type": "code",
   "execution_count": 345,
   "id": "3bfaf9e7-89e7-4f28-8a9a-e82536ca758c",
   "metadata": {},
   "outputs": [
    {
     "name": "stdout",
     "output_type": "stream",
     "text": [
      "/home/bbuchovecky/storage/so_predict_derived/SFC_IRR_ENSEMBLE/sfc_irr_ens_global_monthly_anom.nc\n"
     ]
    }
   ],
   "source": [
    "comp_ens_anom('sfc_irr', 'monthly', 'global', save=True)"
   ]
  },
  {
   "cell_type": "code",
   "execution_count": 346,
   "id": "d840de64-a50d-484d-aef0-89daa86be8e4",
   "metadata": {},
   "outputs": [
    {
     "name": "stdout",
     "output_type": "stream",
     "text": [
      "/home/bbuchovecky/storage/so_predict_derived/SFC_IRR_ENSEMBLE/sfc_irr_ens_so_monthly_anom.nc\n"
     ]
    }
   ],
   "source": [
    "comp_ens_anom('sfc_irr', 'monthly', 'so', save=True)"
   ]
  },
  {
   "cell_type": "code",
   "execution_count": 29,
   "id": "5e43f1ad-3d2b-4cfe-bf3a-ee7b2029a989",
   "metadata": {},
   "outputs": [
    {
     "name": "stdout",
     "output_type": "stream",
     "text": [
      "/home/bbuchovecky/storage/so_predict_derived/PPP/SFC_IRR/sfc_irr_ts_global_monthly_ppp.nc\n"
     ]
    }
   ],
   "source": [
    "comp_ppp('sfc_irr', 'global', save=True)"
   ]
  },
  {
   "cell_type": "code",
   "execution_count": 30,
   "id": "efacb8e2-5863-4ccf-96e3-15b0219a0317",
   "metadata": {},
   "outputs": [
    {
     "name": "stdout",
     "output_type": "stream",
     "text": [
      "/home/bbuchovecky/storage/so_predict_derived/PPP/SFC_IRR/sfc_irr_ts_so_monthly_ppp.nc\n"
     ]
    }
   ],
   "source": [
    "comp_ppp('sfc_irr', 'so', save=True)"
   ]
  },
  {
   "cell_type": "code",
   "execution_count": null,
   "id": "9f7b31bd-76f2-421d-9bb8-1911a2e87471",
   "metadata": {},
   "outputs": [],
   "source": []
  }
 ],
 "metadata": {
  "kernelspec": {
   "display_name": "Python 3",
   "language": "python",
   "name": "python3"
  },
  "language_info": {
   "codemirror_mode": {
    "name": "ipython",
    "version": 3
   },
   "file_extension": ".py",
   "mimetype": "text/x-python",
   "name": "python",
   "nbconvert_exporter": "python",
   "pygments_lexer": "ipython3",
   "version": "3.9.4"
  }
 },
 "nbformat": 4,
 "nbformat_minor": 5
}
